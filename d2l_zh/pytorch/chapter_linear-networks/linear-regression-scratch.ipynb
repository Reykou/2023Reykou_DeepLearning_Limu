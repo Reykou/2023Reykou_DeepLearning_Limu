{
 "cells": [
  {
   "cell_type": "markdown",
   "id": "d90261b4",
   "metadata": {
    "origin_pos": 0
   },
   "source": [
    "# 线性回归的从零开始实现\n",
    ":label:`sec_linear_scratch`\n",
    "\n",
    "在了解线性回归的关键思想之后，我们可以开始通过代码来动手实现线性回归了。\n",
    "在这一节中，(**我们将从零开始实现整个方法，\n",
    "包括数据流水线、模型、损失函数和小批量随机梯度下降优化器**)。\n",
    "虽然现代的深度学习框架几乎可以自动化地进行所有这些工作，但从零开始实现可以确保我们真正知道自己在做什么。\n",
    "同时，了解更细致的工作原理将方便我们自定义模型、自定义层或自定义损失函数。\n",
    "在这一节中，我们将只使用张量和自动求导。\n",
    "在之后的章节中，我们会充分利用深度学习框架的优势，介绍更简洁的实现方式。\n"
   ]
  },
  {
   "cell_type": "code",
   "execution_count": 22,
   "id": "5afac710",
   "metadata": {
    "execution": {
     "iopub.execute_input": "2022-12-07T16:43:03.768491Z",
     "iopub.status.busy": "2022-12-07T16:43:03.768163Z",
     "iopub.status.idle": "2022-12-07T16:43:06.309758Z",
     "shell.execute_reply": "2022-12-07T16:43:06.308920Z"
    },
    "origin_pos": 2,
    "tab": [
     "pytorch"
    ]
   },
   "outputs": [],
   "source": [
    "%matplotlib inline\n",
    "import random\n",
    "import torch\n",
    "from d2l import torch as d2l"
   ]
  },
  {
   "cell_type": "markdown",
   "id": "9737c61d",
   "metadata": {
    "origin_pos": 5
   },
   "source": [
    "## 生成数据集\n",
    "\n",
    "为了简单起见，我们将[**根据带有噪声的线性模型构造一个人造数据集。**]\n",
    "我们的任务是使用这个有限样本的数据集来恢复这个模型的参数。\n",
    "我们将使用低维数据，这样可以很容易地将其可视化。\n",
    "在下面的代码中，我们生成一个包含1000个样本的数据集，\n",
    "每个样本包含从标准正态分布中采样的2个特征。\n",
    "我们的合成数据集是一个矩阵$\\mathbf{X}\\in \\mathbb{R}^{1000 \\times 2}$。\n",
    "\n",
    "(**我们使用线性模型参数$\\mathbf{w} = [2, -3.4]^\\top$、$b = 4.2$\n",
    "和噪声项$\\epsilon$生成数据集及其标签：\n",
    "\n",
    "$$\\mathbf{y}= \\mathbf{X} \\mathbf{w} + b + \\mathbf\\epsilon.$$\n",
    "**)\n",
    "\n",
    "$\\epsilon$可以视为模型预测和标签时的潜在观测误差。\n",
    "在这里我们认为标准假设成立，即$\\epsilon$服从均值为0的正态分布。\n",
    "为了简化问题，我们将标准差设为0.01。\n",
    "下面的代码生成合成数据集。\n"
   ]
  },
  {
   "cell_type": "code",
   "execution_count": 23,
   "id": "a12aa0dc",
   "metadata": {
    "execution": {
     "iopub.execute_input": "2022-12-07T16:43:06.314470Z",
     "iopub.status.busy": "2022-12-07T16:43:06.313919Z",
     "iopub.status.idle": "2022-12-07T16:43:06.319119Z",
     "shell.execute_reply": "2022-12-07T16:43:06.318364Z"
    },
    "origin_pos": 6,
    "tab": [
     "pytorch"
    ]
   },
   "outputs": [],
   "source": [
    "def synthetic_data(w, b, num_examples):  #@save\n",
    "    \"\"\"生成y=Xw+b+噪声\"\"\"\n",
    "    # 函数生成一个服从均值为0，标准差为1的正态分布的张量X。该张量的形状为(num_examples, len(w))，\n",
    "    X = torch.normal(0, 1, (num_examples, len(w)))\n",
    "    # 这行代码通过使用torch.matmul()函数将X和w进行矩阵乘法操作，然后加上偏置项b，得到输出张量y。\n",
    "    y = torch.matmul(X, w) + b\n",
    "    y += torch.normal(0, 0.01, y.shape)\n",
    "    return X, y.reshape((-1, 1))"
   ]
  },
  {
   "cell_type": "code",
   "execution_count": 24,
   "id": "c825e9f2",
   "metadata": {
    "execution": {
     "iopub.execute_input": "2022-12-07T16:43:06.322894Z",
     "iopub.status.busy": "2022-12-07T16:43:06.322362Z",
     "iopub.status.idle": "2022-12-07T16:43:06.346342Z",
     "shell.execute_reply": "2022-12-07T16:43:06.345545Z"
    },
    "origin_pos": 8,
    "tab": [
     "pytorch"
    ]
   },
   "outputs": [],
   "source": [
    "# torch.tensor 接受一个Python列表作为输入，并返回一个对应的张量。\n",
    "true_w = torch.tensor([2, -3.4])\n",
    "true_b = 4.2\n",
    "features, labels = synthetic_data(true_w, true_b, 1000)"
   ]
  },
  {
   "cell_type": "code",
   "execution_count": 25,
   "id": "a4c32e73",
   "metadata": {},
   "outputs": [
    {
     "data": {
      "text/plain": [
       "(torch.Size([2]), torch.Size([1000, 2]), torch.Size([1000, 1]))"
      ]
     },
     "execution_count": 25,
     "metadata": {},
     "output_type": "execute_result"
    }
   ],
   "source": [
    "true_w.shape,features.shape,labels.shape"
   ]
  },
  {
   "cell_type": "markdown",
   "id": "8f793e73",
   "metadata": {
    "origin_pos": 9
   },
   "source": [
    "注意，[**`features`中的每一行都包含一个二维数据样本，\n",
    "`labels`中的每一行都包含一维标签值（一个标量）**]。\n"
   ]
  },
  {
   "cell_type": "code",
   "execution_count": 26,
   "id": "ff9bf839",
   "metadata": {
    "execution": {
     "iopub.execute_input": "2022-12-07T16:43:06.350058Z",
     "iopub.status.busy": "2022-12-07T16:43:06.349622Z",
     "iopub.status.idle": "2022-12-07T16:43:06.356271Z",
     "shell.execute_reply": "2022-12-07T16:43:06.355499Z"
    },
    "origin_pos": 10,
    "tab": [
     "pytorch"
    ]
   },
   "outputs": [
    {
     "name": "stdout",
     "output_type": "stream",
     "text": [
      "features: tensor([-0.7267,  0.8341]) \n",
      "label: tensor([-0.0687])\n"
     ]
    }
   ],
   "source": [
    "print('features:', features[0],'\\nlabel:', labels[0])"
   ]
  },
  {
   "cell_type": "markdown",
   "id": "fceaa9b1",
   "metadata": {
    "origin_pos": 11
   },
   "source": [
    "通过生成第二个特征`features[:, 1]`和`labels`的散点图，\n",
    "可以直观观察到两者之间的线性关系。\n"
   ]
  },
  {
   "cell_type": "code",
   "execution_count": 27,
   "id": "ec27cda9",
   "metadata": {
    "execution": {
     "iopub.execute_input": "2022-12-07T16:43:06.360566Z",
     "iopub.status.busy": "2022-12-07T16:43:06.360291Z",
     "iopub.status.idle": "2022-12-07T16:43:06.547379Z",
     "shell.execute_reply": "2022-12-07T16:43:06.546494Z"
    },
    "origin_pos": 12,
    "tab": [
     "pytorch"
    ]
   },
   "outputs": [
    {
     "data": {
      "image/svg+xml": "<?xml version=\"1.0\" encoding=\"utf-8\" standalone=\"no\"?>\n<!DOCTYPE svg PUBLIC \"-//W3C//DTD SVG 1.1//EN\"\n  \"http://www.w3.org/Graphics/SVG/1.1/DTD/svg11.dtd\">\n<svg xmlns:xlink=\"http://www.w3.org/1999/xlink\" width=\"237.804688pt\" height=\"169.678125pt\" viewBox=\"0 0 237.804688 169.678125\" xmlns=\"http://www.w3.org/2000/svg\" version=\"1.1\">\n <metadata>\n  <rdf:RDF xmlns:dc=\"http://purl.org/dc/elements/1.1/\" xmlns:cc=\"http://creativecommons.org/ns#\" xmlns:rdf=\"http://www.w3.org/1999/02/22-rdf-syntax-ns#\">\n   <cc:Work>\n    <dc:type rdf:resource=\"http://purl.org/dc/dcmitype/StillImage\"/>\n    <dc:date>2023-06-14T21:28:51.955837</dc:date>\n    <dc:format>image/svg+xml</dc:format>\n    <dc:creator>\n     <cc:Agent>\n      <dc:title>Matplotlib v3.7.1, https://matplotlib.org/</dc:title>\n     </cc:Agent>\n    </dc:creator>\n   </cc:Work>\n  </rdf:RDF>\n </metadata>\n <defs>\n  <style type=\"text/css\">*{stroke-linejoin: round; stroke-linecap: butt}</style>\n </defs>\n <g id=\"figure_1\">\n  <g id=\"patch_1\">\n   <path d=\"M 0 169.678125 \nL 237.804688 169.678125 \nL 237.804688 0 \nL 0 0 \nz\n\" style=\"fill: #ffffff\"/>\n  </g>\n  <g id=\"axes_1\">\n   <g id=\"patch_2\">\n    <path d=\"M 35.304688 145.8 \nL 230.604688 145.8 \nL 230.604688 7.2 \nL 35.304688 7.2 \nz\n\" style=\"fill: #ffffff\"/>\n   </g>\n   <g id=\"PathCollection_1\">\n    <defs>\n     <path id=\"md3e0a71b88\" d=\"M 0 0.5 \nC 0.132602 0.5 0.25979 0.447317 0.353553 0.353553 \nC 0.447317 0.25979 0.5 0.132602 0.5 0 \nC 0.5 -0.132602 0.447317 -0.25979 0.353553 -0.353553 \nC 0.25979 -0.447317 0.132602 -0.5 0 -0.5 \nC -0.132602 -0.5 -0.25979 -0.447317 -0.353553 -0.353553 \nC -0.447317 -0.25979 -0.5 -0.132602 -0.5 0 \nC -0.5 0.132602 -0.447317 0.25979 -0.353553 0.353553 \nC -0.25979 0.447317 -0.132602 0.5 0 0.5 \nz\n\" style=\"stroke: #1f77b4\"/>\n    </defs>\n    <g clip-path=\"url(#p36d62ffcd7)\">\n     <use xlink:href=\"#md3e0a71b88\" x=\"153.198004\" y=\"86.64058\" style=\"fill: #1f77b4; stroke: #1f77b4\"/>\n     <use xlink:href=\"#md3e0a71b88\" x=\"110.13875\" y=\"58.640497\" style=\"fill: #1f77b4; stroke: #1f77b4\"/>\n     <use xlink:href=\"#md3e0a71b88\" x=\"104.186628\" y=\"42.297308\" style=\"fill: #1f77b4; stroke: #1f77b4\"/>\n     <use xlink:href=\"#md3e0a71b88\" x=\"161.9359\" y=\"95.585129\" style=\"fill: #1f77b4; stroke: #1f77b4\"/>\n     <use xlink:href=\"#md3e0a71b88\" x=\"143.401561\" y=\"67.027541\" style=\"fill: #1f77b4; stroke: #1f77b4\"/>\n     <use xlink:href=\"#md3e0a71b88\" x=\"142.815433\" y=\"62.986221\" style=\"fill: #1f77b4; stroke: #1f77b4\"/>\n     <use xlink:href=\"#md3e0a71b88\" x=\"136.125804\" y=\"90.181074\" style=\"fill: #1f77b4; stroke: #1f77b4\"/>\n     <use xlink:href=\"#md3e0a71b88\" x=\"137.075422\" y=\"71.597014\" style=\"fill: #1f77b4; stroke: #1f77b4\"/>\n     <use xlink:href=\"#md3e0a71b88\" x=\"91.937089\" y=\"42.216218\" style=\"fill: #1f77b4; stroke: #1f77b4\"/>\n     <use xlink:href=\"#md3e0a71b88\" x=\"106.703331\" y=\"42.749977\" style=\"fill: #1f77b4; stroke: #1f77b4\"/>\n     <use xlink:href=\"#md3e0a71b88\" x=\"134.96451\" y=\"60.182091\" style=\"fill: #1f77b4; stroke: #1f77b4\"/>\n     <use xlink:href=\"#md3e0a71b88\" x=\"84.441149\" y=\"51.182474\" style=\"fill: #1f77b4; stroke: #1f77b4\"/>\n     <use xlink:href=\"#md3e0a71b88\" x=\"103.540202\" y=\"51.009846\" style=\"fill: #1f77b4; stroke: #1f77b4\"/>\n     <use xlink:href=\"#md3e0a71b88\" x=\"171.153091\" y=\"98.642957\" style=\"fill: #1f77b4; stroke: #1f77b4\"/>\n     <use xlink:href=\"#md3e0a71b88\" x=\"115.852518\" y=\"77.80726\" style=\"fill: #1f77b4; stroke: #1f77b4\"/>\n     <use xlink:href=\"#md3e0a71b88\" x=\"146.278585\" y=\"66.889599\" style=\"fill: #1f77b4; stroke: #1f77b4\"/>\n     <use xlink:href=\"#md3e0a71b88\" x=\"88.579693\" y=\"45.11831\" style=\"fill: #1f77b4; stroke: #1f77b4\"/>\n     <use xlink:href=\"#md3e0a71b88\" x=\"141.716111\" y=\"66.366569\" style=\"fill: #1f77b4; stroke: #1f77b4\"/>\n     <use xlink:href=\"#md3e0a71b88\" x=\"77.888951\" y=\"28.274499\" style=\"fill: #1f77b4; stroke: #1f77b4\"/>\n     <use xlink:href=\"#md3e0a71b88\" x=\"87.331706\" y=\"52.636038\" style=\"fill: #1f77b4; stroke: #1f77b4\"/>\n     <use xlink:href=\"#md3e0a71b88\" x=\"145.452789\" y=\"97.036796\" style=\"fill: #1f77b4; stroke: #1f77b4\"/>\n     <use xlink:href=\"#md3e0a71b88\" x=\"88.766614\" y=\"35.765593\" style=\"fill: #1f77b4; stroke: #1f77b4\"/>\n     <use xlink:href=\"#md3e0a71b88\" x=\"145.565676\" y=\"85.502245\" style=\"fill: #1f77b4; stroke: #1f77b4\"/>\n     <use xlink:href=\"#md3e0a71b88\" x=\"111.035577\" y=\"62.314553\" style=\"fill: #1f77b4; stroke: #1f77b4\"/>\n     <use xlink:href=\"#md3e0a71b88\" x=\"166.013781\" y=\"77.491185\" style=\"fill: #1f77b4; stroke: #1f77b4\"/>\n     <use xlink:href=\"#md3e0a71b88\" x=\"96.190821\" y=\"48.869\" style=\"fill: #1f77b4; stroke: #1f77b4\"/>\n     <use xlink:href=\"#md3e0a71b88\" x=\"124.949294\" y=\"64.112668\" style=\"fill: #1f77b4; stroke: #1f77b4\"/>\n     <use xlink:href=\"#md3e0a71b88\" x=\"142.033547\" y=\"76.465962\" style=\"fill: #1f77b4; stroke: #1f77b4\"/>\n     <use xlink:href=\"#md3e0a71b88\" x=\"105.951309\" y=\"45.013659\" style=\"fill: #1f77b4; stroke: #1f77b4\"/>\n     <use xlink:href=\"#md3e0a71b88\" x=\"161.183738\" y=\"77.694117\" style=\"fill: #1f77b4; stroke: #1f77b4\"/>\n     <use xlink:href=\"#md3e0a71b88\" x=\"162.916806\" y=\"81.206576\" style=\"fill: #1f77b4; stroke: #1f77b4\"/>\n     <use xlink:href=\"#md3e0a71b88\" x=\"144.289745\" y=\"89.09205\" style=\"fill: #1f77b4; stroke: #1f77b4\"/>\n     <use xlink:href=\"#md3e0a71b88\" x=\"147.495172\" y=\"72.436147\" style=\"fill: #1f77b4; stroke: #1f77b4\"/>\n     <use xlink:href=\"#md3e0a71b88\" x=\"115.015616\" y=\"58.60659\" style=\"fill: #1f77b4; stroke: #1f77b4\"/>\n     <use xlink:href=\"#md3e0a71b88\" x=\"169.939902\" y=\"90.753751\" style=\"fill: #1f77b4; stroke: #1f77b4\"/>\n     <use xlink:href=\"#md3e0a71b88\" x=\"120.595458\" y=\"67.652138\" style=\"fill: #1f77b4; stroke: #1f77b4\"/>\n     <use xlink:href=\"#md3e0a71b88\" x=\"180.224158\" y=\"101.978672\" style=\"fill: #1f77b4; stroke: #1f77b4\"/>\n     <use xlink:href=\"#md3e0a71b88\" x=\"136.490681\" y=\"69.925207\" style=\"fill: #1f77b4; stroke: #1f77b4\"/>\n     <use xlink:href=\"#md3e0a71b88\" x=\"99.768952\" y=\"50.114401\" style=\"fill: #1f77b4; stroke: #1f77b4\"/>\n     <use xlink:href=\"#md3e0a71b88\" x=\"131.57367\" y=\"78.500325\" style=\"fill: #1f77b4; stroke: #1f77b4\"/>\n     <use xlink:href=\"#md3e0a71b88\" x=\"115.148918\" y=\"66.52576\" style=\"fill: #1f77b4; stroke: #1f77b4\"/>\n     <use xlink:href=\"#md3e0a71b88\" x=\"130.882617\" y=\"68.458676\" style=\"fill: #1f77b4; stroke: #1f77b4\"/>\n     <use xlink:href=\"#md3e0a71b88\" x=\"120.2188\" y=\"60.145596\" style=\"fill: #1f77b4; stroke: #1f77b4\"/>\n     <use xlink:href=\"#md3e0a71b88\" x=\"125.517895\" y=\"50.648769\" style=\"fill: #1f77b4; stroke: #1f77b4\"/>\n     <use xlink:href=\"#md3e0a71b88\" x=\"151.378782\" y=\"88.032137\" style=\"fill: #1f77b4; stroke: #1f77b4\"/>\n     <use xlink:href=\"#md3e0a71b88\" x=\"200.523662\" y=\"116.437576\" style=\"fill: #1f77b4; stroke: #1f77b4\"/>\n     <use xlink:href=\"#md3e0a71b88\" x=\"110.767773\" y=\"63.169217\" style=\"fill: #1f77b4; stroke: #1f77b4\"/>\n     <use xlink:href=\"#md3e0a71b88\" x=\"137.186979\" y=\"74.558763\" style=\"fill: #1f77b4; stroke: #1f77b4\"/>\n     <use xlink:href=\"#md3e0a71b88\" x=\"161.804315\" y=\"69.882053\" style=\"fill: #1f77b4; stroke: #1f77b4\"/>\n     <use xlink:href=\"#md3e0a71b88\" x=\"108.61183\" y=\"43.380646\" style=\"fill: #1f77b4; stroke: #1f77b4\"/>\n     <use xlink:href=\"#md3e0a71b88\" x=\"135.227344\" y=\"77.001411\" style=\"fill: #1f77b4; stroke: #1f77b4\"/>\n     <use xlink:href=\"#md3e0a71b88\" x=\"165.887314\" y=\"78.770837\" style=\"fill: #1f77b4; stroke: #1f77b4\"/>\n     <use xlink:href=\"#md3e0a71b88\" x=\"101.434931\" y=\"60.013055\" style=\"fill: #1f77b4; stroke: #1f77b4\"/>\n     <use xlink:href=\"#md3e0a71b88\" x=\"86.788813\" y=\"50.275061\" style=\"fill: #1f77b4; stroke: #1f77b4\"/>\n     <use xlink:href=\"#md3e0a71b88\" x=\"96.343501\" y=\"60.184083\" style=\"fill: #1f77b4; stroke: #1f77b4\"/>\n     <use xlink:href=\"#md3e0a71b88\" x=\"140.352538\" y=\"76.509131\" style=\"fill: #1f77b4; stroke: #1f77b4\"/>\n     <use xlink:href=\"#md3e0a71b88\" x=\"125.237675\" y=\"62.99209\" style=\"fill: #1f77b4; stroke: #1f77b4\"/>\n     <use xlink:href=\"#md3e0a71b88\" x=\"163.980474\" y=\"84.240102\" style=\"fill: #1f77b4; stroke: #1f77b4\"/>\n     <use xlink:href=\"#md3e0a71b88\" x=\"120.391512\" y=\"54.437181\" style=\"fill: #1f77b4; stroke: #1f77b4\"/>\n     <use xlink:href=\"#md3e0a71b88\" x=\"124.794533\" y=\"49.682871\" style=\"fill: #1f77b4; stroke: #1f77b4\"/>\n     <use xlink:href=\"#md3e0a71b88\" x=\"146.380594\" y=\"76.605734\" style=\"fill: #1f77b4; stroke: #1f77b4\"/>\n     <use xlink:href=\"#md3e0a71b88\" x=\"148.920054\" y=\"72.081262\" style=\"fill: #1f77b4; stroke: #1f77b4\"/>\n     <use xlink:href=\"#md3e0a71b88\" x=\"143.25643\" y=\"64.573133\" style=\"fill: #1f77b4; stroke: #1f77b4\"/>\n     <use xlink:href=\"#md3e0a71b88\" x=\"160.240742\" y=\"96.914729\" style=\"fill: #1f77b4; stroke: #1f77b4\"/>\n     <use xlink:href=\"#md3e0a71b88\" x=\"56.092103\" y=\"26.685569\" style=\"fill: #1f77b4; stroke: #1f77b4\"/>\n     <use xlink:href=\"#md3e0a71b88\" x=\"157.345627\" y=\"77.783276\" style=\"fill: #1f77b4; stroke: #1f77b4\"/>\n     <use xlink:href=\"#md3e0a71b88\" x=\"96.521473\" y=\"59.814838\" style=\"fill: #1f77b4; stroke: #1f77b4\"/>\n     <use xlink:href=\"#md3e0a71b88\" x=\"125.219012\" y=\"68.818041\" style=\"fill: #1f77b4; stroke: #1f77b4\"/>\n     <use xlink:href=\"#md3e0a71b88\" x=\"93.659562\" y=\"45.5874\" style=\"fill: #1f77b4; stroke: #1f77b4\"/>\n     <use xlink:href=\"#md3e0a71b88\" x=\"110.832024\" y=\"57.524209\" style=\"fill: #1f77b4; stroke: #1f77b4\"/>\n     <use xlink:href=\"#md3e0a71b88\" x=\"149.499005\" y=\"82.716555\" style=\"fill: #1f77b4; stroke: #1f77b4\"/>\n     <use xlink:href=\"#md3e0a71b88\" x=\"118.856325\" y=\"61.70786\" style=\"fill: #1f77b4; stroke: #1f77b4\"/>\n     <use xlink:href=\"#md3e0a71b88\" x=\"99.034647\" y=\"45.375262\" style=\"fill: #1f77b4; stroke: #1f77b4\"/>\n     <use xlink:href=\"#md3e0a71b88\" x=\"144.300277\" y=\"59.122845\" style=\"fill: #1f77b4; stroke: #1f77b4\"/>\n     <use xlink:href=\"#md3e0a71b88\" x=\"121.262463\" y=\"49.895122\" style=\"fill: #1f77b4; stroke: #1f77b4\"/>\n     <use xlink:href=\"#md3e0a71b88\" x=\"111.443225\" y=\"67.514025\" style=\"fill: #1f77b4; stroke: #1f77b4\"/>\n     <use xlink:href=\"#md3e0a71b88\" x=\"149.872844\" y=\"60.603146\" style=\"fill: #1f77b4; stroke: #1f77b4\"/>\n     <use xlink:href=\"#md3e0a71b88\" x=\"196.366891\" y=\"103.61317\" style=\"fill: #1f77b4; stroke: #1f77b4\"/>\n     <use xlink:href=\"#md3e0a71b88\" x=\"114.68037\" y=\"47.967216\" style=\"fill: #1f77b4; stroke: #1f77b4\"/>\n     <use xlink:href=\"#md3e0a71b88\" x=\"128.976162\" y=\"71.337204\" style=\"fill: #1f77b4; stroke: #1f77b4\"/>\n     <use xlink:href=\"#md3e0a71b88\" x=\"117.112639\" y=\"54.009892\" style=\"fill: #1f77b4; stroke: #1f77b4\"/>\n     <use xlink:href=\"#md3e0a71b88\" x=\"100.463633\" y=\"51.777069\" style=\"fill: #1f77b4; stroke: #1f77b4\"/>\n     <use xlink:href=\"#md3e0a71b88\" x=\"77.522896\" y=\"36.900514\" style=\"fill: #1f77b4; stroke: #1f77b4\"/>\n     <use xlink:href=\"#md3e0a71b88\" x=\"168.983093\" y=\"75.820225\" style=\"fill: #1f77b4; stroke: #1f77b4\"/>\n     <use xlink:href=\"#md3e0a71b88\" x=\"105.796673\" y=\"50.441855\" style=\"fill: #1f77b4; stroke: #1f77b4\"/>\n     <use xlink:href=\"#md3e0a71b88\" x=\"147.191974\" y=\"69.913389\" style=\"fill: #1f77b4; stroke: #1f77b4\"/>\n     <use xlink:href=\"#md3e0a71b88\" x=\"152.650807\" y=\"74.825349\" style=\"fill: #1f77b4; stroke: #1f77b4\"/>\n     <use xlink:href=\"#md3e0a71b88\" x=\"134.239308\" y=\"78.035222\" style=\"fill: #1f77b4; stroke: #1f77b4\"/>\n     <use xlink:href=\"#md3e0a71b88\" x=\"99.585199\" y=\"66.929676\" style=\"fill: #1f77b4; stroke: #1f77b4\"/>\n     <use xlink:href=\"#md3e0a71b88\" x=\"133.976658\" y=\"70.347224\" style=\"fill: #1f77b4; stroke: #1f77b4\"/>\n     <use xlink:href=\"#md3e0a71b88\" x=\"126.573445\" y=\"76.544772\" style=\"fill: #1f77b4; stroke: #1f77b4\"/>\n     <use xlink:href=\"#md3e0a71b88\" x=\"128.69247\" y=\"54.506123\" style=\"fill: #1f77b4; stroke: #1f77b4\"/>\n     <use xlink:href=\"#md3e0a71b88\" x=\"134.820487\" y=\"56.953782\" style=\"fill: #1f77b4; stroke: #1f77b4\"/>\n     <use xlink:href=\"#md3e0a71b88\" x=\"169.927513\" y=\"79.954159\" style=\"fill: #1f77b4; stroke: #1f77b4\"/>\n     <use xlink:href=\"#md3e0a71b88\" x=\"76.495524\" y=\"29.46661\" style=\"fill: #1f77b4; stroke: #1f77b4\"/>\n     <use xlink:href=\"#md3e0a71b88\" x=\"132.292289\" y=\"72.840494\" style=\"fill: #1f77b4; stroke: #1f77b4\"/>\n     <use xlink:href=\"#md3e0a71b88\" x=\"102.976456\" y=\"64.987743\" style=\"fill: #1f77b4; stroke: #1f77b4\"/>\n     <use xlink:href=\"#md3e0a71b88\" x=\"112.20976\" y=\"48.182104\" style=\"fill: #1f77b4; stroke: #1f77b4\"/>\n     <use xlink:href=\"#md3e0a71b88\" x=\"146.108953\" y=\"104.774519\" style=\"fill: #1f77b4; stroke: #1f77b4\"/>\n     <use xlink:href=\"#md3e0a71b88\" x=\"134.799009\" y=\"69.701566\" style=\"fill: #1f77b4; stroke: #1f77b4\"/>\n     <use xlink:href=\"#md3e0a71b88\" x=\"166.75146\" y=\"83.933368\" style=\"fill: #1f77b4; stroke: #1f77b4\"/>\n     <use xlink:href=\"#md3e0a71b88\" x=\"150.834231\" y=\"68.75958\" style=\"fill: #1f77b4; stroke: #1f77b4\"/>\n     <use xlink:href=\"#md3e0a71b88\" x=\"144.150685\" y=\"78.399765\" style=\"fill: #1f77b4; stroke: #1f77b4\"/>\n     <use xlink:href=\"#md3e0a71b88\" x=\"94.062735\" y=\"51.995371\" style=\"fill: #1f77b4; stroke: #1f77b4\"/>\n     <use xlink:href=\"#md3e0a71b88\" x=\"119.458432\" y=\"67.05477\" style=\"fill: #1f77b4; stroke: #1f77b4\"/>\n     <use xlink:href=\"#md3e0a71b88\" x=\"175.452913\" y=\"93.89247\" style=\"fill: #1f77b4; stroke: #1f77b4\"/>\n     <use xlink:href=\"#md3e0a71b88\" x=\"159.282315\" y=\"86.524283\" style=\"fill: #1f77b4; stroke: #1f77b4\"/>\n     <use xlink:href=\"#md3e0a71b88\" x=\"140.39071\" y=\"74.341449\" style=\"fill: #1f77b4; stroke: #1f77b4\"/>\n     <use xlink:href=\"#md3e0a71b88\" x=\"116.669118\" y=\"54.182958\" style=\"fill: #1f77b4; stroke: #1f77b4\"/>\n     <use xlink:href=\"#md3e0a71b88\" x=\"108.947566\" y=\"66.368348\" style=\"fill: #1f77b4; stroke: #1f77b4\"/>\n     <use xlink:href=\"#md3e0a71b88\" x=\"102.700694\" y=\"61.636408\" style=\"fill: #1f77b4; stroke: #1f77b4\"/>\n     <use xlink:href=\"#md3e0a71b88\" x=\"64.738259\" y=\"36.775349\" style=\"fill: #1f77b4; stroke: #1f77b4\"/>\n     <use xlink:href=\"#md3e0a71b88\" x=\"144.041819\" y=\"72.486471\" style=\"fill: #1f77b4; stroke: #1f77b4\"/>\n     <use xlink:href=\"#md3e0a71b88\" x=\"97.558505\" y=\"64.039968\" style=\"fill: #1f77b4; stroke: #1f77b4\"/>\n     <use xlink:href=\"#md3e0a71b88\" x=\"166.499745\" y=\"82.98457\" style=\"fill: #1f77b4; stroke: #1f77b4\"/>\n     <use xlink:href=\"#md3e0a71b88\" x=\"162.022307\" y=\"93.065281\" style=\"fill: #1f77b4; stroke: #1f77b4\"/>\n     <use xlink:href=\"#md3e0a71b88\" x=\"115.910368\" y=\"58.228723\" style=\"fill: #1f77b4; stroke: #1f77b4\"/>\n     <use xlink:href=\"#md3e0a71b88\" x=\"144.298251\" y=\"84.312356\" style=\"fill: #1f77b4; stroke: #1f77b4\"/>\n     <use xlink:href=\"#md3e0a71b88\" x=\"142.494181\" y=\"72.616431\" style=\"fill: #1f77b4; stroke: #1f77b4\"/>\n     <use xlink:href=\"#md3e0a71b88\" x=\"158.463968\" y=\"62.739501\" style=\"fill: #1f77b4; stroke: #1f77b4\"/>\n     <use xlink:href=\"#md3e0a71b88\" x=\"144.647596\" y=\"84.25848\" style=\"fill: #1f77b4; stroke: #1f77b4\"/>\n     <use xlink:href=\"#md3e0a71b88\" x=\"92.664614\" y=\"47.775004\" style=\"fill: #1f77b4; stroke: #1f77b4\"/>\n     <use xlink:href=\"#md3e0a71b88\" x=\"96.801599\" y=\"38.023537\" style=\"fill: #1f77b4; stroke: #1f77b4\"/>\n     <use xlink:href=\"#md3e0a71b88\" x=\"140.301804\" y=\"66.541836\" style=\"fill: #1f77b4; stroke: #1f77b4\"/>\n     <use xlink:href=\"#md3e0a71b88\" x=\"111.896867\" y=\"45.980629\" style=\"fill: #1f77b4; stroke: #1f77b4\"/>\n     <use xlink:href=\"#md3e0a71b88\" x=\"130.607255\" y=\"59.148065\" style=\"fill: #1f77b4; stroke: #1f77b4\"/>\n     <use xlink:href=\"#md3e0a71b88\" x=\"150.373101\" y=\"87.409603\" style=\"fill: #1f77b4; stroke: #1f77b4\"/>\n     <use xlink:href=\"#md3e0a71b88\" x=\"90.086791\" y=\"55.833394\" style=\"fill: #1f77b4; stroke: #1f77b4\"/>\n     <use xlink:href=\"#md3e0a71b88\" x=\"159.450198\" y=\"71.258292\" style=\"fill: #1f77b4; stroke: #1f77b4\"/>\n     <use xlink:href=\"#md3e0a71b88\" x=\"155.68969\" y=\"86.586199\" style=\"fill: #1f77b4; stroke: #1f77b4\"/>\n     <use xlink:href=\"#md3e0a71b88\" x=\"96.765142\" y=\"60.875734\" style=\"fill: #1f77b4; stroke: #1f77b4\"/>\n     <use xlink:href=\"#md3e0a71b88\" x=\"65.908555\" y=\"35.514713\" style=\"fill: #1f77b4; stroke: #1f77b4\"/>\n     <use xlink:href=\"#md3e0a71b88\" x=\"104.216365\" y=\"65.116388\" style=\"fill: #1f77b4; stroke: #1f77b4\"/>\n     <use xlink:href=\"#md3e0a71b88\" x=\"121.301136\" y=\"64.762449\" style=\"fill: #1f77b4; stroke: #1f77b4\"/>\n     <use xlink:href=\"#md3e0a71b88\" x=\"138.703379\" y=\"76.044841\" style=\"fill: #1f77b4; stroke: #1f77b4\"/>\n     <use xlink:href=\"#md3e0a71b88\" x=\"97.842556\" y=\"49.669455\" style=\"fill: #1f77b4; stroke: #1f77b4\"/>\n     <use xlink:href=\"#md3e0a71b88\" x=\"151.535582\" y=\"80.039171\" style=\"fill: #1f77b4; stroke: #1f77b4\"/>\n     <use xlink:href=\"#md3e0a71b88\" x=\"122.655711\" y=\"63.116103\" style=\"fill: #1f77b4; stroke: #1f77b4\"/>\n     <use xlink:href=\"#md3e0a71b88\" x=\"89.543638\" y=\"34.732301\" style=\"fill: #1f77b4; stroke: #1f77b4\"/>\n     <use xlink:href=\"#md3e0a71b88\" x=\"97.621784\" y=\"62.09608\" style=\"fill: #1f77b4; stroke: #1f77b4\"/>\n     <use xlink:href=\"#md3e0a71b88\" x=\"139.356702\" y=\"61.924209\" style=\"fill: #1f77b4; stroke: #1f77b4\"/>\n     <use xlink:href=\"#md3e0a71b88\" x=\"91.718343\" y=\"30.275441\" style=\"fill: #1f77b4; stroke: #1f77b4\"/>\n     <use xlink:href=\"#md3e0a71b88\" x=\"161.087311\" y=\"72.318504\" style=\"fill: #1f77b4; stroke: #1f77b4\"/>\n     <use xlink:href=\"#md3e0a71b88\" x=\"138.6465\" y=\"66.631618\" style=\"fill: #1f77b4; stroke: #1f77b4\"/>\n     <use xlink:href=\"#md3e0a71b88\" x=\"139.848092\" y=\"60.389342\" style=\"fill: #1f77b4; stroke: #1f77b4\"/>\n     <use xlink:href=\"#md3e0a71b88\" x=\"126.357117\" y=\"60.049391\" style=\"fill: #1f77b4; stroke: #1f77b4\"/>\n     <use xlink:href=\"#md3e0a71b88\" x=\"126.984895\" y=\"63.9855\" style=\"fill: #1f77b4; stroke: #1f77b4\"/>\n     <use xlink:href=\"#md3e0a71b88\" x=\"127.01248\" y=\"72.862338\" style=\"fill: #1f77b4; stroke: #1f77b4\"/>\n     <use xlink:href=\"#md3e0a71b88\" x=\"167.278806\" y=\"86.06632\" style=\"fill: #1f77b4; stroke: #1f77b4\"/>\n     <use xlink:href=\"#md3e0a71b88\" x=\"201.906896\" y=\"111.52091\" style=\"fill: #1f77b4; stroke: #1f77b4\"/>\n     <use xlink:href=\"#md3e0a71b88\" x=\"132.985011\" y=\"71.016218\" style=\"fill: #1f77b4; stroke: #1f77b4\"/>\n     <use xlink:href=\"#md3e0a71b88\" x=\"123.633502\" y=\"78.286042\" style=\"fill: #1f77b4; stroke: #1f77b4\"/>\n     <use xlink:href=\"#md3e0a71b88\" x=\"132.272139\" y=\"77.030141\" style=\"fill: #1f77b4; stroke: #1f77b4\"/>\n     <use xlink:href=\"#md3e0a71b88\" x=\"148.296195\" y=\"81.54478\" style=\"fill: #1f77b4; stroke: #1f77b4\"/>\n     <use xlink:href=\"#md3e0a71b88\" x=\"169.544315\" y=\"81.793264\" style=\"fill: #1f77b4; stroke: #1f77b4\"/>\n     <use xlink:href=\"#md3e0a71b88\" x=\"125.713309\" y=\"72.660728\" style=\"fill: #1f77b4; stroke: #1f77b4\"/>\n     <use xlink:href=\"#md3e0a71b88\" x=\"93.047071\" y=\"39.641915\" style=\"fill: #1f77b4; stroke: #1f77b4\"/>\n     <use xlink:href=\"#md3e0a71b88\" x=\"109.380452\" y=\"62.632472\" style=\"fill: #1f77b4; stroke: #1f77b4\"/>\n     <use xlink:href=\"#md3e0a71b88\" x=\"184.941316\" y=\"99.959334\" style=\"fill: #1f77b4; stroke: #1f77b4\"/>\n     <use xlink:href=\"#md3e0a71b88\" x=\"133.486492\" y=\"74.800044\" style=\"fill: #1f77b4; stroke: #1f77b4\"/>\n     <use xlink:href=\"#md3e0a71b88\" x=\"105.968881\" y=\"51.281407\" style=\"fill: #1f77b4; stroke: #1f77b4\"/>\n     <use xlink:href=\"#md3e0a71b88\" x=\"156.962902\" y=\"78.805215\" style=\"fill: #1f77b4; stroke: #1f77b4\"/>\n     <use xlink:href=\"#md3e0a71b88\" x=\"134.375721\" y=\"72.409887\" style=\"fill: #1f77b4; stroke: #1f77b4\"/>\n     <use xlink:href=\"#md3e0a71b88\" x=\"128.322363\" y=\"62.080018\" style=\"fill: #1f77b4; stroke: #1f77b4\"/>\n     <use xlink:href=\"#md3e0a71b88\" x=\"140.712684\" y=\"58.102229\" style=\"fill: #1f77b4; stroke: #1f77b4\"/>\n     <use xlink:href=\"#md3e0a71b88\" x=\"137.35653\" y=\"66.639326\" style=\"fill: #1f77b4; stroke: #1f77b4\"/>\n     <use xlink:href=\"#md3e0a71b88\" x=\"103.979158\" y=\"67.033104\" style=\"fill: #1f77b4; stroke: #1f77b4\"/>\n     <use xlink:href=\"#md3e0a71b88\" x=\"100.633542\" y=\"55.440821\" style=\"fill: #1f77b4; stroke: #1f77b4\"/>\n     <use xlink:href=\"#md3e0a71b88\" x=\"153.392514\" y=\"83.056324\" style=\"fill: #1f77b4; stroke: #1f77b4\"/>\n     <use xlink:href=\"#md3e0a71b88\" x=\"116.577271\" y=\"67.638637\" style=\"fill: #1f77b4; stroke: #1f77b4\"/>\n     <use xlink:href=\"#md3e0a71b88\" x=\"147.239188\" y=\"77.297969\" style=\"fill: #1f77b4; stroke: #1f77b4\"/>\n     <use xlink:href=\"#md3e0a71b88\" x=\"146.992444\" y=\"77.611128\" style=\"fill: #1f77b4; stroke: #1f77b4\"/>\n     <use xlink:href=\"#md3e0a71b88\" x=\"175.462201\" y=\"84.515236\" style=\"fill: #1f77b4; stroke: #1f77b4\"/>\n     <use xlink:href=\"#md3e0a71b88\" x=\"171.82905\" y=\"76.818835\" style=\"fill: #1f77b4; stroke: #1f77b4\"/>\n     <use xlink:href=\"#md3e0a71b88\" x=\"150.181918\" y=\"80.910697\" style=\"fill: #1f77b4; stroke: #1f77b4\"/>\n     <use xlink:href=\"#md3e0a71b88\" x=\"135.219069\" y=\"63.31937\" style=\"fill: #1f77b4; stroke: #1f77b4\"/>\n     <use xlink:href=\"#md3e0a71b88\" x=\"111.30789\" y=\"62.220975\" style=\"fill: #1f77b4; stroke: #1f77b4\"/>\n     <use xlink:href=\"#md3e0a71b88\" x=\"129.705331\" y=\"63.360929\" style=\"fill: #1f77b4; stroke: #1f77b4\"/>\n     <use xlink:href=\"#md3e0a71b88\" x=\"152.612685\" y=\"78.760859\" style=\"fill: #1f77b4; stroke: #1f77b4\"/>\n     <use xlink:href=\"#md3e0a71b88\" x=\"181.596683\" y=\"91.330519\" style=\"fill: #1f77b4; stroke: #1f77b4\"/>\n     <use xlink:href=\"#md3e0a71b88\" x=\"93.683916\" y=\"53.062747\" style=\"fill: #1f77b4; stroke: #1f77b4\"/>\n     <use xlink:href=\"#md3e0a71b88\" x=\"109.175487\" y=\"51.815091\" style=\"fill: #1f77b4; stroke: #1f77b4\"/>\n     <use xlink:href=\"#md3e0a71b88\" x=\"195.130341\" y=\"102.567963\" style=\"fill: #1f77b4; stroke: #1f77b4\"/>\n     <use xlink:href=\"#md3e0a71b88\" x=\"187.870542\" y=\"101.783238\" style=\"fill: #1f77b4; stroke: #1f77b4\"/>\n     <use xlink:href=\"#md3e0a71b88\" x=\"167.747721\" y=\"82.916631\" style=\"fill: #1f77b4; stroke: #1f77b4\"/>\n     <use xlink:href=\"#md3e0a71b88\" x=\"118.549801\" y=\"74.940249\" style=\"fill: #1f77b4; stroke: #1f77b4\"/>\n     <use xlink:href=\"#md3e0a71b88\" x=\"126.779875\" y=\"85.629561\" style=\"fill: #1f77b4; stroke: #1f77b4\"/>\n     <use xlink:href=\"#md3e0a71b88\" x=\"103.270202\" y=\"44.790671\" style=\"fill: #1f77b4; stroke: #1f77b4\"/>\n     <use xlink:href=\"#md3e0a71b88\" x=\"147.812337\" y=\"75.423251\" style=\"fill: #1f77b4; stroke: #1f77b4\"/>\n     <use xlink:href=\"#md3e0a71b88\" x=\"116.555787\" y=\"77.425716\" style=\"fill: #1f77b4; stroke: #1f77b4\"/>\n     <use xlink:href=\"#md3e0a71b88\" x=\"124.400902\" y=\"56.179865\" style=\"fill: #1f77b4; stroke: #1f77b4\"/>\n     <use xlink:href=\"#md3e0a71b88\" x=\"129.644309\" y=\"72.301862\" style=\"fill: #1f77b4; stroke: #1f77b4\"/>\n     <use xlink:href=\"#md3e0a71b88\" x=\"104.324482\" y=\"50.919947\" style=\"fill: #1f77b4; stroke: #1f77b4\"/>\n     <use xlink:href=\"#md3e0a71b88\" x=\"120.73037\" y=\"61.695681\" style=\"fill: #1f77b4; stroke: #1f77b4\"/>\n     <use xlink:href=\"#md3e0a71b88\" x=\"150.794231\" y=\"94.808666\" style=\"fill: #1f77b4; stroke: #1f77b4\"/>\n     <use xlink:href=\"#md3e0a71b88\" x=\"92.598187\" y=\"52.398029\" style=\"fill: #1f77b4; stroke: #1f77b4\"/>\n     <use xlink:href=\"#md3e0a71b88\" x=\"109.81628\" y=\"53.934408\" style=\"fill: #1f77b4; stroke: #1f77b4\"/>\n     <use xlink:href=\"#md3e0a71b88\" x=\"125.057288\" y=\"67.14787\" style=\"fill: #1f77b4; stroke: #1f77b4\"/>\n     <use xlink:href=\"#md3e0a71b88\" x=\"209.405697\" y=\"116.203459\" style=\"fill: #1f77b4; stroke: #1f77b4\"/>\n     <use xlink:href=\"#md3e0a71b88\" x=\"111.359093\" y=\"61.249747\" style=\"fill: #1f77b4; stroke: #1f77b4\"/>\n     <use xlink:href=\"#md3e0a71b88\" x=\"116.547977\" y=\"62.37036\" style=\"fill: #1f77b4; stroke: #1f77b4\"/>\n     <use xlink:href=\"#md3e0a71b88\" x=\"108.820072\" y=\"46.69621\" style=\"fill: #1f77b4; stroke: #1f77b4\"/>\n     <use xlink:href=\"#md3e0a71b88\" x=\"165.531409\" y=\"77.611569\" style=\"fill: #1f77b4; stroke: #1f77b4\"/>\n     <use xlink:href=\"#md3e0a71b88\" x=\"158.72106\" y=\"60.899747\" style=\"fill: #1f77b4; stroke: #1f77b4\"/>\n     <use xlink:href=\"#md3e0a71b88\" x=\"139.033852\" y=\"79.56231\" style=\"fill: #1f77b4; stroke: #1f77b4\"/>\n     <use xlink:href=\"#md3e0a71b88\" x=\"150.68018\" y=\"98.474491\" style=\"fill: #1f77b4; stroke: #1f77b4\"/>\n     <use xlink:href=\"#md3e0a71b88\" x=\"134.988856\" y=\"78.355752\" style=\"fill: #1f77b4; stroke: #1f77b4\"/>\n     <use xlink:href=\"#md3e0a71b88\" x=\"139.839669\" y=\"86.881777\" style=\"fill: #1f77b4; stroke: #1f77b4\"/>\n     <use xlink:href=\"#md3e0a71b88\" x=\"191.302542\" y=\"98.182172\" style=\"fill: #1f77b4; stroke: #1f77b4\"/>\n     <use xlink:href=\"#md3e0a71b88\" x=\"119.213225\" y=\"59.951869\" style=\"fill: #1f77b4; stroke: #1f77b4\"/>\n     <use xlink:href=\"#md3e0a71b88\" x=\"170.685815\" y=\"90.803777\" style=\"fill: #1f77b4; stroke: #1f77b4\"/>\n     <use xlink:href=\"#md3e0a71b88\" x=\"137.200213\" y=\"72.782295\" style=\"fill: #1f77b4; stroke: #1f77b4\"/>\n     <use xlink:href=\"#md3e0a71b88\" x=\"141.877087\" y=\"58.614184\" style=\"fill: #1f77b4; stroke: #1f77b4\"/>\n     <use xlink:href=\"#md3e0a71b88\" x=\"125.085203\" y=\"77.111264\" style=\"fill: #1f77b4; stroke: #1f77b4\"/>\n     <use xlink:href=\"#md3e0a71b88\" x=\"113.9922\" y=\"69.476772\" style=\"fill: #1f77b4; stroke: #1f77b4\"/>\n     <use xlink:href=\"#md3e0a71b88\" x=\"138.618214\" y=\"76.34506\" style=\"fill: #1f77b4; stroke: #1f77b4\"/>\n     <use xlink:href=\"#md3e0a71b88\" x=\"124.721506\" y=\"68.721094\" style=\"fill: #1f77b4; stroke: #1f77b4\"/>\n     <use xlink:href=\"#md3e0a71b88\" x=\"162.860143\" y=\"82.904939\" style=\"fill: #1f77b4; stroke: #1f77b4\"/>\n     <use xlink:href=\"#md3e0a71b88\" x=\"127.973925\" y=\"69.968696\" style=\"fill: #1f77b4; stroke: #1f77b4\"/>\n     <use xlink:href=\"#md3e0a71b88\" x=\"184.579634\" y=\"94.682353\" style=\"fill: #1f77b4; stroke: #1f77b4\"/>\n     <use xlink:href=\"#md3e0a71b88\" x=\"164.456422\" y=\"74.665961\" style=\"fill: #1f77b4; stroke: #1f77b4\"/>\n     <use xlink:href=\"#md3e0a71b88\" x=\"124.819487\" y=\"62.990638\" style=\"fill: #1f77b4; stroke: #1f77b4\"/>\n     <use xlink:href=\"#md3e0a71b88\" x=\"137.58494\" y=\"83.37932\" style=\"fill: #1f77b4; stroke: #1f77b4\"/>\n     <use xlink:href=\"#md3e0a71b88\" x=\"117.647114\" y=\"61.801533\" style=\"fill: #1f77b4; stroke: #1f77b4\"/>\n     <use xlink:href=\"#md3e0a71b88\" x=\"89.223103\" y=\"37.374916\" style=\"fill: #1f77b4; stroke: #1f77b4\"/>\n     <use xlink:href=\"#md3e0a71b88\" x=\"67.325582\" y=\"50.240458\" style=\"fill: #1f77b4; stroke: #1f77b4\"/>\n     <use xlink:href=\"#md3e0a71b88\" x=\"122.586062\" y=\"66.316827\" style=\"fill: #1f77b4; stroke: #1f77b4\"/>\n     <use xlink:href=\"#md3e0a71b88\" x=\"100.235737\" y=\"41.360776\" style=\"fill: #1f77b4; stroke: #1f77b4\"/>\n     <use xlink:href=\"#md3e0a71b88\" x=\"137.69492\" y=\"73.990629\" style=\"fill: #1f77b4; stroke: #1f77b4\"/>\n     <use xlink:href=\"#md3e0a71b88\" x=\"113.81526\" y=\"70.555881\" style=\"fill: #1f77b4; stroke: #1f77b4\"/>\n     <use xlink:href=\"#md3e0a71b88\" x=\"118.161107\" y=\"63.279941\" style=\"fill: #1f77b4; stroke: #1f77b4\"/>\n     <use xlink:href=\"#md3e0a71b88\" x=\"112.905532\" y=\"54.141746\" style=\"fill: #1f77b4; stroke: #1f77b4\"/>\n     <use xlink:href=\"#md3e0a71b88\" x=\"173.015014\" y=\"90.877623\" style=\"fill: #1f77b4; stroke: #1f77b4\"/>\n     <use xlink:href=\"#md3e0a71b88\" x=\"155.258794\" y=\"101.116612\" style=\"fill: #1f77b4; stroke: #1f77b4\"/>\n     <use xlink:href=\"#md3e0a71b88\" x=\"143.366103\" y=\"77.344959\" style=\"fill: #1f77b4; stroke: #1f77b4\"/>\n     <use xlink:href=\"#md3e0a71b88\" x=\"150.75539\" y=\"77.103559\" style=\"fill: #1f77b4; stroke: #1f77b4\"/>\n     <use xlink:href=\"#md3e0a71b88\" x=\"180.08336\" y=\"99.802462\" style=\"fill: #1f77b4; stroke: #1f77b4\"/>\n     <use xlink:href=\"#md3e0a71b88\" x=\"120.517397\" y=\"54.18025\" style=\"fill: #1f77b4; stroke: #1f77b4\"/>\n     <use xlink:href=\"#md3e0a71b88\" x=\"115.00731\" y=\"57.947889\" style=\"fill: #1f77b4; stroke: #1f77b4\"/>\n     <use xlink:href=\"#md3e0a71b88\" x=\"132.8096\" y=\"68.869801\" style=\"fill: #1f77b4; stroke: #1f77b4\"/>\n     <use xlink:href=\"#md3e0a71b88\" x=\"102.054467\" y=\"49.241786\" style=\"fill: #1f77b4; stroke: #1f77b4\"/>\n     <use xlink:href=\"#md3e0a71b88\" x=\"128.4958\" y=\"61.450827\" style=\"fill: #1f77b4; stroke: #1f77b4\"/>\n     <use xlink:href=\"#md3e0a71b88\" x=\"128.695166\" y=\"56.459697\" style=\"fill: #1f77b4; stroke: #1f77b4\"/>\n     <use xlink:href=\"#md3e0a71b88\" x=\"129.141458\" y=\"65.143938\" style=\"fill: #1f77b4; stroke: #1f77b4\"/>\n     <use xlink:href=\"#md3e0a71b88\" x=\"120.193681\" y=\"58.59141\" style=\"fill: #1f77b4; stroke: #1f77b4\"/>\n     <use xlink:href=\"#md3e0a71b88\" x=\"141.141382\" y=\"58.22807\" style=\"fill: #1f77b4; stroke: #1f77b4\"/>\n     <use xlink:href=\"#md3e0a71b88\" x=\"181.363198\" y=\"97.642596\" style=\"fill: #1f77b4; stroke: #1f77b4\"/>\n     <use xlink:href=\"#md3e0a71b88\" x=\"90.494892\" y=\"31.814061\" style=\"fill: #1f77b4; stroke: #1f77b4\"/>\n     <use xlink:href=\"#md3e0a71b88\" x=\"123.623341\" y=\"53.576038\" style=\"fill: #1f77b4; stroke: #1f77b4\"/>\n     <use xlink:href=\"#md3e0a71b88\" x=\"133.64432\" y=\"79.233914\" style=\"fill: #1f77b4; stroke: #1f77b4\"/>\n     <use xlink:href=\"#md3e0a71b88\" x=\"148.884182\" y=\"70.284101\" style=\"fill: #1f77b4; stroke: #1f77b4\"/>\n     <use xlink:href=\"#md3e0a71b88\" x=\"120.003306\" y=\"54.068078\" style=\"fill: #1f77b4; stroke: #1f77b4\"/>\n     <use xlink:href=\"#md3e0a71b88\" x=\"116.305395\" y=\"52.778108\" style=\"fill: #1f77b4; stroke: #1f77b4\"/>\n     <use xlink:href=\"#md3e0a71b88\" x=\"78.465006\" y=\"40.947244\" style=\"fill: #1f77b4; stroke: #1f77b4\"/>\n     <use xlink:href=\"#md3e0a71b88\" x=\"157.233365\" y=\"64.585915\" style=\"fill: #1f77b4; stroke: #1f77b4\"/>\n     <use xlink:href=\"#md3e0a71b88\" x=\"123.16571\" y=\"62.540339\" style=\"fill: #1f77b4; stroke: #1f77b4\"/>\n     <use xlink:href=\"#md3e0a71b88\" x=\"160.596472\" y=\"101.792938\" style=\"fill: #1f77b4; stroke: #1f77b4\"/>\n     <use xlink:href=\"#md3e0a71b88\" x=\"194.64097\" y=\"106.51452\" style=\"fill: #1f77b4; stroke: #1f77b4\"/>\n     <use xlink:href=\"#md3e0a71b88\" x=\"135.525246\" y=\"62.168642\" style=\"fill: #1f77b4; stroke: #1f77b4\"/>\n     <use xlink:href=\"#md3e0a71b88\" x=\"105.833157\" y=\"51.401992\" style=\"fill: #1f77b4; stroke: #1f77b4\"/>\n     <use xlink:href=\"#md3e0a71b88\" x=\"95.784606\" y=\"60.209219\" style=\"fill: #1f77b4; stroke: #1f77b4\"/>\n     <use xlink:href=\"#md3e0a71b88\" x=\"121.677272\" y=\"48.7946\" style=\"fill: #1f77b4; stroke: #1f77b4\"/>\n     <use xlink:href=\"#md3e0a71b88\" x=\"85.075547\" y=\"44.058194\" style=\"fill: #1f77b4; stroke: #1f77b4\"/>\n     <use xlink:href=\"#md3e0a71b88\" x=\"139.137569\" y=\"57.433317\" style=\"fill: #1f77b4; stroke: #1f77b4\"/>\n     <use xlink:href=\"#md3e0a71b88\" x=\"119.48962\" y=\"67.61701\" style=\"fill: #1f77b4; stroke: #1f77b4\"/>\n     <use xlink:href=\"#md3e0a71b88\" x=\"160.532173\" y=\"71.015652\" style=\"fill: #1f77b4; stroke: #1f77b4\"/>\n     <use xlink:href=\"#md3e0a71b88\" x=\"138.787793\" y=\"78.79224\" style=\"fill: #1f77b4; stroke: #1f77b4\"/>\n     <use xlink:href=\"#md3e0a71b88\" x=\"143.703588\" y=\"72.202211\" style=\"fill: #1f77b4; stroke: #1f77b4\"/>\n     <use xlink:href=\"#md3e0a71b88\" x=\"122.614496\" y=\"82.880867\" style=\"fill: #1f77b4; stroke: #1f77b4\"/>\n     <use xlink:href=\"#md3e0a71b88\" x=\"158.463069\" y=\"84.927836\" style=\"fill: #1f77b4; stroke: #1f77b4\"/>\n     <use xlink:href=\"#md3e0a71b88\" x=\"126.470924\" y=\"66.195689\" style=\"fill: #1f77b4; stroke: #1f77b4\"/>\n     <use xlink:href=\"#md3e0a71b88\" x=\"142.337793\" y=\"76.109077\" style=\"fill: #1f77b4; stroke: #1f77b4\"/>\n     <use xlink:href=\"#md3e0a71b88\" x=\"149.068456\" y=\"72.129677\" style=\"fill: #1f77b4; stroke: #1f77b4\"/>\n     <use xlink:href=\"#md3e0a71b88\" x=\"99.996381\" y=\"42.064918\" style=\"fill: #1f77b4; stroke: #1f77b4\"/>\n     <use xlink:href=\"#md3e0a71b88\" x=\"144.398231\" y=\"79.971243\" style=\"fill: #1f77b4; stroke: #1f77b4\"/>\n     <use xlink:href=\"#md3e0a71b88\" x=\"137.407039\" y=\"74.924587\" style=\"fill: #1f77b4; stroke: #1f77b4\"/>\n     <use xlink:href=\"#md3e0a71b88\" x=\"141.359525\" y=\"79.623352\" style=\"fill: #1f77b4; stroke: #1f77b4\"/>\n     <use xlink:href=\"#md3e0a71b88\" x=\"117.055265\" y=\"69.71038\" style=\"fill: #1f77b4; stroke: #1f77b4\"/>\n     <use xlink:href=\"#md3e0a71b88\" x=\"164.966761\" y=\"98.113599\" style=\"fill: #1f77b4; stroke: #1f77b4\"/>\n     <use xlink:href=\"#md3e0a71b88\" x=\"119.196566\" y=\"63.363896\" style=\"fill: #1f77b4; stroke: #1f77b4\"/>\n     <use xlink:href=\"#md3e0a71b88\" x=\"155.712258\" y=\"91.523076\" style=\"fill: #1f77b4; stroke: #1f77b4\"/>\n     <use xlink:href=\"#md3e0a71b88\" x=\"146.895901\" y=\"59.732872\" style=\"fill: #1f77b4; stroke: #1f77b4\"/>\n     <use xlink:href=\"#md3e0a71b88\" x=\"145.552629\" y=\"69.945557\" style=\"fill: #1f77b4; stroke: #1f77b4\"/>\n     <use xlink:href=\"#md3e0a71b88\" x=\"131.035093\" y=\"68.490224\" style=\"fill: #1f77b4; stroke: #1f77b4\"/>\n     <use xlink:href=\"#md3e0a71b88\" x=\"119.060854\" y=\"66.611429\" style=\"fill: #1f77b4; stroke: #1f77b4\"/>\n     <use xlink:href=\"#md3e0a71b88\" x=\"135.527528\" y=\"65.632846\" style=\"fill: #1f77b4; stroke: #1f77b4\"/>\n     <use xlink:href=\"#md3e0a71b88\" x=\"128.861521\" y=\"70.924247\" style=\"fill: #1f77b4; stroke: #1f77b4\"/>\n     <use xlink:href=\"#md3e0a71b88\" x=\"112.629764\" y=\"54.214241\" style=\"fill: #1f77b4; stroke: #1f77b4\"/>\n     <use xlink:href=\"#md3e0a71b88\" x=\"196.526691\" y=\"107.25343\" style=\"fill: #1f77b4; stroke: #1f77b4\"/>\n     <use xlink:href=\"#md3e0a71b88\" x=\"114.655844\" y=\"62.553573\" style=\"fill: #1f77b4; stroke: #1f77b4\"/>\n     <use xlink:href=\"#md3e0a71b88\" x=\"151.070022\" y=\"70.629501\" style=\"fill: #1f77b4; stroke: #1f77b4\"/>\n     <use xlink:href=\"#md3e0a71b88\" x=\"116.141421\" y=\"58.942332\" style=\"fill: #1f77b4; stroke: #1f77b4\"/>\n     <use xlink:href=\"#md3e0a71b88\" x=\"150.25939\" y=\"72.677742\" style=\"fill: #1f77b4; stroke: #1f77b4\"/>\n     <use xlink:href=\"#md3e0a71b88\" x=\"127.051717\" y=\"71.173348\" style=\"fill: #1f77b4; stroke: #1f77b4\"/>\n     <use xlink:href=\"#md3e0a71b88\" x=\"152.868675\" y=\"85.070216\" style=\"fill: #1f77b4; stroke: #1f77b4\"/>\n     <use xlink:href=\"#md3e0a71b88\" x=\"49.553944\" y=\"13.5\" style=\"fill: #1f77b4; stroke: #1f77b4\"/>\n     <use xlink:href=\"#md3e0a71b88\" x=\"142.286851\" y=\"75.042862\" style=\"fill: #1f77b4; stroke: #1f77b4\"/>\n     <use xlink:href=\"#md3e0a71b88\" x=\"184.091569\" y=\"97.556159\" style=\"fill: #1f77b4; stroke: #1f77b4\"/>\n     <use xlink:href=\"#md3e0a71b88\" x=\"159.764622\" y=\"93.404583\" style=\"fill: #1f77b4; stroke: #1f77b4\"/>\n     <use xlink:href=\"#md3e0a71b88\" x=\"123.078678\" y=\"60.939729\" style=\"fill: #1f77b4; stroke: #1f77b4\"/>\n     <use xlink:href=\"#md3e0a71b88\" x=\"157.850068\" y=\"80.862505\" style=\"fill: #1f77b4; stroke: #1f77b4\"/>\n     <use xlink:href=\"#md3e0a71b88\" x=\"136.099859\" y=\"64.110223\" style=\"fill: #1f77b4; stroke: #1f77b4\"/>\n     <use xlink:href=\"#md3e0a71b88\" x=\"104.141942\" y=\"59.6757\" style=\"fill: #1f77b4; stroke: #1f77b4\"/>\n     <use xlink:href=\"#md3e0a71b88\" x=\"208.086375\" y=\"101.767309\" style=\"fill: #1f77b4; stroke: #1f77b4\"/>\n     <use xlink:href=\"#md3e0a71b88\" x=\"151.122016\" y=\"75.777527\" style=\"fill: #1f77b4; stroke: #1f77b4\"/>\n     <use xlink:href=\"#md3e0a71b88\" x=\"121.47774\" y=\"66.264209\" style=\"fill: #1f77b4; stroke: #1f77b4\"/>\n     <use xlink:href=\"#md3e0a71b88\" x=\"144.619853\" y=\"80.572313\" style=\"fill: #1f77b4; stroke: #1f77b4\"/>\n     <use xlink:href=\"#md3e0a71b88\" x=\"193.351698\" y=\"100.132833\" style=\"fill: #1f77b4; stroke: #1f77b4\"/>\n     <use xlink:href=\"#md3e0a71b88\" x=\"140.360953\" y=\"61.125513\" style=\"fill: #1f77b4; stroke: #1f77b4\"/>\n     <use xlink:href=\"#md3e0a71b88\" x=\"124.046338\" y=\"60.68686\" style=\"fill: #1f77b4; stroke: #1f77b4\"/>\n     <use xlink:href=\"#md3e0a71b88\" x=\"138.516335\" y=\"83.586629\" style=\"fill: #1f77b4; stroke: #1f77b4\"/>\n     <use xlink:href=\"#md3e0a71b88\" x=\"98.047522\" y=\"44.719835\" style=\"fill: #1f77b4; stroke: #1f77b4\"/>\n     <use xlink:href=\"#md3e0a71b88\" x=\"102.557633\" y=\"64.110252\" style=\"fill: #1f77b4; stroke: #1f77b4\"/>\n     <use xlink:href=\"#md3e0a71b88\" x=\"119.396395\" y=\"58.12648\" style=\"fill: #1f77b4; stroke: #1f77b4\"/>\n     <use xlink:href=\"#md3e0a71b88\" x=\"105.433374\" y=\"49.387457\" style=\"fill: #1f77b4; stroke: #1f77b4\"/>\n     <use xlink:href=\"#md3e0a71b88\" x=\"112.760931\" y=\"50.61059\" style=\"fill: #1f77b4; stroke: #1f77b4\"/>\n     <use xlink:href=\"#md3e0a71b88\" x=\"107.146089\" y=\"59.375503\" style=\"fill: #1f77b4; stroke: #1f77b4\"/>\n     <use xlink:href=\"#md3e0a71b88\" x=\"134.644883\" y=\"78.658869\" style=\"fill: #1f77b4; stroke: #1f77b4\"/>\n     <use xlink:href=\"#md3e0a71b88\" x=\"78.515647\" y=\"45.388553\" style=\"fill: #1f77b4; stroke: #1f77b4\"/>\n     <use xlink:href=\"#md3e0a71b88\" x=\"133.930648\" y=\"77.635181\" style=\"fill: #1f77b4; stroke: #1f77b4\"/>\n     <use xlink:href=\"#md3e0a71b88\" x=\"158.394461\" y=\"84.609698\" style=\"fill: #1f77b4; stroke: #1f77b4\"/>\n     <use xlink:href=\"#md3e0a71b88\" x=\"133.227059\" y=\"69.108644\" style=\"fill: #1f77b4; stroke: #1f77b4\"/>\n     <use xlink:href=\"#md3e0a71b88\" x=\"112.403151\" y=\"72.313324\" style=\"fill: #1f77b4; stroke: #1f77b4\"/>\n     <use xlink:href=\"#md3e0a71b88\" x=\"165.91896\" y=\"80.401586\" style=\"fill: #1f77b4; stroke: #1f77b4\"/>\n     <use xlink:href=\"#md3e0a71b88\" x=\"150.526586\" y=\"81.420957\" style=\"fill: #1f77b4; stroke: #1f77b4\"/>\n     <use xlink:href=\"#md3e0a71b88\" x=\"107.526466\" y=\"56.959401\" style=\"fill: #1f77b4; stroke: #1f77b4\"/>\n     <use xlink:href=\"#md3e0a71b88\" x=\"142.20987\" y=\"74.868143\" style=\"fill: #1f77b4; stroke: #1f77b4\"/>\n     <use xlink:href=\"#md3e0a71b88\" x=\"133.376041\" y=\"81.571135\" style=\"fill: #1f77b4; stroke: #1f77b4\"/>\n     <use xlink:href=\"#md3e0a71b88\" x=\"140.750666\" y=\"55.012497\" style=\"fill: #1f77b4; stroke: #1f77b4\"/>\n     <use xlink:href=\"#md3e0a71b88\" x=\"105.62467\" y=\"48.171826\" style=\"fill: #1f77b4; stroke: #1f77b4\"/>\n     <use xlink:href=\"#md3e0a71b88\" x=\"161.220158\" y=\"74.380474\" style=\"fill: #1f77b4; stroke: #1f77b4\"/>\n     <use xlink:href=\"#md3e0a71b88\" x=\"184.882982\" y=\"108.837646\" style=\"fill: #1f77b4; stroke: #1f77b4\"/>\n     <use xlink:href=\"#md3e0a71b88\" x=\"64.386502\" y=\"13.741307\" style=\"fill: #1f77b4; stroke: #1f77b4\"/>\n     <use xlink:href=\"#md3e0a71b88\" x=\"145.725281\" y=\"72.063744\" style=\"fill: #1f77b4; stroke: #1f77b4\"/>\n     <use xlink:href=\"#md3e0a71b88\" x=\"129.819733\" y=\"75.696735\" style=\"fill: #1f77b4; stroke: #1f77b4\"/>\n     <use xlink:href=\"#md3e0a71b88\" x=\"154.362216\" y=\"85.986152\" style=\"fill: #1f77b4; stroke: #1f77b4\"/>\n     <use xlink:href=\"#md3e0a71b88\" x=\"170.775882\" y=\"61.248708\" style=\"fill: #1f77b4; stroke: #1f77b4\"/>\n     <use xlink:href=\"#md3e0a71b88\" x=\"144.341656\" y=\"73.961079\" style=\"fill: #1f77b4; stroke: #1f77b4\"/>\n     <use xlink:href=\"#md3e0a71b88\" x=\"140.801711\" y=\"71.830856\" style=\"fill: #1f77b4; stroke: #1f77b4\"/>\n     <use xlink:href=\"#md3e0a71b88\" x=\"162.113485\" y=\"86.002665\" style=\"fill: #1f77b4; stroke: #1f77b4\"/>\n     <use xlink:href=\"#md3e0a71b88\" x=\"134.737392\" y=\"74.942908\" style=\"fill: #1f77b4; stroke: #1f77b4\"/>\n     <use xlink:href=\"#md3e0a71b88\" x=\"138.880667\" y=\"68.852313\" style=\"fill: #1f77b4; stroke: #1f77b4\"/>\n     <use xlink:href=\"#md3e0a71b88\" x=\"102.256804\" y=\"45.753794\" style=\"fill: #1f77b4; stroke: #1f77b4\"/>\n     <use xlink:href=\"#md3e0a71b88\" x=\"129.778423\" y=\"63.262014\" style=\"fill: #1f77b4; stroke: #1f77b4\"/>\n     <use xlink:href=\"#md3e0a71b88\" x=\"95.955963\" y=\"60.604562\" style=\"fill: #1f77b4; stroke: #1f77b4\"/>\n     <use xlink:href=\"#md3e0a71b88\" x=\"148.095745\" y=\"85.627456\" style=\"fill: #1f77b4; stroke: #1f77b4\"/>\n     <use xlink:href=\"#md3e0a71b88\" x=\"101.377948\" y=\"54.085742\" style=\"fill: #1f77b4; stroke: #1f77b4\"/>\n     <use xlink:href=\"#md3e0a71b88\" x=\"147.674063\" y=\"89.423833\" style=\"fill: #1f77b4; stroke: #1f77b4\"/>\n     <use xlink:href=\"#md3e0a71b88\" x=\"75.526171\" y=\"24.563894\" style=\"fill: #1f77b4; stroke: #1f77b4\"/>\n     <use xlink:href=\"#md3e0a71b88\" x=\"135.989629\" y=\"72.141825\" style=\"fill: #1f77b4; stroke: #1f77b4\"/>\n     <use xlink:href=\"#md3e0a71b88\" x=\"142.225703\" y=\"65.032383\" style=\"fill: #1f77b4; stroke: #1f77b4\"/>\n     <use xlink:href=\"#md3e0a71b88\" x=\"129.139452\" y=\"72.152625\" style=\"fill: #1f77b4; stroke: #1f77b4\"/>\n     <use xlink:href=\"#md3e0a71b88\" x=\"147.739275\" y=\"72.540338\" style=\"fill: #1f77b4; stroke: #1f77b4\"/>\n     <use xlink:href=\"#md3e0a71b88\" x=\"157.5761\" y=\"103.423971\" style=\"fill: #1f77b4; stroke: #1f77b4\"/>\n     <use xlink:href=\"#md3e0a71b88\" x=\"113.077534\" y=\"60.132722\" style=\"fill: #1f77b4; stroke: #1f77b4\"/>\n     <use xlink:href=\"#md3e0a71b88\" x=\"90.896223\" y=\"47.338375\" style=\"fill: #1f77b4; stroke: #1f77b4\"/>\n     <use xlink:href=\"#md3e0a71b88\" x=\"83.227838\" y=\"51.069123\" style=\"fill: #1f77b4; stroke: #1f77b4\"/>\n     <use xlink:href=\"#md3e0a71b88\" x=\"122.415513\" y=\"69.0025\" style=\"fill: #1f77b4; stroke: #1f77b4\"/>\n     <use xlink:href=\"#md3e0a71b88\" x=\"97.897745\" y=\"44.598643\" style=\"fill: #1f77b4; stroke: #1f77b4\"/>\n     <use xlink:href=\"#md3e0a71b88\" x=\"124.866194\" y=\"78.60145\" style=\"fill: #1f77b4; stroke: #1f77b4\"/>\n     <use xlink:href=\"#md3e0a71b88\" x=\"130.265086\" y=\"71.780269\" style=\"fill: #1f77b4; stroke: #1f77b4\"/>\n     <use xlink:href=\"#md3e0a71b88\" x=\"137.764215\" y=\"54.369339\" style=\"fill: #1f77b4; stroke: #1f77b4\"/>\n     <use xlink:href=\"#md3e0a71b88\" x=\"125.839184\" y=\"65.856796\" style=\"fill: #1f77b4; stroke: #1f77b4\"/>\n     <use xlink:href=\"#md3e0a71b88\" x=\"111.016597\" y=\"62.330101\" style=\"fill: #1f77b4; stroke: #1f77b4\"/>\n     <use xlink:href=\"#md3e0a71b88\" x=\"148.687581\" y=\"70.30232\" style=\"fill: #1f77b4; stroke: #1f77b4\"/>\n     <use xlink:href=\"#md3e0a71b88\" x=\"133.124245\" y=\"68.013785\" style=\"fill: #1f77b4; stroke: #1f77b4\"/>\n     <use xlink:href=\"#md3e0a71b88\" x=\"147.213083\" y=\"68.344926\" style=\"fill: #1f77b4; stroke: #1f77b4\"/>\n     <use xlink:href=\"#md3e0a71b88\" x=\"108.998271\" y=\"57.265279\" style=\"fill: #1f77b4; stroke: #1f77b4\"/>\n     <use xlink:href=\"#md3e0a71b88\" x=\"136.081666\" y=\"72.908995\" style=\"fill: #1f77b4; stroke: #1f77b4\"/>\n     <use xlink:href=\"#md3e0a71b88\" x=\"109.776216\" y=\"46.675938\" style=\"fill: #1f77b4; stroke: #1f77b4\"/>\n     <use xlink:href=\"#md3e0a71b88\" x=\"137.837067\" y=\"73.754584\" style=\"fill: #1f77b4; stroke: #1f77b4\"/>\n     <use xlink:href=\"#md3e0a71b88\" x=\"116.162771\" y=\"54.021232\" style=\"fill: #1f77b4; stroke: #1f77b4\"/>\n     <use xlink:href=\"#md3e0a71b88\" x=\"108.171728\" y=\"66.011931\" style=\"fill: #1f77b4; stroke: #1f77b4\"/>\n     <use xlink:href=\"#md3e0a71b88\" x=\"102.826782\" y=\"69.647709\" style=\"fill: #1f77b4; stroke: #1f77b4\"/>\n     <use xlink:href=\"#md3e0a71b88\" x=\"147.744087\" y=\"75.566287\" style=\"fill: #1f77b4; stroke: #1f77b4\"/>\n     <use xlink:href=\"#md3e0a71b88\" x=\"105.345586\" y=\"37.918223\" style=\"fill: #1f77b4; stroke: #1f77b4\"/>\n     <use xlink:href=\"#md3e0a71b88\" x=\"90.170182\" y=\"50.87232\" style=\"fill: #1f77b4; stroke: #1f77b4\"/>\n     <use xlink:href=\"#md3e0a71b88\" x=\"169.946049\" y=\"96.45174\" style=\"fill: #1f77b4; stroke: #1f77b4\"/>\n     <use xlink:href=\"#md3e0a71b88\" x=\"137.204589\" y=\"69.153678\" style=\"fill: #1f77b4; stroke: #1f77b4\"/>\n     <use xlink:href=\"#md3e0a71b88\" x=\"153.975451\" y=\"87.49436\" style=\"fill: #1f77b4; stroke: #1f77b4\"/>\n     <use xlink:href=\"#md3e0a71b88\" x=\"107.907848\" y=\"77.103076\" style=\"fill: #1f77b4; stroke: #1f77b4\"/>\n     <use xlink:href=\"#md3e0a71b88\" x=\"88.859166\" y=\"48.867973\" style=\"fill: #1f77b4; stroke: #1f77b4\"/>\n     <use xlink:href=\"#md3e0a71b88\" x=\"140.471567\" y=\"66.008874\" style=\"fill: #1f77b4; stroke: #1f77b4\"/>\n     <use xlink:href=\"#md3e0a71b88\" x=\"127.641689\" y=\"52.851621\" style=\"fill: #1f77b4; stroke: #1f77b4\"/>\n     <use xlink:href=\"#md3e0a71b88\" x=\"106.835669\" y=\"53.191088\" style=\"fill: #1f77b4; stroke: #1f77b4\"/>\n     <use xlink:href=\"#md3e0a71b88\" x=\"97.016204\" y=\"41.790923\" style=\"fill: #1f77b4; stroke: #1f77b4\"/>\n     <use xlink:href=\"#md3e0a71b88\" x=\"126.307641\" y=\"60.773203\" style=\"fill: #1f77b4; stroke: #1f77b4\"/>\n     <use xlink:href=\"#md3e0a71b88\" x=\"144.783716\" y=\"74.729274\" style=\"fill: #1f77b4; stroke: #1f77b4\"/>\n     <use xlink:href=\"#md3e0a71b88\" x=\"132.133355\" y=\"73.210689\" style=\"fill: #1f77b4; stroke: #1f77b4\"/>\n     <use xlink:href=\"#md3e0a71b88\" x=\"77.878414\" y=\"50.88327\" style=\"fill: #1f77b4; stroke: #1f77b4\"/>\n     <use xlink:href=\"#md3e0a71b88\" x=\"122.887535\" y=\"69.395534\" style=\"fill: #1f77b4; stroke: #1f77b4\"/>\n     <use xlink:href=\"#md3e0a71b88\" x=\"115.71741\" y=\"60.428593\" style=\"fill: #1f77b4; stroke: #1f77b4\"/>\n     <use xlink:href=\"#md3e0a71b88\" x=\"141.875682\" y=\"60.220273\" style=\"fill: #1f77b4; stroke: #1f77b4\"/>\n     <use xlink:href=\"#md3e0a71b88\" x=\"157.657457\" y=\"96.428915\" style=\"fill: #1f77b4; stroke: #1f77b4\"/>\n     <use xlink:href=\"#md3e0a71b88\" x=\"96.386789\" y=\"54.543087\" style=\"fill: #1f77b4; stroke: #1f77b4\"/>\n     <use xlink:href=\"#md3e0a71b88\" x=\"122.215485\" y=\"56.834301\" style=\"fill: #1f77b4; stroke: #1f77b4\"/>\n     <use xlink:href=\"#md3e0a71b88\" x=\"130.151778\" y=\"69.023131\" style=\"fill: #1f77b4; stroke: #1f77b4\"/>\n     <use xlink:href=\"#md3e0a71b88\" x=\"152.592854\" y=\"76.471236\" style=\"fill: #1f77b4; stroke: #1f77b4\"/>\n     <use xlink:href=\"#md3e0a71b88\" x=\"129.374951\" y=\"68.674822\" style=\"fill: #1f77b4; stroke: #1f77b4\"/>\n     <use xlink:href=\"#md3e0a71b88\" x=\"159.768528\" y=\"81.299223\" style=\"fill: #1f77b4; stroke: #1f77b4\"/>\n     <use xlink:href=\"#md3e0a71b88\" x=\"165.987336\" y=\"90.296815\" style=\"fill: #1f77b4; stroke: #1f77b4\"/>\n     <use xlink:href=\"#md3e0a71b88\" x=\"180.069967\" y=\"101.792169\" style=\"fill: #1f77b4; stroke: #1f77b4\"/>\n     <use xlink:href=\"#md3e0a71b88\" x=\"121.102231\" y=\"66.141607\" style=\"fill: #1f77b4; stroke: #1f77b4\"/>\n     <use xlink:href=\"#md3e0a71b88\" x=\"96.576629\" y=\"46.786134\" style=\"fill: #1f77b4; stroke: #1f77b4\"/>\n     <use xlink:href=\"#md3e0a71b88\" x=\"125.444137\" y=\"57.688988\" style=\"fill: #1f77b4; stroke: #1f77b4\"/>\n     <use xlink:href=\"#md3e0a71b88\" x=\"182.326992\" y=\"90.701403\" style=\"fill: #1f77b4; stroke: #1f77b4\"/>\n     <use xlink:href=\"#md3e0a71b88\" x=\"122.10299\" y=\"60.744508\" style=\"fill: #1f77b4; stroke: #1f77b4\"/>\n     <use xlink:href=\"#md3e0a71b88\" x=\"160.371599\" y=\"88.268662\" style=\"fill: #1f77b4; stroke: #1f77b4\"/>\n     <use xlink:href=\"#md3e0a71b88\" x=\"130.272543\" y=\"73.810913\" style=\"fill: #1f77b4; stroke: #1f77b4\"/>\n     <use xlink:href=\"#md3e0a71b88\" x=\"75.835162\" y=\"36.95876\" style=\"fill: #1f77b4; stroke: #1f77b4\"/>\n     <use xlink:href=\"#md3e0a71b88\" x=\"170.719034\" y=\"72.308788\" style=\"fill: #1f77b4; stroke: #1f77b4\"/>\n     <use xlink:href=\"#md3e0a71b88\" x=\"140.011885\" y=\"66.947948\" style=\"fill: #1f77b4; stroke: #1f77b4\"/>\n     <use xlink:href=\"#md3e0a71b88\" x=\"177.537076\" y=\"101.551297\" style=\"fill: #1f77b4; stroke: #1f77b4\"/>\n     <use xlink:href=\"#md3e0a71b88\" x=\"95.524912\" y=\"61.866847\" style=\"fill: #1f77b4; stroke: #1f77b4\"/>\n     <use xlink:href=\"#md3e0a71b88\" x=\"72.646246\" y=\"35.254439\" style=\"fill: #1f77b4; stroke: #1f77b4\"/>\n     <use xlink:href=\"#md3e0a71b88\" x=\"117.355167\" y=\"59.080683\" style=\"fill: #1f77b4; stroke: #1f77b4\"/>\n     <use xlink:href=\"#md3e0a71b88\" x=\"119.714166\" y=\"69.77287\" style=\"fill: #1f77b4; stroke: #1f77b4\"/>\n     <use xlink:href=\"#md3e0a71b88\" x=\"147.833956\" y=\"70.699249\" style=\"fill: #1f77b4; stroke: #1f77b4\"/>\n     <use xlink:href=\"#md3e0a71b88\" x=\"141.36771\" y=\"82.87184\" style=\"fill: #1f77b4; stroke: #1f77b4\"/>\n     <use xlink:href=\"#md3e0a71b88\" x=\"107.024743\" y=\"66.882901\" style=\"fill: #1f77b4; stroke: #1f77b4\"/>\n     <use xlink:href=\"#md3e0a71b88\" x=\"145.828573\" y=\"84.367935\" style=\"fill: #1f77b4; stroke: #1f77b4\"/>\n     <use xlink:href=\"#md3e0a71b88\" x=\"134.408115\" y=\"67.200654\" style=\"fill: #1f77b4; stroke: #1f77b4\"/>\n     <use xlink:href=\"#md3e0a71b88\" x=\"94.136255\" y=\"41.888334\" style=\"fill: #1f77b4; stroke: #1f77b4\"/>\n     <use xlink:href=\"#md3e0a71b88\" x=\"98.99521\" y=\"60.793655\" style=\"fill: #1f77b4; stroke: #1f77b4\"/>\n     <use xlink:href=\"#md3e0a71b88\" x=\"175.996874\" y=\"87.48535\" style=\"fill: #1f77b4; stroke: #1f77b4\"/>\n     <use xlink:href=\"#md3e0a71b88\" x=\"90.070749\" y=\"43.260147\" style=\"fill: #1f77b4; stroke: #1f77b4\"/>\n     <use xlink:href=\"#md3e0a71b88\" x=\"140.244884\" y=\"78.281183\" style=\"fill: #1f77b4; stroke: #1f77b4\"/>\n     <use xlink:href=\"#md3e0a71b88\" x=\"206.25112\" y=\"121.802962\" style=\"fill: #1f77b4; stroke: #1f77b4\"/>\n     <use xlink:href=\"#md3e0a71b88\" x=\"148.636203\" y=\"89.034335\" style=\"fill: #1f77b4; stroke: #1f77b4\"/>\n     <use xlink:href=\"#md3e0a71b88\" x=\"100.861206\" y=\"56.036804\" style=\"fill: #1f77b4; stroke: #1f77b4\"/>\n     <use xlink:href=\"#md3e0a71b88\" x=\"118.788768\" y=\"69.694828\" style=\"fill: #1f77b4; stroke: #1f77b4\"/>\n     <use xlink:href=\"#md3e0a71b88\" x=\"104.929823\" y=\"59.411234\" style=\"fill: #1f77b4; stroke: #1f77b4\"/>\n     <use xlink:href=\"#md3e0a71b88\" x=\"146.791368\" y=\"79.822214\" style=\"fill: #1f77b4; stroke: #1f77b4\"/>\n     <use xlink:href=\"#md3e0a71b88\" x=\"156.798749\" y=\"79.146722\" style=\"fill: #1f77b4; stroke: #1f77b4\"/>\n     <use xlink:href=\"#md3e0a71b88\" x=\"146.632593\" y=\"80.362017\" style=\"fill: #1f77b4; stroke: #1f77b4\"/>\n     <use xlink:href=\"#md3e0a71b88\" x=\"160.108704\" y=\"74.863043\" style=\"fill: #1f77b4; stroke: #1f77b4\"/>\n     <use xlink:href=\"#md3e0a71b88\" x=\"102.743603\" y=\"50.61513\" style=\"fill: #1f77b4; stroke: #1f77b4\"/>\n     <use xlink:href=\"#md3e0a71b88\" x=\"119.554083\" y=\"63.782645\" style=\"fill: #1f77b4; stroke: #1f77b4\"/>\n     <use xlink:href=\"#md3e0a71b88\" x=\"159.443737\" y=\"78.379503\" style=\"fill: #1f77b4; stroke: #1f77b4\"/>\n     <use xlink:href=\"#md3e0a71b88\" x=\"57.043373\" y=\"43.409803\" style=\"fill: #1f77b4; stroke: #1f77b4\"/>\n     <use xlink:href=\"#md3e0a71b88\" x=\"127.064765\" y=\"72.345795\" style=\"fill: #1f77b4; stroke: #1f77b4\"/>\n     <use xlink:href=\"#md3e0a71b88\" x=\"105.811227\" y=\"51.958054\" style=\"fill: #1f77b4; stroke: #1f77b4\"/>\n     <use xlink:href=\"#md3e0a71b88\" x=\"157.355671\" y=\"83.40195\" style=\"fill: #1f77b4; stroke: #1f77b4\"/>\n     <use xlink:href=\"#md3e0a71b88\" x=\"173.358768\" y=\"89.515842\" style=\"fill: #1f77b4; stroke: #1f77b4\"/>\n     <use xlink:href=\"#md3e0a71b88\" x=\"138.603971\" y=\"80.219679\" style=\"fill: #1f77b4; stroke: #1f77b4\"/>\n     <use xlink:href=\"#md3e0a71b88\" x=\"120.460689\" y=\"65.814872\" style=\"fill: #1f77b4; stroke: #1f77b4\"/>\n     <use xlink:href=\"#md3e0a71b88\" x=\"114.831536\" y=\"56.229194\" style=\"fill: #1f77b4; stroke: #1f77b4\"/>\n     <use xlink:href=\"#md3e0a71b88\" x=\"107.881178\" y=\"51.472971\" style=\"fill: #1f77b4; stroke: #1f77b4\"/>\n     <use xlink:href=\"#md3e0a71b88\" x=\"94.317352\" y=\"51.093385\" style=\"fill: #1f77b4; stroke: #1f77b4\"/>\n     <use xlink:href=\"#md3e0a71b88\" x=\"129.423866\" y=\"78.62592\" style=\"fill: #1f77b4; stroke: #1f77b4\"/>\n     <use xlink:href=\"#md3e0a71b88\" x=\"132.43814\" y=\"64.15024\" style=\"fill: #1f77b4; stroke: #1f77b4\"/>\n     <use xlink:href=\"#md3e0a71b88\" x=\"155.360976\" y=\"84.212269\" style=\"fill: #1f77b4; stroke: #1f77b4\"/>\n     <use xlink:href=\"#md3e0a71b88\" x=\"75.497084\" y=\"25.699941\" style=\"fill: #1f77b4; stroke: #1f77b4\"/>\n     <use xlink:href=\"#md3e0a71b88\" x=\"146.012498\" y=\"87.914033\" style=\"fill: #1f77b4; stroke: #1f77b4\"/>\n     <use xlink:href=\"#md3e0a71b88\" x=\"116.544823\" y=\"66.481962\" style=\"fill: #1f77b4; stroke: #1f77b4\"/>\n     <use xlink:href=\"#md3e0a71b88\" x=\"193.498287\" y=\"97.236393\" style=\"fill: #1f77b4; stroke: #1f77b4\"/>\n     <use xlink:href=\"#md3e0a71b88\" x=\"131.160046\" y=\"73.925635\" style=\"fill: #1f77b4; stroke: #1f77b4\"/>\n     <use xlink:href=\"#md3e0a71b88\" x=\"138.502501\" y=\"65.26851\" style=\"fill: #1f77b4; stroke: #1f77b4\"/>\n     <use xlink:href=\"#md3e0a71b88\" x=\"135.782556\" y=\"71.808244\" style=\"fill: #1f77b4; stroke: #1f77b4\"/>\n     <use xlink:href=\"#md3e0a71b88\" x=\"134.061812\" y=\"80.824224\" style=\"fill: #1f77b4; stroke: #1f77b4\"/>\n     <use xlink:href=\"#md3e0a71b88\" x=\"152.925921\" y=\"88.039243\" style=\"fill: #1f77b4; stroke: #1f77b4\"/>\n     <use xlink:href=\"#md3e0a71b88\" x=\"110.94945\" y=\"60.054925\" style=\"fill: #1f77b4; stroke: #1f77b4\"/>\n     <use xlink:href=\"#md3e0a71b88\" x=\"157.885116\" y=\"88.050452\" style=\"fill: #1f77b4; stroke: #1f77b4\"/>\n     <use xlink:href=\"#md3e0a71b88\" x=\"118.207978\" y=\"64.588823\" style=\"fill: #1f77b4; stroke: #1f77b4\"/>\n     <use xlink:href=\"#md3e0a71b88\" x=\"97.171125\" y=\"42.933839\" style=\"fill: #1f77b4; stroke: #1f77b4\"/>\n     <use xlink:href=\"#md3e0a71b88\" x=\"133.556407\" y=\"90.696852\" style=\"fill: #1f77b4; stroke: #1f77b4\"/>\n     <use xlink:href=\"#md3e0a71b88\" x=\"119.060447\" y=\"52.498273\" style=\"fill: #1f77b4; stroke: #1f77b4\"/>\n     <use xlink:href=\"#md3e0a71b88\" x=\"96.395417\" y=\"43.107678\" style=\"fill: #1f77b4; stroke: #1f77b4\"/>\n     <use xlink:href=\"#md3e0a71b88\" x=\"70.767137\" y=\"43.497694\" style=\"fill: #1f77b4; stroke: #1f77b4\"/>\n     <use xlink:href=\"#md3e0a71b88\" x=\"88.826173\" y=\"44.443007\" style=\"fill: #1f77b4; stroke: #1f77b4\"/>\n     <use xlink:href=\"#md3e0a71b88\" x=\"149.40004\" y=\"70.688515\" style=\"fill: #1f77b4; stroke: #1f77b4\"/>\n     <use xlink:href=\"#md3e0a71b88\" x=\"119.711901\" y=\"69.474069\" style=\"fill: #1f77b4; stroke: #1f77b4\"/>\n     <use xlink:href=\"#md3e0a71b88\" x=\"77.77849\" y=\"41.975132\" style=\"fill: #1f77b4; stroke: #1f77b4\"/>\n     <use xlink:href=\"#md3e0a71b88\" x=\"139.722994\" y=\"73.064725\" style=\"fill: #1f77b4; stroke: #1f77b4\"/>\n     <use xlink:href=\"#md3e0a71b88\" x=\"142.416444\" y=\"66.448672\" style=\"fill: #1f77b4; stroke: #1f77b4\"/>\n     <use xlink:href=\"#md3e0a71b88\" x=\"152.904341\" y=\"76.058344\" style=\"fill: #1f77b4; stroke: #1f77b4\"/>\n     <use xlink:href=\"#md3e0a71b88\" x=\"134.953471\" y=\"71.885614\" style=\"fill: #1f77b4; stroke: #1f77b4\"/>\n     <use xlink:href=\"#md3e0a71b88\" x=\"135.422476\" y=\"79.421226\" style=\"fill: #1f77b4; stroke: #1f77b4\"/>\n     <use xlink:href=\"#md3e0a71b88\" x=\"184.878165\" y=\"109.23455\" style=\"fill: #1f77b4; stroke: #1f77b4\"/>\n     <use xlink:href=\"#md3e0a71b88\" x=\"149.583448\" y=\"72.621401\" style=\"fill: #1f77b4; stroke: #1f77b4\"/>\n     <use xlink:href=\"#md3e0a71b88\" x=\"160.93448\" y=\"80.79917\" style=\"fill: #1f77b4; stroke: #1f77b4\"/>\n     <use xlink:href=\"#md3e0a71b88\" x=\"141.803025\" y=\"69.668659\" style=\"fill: #1f77b4; stroke: #1f77b4\"/>\n     <use xlink:href=\"#md3e0a71b88\" x=\"138.282048\" y=\"82.409253\" style=\"fill: #1f77b4; stroke: #1f77b4\"/>\n     <use xlink:href=\"#md3e0a71b88\" x=\"106.236631\" y=\"50.460054\" style=\"fill: #1f77b4; stroke: #1f77b4\"/>\n     <use xlink:href=\"#md3e0a71b88\" x=\"116.592405\" y=\"58.627711\" style=\"fill: #1f77b4; stroke: #1f77b4\"/>\n     <use xlink:href=\"#md3e0a71b88\" x=\"131.604037\" y=\"58.185591\" style=\"fill: #1f77b4; stroke: #1f77b4\"/>\n     <use xlink:href=\"#md3e0a71b88\" x=\"56.134495\" y=\"38.814857\" style=\"fill: #1f77b4; stroke: #1f77b4\"/>\n     <use xlink:href=\"#md3e0a71b88\" x=\"148.778201\" y=\"68.203311\" style=\"fill: #1f77b4; stroke: #1f77b4\"/>\n     <use xlink:href=\"#md3e0a71b88\" x=\"152.904261\" y=\"83.549184\" style=\"fill: #1f77b4; stroke: #1f77b4\"/>\n     <use xlink:href=\"#md3e0a71b88\" x=\"141.05549\" y=\"87.699277\" style=\"fill: #1f77b4; stroke: #1f77b4\"/>\n     <use xlink:href=\"#md3e0a71b88\" x=\"148.938432\" y=\"76.159503\" style=\"fill: #1f77b4; stroke: #1f77b4\"/>\n     <use xlink:href=\"#md3e0a71b88\" x=\"145.654178\" y=\"81.315648\" style=\"fill: #1f77b4; stroke: #1f77b4\"/>\n     <use xlink:href=\"#md3e0a71b88\" x=\"137.322671\" y=\"72.672122\" style=\"fill: #1f77b4; stroke: #1f77b4\"/>\n     <use xlink:href=\"#md3e0a71b88\" x=\"171.578045\" y=\"87.218127\" style=\"fill: #1f77b4; stroke: #1f77b4\"/>\n     <use xlink:href=\"#md3e0a71b88\" x=\"68.924697\" y=\"40.137458\" style=\"fill: #1f77b4; stroke: #1f77b4\"/>\n     <use xlink:href=\"#md3e0a71b88\" x=\"121.170128\" y=\"63.496296\" style=\"fill: #1f77b4; stroke: #1f77b4\"/>\n     <use xlink:href=\"#md3e0a71b88\" x=\"86.962678\" y=\"44.336341\" style=\"fill: #1f77b4; stroke: #1f77b4\"/>\n     <use xlink:href=\"#md3e0a71b88\" x=\"111.96404\" y=\"77.261243\" style=\"fill: #1f77b4; stroke: #1f77b4\"/>\n     <use xlink:href=\"#md3e0a71b88\" x=\"125.456239\" y=\"67.256582\" style=\"fill: #1f77b4; stroke: #1f77b4\"/>\n     <use xlink:href=\"#md3e0a71b88\" x=\"161.602012\" y=\"74.281239\" style=\"fill: #1f77b4; stroke: #1f77b4\"/>\n     <use xlink:href=\"#md3e0a71b88\" x=\"135.691037\" y=\"75.636317\" style=\"fill: #1f77b4; stroke: #1f77b4\"/>\n     <use xlink:href=\"#md3e0a71b88\" x=\"162.636233\" y=\"78.738317\" style=\"fill: #1f77b4; stroke: #1f77b4\"/>\n     <use xlink:href=\"#md3e0a71b88\" x=\"120.365388\" y=\"54.86686\" style=\"fill: #1f77b4; stroke: #1f77b4\"/>\n     <use xlink:href=\"#md3e0a71b88\" x=\"105.565808\" y=\"65.339887\" style=\"fill: #1f77b4; stroke: #1f77b4\"/>\n     <use xlink:href=\"#md3e0a71b88\" x=\"120.738471\" y=\"54.646279\" style=\"fill: #1f77b4; stroke: #1f77b4\"/>\n     <use xlink:href=\"#md3e0a71b88\" x=\"151.053308\" y=\"80.181422\" style=\"fill: #1f77b4; stroke: #1f77b4\"/>\n     <use xlink:href=\"#md3e0a71b88\" x=\"137.775478\" y=\"67.693209\" style=\"fill: #1f77b4; stroke: #1f77b4\"/>\n     <use xlink:href=\"#md3e0a71b88\" x=\"104.949144\" y=\"44.173773\" style=\"fill: #1f77b4; stroke: #1f77b4\"/>\n     <use xlink:href=\"#md3e0a71b88\" x=\"115.76668\" y=\"42.533082\" style=\"fill: #1f77b4; stroke: #1f77b4\"/>\n     <use xlink:href=\"#md3e0a71b88\" x=\"103.317806\" y=\"54.410109\" style=\"fill: #1f77b4; stroke: #1f77b4\"/>\n     <use xlink:href=\"#md3e0a71b88\" x=\"127.23686\" y=\"65.583118\" style=\"fill: #1f77b4; stroke: #1f77b4\"/>\n     <use xlink:href=\"#md3e0a71b88\" x=\"153.43412\" y=\"82.76658\" style=\"fill: #1f77b4; stroke: #1f77b4\"/>\n     <use xlink:href=\"#md3e0a71b88\" x=\"130.321101\" y=\"54.227355\" style=\"fill: #1f77b4; stroke: #1f77b4\"/>\n     <use xlink:href=\"#md3e0a71b88\" x=\"162.433748\" y=\"96.351205\" style=\"fill: #1f77b4; stroke: #1f77b4\"/>\n     <use xlink:href=\"#md3e0a71b88\" x=\"138.052208\" y=\"52.932018\" style=\"fill: #1f77b4; stroke: #1f77b4\"/>\n     <use xlink:href=\"#md3e0a71b88\" x=\"137.525293\" y=\"76.135787\" style=\"fill: #1f77b4; stroke: #1f77b4\"/>\n     <use xlink:href=\"#md3e0a71b88\" x=\"121.838532\" y=\"68.471295\" style=\"fill: #1f77b4; stroke: #1f77b4\"/>\n     <use xlink:href=\"#md3e0a71b88\" x=\"158.489558\" y=\"79.043729\" style=\"fill: #1f77b4; stroke: #1f77b4\"/>\n     <use xlink:href=\"#md3e0a71b88\" x=\"117.177468\" y=\"71.421409\" style=\"fill: #1f77b4; stroke: #1f77b4\"/>\n     <use xlink:href=\"#md3e0a71b88\" x=\"108.91473\" y=\"49.594174\" style=\"fill: #1f77b4; stroke: #1f77b4\"/>\n     <use xlink:href=\"#md3e0a71b88\" x=\"108.737737\" y=\"63.19529\" style=\"fill: #1f77b4; stroke: #1f77b4\"/>\n     <use xlink:href=\"#md3e0a71b88\" x=\"130.113004\" y=\"70.31374\" style=\"fill: #1f77b4; stroke: #1f77b4\"/>\n     <use xlink:href=\"#md3e0a71b88\" x=\"129.062401\" y=\"68.460915\" style=\"fill: #1f77b4; stroke: #1f77b4\"/>\n     <use xlink:href=\"#md3e0a71b88\" x=\"163.802293\" y=\"83.243505\" style=\"fill: #1f77b4; stroke: #1f77b4\"/>\n     <use xlink:href=\"#md3e0a71b88\" x=\"171.80885\" y=\"94.05201\" style=\"fill: #1f77b4; stroke: #1f77b4\"/>\n     <use xlink:href=\"#md3e0a71b88\" x=\"99.961065\" y=\"53.531692\" style=\"fill: #1f77b4; stroke: #1f77b4\"/>\n     <use xlink:href=\"#md3e0a71b88\" x=\"127.444141\" y=\"73.839533\" style=\"fill: #1f77b4; stroke: #1f77b4\"/>\n     <use xlink:href=\"#md3e0a71b88\" x=\"127.537931\" y=\"58.905409\" style=\"fill: #1f77b4; stroke: #1f77b4\"/>\n     <use xlink:href=\"#md3e0a71b88\" x=\"114.712624\" y=\"68.950526\" style=\"fill: #1f77b4; stroke: #1f77b4\"/>\n     <use xlink:href=\"#md3e0a71b88\" x=\"113.325781\" y=\"54.191569\" style=\"fill: #1f77b4; stroke: #1f77b4\"/>\n     <use xlink:href=\"#md3e0a71b88\" x=\"91.756628\" y=\"46.734138\" style=\"fill: #1f77b4; stroke: #1f77b4\"/>\n     <use xlink:href=\"#md3e0a71b88\" x=\"106.561223\" y=\"59.893603\" style=\"fill: #1f77b4; stroke: #1f77b4\"/>\n     <use xlink:href=\"#md3e0a71b88\" x=\"101.576041\" y=\"45.468465\" style=\"fill: #1f77b4; stroke: #1f77b4\"/>\n     <use xlink:href=\"#md3e0a71b88\" x=\"169.843718\" y=\"84.512632\" style=\"fill: #1f77b4; stroke: #1f77b4\"/>\n     <use xlink:href=\"#md3e0a71b88\" x=\"144.232117\" y=\"94.19599\" style=\"fill: #1f77b4; stroke: #1f77b4\"/>\n     <use xlink:href=\"#md3e0a71b88\" x=\"139.431414\" y=\"76.23432\" style=\"fill: #1f77b4; stroke: #1f77b4\"/>\n     <use xlink:href=\"#md3e0a71b88\" x=\"209.497626\" y=\"96.554223\" style=\"fill: #1f77b4; stroke: #1f77b4\"/>\n     <use xlink:href=\"#md3e0a71b88\" x=\"141.705856\" y=\"74.927949\" style=\"fill: #1f77b4; stroke: #1f77b4\"/>\n     <use xlink:href=\"#md3e0a71b88\" x=\"81.024639\" y=\"47.839497\" style=\"fill: #1f77b4; stroke: #1f77b4\"/>\n     <use xlink:href=\"#md3e0a71b88\" x=\"120.451367\" y=\"82.437699\" style=\"fill: #1f77b4; stroke: #1f77b4\"/>\n     <use xlink:href=\"#md3e0a71b88\" x=\"140.842109\" y=\"83.404142\" style=\"fill: #1f77b4; stroke: #1f77b4\"/>\n     <use xlink:href=\"#md3e0a71b88\" x=\"122.166821\" y=\"69.836528\" style=\"fill: #1f77b4; stroke: #1f77b4\"/>\n     <use xlink:href=\"#md3e0a71b88\" x=\"145.740309\" y=\"72.269295\" style=\"fill: #1f77b4; stroke: #1f77b4\"/>\n     <use xlink:href=\"#md3e0a71b88\" x=\"185.270958\" y=\"99.374014\" style=\"fill: #1f77b4; stroke: #1f77b4\"/>\n     <use xlink:href=\"#md3e0a71b88\" x=\"148.91525\" y=\"63.453156\" style=\"fill: #1f77b4; stroke: #1f77b4\"/>\n     <use xlink:href=\"#md3e0a71b88\" x=\"123.759397\" y=\"40.527541\" style=\"fill: #1f77b4; stroke: #1f77b4\"/>\n     <use xlink:href=\"#md3e0a71b88\" x=\"168.303388\" y=\"88.437233\" style=\"fill: #1f77b4; stroke: #1f77b4\"/>\n     <use xlink:href=\"#md3e0a71b88\" x=\"116.82317\" y=\"63.17908\" style=\"fill: #1f77b4; stroke: #1f77b4\"/>\n     <use xlink:href=\"#md3e0a71b88\" x=\"117.830917\" y=\"66.185394\" style=\"fill: #1f77b4; stroke: #1f77b4\"/>\n     <use xlink:href=\"#md3e0a71b88\" x=\"88.182237\" y=\"54.155199\" style=\"fill: #1f77b4; stroke: #1f77b4\"/>\n     <use xlink:href=\"#md3e0a71b88\" x=\"129.693983\" y=\"63.238086\" style=\"fill: #1f77b4; stroke: #1f77b4\"/>\n     <use xlink:href=\"#md3e0a71b88\" x=\"131.892616\" y=\"61.833369\" style=\"fill: #1f77b4; stroke: #1f77b4\"/>\n     <use xlink:href=\"#md3e0a71b88\" x=\"125.83688\" y=\"61.329413\" style=\"fill: #1f77b4; stroke: #1f77b4\"/>\n     <use xlink:href=\"#md3e0a71b88\" x=\"162.16221\" y=\"94.487052\" style=\"fill: #1f77b4; stroke: #1f77b4\"/>\n     <use xlink:href=\"#md3e0a71b88\" x=\"155.588749\" y=\"84.507574\" style=\"fill: #1f77b4; stroke: #1f77b4\"/>\n     <use xlink:href=\"#md3e0a71b88\" x=\"119.746551\" y=\"52.708444\" style=\"fill: #1f77b4; stroke: #1f77b4\"/>\n     <use xlink:href=\"#md3e0a71b88\" x=\"85.317734\" y=\"54.612518\" style=\"fill: #1f77b4; stroke: #1f77b4\"/>\n     <use xlink:href=\"#md3e0a71b88\" x=\"106.865593\" y=\"77.880344\" style=\"fill: #1f77b4; stroke: #1f77b4\"/>\n     <use xlink:href=\"#md3e0a71b88\" x=\"135.644166\" y=\"57.099244\" style=\"fill: #1f77b4; stroke: #1f77b4\"/>\n     <use xlink:href=\"#md3e0a71b88\" x=\"132.94833\" y=\"73.323327\" style=\"fill: #1f77b4; stroke: #1f77b4\"/>\n     <use xlink:href=\"#md3e0a71b88\" x=\"173.139181\" y=\"92.017079\" style=\"fill: #1f77b4; stroke: #1f77b4\"/>\n     <use xlink:href=\"#md3e0a71b88\" x=\"126.175899\" y=\"46.823553\" style=\"fill: #1f77b4; stroke: #1f77b4\"/>\n     <use xlink:href=\"#md3e0a71b88\" x=\"106.639879\" y=\"45.656183\" style=\"fill: #1f77b4; stroke: #1f77b4\"/>\n     <use xlink:href=\"#md3e0a71b88\" x=\"78.598115\" y=\"47.093533\" style=\"fill: #1f77b4; stroke: #1f77b4\"/>\n     <use xlink:href=\"#md3e0a71b88\" x=\"61.739078\" y=\"36.932566\" style=\"fill: #1f77b4; stroke: #1f77b4\"/>\n     <use xlink:href=\"#md3e0a71b88\" x=\"162.009376\" y=\"86.960256\" style=\"fill: #1f77b4; stroke: #1f77b4\"/>\n     <use xlink:href=\"#md3e0a71b88\" x=\"105.857575\" y=\"51.279087\" style=\"fill: #1f77b4; stroke: #1f77b4\"/>\n     <use xlink:href=\"#md3e0a71b88\" x=\"167.10452\" y=\"83.838553\" style=\"fill: #1f77b4; stroke: #1f77b4\"/>\n     <use xlink:href=\"#md3e0a71b88\" x=\"154.741216\" y=\"74.96609\" style=\"fill: #1f77b4; stroke: #1f77b4\"/>\n     <use xlink:href=\"#md3e0a71b88\" x=\"130.355689\" y=\"61.060451\" style=\"fill: #1f77b4; stroke: #1f77b4\"/>\n     <use xlink:href=\"#md3e0a71b88\" x=\"124.828102\" y=\"58.743891\" style=\"fill: #1f77b4; stroke: #1f77b4\"/>\n     <use xlink:href=\"#md3e0a71b88\" x=\"144.717125\" y=\"72.85297\" style=\"fill: #1f77b4; stroke: #1f77b4\"/>\n     <use xlink:href=\"#md3e0a71b88\" x=\"153.283769\" y=\"77.726514\" style=\"fill: #1f77b4; stroke: #1f77b4\"/>\n     <use xlink:href=\"#md3e0a71b88\" x=\"121.663836\" y=\"76.422088\" style=\"fill: #1f77b4; stroke: #1f77b4\"/>\n     <use xlink:href=\"#md3e0a71b88\" x=\"143.076103\" y=\"80.180563\" style=\"fill: #1f77b4; stroke: #1f77b4\"/>\n     <use xlink:href=\"#md3e0a71b88\" x=\"192.435878\" y=\"96.766434\" style=\"fill: #1f77b4; stroke: #1f77b4\"/>\n     <use xlink:href=\"#md3e0a71b88\" x=\"145.979282\" y=\"75.822078\" style=\"fill: #1f77b4; stroke: #1f77b4\"/>\n     <use xlink:href=\"#md3e0a71b88\" x=\"103.784908\" y=\"57.481734\" style=\"fill: #1f77b4; stroke: #1f77b4\"/>\n     <use xlink:href=\"#md3e0a71b88\" x=\"135.28777\" y=\"61.679331\" style=\"fill: #1f77b4; stroke: #1f77b4\"/>\n     <use xlink:href=\"#md3e0a71b88\" x=\"113.749146\" y=\"56.901413\" style=\"fill: #1f77b4; stroke: #1f77b4\"/>\n     <use xlink:href=\"#md3e0a71b88\" x=\"103.826642\" y=\"49.34238\" style=\"fill: #1f77b4; stroke: #1f77b4\"/>\n     <use xlink:href=\"#md3e0a71b88\" x=\"170.71129\" y=\"103.289515\" style=\"fill: #1f77b4; stroke: #1f77b4\"/>\n     <use xlink:href=\"#md3e0a71b88\" x=\"140.814198\" y=\"86.309121\" style=\"fill: #1f77b4; stroke: #1f77b4\"/>\n     <use xlink:href=\"#md3e0a71b88\" x=\"130.061954\" y=\"64.122464\" style=\"fill: #1f77b4; stroke: #1f77b4\"/>\n     <use xlink:href=\"#md3e0a71b88\" x=\"111.923777\" y=\"59.237867\" style=\"fill: #1f77b4; stroke: #1f77b4\"/>\n     <use xlink:href=\"#md3e0a71b88\" x=\"118.613997\" y=\"62.259659\" style=\"fill: #1f77b4; stroke: #1f77b4\"/>\n     <use xlink:href=\"#md3e0a71b88\" x=\"162.565089\" y=\"89.69021\" style=\"fill: #1f77b4; stroke: #1f77b4\"/>\n     <use xlink:href=\"#md3e0a71b88\" x=\"147.43142\" y=\"60.032362\" style=\"fill: #1f77b4; stroke: #1f77b4\"/>\n     <use xlink:href=\"#md3e0a71b88\" x=\"107.806671\" y=\"42.093369\" style=\"fill: #1f77b4; stroke: #1f77b4\"/>\n     <use xlink:href=\"#md3e0a71b88\" x=\"135.046859\" y=\"63.439423\" style=\"fill: #1f77b4; stroke: #1f77b4\"/>\n     <use xlink:href=\"#md3e0a71b88\" x=\"132.271415\" y=\"84.101768\" style=\"fill: #1f77b4; stroke: #1f77b4\"/>\n     <use xlink:href=\"#md3e0a71b88\" x=\"141.448847\" y=\"72.999831\" style=\"fill: #1f77b4; stroke: #1f77b4\"/>\n     <use xlink:href=\"#md3e0a71b88\" x=\"111.889601\" y=\"66.95322\" style=\"fill: #1f77b4; stroke: #1f77b4\"/>\n     <use xlink:href=\"#md3e0a71b88\" x=\"142.655547\" y=\"76.617447\" style=\"fill: #1f77b4; stroke: #1f77b4\"/>\n     <use xlink:href=\"#md3e0a71b88\" x=\"141.191714\" y=\"57.521778\" style=\"fill: #1f77b4; stroke: #1f77b4\"/>\n     <use xlink:href=\"#md3e0a71b88\" x=\"72.522455\" y=\"22.727589\" style=\"fill: #1f77b4; stroke: #1f77b4\"/>\n     <use xlink:href=\"#md3e0a71b88\" x=\"124.191351\" y=\"65.868705\" style=\"fill: #1f77b4; stroke: #1f77b4\"/>\n     <use xlink:href=\"#md3e0a71b88\" x=\"89.983601\" y=\"47.164023\" style=\"fill: #1f77b4; stroke: #1f77b4\"/>\n     <use xlink:href=\"#md3e0a71b88\" x=\"126.981951\" y=\"81.330999\" style=\"fill: #1f77b4; stroke: #1f77b4\"/>\n     <use xlink:href=\"#md3e0a71b88\" x=\"128.519625\" y=\"66.761073\" style=\"fill: #1f77b4; stroke: #1f77b4\"/>\n     <use xlink:href=\"#md3e0a71b88\" x=\"114.378514\" y=\"53.072591\" style=\"fill: #1f77b4; stroke: #1f77b4\"/>\n     <use xlink:href=\"#md3e0a71b88\" x=\"127.147421\" y=\"74.323158\" style=\"fill: #1f77b4; stroke: #1f77b4\"/>\n     <use xlink:href=\"#md3e0a71b88\" x=\"142.140195\" y=\"59.48741\" style=\"fill: #1f77b4; stroke: #1f77b4\"/>\n     <use xlink:href=\"#md3e0a71b88\" x=\"117.990174\" y=\"63.589577\" style=\"fill: #1f77b4; stroke: #1f77b4\"/>\n     <use xlink:href=\"#md3e0a71b88\" x=\"141.712741\" y=\"62.665889\" style=\"fill: #1f77b4; stroke: #1f77b4\"/>\n     <use xlink:href=\"#md3e0a71b88\" x=\"106.595835\" y=\"46.879655\" style=\"fill: #1f77b4; stroke: #1f77b4\"/>\n     <use xlink:href=\"#md3e0a71b88\" x=\"154.188403\" y=\"97.916843\" style=\"fill: #1f77b4; stroke: #1f77b4\"/>\n     <use xlink:href=\"#md3e0a71b88\" x=\"88.02736\" y=\"56.477576\" style=\"fill: #1f77b4; stroke: #1f77b4\"/>\n     <use xlink:href=\"#md3e0a71b88\" x=\"120.151981\" y=\"66.853759\" style=\"fill: #1f77b4; stroke: #1f77b4\"/>\n     <use xlink:href=\"#md3e0a71b88\" x=\"154.723336\" y=\"74.485321\" style=\"fill: #1f77b4; stroke: #1f77b4\"/>\n     <use xlink:href=\"#md3e0a71b88\" x=\"136.131837\" y=\"80.011189\" style=\"fill: #1f77b4; stroke: #1f77b4\"/>\n     <use xlink:href=\"#md3e0a71b88\" x=\"101.182917\" y=\"56.703296\" style=\"fill: #1f77b4; stroke: #1f77b4\"/>\n     <use xlink:href=\"#md3e0a71b88\" x=\"69.701597\" y=\"36.720895\" style=\"fill: #1f77b4; stroke: #1f77b4\"/>\n     <use xlink:href=\"#md3e0a71b88\" x=\"126.553677\" y=\"67.77052\" style=\"fill: #1f77b4; stroke: #1f77b4\"/>\n     <use xlink:href=\"#md3e0a71b88\" x=\"103.020419\" y=\"55.654214\" style=\"fill: #1f77b4; stroke: #1f77b4\"/>\n     <use xlink:href=\"#md3e0a71b88\" x=\"99.427729\" y=\"34.072852\" style=\"fill: #1f77b4; stroke: #1f77b4\"/>\n     <use xlink:href=\"#md3e0a71b88\" x=\"110.824212\" y=\"54.056679\" style=\"fill: #1f77b4; stroke: #1f77b4\"/>\n     <use xlink:href=\"#md3e0a71b88\" x=\"186.936394\" y=\"106.535871\" style=\"fill: #1f77b4; stroke: #1f77b4\"/>\n     <use xlink:href=\"#md3e0a71b88\" x=\"191.457392\" y=\"107.491482\" style=\"fill: #1f77b4; stroke: #1f77b4\"/>\n     <use xlink:href=\"#md3e0a71b88\" x=\"96.952514\" y=\"67.078302\" style=\"fill: #1f77b4; stroke: #1f77b4\"/>\n     <use xlink:href=\"#md3e0a71b88\" x=\"142.141583\" y=\"74.747651\" style=\"fill: #1f77b4; stroke: #1f77b4\"/>\n     <use xlink:href=\"#md3e0a71b88\" x=\"134.376143\" y=\"70.314854\" style=\"fill: #1f77b4; stroke: #1f77b4\"/>\n     <use xlink:href=\"#md3e0a71b88\" x=\"121.556456\" y=\"65.204705\" style=\"fill: #1f77b4; stroke: #1f77b4\"/>\n     <use xlink:href=\"#md3e0a71b88\" x=\"129.329768\" y=\"37.100584\" style=\"fill: #1f77b4; stroke: #1f77b4\"/>\n     <use xlink:href=\"#md3e0a71b88\" x=\"84.747517\" y=\"41.136302\" style=\"fill: #1f77b4; stroke: #1f77b4\"/>\n     <use xlink:href=\"#md3e0a71b88\" x=\"85.83864\" y=\"63.854093\" style=\"fill: #1f77b4; stroke: #1f77b4\"/>\n     <use xlink:href=\"#md3e0a71b88\" x=\"156.025709\" y=\"69.233088\" style=\"fill: #1f77b4; stroke: #1f77b4\"/>\n     <use xlink:href=\"#md3e0a71b88\" x=\"112.131793\" y=\"66.776357\" style=\"fill: #1f77b4; stroke: #1f77b4\"/>\n     <use xlink:href=\"#md3e0a71b88\" x=\"129.526855\" y=\"54.747076\" style=\"fill: #1f77b4; stroke: #1f77b4\"/>\n     <use xlink:href=\"#md3e0a71b88\" x=\"141.599675\" y=\"76.488032\" style=\"fill: #1f77b4; stroke: #1f77b4\"/>\n     <use xlink:href=\"#md3e0a71b88\" x=\"104.929939\" y=\"61.177203\" style=\"fill: #1f77b4; stroke: #1f77b4\"/>\n     <use xlink:href=\"#md3e0a71b88\" x=\"144.099025\" y=\"84.740752\" style=\"fill: #1f77b4; stroke: #1f77b4\"/>\n     <use xlink:href=\"#md3e0a71b88\" x=\"134.965891\" y=\"81.523039\" style=\"fill: #1f77b4; stroke: #1f77b4\"/>\n     <use xlink:href=\"#md3e0a71b88\" x=\"104.686028\" y=\"49.685425\" style=\"fill: #1f77b4; stroke: #1f77b4\"/>\n     <use xlink:href=\"#md3e0a71b88\" x=\"110.537927\" y=\"45.018312\" style=\"fill: #1f77b4; stroke: #1f77b4\"/>\n     <use xlink:href=\"#md3e0a71b88\" x=\"147.343809\" y=\"74.196718\" style=\"fill: #1f77b4; stroke: #1f77b4\"/>\n     <use xlink:href=\"#md3e0a71b88\" x=\"155.923254\" y=\"77.275128\" style=\"fill: #1f77b4; stroke: #1f77b4\"/>\n     <use xlink:href=\"#md3e0a71b88\" x=\"132.818181\" y=\"68.545555\" style=\"fill: #1f77b4; stroke: #1f77b4\"/>\n     <use xlink:href=\"#md3e0a71b88\" x=\"141.576526\" y=\"63.545168\" style=\"fill: #1f77b4; stroke: #1f77b4\"/>\n     <use xlink:href=\"#md3e0a71b88\" x=\"110.327601\" y=\"53.990932\" style=\"fill: #1f77b4; stroke: #1f77b4\"/>\n     <use xlink:href=\"#md3e0a71b88\" x=\"110.805297\" y=\"48.706679\" style=\"fill: #1f77b4; stroke: #1f77b4\"/>\n     <use xlink:href=\"#md3e0a71b88\" x=\"100.202266\" y=\"51.070308\" style=\"fill: #1f77b4; stroke: #1f77b4\"/>\n     <use xlink:href=\"#md3e0a71b88\" x=\"122.759336\" y=\"81.00356\" style=\"fill: #1f77b4; stroke: #1f77b4\"/>\n     <use xlink:href=\"#md3e0a71b88\" x=\"142.40824\" y=\"58.702045\" style=\"fill: #1f77b4; stroke: #1f77b4\"/>\n     <use xlink:href=\"#md3e0a71b88\" x=\"108.97761\" y=\"49.261946\" style=\"fill: #1f77b4; stroke: #1f77b4\"/>\n     <use xlink:href=\"#md3e0a71b88\" x=\"151.551712\" y=\"58.382464\" style=\"fill: #1f77b4; stroke: #1f77b4\"/>\n     <use xlink:href=\"#md3e0a71b88\" x=\"95.872101\" y=\"60.113952\" style=\"fill: #1f77b4; stroke: #1f77b4\"/>\n     <use xlink:href=\"#md3e0a71b88\" x=\"140.516656\" y=\"60.794868\" style=\"fill: #1f77b4; stroke: #1f77b4\"/>\n     <use xlink:href=\"#md3e0a71b88\" x=\"95.610225\" y=\"45.06449\" style=\"fill: #1f77b4; stroke: #1f77b4\"/>\n     <use xlink:href=\"#md3e0a71b88\" x=\"133.997443\" y=\"55.926608\" style=\"fill: #1f77b4; stroke: #1f77b4\"/>\n     <use xlink:href=\"#md3e0a71b88\" x=\"79.999707\" y=\"60.680404\" style=\"fill: #1f77b4; stroke: #1f77b4\"/>\n     <use xlink:href=\"#md3e0a71b88\" x=\"109.603811\" y=\"71.769753\" style=\"fill: #1f77b4; stroke: #1f77b4\"/>\n     <use xlink:href=\"#md3e0a71b88\" x=\"165.230548\" y=\"86.582146\" style=\"fill: #1f77b4; stroke: #1f77b4\"/>\n     <use xlink:href=\"#md3e0a71b88\" x=\"122.049665\" y=\"65.459308\" style=\"fill: #1f77b4; stroke: #1f77b4\"/>\n     <use xlink:href=\"#md3e0a71b88\" x=\"93.279273\" y=\"55.433942\" style=\"fill: #1f77b4; stroke: #1f77b4\"/>\n     <use xlink:href=\"#md3e0a71b88\" x=\"156.908319\" y=\"96.97698\" style=\"fill: #1f77b4; stroke: #1f77b4\"/>\n     <use xlink:href=\"#md3e0a71b88\" x=\"122.776936\" y=\"64.967925\" style=\"fill: #1f77b4; stroke: #1f77b4\"/>\n     <use xlink:href=\"#md3e0a71b88\" x=\"122.104794\" y=\"67.302229\" style=\"fill: #1f77b4; stroke: #1f77b4\"/>\n     <use xlink:href=\"#md3e0a71b88\" x=\"172.015692\" y=\"80.435529\" style=\"fill: #1f77b4; stroke: #1f77b4\"/>\n     <use xlink:href=\"#md3e0a71b88\" x=\"124.001758\" y=\"65.188733\" style=\"fill: #1f77b4; stroke: #1f77b4\"/>\n     <use xlink:href=\"#md3e0a71b88\" x=\"143.873248\" y=\"71.217637\" style=\"fill: #1f77b4; stroke: #1f77b4\"/>\n     <use xlink:href=\"#md3e0a71b88\" x=\"126.051069\" y=\"71.017866\" style=\"fill: #1f77b4; stroke: #1f77b4\"/>\n     <use xlink:href=\"#md3e0a71b88\" x=\"88.467426\" y=\"43.762817\" style=\"fill: #1f77b4; stroke: #1f77b4\"/>\n     <use xlink:href=\"#md3e0a71b88\" x=\"136.999587\" y=\"56.944361\" style=\"fill: #1f77b4; stroke: #1f77b4\"/>\n     <use xlink:href=\"#md3e0a71b88\" x=\"101.083719\" y=\"68.644257\" style=\"fill: #1f77b4; stroke: #1f77b4\"/>\n     <use xlink:href=\"#md3e0a71b88\" x=\"132.210243\" y=\"74.494831\" style=\"fill: #1f77b4; stroke: #1f77b4\"/>\n     <use xlink:href=\"#md3e0a71b88\" x=\"132.528984\" y=\"71.556052\" style=\"fill: #1f77b4; stroke: #1f77b4\"/>\n     <use xlink:href=\"#md3e0a71b88\" x=\"126.450183\" y=\"74.875852\" style=\"fill: #1f77b4; stroke: #1f77b4\"/>\n     <use xlink:href=\"#md3e0a71b88\" x=\"110.204787\" y=\"59.298745\" style=\"fill: #1f77b4; stroke: #1f77b4\"/>\n     <use xlink:href=\"#md3e0a71b88\" x=\"138.183957\" y=\"85.847334\" style=\"fill: #1f77b4; stroke: #1f77b4\"/>\n     <use xlink:href=\"#md3e0a71b88\" x=\"109.113774\" y=\"66.135825\" style=\"fill: #1f77b4; stroke: #1f77b4\"/>\n     <use xlink:href=\"#md3e0a71b88\" x=\"135.622319\" y=\"70.894884\" style=\"fill: #1f77b4; stroke: #1f77b4\"/>\n     <use xlink:href=\"#md3e0a71b88\" x=\"117.120742\" y=\"53.520291\" style=\"fill: #1f77b4; stroke: #1f77b4\"/>\n     <use xlink:href=\"#md3e0a71b88\" x=\"134.180341\" y=\"65.842295\" style=\"fill: #1f77b4; stroke: #1f77b4\"/>\n     <use xlink:href=\"#md3e0a71b88\" x=\"88.90954\" y=\"40.664825\" style=\"fill: #1f77b4; stroke: #1f77b4\"/>\n     <use xlink:href=\"#md3e0a71b88\" x=\"127.436122\" y=\"74.889928\" style=\"fill: #1f77b4; stroke: #1f77b4\"/>\n     <use xlink:href=\"#md3e0a71b88\" x=\"62.370729\" y=\"38.979561\" style=\"fill: #1f77b4; stroke: #1f77b4\"/>\n     <use xlink:href=\"#md3e0a71b88\" x=\"92.372244\" y=\"56.030524\" style=\"fill: #1f77b4; stroke: #1f77b4\"/>\n     <use xlink:href=\"#md3e0a71b88\" x=\"157.120998\" y=\"68.304888\" style=\"fill: #1f77b4; stroke: #1f77b4\"/>\n     <use xlink:href=\"#md3e0a71b88\" x=\"136.071057\" y=\"66.494369\" style=\"fill: #1f77b4; stroke: #1f77b4\"/>\n     <use xlink:href=\"#md3e0a71b88\" x=\"122.760858\" y=\"46.897949\" style=\"fill: #1f77b4; stroke: #1f77b4\"/>\n     <use xlink:href=\"#md3e0a71b88\" x=\"119.347151\" y=\"63.681018\" style=\"fill: #1f77b4; stroke: #1f77b4\"/>\n     <use xlink:href=\"#md3e0a71b88\" x=\"120.515605\" y=\"68.090394\" style=\"fill: #1f77b4; stroke: #1f77b4\"/>\n     <use xlink:href=\"#md3e0a71b88\" x=\"97.769783\" y=\"46.662079\" style=\"fill: #1f77b4; stroke: #1f77b4\"/>\n     <use xlink:href=\"#md3e0a71b88\" x=\"96.456141\" y=\"45.80281\" style=\"fill: #1f77b4; stroke: #1f77b4\"/>\n     <use xlink:href=\"#md3e0a71b88\" x=\"141.523109\" y=\"68.423854\" style=\"fill: #1f77b4; stroke: #1f77b4\"/>\n     <use xlink:href=\"#md3e0a71b88\" x=\"130.80896\" y=\"68.944768\" style=\"fill: #1f77b4; stroke: #1f77b4\"/>\n     <use xlink:href=\"#md3e0a71b88\" x=\"124.525376\" y=\"70.684742\" style=\"fill: #1f77b4; stroke: #1f77b4\"/>\n     <use xlink:href=\"#md3e0a71b88\" x=\"123.63663\" y=\"66.109112\" style=\"fill: #1f77b4; stroke: #1f77b4\"/>\n     <use xlink:href=\"#md3e0a71b88\" x=\"178.388273\" y=\"93.022136\" style=\"fill: #1f77b4; stroke: #1f77b4\"/>\n     <use xlink:href=\"#md3e0a71b88\" x=\"154.9449\" y=\"91.559196\" style=\"fill: #1f77b4; stroke: #1f77b4\"/>\n     <use xlink:href=\"#md3e0a71b88\" x=\"90.709066\" y=\"41.759392\" style=\"fill: #1f77b4; stroke: #1f77b4\"/>\n     <use xlink:href=\"#md3e0a71b88\" x=\"120.144359\" y=\"49.816407\" style=\"fill: #1f77b4; stroke: #1f77b4\"/>\n     <use xlink:href=\"#md3e0a71b88\" x=\"142.575075\" y=\"70.205138\" style=\"fill: #1f77b4; stroke: #1f77b4\"/>\n     <use xlink:href=\"#md3e0a71b88\" x=\"118.88022\" y=\"51.040154\" style=\"fill: #1f77b4; stroke: #1f77b4\"/>\n     <use xlink:href=\"#md3e0a71b88\" x=\"90.130719\" y=\"44.237971\" style=\"fill: #1f77b4; stroke: #1f77b4\"/>\n     <use xlink:href=\"#md3e0a71b88\" x=\"139.532345\" y=\"62.948399\" style=\"fill: #1f77b4; stroke: #1f77b4\"/>\n     <use xlink:href=\"#md3e0a71b88\" x=\"106.853622\" y=\"44.811006\" style=\"fill: #1f77b4; stroke: #1f77b4\"/>\n     <use xlink:href=\"#md3e0a71b88\" x=\"141.01229\" y=\"50.254676\" style=\"fill: #1f77b4; stroke: #1f77b4\"/>\n     <use xlink:href=\"#md3e0a71b88\" x=\"124.16766\" y=\"75.907685\" style=\"fill: #1f77b4; stroke: #1f77b4\"/>\n     <use xlink:href=\"#md3e0a71b88\" x=\"183.030271\" y=\"104.42253\" style=\"fill: #1f77b4; stroke: #1f77b4\"/>\n     <use xlink:href=\"#md3e0a71b88\" x=\"134.910175\" y=\"69.144006\" style=\"fill: #1f77b4; stroke: #1f77b4\"/>\n     <use xlink:href=\"#md3e0a71b88\" x=\"123.241433\" y=\"53.22187\" style=\"fill: #1f77b4; stroke: #1f77b4\"/>\n     <use xlink:href=\"#md3e0a71b88\" x=\"145.480021\" y=\"62.414992\" style=\"fill: #1f77b4; stroke: #1f77b4\"/>\n     <use xlink:href=\"#md3e0a71b88\" x=\"76.840645\" y=\"49.366379\" style=\"fill: #1f77b4; stroke: #1f77b4\"/>\n     <use xlink:href=\"#md3e0a71b88\" x=\"130.369873\" y=\"65.211557\" style=\"fill: #1f77b4; stroke: #1f77b4\"/>\n     <use xlink:href=\"#md3e0a71b88\" x=\"173.426185\" y=\"93.49414\" style=\"fill: #1f77b4; stroke: #1f77b4\"/>\n     <use xlink:href=\"#md3e0a71b88\" x=\"102.439412\" y=\"52.649494\" style=\"fill: #1f77b4; stroke: #1f77b4\"/>\n     <use xlink:href=\"#md3e0a71b88\" x=\"85.944837\" y=\"40.861911\" style=\"fill: #1f77b4; stroke: #1f77b4\"/>\n     <use xlink:href=\"#md3e0a71b88\" x=\"173.536297\" y=\"93.616171\" style=\"fill: #1f77b4; stroke: #1f77b4\"/>\n     <use xlink:href=\"#md3e0a71b88\" x=\"168.53903\" y=\"95.371163\" style=\"fill: #1f77b4; stroke: #1f77b4\"/>\n     <use xlink:href=\"#md3e0a71b88\" x=\"126.924896\" y=\"60.394308\" style=\"fill: #1f77b4; stroke: #1f77b4\"/>\n     <use xlink:href=\"#md3e0a71b88\" x=\"154.816911\" y=\"71.853673\" style=\"fill: #1f77b4; stroke: #1f77b4\"/>\n     <use xlink:href=\"#md3e0a71b88\" x=\"136.109344\" y=\"47.553401\" style=\"fill: #1f77b4; stroke: #1f77b4\"/>\n     <use xlink:href=\"#md3e0a71b88\" x=\"150.654538\" y=\"96.083051\" style=\"fill: #1f77b4; stroke: #1f77b4\"/>\n     <use xlink:href=\"#md3e0a71b88\" x=\"129.983403\" y=\"57.949581\" style=\"fill: #1f77b4; stroke: #1f77b4\"/>\n     <use xlink:href=\"#md3e0a71b88\" x=\"134.485812\" y=\"87.670745\" style=\"fill: #1f77b4; stroke: #1f77b4\"/>\n     <use xlink:href=\"#md3e0a71b88\" x=\"133.999566\" y=\"76.102184\" style=\"fill: #1f77b4; stroke: #1f77b4\"/>\n     <use xlink:href=\"#md3e0a71b88\" x=\"163.511791\" y=\"101.11994\" style=\"fill: #1f77b4; stroke: #1f77b4\"/>\n     <use xlink:href=\"#md3e0a71b88\" x=\"149.054452\" y=\"81.281118\" style=\"fill: #1f77b4; stroke: #1f77b4\"/>\n     <use xlink:href=\"#md3e0a71b88\" x=\"101.701346\" y=\"53.441152\" style=\"fill: #1f77b4; stroke: #1f77b4\"/>\n     <use xlink:href=\"#md3e0a71b88\" x=\"171.993937\" y=\"77.664852\" style=\"fill: #1f77b4; stroke: #1f77b4\"/>\n     <use xlink:href=\"#md3e0a71b88\" x=\"149.570497\" y=\"66.614227\" style=\"fill: #1f77b4; stroke: #1f77b4\"/>\n     <use xlink:href=\"#md3e0a71b88\" x=\"118.84162\" y=\"68.854879\" style=\"fill: #1f77b4; stroke: #1f77b4\"/>\n     <use xlink:href=\"#md3e0a71b88\" x=\"113.76641\" y=\"68.187314\" style=\"fill: #1f77b4; stroke: #1f77b4\"/>\n     <use xlink:href=\"#md3e0a71b88\" x=\"171.90597\" y=\"78.689271\" style=\"fill: #1f77b4; stroke: #1f77b4\"/>\n     <use xlink:href=\"#md3e0a71b88\" x=\"173.264621\" y=\"81.148938\" style=\"fill: #1f77b4; stroke: #1f77b4\"/>\n     <use xlink:href=\"#md3e0a71b88\" x=\"177.286488\" y=\"104.517513\" style=\"fill: #1f77b4; stroke: #1f77b4\"/>\n     <use xlink:href=\"#md3e0a71b88\" x=\"129.198222\" y=\"78.980704\" style=\"fill: #1f77b4; stroke: #1f77b4\"/>\n     <use xlink:href=\"#md3e0a71b88\" x=\"185.964658\" y=\"87.282172\" style=\"fill: #1f77b4; stroke: #1f77b4\"/>\n     <use xlink:href=\"#md3e0a71b88\" x=\"124.608083\" y=\"63.302344\" style=\"fill: #1f77b4; stroke: #1f77b4\"/>\n     <use xlink:href=\"#md3e0a71b88\" x=\"117.356031\" y=\"64.595978\" style=\"fill: #1f77b4; stroke: #1f77b4\"/>\n     <use xlink:href=\"#md3e0a71b88\" x=\"148.761442\" y=\"77.794823\" style=\"fill: #1f77b4; stroke: #1f77b4\"/>\n     <use xlink:href=\"#md3e0a71b88\" x=\"91.770397\" y=\"37.529421\" style=\"fill: #1f77b4; stroke: #1f77b4\"/>\n     <use xlink:href=\"#md3e0a71b88\" x=\"170.269648\" y=\"102.007574\" style=\"fill: #1f77b4; stroke: #1f77b4\"/>\n     <use xlink:href=\"#md3e0a71b88\" x=\"155.03531\" y=\"79.972722\" style=\"fill: #1f77b4; stroke: #1f77b4\"/>\n     <use xlink:href=\"#md3e0a71b88\" x=\"106.56452\" y=\"62.183911\" style=\"fill: #1f77b4; stroke: #1f77b4\"/>\n     <use xlink:href=\"#md3e0a71b88\" x=\"158.630303\" y=\"78.864848\" style=\"fill: #1f77b4; stroke: #1f77b4\"/>\n     <use xlink:href=\"#md3e0a71b88\" x=\"172.620009\" y=\"100.816228\" style=\"fill: #1f77b4; stroke: #1f77b4\"/>\n     <use xlink:href=\"#md3e0a71b88\" x=\"130.273213\" y=\"71.986569\" style=\"fill: #1f77b4; stroke: #1f77b4\"/>\n     <use xlink:href=\"#md3e0a71b88\" x=\"160.935632\" y=\"78.101834\" style=\"fill: #1f77b4; stroke: #1f77b4\"/>\n     <use xlink:href=\"#md3e0a71b88\" x=\"155.960046\" y=\"79.900437\" style=\"fill: #1f77b4; stroke: #1f77b4\"/>\n     <use xlink:href=\"#md3e0a71b88\" x=\"103.710991\" y=\"60.221423\" style=\"fill: #1f77b4; stroke: #1f77b4\"/>\n     <use xlink:href=\"#md3e0a71b88\" x=\"105.691056\" y=\"62.811598\" style=\"fill: #1f77b4; stroke: #1f77b4\"/>\n     <use xlink:href=\"#md3e0a71b88\" x=\"96.166871\" y=\"52.145513\" style=\"fill: #1f77b4; stroke: #1f77b4\"/>\n     <use xlink:href=\"#md3e0a71b88\" x=\"111.113813\" y=\"68.570883\" style=\"fill: #1f77b4; stroke: #1f77b4\"/>\n     <use xlink:href=\"#md3e0a71b88\" x=\"85.816956\" y=\"41.623712\" style=\"fill: #1f77b4; stroke: #1f77b4\"/>\n     <use xlink:href=\"#md3e0a71b88\" x=\"143.338248\" y=\"78.62161\" style=\"fill: #1f77b4; stroke: #1f77b4\"/>\n     <use xlink:href=\"#md3e0a71b88\" x=\"153.641423\" y=\"82.181884\" style=\"fill: #1f77b4; stroke: #1f77b4\"/>\n     <use xlink:href=\"#md3e0a71b88\" x=\"177.985098\" y=\"85.796619\" style=\"fill: #1f77b4; stroke: #1f77b4\"/>\n     <use xlink:href=\"#md3e0a71b88\" x=\"63.103297\" y=\"21.219432\" style=\"fill: #1f77b4; stroke: #1f77b4\"/>\n     <use xlink:href=\"#md3e0a71b88\" x=\"130.498298\" y=\"65.271254\" style=\"fill: #1f77b4; stroke: #1f77b4\"/>\n     <use xlink:href=\"#md3e0a71b88\" x=\"83.722367\" y=\"43.416959\" style=\"fill: #1f77b4; stroke: #1f77b4\"/>\n     <use xlink:href=\"#md3e0a71b88\" x=\"122.590019\" y=\"78.014529\" style=\"fill: #1f77b4; stroke: #1f77b4\"/>\n     <use xlink:href=\"#md3e0a71b88\" x=\"86.83604\" y=\"47.886949\" style=\"fill: #1f77b4; stroke: #1f77b4\"/>\n     <use xlink:href=\"#md3e0a71b88\" x=\"133.876993\" y=\"74.273786\" style=\"fill: #1f77b4; stroke: #1f77b4\"/>\n     <use xlink:href=\"#md3e0a71b88\" x=\"142.214631\" y=\"76.77091\" style=\"fill: #1f77b4; stroke: #1f77b4\"/>\n     <use xlink:href=\"#md3e0a71b88\" x=\"144.211934\" y=\"84.0085\" style=\"fill: #1f77b4; stroke: #1f77b4\"/>\n     <use xlink:href=\"#md3e0a71b88\" x=\"125.910002\" y=\"66.700456\" style=\"fill: #1f77b4; stroke: #1f77b4\"/>\n     <use xlink:href=\"#md3e0a71b88\" x=\"113.037404\" y=\"60.470244\" style=\"fill: #1f77b4; stroke: #1f77b4\"/>\n     <use xlink:href=\"#md3e0a71b88\" x=\"138.498502\" y=\"63.952843\" style=\"fill: #1f77b4; stroke: #1f77b4\"/>\n     <use xlink:href=\"#md3e0a71b88\" x=\"116.06939\" y=\"56.588599\" style=\"fill: #1f77b4; stroke: #1f77b4\"/>\n     <use xlink:href=\"#md3e0a71b88\" x=\"170.474722\" y=\"69.219014\" style=\"fill: #1f77b4; stroke: #1f77b4\"/>\n     <use xlink:href=\"#md3e0a71b88\" x=\"111.589477\" y=\"73.459014\" style=\"fill: #1f77b4; stroke: #1f77b4\"/>\n     <use xlink:href=\"#md3e0a71b88\" x=\"177.822968\" y=\"93.740339\" style=\"fill: #1f77b4; stroke: #1f77b4\"/>\n     <use xlink:href=\"#md3e0a71b88\" x=\"62.49895\" y=\"35.584706\" style=\"fill: #1f77b4; stroke: #1f77b4\"/>\n     <use xlink:href=\"#md3e0a71b88\" x=\"86.665995\" y=\"42.860144\" style=\"fill: #1f77b4; stroke: #1f77b4\"/>\n     <use xlink:href=\"#md3e0a71b88\" x=\"108.827381\" y=\"49.345397\" style=\"fill: #1f77b4; stroke: #1f77b4\"/>\n     <use xlink:href=\"#md3e0a71b88\" x=\"96.251437\" y=\"56.645886\" style=\"fill: #1f77b4; stroke: #1f77b4\"/>\n     <use xlink:href=\"#md3e0a71b88\" x=\"149.850348\" y=\"77.923894\" style=\"fill: #1f77b4; stroke: #1f77b4\"/>\n     <use xlink:href=\"#md3e0a71b88\" x=\"120.026832\" y=\"79.546134\" style=\"fill: #1f77b4; stroke: #1f77b4\"/>\n     <use xlink:href=\"#md3e0a71b88\" x=\"111.856098\" y=\"63.693343\" style=\"fill: #1f77b4; stroke: #1f77b4\"/>\n     <use xlink:href=\"#md3e0a71b88\" x=\"136.61477\" y=\"69.675271\" style=\"fill: #1f77b4; stroke: #1f77b4\"/>\n     <use xlink:href=\"#md3e0a71b88\" x=\"157.626831\" y=\"72.42098\" style=\"fill: #1f77b4; stroke: #1f77b4\"/>\n     <use xlink:href=\"#md3e0a71b88\" x=\"97.555229\" y=\"70.13883\" style=\"fill: #1f77b4; stroke: #1f77b4\"/>\n     <use xlink:href=\"#md3e0a71b88\" x=\"70.342762\" y=\"45.14538\" style=\"fill: #1f77b4; stroke: #1f77b4\"/>\n     <use xlink:href=\"#md3e0a71b88\" x=\"114.725999\" y=\"58.404387\" style=\"fill: #1f77b4; stroke: #1f77b4\"/>\n     <use xlink:href=\"#md3e0a71b88\" x=\"125.569859\" y=\"53.319635\" style=\"fill: #1f77b4; stroke: #1f77b4\"/>\n     <use xlink:href=\"#md3e0a71b88\" x=\"137.160608\" y=\"83.638668\" style=\"fill: #1f77b4; stroke: #1f77b4\"/>\n     <use xlink:href=\"#md3e0a71b88\" x=\"145.196446\" y=\"89.206361\" style=\"fill: #1f77b4; stroke: #1f77b4\"/>\n     <use xlink:href=\"#md3e0a71b88\" x=\"115.218666\" y=\"40.027584\" style=\"fill: #1f77b4; stroke: #1f77b4\"/>\n     <use xlink:href=\"#md3e0a71b88\" x=\"140.12689\" y=\"62.848746\" style=\"fill: #1f77b4; stroke: #1f77b4\"/>\n     <use xlink:href=\"#md3e0a71b88\" x=\"159.273235\" y=\"77.631658\" style=\"fill: #1f77b4; stroke: #1f77b4\"/>\n     <use xlink:href=\"#md3e0a71b88\" x=\"122.403707\" y=\"60.676532\" style=\"fill: #1f77b4; stroke: #1f77b4\"/>\n     <use xlink:href=\"#md3e0a71b88\" x=\"148.672106\" y=\"81.742033\" style=\"fill: #1f77b4; stroke: #1f77b4\"/>\n     <use xlink:href=\"#md3e0a71b88\" x=\"100.951395\" y=\"60.51925\" style=\"fill: #1f77b4; stroke: #1f77b4\"/>\n     <use xlink:href=\"#md3e0a71b88\" x=\"186.699499\" y=\"94.812299\" style=\"fill: #1f77b4; stroke: #1f77b4\"/>\n     <use xlink:href=\"#md3e0a71b88\" x=\"96.917603\" y=\"46.362613\" style=\"fill: #1f77b4; stroke: #1f77b4\"/>\n     <use xlink:href=\"#md3e0a71b88\" x=\"113.08694\" y=\"55.291674\" style=\"fill: #1f77b4; stroke: #1f77b4\"/>\n     <use xlink:href=\"#md3e0a71b88\" x=\"135.608384\" y=\"62.127843\" style=\"fill: #1f77b4; stroke: #1f77b4\"/>\n     <use xlink:href=\"#md3e0a71b88\" x=\"131.996334\" y=\"69.079194\" style=\"fill: #1f77b4; stroke: #1f77b4\"/>\n     <use xlink:href=\"#md3e0a71b88\" x=\"170.263992\" y=\"83.836129\" style=\"fill: #1f77b4; stroke: #1f77b4\"/>\n     <use xlink:href=\"#md3e0a71b88\" x=\"123.40281\" y=\"43.050558\" style=\"fill: #1f77b4; stroke: #1f77b4\"/>\n     <use xlink:href=\"#md3e0a71b88\" x=\"103.691623\" y=\"46.459105\" style=\"fill: #1f77b4; stroke: #1f77b4\"/>\n     <use xlink:href=\"#md3e0a71b88\" x=\"185.469749\" y=\"108.520916\" style=\"fill: #1f77b4; stroke: #1f77b4\"/>\n     <use xlink:href=\"#md3e0a71b88\" x=\"166.413458\" y=\"80.247079\" style=\"fill: #1f77b4; stroke: #1f77b4\"/>\n     <use xlink:href=\"#md3e0a71b88\" x=\"151.090105\" y=\"86.385268\" style=\"fill: #1f77b4; stroke: #1f77b4\"/>\n     <use xlink:href=\"#md3e0a71b88\" x=\"132.870049\" y=\"68.318194\" style=\"fill: #1f77b4; stroke: #1f77b4\"/>\n     <use xlink:href=\"#md3e0a71b88\" x=\"173.575662\" y=\"84.030774\" style=\"fill: #1f77b4; stroke: #1f77b4\"/>\n     <use xlink:href=\"#md3e0a71b88\" x=\"155.674165\" y=\"82.669455\" style=\"fill: #1f77b4; stroke: #1f77b4\"/>\n     <use xlink:href=\"#md3e0a71b88\" x=\"138.430902\" y=\"86.1988\" style=\"fill: #1f77b4; stroke: #1f77b4\"/>\n     <use xlink:href=\"#md3e0a71b88\" x=\"121.318336\" y=\"60.847574\" style=\"fill: #1f77b4; stroke: #1f77b4\"/>\n     <use xlink:href=\"#md3e0a71b88\" x=\"163.928733\" y=\"77.236453\" style=\"fill: #1f77b4; stroke: #1f77b4\"/>\n     <use xlink:href=\"#md3e0a71b88\" x=\"122.722885\" y=\"69.341031\" style=\"fill: #1f77b4; stroke: #1f77b4\"/>\n     <use xlink:href=\"#md3e0a71b88\" x=\"118.729563\" y=\"63.286658\" style=\"fill: #1f77b4; stroke: #1f77b4\"/>\n     <use xlink:href=\"#md3e0a71b88\" x=\"124.464562\" y=\"55.637213\" style=\"fill: #1f77b4; stroke: #1f77b4\"/>\n     <use xlink:href=\"#md3e0a71b88\" x=\"161.995825\" y=\"80.250384\" style=\"fill: #1f77b4; stroke: #1f77b4\"/>\n     <use xlink:href=\"#md3e0a71b88\" x=\"105.545103\" y=\"58.542722\" style=\"fill: #1f77b4; stroke: #1f77b4\"/>\n     <use xlink:href=\"#md3e0a71b88\" x=\"164.92086\" y=\"88.200598\" style=\"fill: #1f77b4; stroke: #1f77b4\"/>\n     <use xlink:href=\"#md3e0a71b88\" x=\"149.265864\" y=\"68.190636\" style=\"fill: #1f77b4; stroke: #1f77b4\"/>\n     <use xlink:href=\"#md3e0a71b88\" x=\"72.459331\" y=\"33.737068\" style=\"fill: #1f77b4; stroke: #1f77b4\"/>\n     <use xlink:href=\"#md3e0a71b88\" x=\"100.673814\" y=\"59.682671\" style=\"fill: #1f77b4; stroke: #1f77b4\"/>\n     <use xlink:href=\"#md3e0a71b88\" x=\"137.85148\" y=\"65.597551\" style=\"fill: #1f77b4; stroke: #1f77b4\"/>\n     <use xlink:href=\"#md3e0a71b88\" x=\"166.831343\" y=\"86.875354\" style=\"fill: #1f77b4; stroke: #1f77b4\"/>\n     <use xlink:href=\"#md3e0a71b88\" x=\"111.621122\" y=\"58.112808\" style=\"fill: #1f77b4; stroke: #1f77b4\"/>\n     <use xlink:href=\"#md3e0a71b88\" x=\"155.546359\" y=\"93.23247\" style=\"fill: #1f77b4; stroke: #1f77b4\"/>\n     <use xlink:href=\"#md3e0a71b88\" x=\"151.76097\" y=\"86.759595\" style=\"fill: #1f77b4; stroke: #1f77b4\"/>\n     <use xlink:href=\"#md3e0a71b88\" x=\"121.609985\" y=\"69.370471\" style=\"fill: #1f77b4; stroke: #1f77b4\"/>\n     <use xlink:href=\"#md3e0a71b88\" x=\"61.964809\" y=\"29.781709\" style=\"fill: #1f77b4; stroke: #1f77b4\"/>\n     <use xlink:href=\"#md3e0a71b88\" x=\"105.215185\" y=\"52.67878\" style=\"fill: #1f77b4; stroke: #1f77b4\"/>\n     <use xlink:href=\"#md3e0a71b88\" x=\"101.990207\" y=\"48.725866\" style=\"fill: #1f77b4; stroke: #1f77b4\"/>\n     <use xlink:href=\"#md3e0a71b88\" x=\"179.106395\" y=\"93.318244\" style=\"fill: #1f77b4; stroke: #1f77b4\"/>\n     <use xlink:href=\"#md3e0a71b88\" x=\"167.636566\" y=\"91.950569\" style=\"fill: #1f77b4; stroke: #1f77b4\"/>\n     <use xlink:href=\"#md3e0a71b88\" x=\"145.821318\" y=\"67.548312\" style=\"fill: #1f77b4; stroke: #1f77b4\"/>\n     <use xlink:href=\"#md3e0a71b88\" x=\"157.14537\" y=\"74.88742\" style=\"fill: #1f77b4; stroke: #1f77b4\"/>\n     <use xlink:href=\"#md3e0a71b88\" x=\"173.487891\" y=\"86.610126\" style=\"fill: #1f77b4; stroke: #1f77b4\"/>\n     <use xlink:href=\"#md3e0a71b88\" x=\"137.508264\" y=\"69.144012\" style=\"fill: #1f77b4; stroke: #1f77b4\"/>\n     <use xlink:href=\"#md3e0a71b88\" x=\"107.849772\" y=\"51.888884\" style=\"fill: #1f77b4; stroke: #1f77b4\"/>\n     <use xlink:href=\"#md3e0a71b88\" x=\"92.325528\" y=\"41.421234\" style=\"fill: #1f77b4; stroke: #1f77b4\"/>\n     <use xlink:href=\"#md3e0a71b88\" x=\"168.890168\" y=\"89.949945\" style=\"fill: #1f77b4; stroke: #1f77b4\"/>\n     <use xlink:href=\"#md3e0a71b88\" x=\"175.075078\" y=\"94.630318\" style=\"fill: #1f77b4; stroke: #1f77b4\"/>\n     <use xlink:href=\"#md3e0a71b88\" x=\"134.0233\" y=\"58.528978\" style=\"fill: #1f77b4; stroke: #1f77b4\"/>\n     <use xlink:href=\"#md3e0a71b88\" x=\"120.601974\" y=\"78.482399\" style=\"fill: #1f77b4; stroke: #1f77b4\"/>\n     <use xlink:href=\"#md3e0a71b88\" x=\"124.360921\" y=\"75.896187\" style=\"fill: #1f77b4; stroke: #1f77b4\"/>\n     <use xlink:href=\"#md3e0a71b88\" x=\"145.183971\" y=\"60.771294\" style=\"fill: #1f77b4; stroke: #1f77b4\"/>\n     <use xlink:href=\"#md3e0a71b88\" x=\"137.710977\" y=\"85.400121\" style=\"fill: #1f77b4; stroke: #1f77b4\"/>\n     <use xlink:href=\"#md3e0a71b88\" x=\"112.002057\" y=\"57.362643\" style=\"fill: #1f77b4; stroke: #1f77b4\"/>\n     <use xlink:href=\"#md3e0a71b88\" x=\"107.060133\" y=\"54.301553\" style=\"fill: #1f77b4; stroke: #1f77b4\"/>\n     <use xlink:href=\"#md3e0a71b88\" x=\"86.260066\" y=\"30.433589\" style=\"fill: #1f77b4; stroke: #1f77b4\"/>\n     <use xlink:href=\"#md3e0a71b88\" x=\"177.324184\" y=\"106.412709\" style=\"fill: #1f77b4; stroke: #1f77b4\"/>\n     <use xlink:href=\"#md3e0a71b88\" x=\"127.10505\" y=\"61.135645\" style=\"fill: #1f77b4; stroke: #1f77b4\"/>\n     <use xlink:href=\"#md3e0a71b88\" x=\"89.7987\" y=\"47.221632\" style=\"fill: #1f77b4; stroke: #1f77b4\"/>\n     <use xlink:href=\"#md3e0a71b88\" x=\"141.581774\" y=\"73.508788\" style=\"fill: #1f77b4; stroke: #1f77b4\"/>\n     <use xlink:href=\"#md3e0a71b88\" x=\"99.379075\" y=\"59.737734\" style=\"fill: #1f77b4; stroke: #1f77b4\"/>\n     <use xlink:href=\"#md3e0a71b88\" x=\"121.020853\" y=\"70.370271\" style=\"fill: #1f77b4; stroke: #1f77b4\"/>\n     <use xlink:href=\"#md3e0a71b88\" x=\"152.270674\" y=\"69.519462\" style=\"fill: #1f77b4; stroke: #1f77b4\"/>\n     <use xlink:href=\"#md3e0a71b88\" x=\"113.921177\" y=\"41.146012\" style=\"fill: #1f77b4; stroke: #1f77b4\"/>\n     <use xlink:href=\"#md3e0a71b88\" x=\"68.490976\" y=\"29.305332\" style=\"fill: #1f77b4; stroke: #1f77b4\"/>\n     <use xlink:href=\"#md3e0a71b88\" x=\"140.161801\" y=\"75.960605\" style=\"fill: #1f77b4; stroke: #1f77b4\"/>\n     <use xlink:href=\"#md3e0a71b88\" x=\"181.403365\" y=\"82.810011\" style=\"fill: #1f77b4; stroke: #1f77b4\"/>\n     <use xlink:href=\"#md3e0a71b88\" x=\"140.562909\" y=\"67.599947\" style=\"fill: #1f77b4; stroke: #1f77b4\"/>\n     <use xlink:href=\"#md3e0a71b88\" x=\"114.113666\" y=\"53.386782\" style=\"fill: #1f77b4; stroke: #1f77b4\"/>\n     <use xlink:href=\"#md3e0a71b88\" x=\"116.813616\" y=\"58.164313\" style=\"fill: #1f77b4; stroke: #1f77b4\"/>\n     <use xlink:href=\"#md3e0a71b88\" x=\"136.195403\" y=\"68.880964\" style=\"fill: #1f77b4; stroke: #1f77b4\"/>\n     <use xlink:href=\"#md3e0a71b88\" x=\"181.424316\" y=\"82.373279\" style=\"fill: #1f77b4; stroke: #1f77b4\"/>\n     <use xlink:href=\"#md3e0a71b88\" x=\"133.080483\" y=\"76.685806\" style=\"fill: #1f77b4; stroke: #1f77b4\"/>\n     <use xlink:href=\"#md3e0a71b88\" x=\"153.583451\" y=\"84.322291\" style=\"fill: #1f77b4; stroke: #1f77b4\"/>\n     <use xlink:href=\"#md3e0a71b88\" x=\"169.404607\" y=\"71.454508\" style=\"fill: #1f77b4; stroke: #1f77b4\"/>\n     <use xlink:href=\"#md3e0a71b88\" x=\"114.337144\" y=\"46.186078\" style=\"fill: #1f77b4; stroke: #1f77b4\"/>\n     <use xlink:href=\"#md3e0a71b88\" x=\"210.155011\" y=\"107.923673\" style=\"fill: #1f77b4; stroke: #1f77b4\"/>\n     <use xlink:href=\"#md3e0a71b88\" x=\"137.689828\" y=\"76.419198\" style=\"fill: #1f77b4; stroke: #1f77b4\"/>\n     <use xlink:href=\"#md3e0a71b88\" x=\"117.474118\" y=\"58.653252\" style=\"fill: #1f77b4; stroke: #1f77b4\"/>\n     <use xlink:href=\"#md3e0a71b88\" x=\"138.794132\" y=\"84.170189\" style=\"fill: #1f77b4; stroke: #1f77b4\"/>\n     <use xlink:href=\"#md3e0a71b88\" x=\"82.496953\" y=\"49.505152\" style=\"fill: #1f77b4; stroke: #1f77b4\"/>\n     <use xlink:href=\"#md3e0a71b88\" x=\"120.380508\" y=\"56.14999\" style=\"fill: #1f77b4; stroke: #1f77b4\"/>\n     <use xlink:href=\"#md3e0a71b88\" x=\"147.482158\" y=\"75.520058\" style=\"fill: #1f77b4; stroke: #1f77b4\"/>\n     <use xlink:href=\"#md3e0a71b88\" x=\"189.038535\" y=\"113.319996\" style=\"fill: #1f77b4; stroke: #1f77b4\"/>\n     <use xlink:href=\"#md3e0a71b88\" x=\"95.892502\" y=\"51.677704\" style=\"fill: #1f77b4; stroke: #1f77b4\"/>\n     <use xlink:href=\"#md3e0a71b88\" x=\"191.868894\" y=\"90.464749\" style=\"fill: #1f77b4; stroke: #1f77b4\"/>\n     <use xlink:href=\"#md3e0a71b88\" x=\"80.936629\" y=\"45.755442\" style=\"fill: #1f77b4; stroke: #1f77b4\"/>\n     <use xlink:href=\"#md3e0a71b88\" x=\"106.026524\" y=\"49.681352\" style=\"fill: #1f77b4; stroke: #1f77b4\"/>\n     <use xlink:href=\"#md3e0a71b88\" x=\"144.454482\" y=\"68.729699\" style=\"fill: #1f77b4; stroke: #1f77b4\"/>\n     <use xlink:href=\"#md3e0a71b88\" x=\"153.209247\" y=\"66.297495\" style=\"fill: #1f77b4; stroke: #1f77b4\"/>\n     <use xlink:href=\"#md3e0a71b88\" x=\"132.622419\" y=\"82.847635\" style=\"fill: #1f77b4; stroke: #1f77b4\"/>\n     <use xlink:href=\"#md3e0a71b88\" x=\"134.211127\" y=\"83.833026\" style=\"fill: #1f77b4; stroke: #1f77b4\"/>\n     <use xlink:href=\"#md3e0a71b88\" x=\"152.061614\" y=\"68.912868\" style=\"fill: #1f77b4; stroke: #1f77b4\"/>\n     <use xlink:href=\"#md3e0a71b88\" x=\"77.570487\" y=\"40.184371\" style=\"fill: #1f77b4; stroke: #1f77b4\"/>\n     <use xlink:href=\"#md3e0a71b88\" x=\"94.207267\" y=\"52.358131\" style=\"fill: #1f77b4; stroke: #1f77b4\"/>\n     <use xlink:href=\"#md3e0a71b88\" x=\"142.786427\" y=\"81.681806\" style=\"fill: #1f77b4; stroke: #1f77b4\"/>\n     <use xlink:href=\"#md3e0a71b88\" x=\"100.060363\" y=\"53.648264\" style=\"fill: #1f77b4; stroke: #1f77b4\"/>\n     <use xlink:href=\"#md3e0a71b88\" x=\"99.473569\" y=\"63.474469\" style=\"fill: #1f77b4; stroke: #1f77b4\"/>\n     <use xlink:href=\"#md3e0a71b88\" x=\"89.663116\" y=\"47.653173\" style=\"fill: #1f77b4; stroke: #1f77b4\"/>\n     <use xlink:href=\"#md3e0a71b88\" x=\"123.293872\" y=\"68.831272\" style=\"fill: #1f77b4; stroke: #1f77b4\"/>\n     <use xlink:href=\"#md3e0a71b88\" x=\"136.544999\" y=\"63.749685\" style=\"fill: #1f77b4; stroke: #1f77b4\"/>\n     <use xlink:href=\"#md3e0a71b88\" x=\"136.402642\" y=\"63.958324\" style=\"fill: #1f77b4; stroke: #1f77b4\"/>\n     <use xlink:href=\"#md3e0a71b88\" x=\"108.646946\" y=\"58.846311\" style=\"fill: #1f77b4; stroke: #1f77b4\"/>\n     <use xlink:href=\"#md3e0a71b88\" x=\"108.750112\" y=\"44.872061\" style=\"fill: #1f77b4; stroke: #1f77b4\"/>\n     <use xlink:href=\"#md3e0a71b88\" x=\"114.556364\" y=\"51.872973\" style=\"fill: #1f77b4; stroke: #1f77b4\"/>\n     <use xlink:href=\"#md3e0a71b88\" x=\"130.368756\" y=\"77.072753\" style=\"fill: #1f77b4; stroke: #1f77b4\"/>\n     <use xlink:href=\"#md3e0a71b88\" x=\"101.531824\" y=\"56.220783\" style=\"fill: #1f77b4; stroke: #1f77b4\"/>\n     <use xlink:href=\"#md3e0a71b88\" x=\"108.954967\" y=\"34.162851\" style=\"fill: #1f77b4; stroke: #1f77b4\"/>\n     <use xlink:href=\"#md3e0a71b88\" x=\"115.957629\" y=\"59.221668\" style=\"fill: #1f77b4; stroke: #1f77b4\"/>\n     <use xlink:href=\"#md3e0a71b88\" x=\"160.295005\" y=\"75.378043\" style=\"fill: #1f77b4; stroke: #1f77b4\"/>\n     <use xlink:href=\"#md3e0a71b88\" x=\"86.298519\" y=\"38.961809\" style=\"fill: #1f77b4; stroke: #1f77b4\"/>\n     <use xlink:href=\"#md3e0a71b88\" x=\"142.09347\" y=\"77.642763\" style=\"fill: #1f77b4; stroke: #1f77b4\"/>\n     <use xlink:href=\"#md3e0a71b88\" x=\"151.758979\" y=\"77.102486\" style=\"fill: #1f77b4; stroke: #1f77b4\"/>\n     <use xlink:href=\"#md3e0a71b88\" x=\"100.22627\" y=\"61.651712\" style=\"fill: #1f77b4; stroke: #1f77b4\"/>\n     <use xlink:href=\"#md3e0a71b88\" x=\"106.051888\" y=\"54.344353\" style=\"fill: #1f77b4; stroke: #1f77b4\"/>\n     <use xlink:href=\"#md3e0a71b88\" x=\"161.478555\" y=\"82.444565\" style=\"fill: #1f77b4; stroke: #1f77b4\"/>\n     <use xlink:href=\"#md3e0a71b88\" x=\"131.999747\" y=\"68.003033\" style=\"fill: #1f77b4; stroke: #1f77b4\"/>\n     <use xlink:href=\"#md3e0a71b88\" x=\"141.915977\" y=\"64.769946\" style=\"fill: #1f77b4; stroke: #1f77b4\"/>\n     <use xlink:href=\"#md3e0a71b88\" x=\"126.960134\" y=\"90.917751\" style=\"fill: #1f77b4; stroke: #1f77b4\"/>\n     <use xlink:href=\"#md3e0a71b88\" x=\"94.863406\" y=\"51.234549\" style=\"fill: #1f77b4; stroke: #1f77b4\"/>\n     <use xlink:href=\"#md3e0a71b88\" x=\"107.589956\" y=\"47.818002\" style=\"fill: #1f77b4; stroke: #1f77b4\"/>\n     <use xlink:href=\"#md3e0a71b88\" x=\"142.942299\" y=\"81.200986\" style=\"fill: #1f77b4; stroke: #1f77b4\"/>\n     <use xlink:href=\"#md3e0a71b88\" x=\"146.578263\" y=\"73.907424\" style=\"fill: #1f77b4; stroke: #1f77b4\"/>\n     <use xlink:href=\"#md3e0a71b88\" x=\"153.990633\" y=\"80.074031\" style=\"fill: #1f77b4; stroke: #1f77b4\"/>\n     <use xlink:href=\"#md3e0a71b88\" x=\"119.570041\" y=\"51.357343\" style=\"fill: #1f77b4; stroke: #1f77b4\"/>\n     <use xlink:href=\"#md3e0a71b88\" x=\"100.93572\" y=\"48.589493\" style=\"fill: #1f77b4; stroke: #1f77b4\"/>\n     <use xlink:href=\"#md3e0a71b88\" x=\"115.705553\" y=\"54.56399\" style=\"fill: #1f77b4; stroke: #1f77b4\"/>\n     <use xlink:href=\"#md3e0a71b88\" x=\"156.086377\" y=\"82.618931\" style=\"fill: #1f77b4; stroke: #1f77b4\"/>\n     <use xlink:href=\"#md3e0a71b88\" x=\"142.24533\" y=\"72.496437\" style=\"fill: #1f77b4; stroke: #1f77b4\"/>\n     <use xlink:href=\"#md3e0a71b88\" x=\"119.89494\" y=\"58.986904\" style=\"fill: #1f77b4; stroke: #1f77b4\"/>\n     <use xlink:href=\"#md3e0a71b88\" x=\"89.658581\" y=\"47.203087\" style=\"fill: #1f77b4; stroke: #1f77b4\"/>\n     <use xlink:href=\"#md3e0a71b88\" x=\"145.283485\" y=\"79.574819\" style=\"fill: #1f77b4; stroke: #1f77b4\"/>\n     <use xlink:href=\"#md3e0a71b88\" x=\"106.512468\" y=\"67.600525\" style=\"fill: #1f77b4; stroke: #1f77b4\"/>\n     <use xlink:href=\"#md3e0a71b88\" x=\"138.179782\" y=\"73.760882\" style=\"fill: #1f77b4; stroke: #1f77b4\"/>\n     <use xlink:href=\"#md3e0a71b88\" x=\"155.33226\" y=\"85.377517\" style=\"fill: #1f77b4; stroke: #1f77b4\"/>\n     <use xlink:href=\"#md3e0a71b88\" x=\"82.950193\" y=\"43.932303\" style=\"fill: #1f77b4; stroke: #1f77b4\"/>\n     <use xlink:href=\"#md3e0a71b88\" x=\"123.533341\" y=\"64.57292\" style=\"fill: #1f77b4; stroke: #1f77b4\"/>\n     <use xlink:href=\"#md3e0a71b88\" x=\"204.045968\" y=\"87.917722\" style=\"fill: #1f77b4; stroke: #1f77b4\"/>\n     <use xlink:href=\"#md3e0a71b88\" x=\"150.632657\" y=\"64.53291\" style=\"fill: #1f77b4; stroke: #1f77b4\"/>\n     <use xlink:href=\"#md3e0a71b88\" x=\"76.458518\" y=\"35.787902\" style=\"fill: #1f77b4; stroke: #1f77b4\"/>\n     <use xlink:href=\"#md3e0a71b88\" x=\"155.081904\" y=\"81.301398\" style=\"fill: #1f77b4; stroke: #1f77b4\"/>\n     <use xlink:href=\"#md3e0a71b88\" x=\"102.479963\" y=\"65.757639\" style=\"fill: #1f77b4; stroke: #1f77b4\"/>\n     <use xlink:href=\"#md3e0a71b88\" x=\"121.707203\" y=\"63.551816\" style=\"fill: #1f77b4; stroke: #1f77b4\"/>\n     <use xlink:href=\"#md3e0a71b88\" x=\"44.18196\" y=\"36.142435\" style=\"fill: #1f77b4; stroke: #1f77b4\"/>\n     <use xlink:href=\"#md3e0a71b88\" x=\"153.250025\" y=\"90.633326\" style=\"fill: #1f77b4; stroke: #1f77b4\"/>\n     <use xlink:href=\"#md3e0a71b88\" x=\"143.087993\" y=\"75.343477\" style=\"fill: #1f77b4; stroke: #1f77b4\"/>\n     <use xlink:href=\"#md3e0a71b88\" x=\"159.145314\" y=\"77.201855\" style=\"fill: #1f77b4; stroke: #1f77b4\"/>\n     <use xlink:href=\"#md3e0a71b88\" x=\"120.84023\" y=\"68.707757\" style=\"fill: #1f77b4; stroke: #1f77b4\"/>\n     <use xlink:href=\"#md3e0a71b88\" x=\"147.544821\" y=\"79.199155\" style=\"fill: #1f77b4; stroke: #1f77b4\"/>\n     <use xlink:href=\"#md3e0a71b88\" x=\"135.752293\" y=\"68.870879\" style=\"fill: #1f77b4; stroke: #1f77b4\"/>\n     <use xlink:href=\"#md3e0a71b88\" x=\"110.298943\" y=\"46.315946\" style=\"fill: #1f77b4; stroke: #1f77b4\"/>\n     <use xlink:href=\"#md3e0a71b88\" x=\"143.085319\" y=\"70.672468\" style=\"fill: #1f77b4; stroke: #1f77b4\"/>\n     <use xlink:href=\"#md3e0a71b88\" x=\"100.444972\" y=\"48.578318\" style=\"fill: #1f77b4; stroke: #1f77b4\"/>\n     <use xlink:href=\"#md3e0a71b88\" x=\"127.30022\" y=\"63.666279\" style=\"fill: #1f77b4; stroke: #1f77b4\"/>\n     <use xlink:href=\"#md3e0a71b88\" x=\"124.431706\" y=\"64.686161\" style=\"fill: #1f77b4; stroke: #1f77b4\"/>\n     <use xlink:href=\"#md3e0a71b88\" x=\"140.883985\" y=\"66.875743\" style=\"fill: #1f77b4; stroke: #1f77b4\"/>\n     <use xlink:href=\"#md3e0a71b88\" x=\"130.814552\" y=\"74.551641\" style=\"fill: #1f77b4; stroke: #1f77b4\"/>\n     <use xlink:href=\"#md3e0a71b88\" x=\"173.440951\" y=\"96.6744\" style=\"fill: #1f77b4; stroke: #1f77b4\"/>\n     <use xlink:href=\"#md3e0a71b88\" x=\"114.39312\" y=\"68.029675\" style=\"fill: #1f77b4; stroke: #1f77b4\"/>\n     <use xlink:href=\"#md3e0a71b88\" x=\"130.631121\" y=\"69.629604\" style=\"fill: #1f77b4; stroke: #1f77b4\"/>\n     <use xlink:href=\"#md3e0a71b88\" x=\"157.02007\" y=\"91.207496\" style=\"fill: #1f77b4; stroke: #1f77b4\"/>\n     <use xlink:href=\"#md3e0a71b88\" x=\"152.390599\" y=\"57.347222\" style=\"fill: #1f77b4; stroke: #1f77b4\"/>\n     <use xlink:href=\"#md3e0a71b88\" x=\"127.149842\" y=\"62.998467\" style=\"fill: #1f77b4; stroke: #1f77b4\"/>\n     <use xlink:href=\"#md3e0a71b88\" x=\"221.727415\" y=\"139.5\" style=\"fill: #1f77b4; stroke: #1f77b4\"/>\n     <use xlink:href=\"#md3e0a71b88\" x=\"93.530537\" y=\"32.859491\" style=\"fill: #1f77b4; stroke: #1f77b4\"/>\n     <use xlink:href=\"#md3e0a71b88\" x=\"130.418871\" y=\"70.650141\" style=\"fill: #1f77b4; stroke: #1f77b4\"/>\n     <use xlink:href=\"#md3e0a71b88\" x=\"161.535458\" y=\"88.387367\" style=\"fill: #1f77b4; stroke: #1f77b4\"/>\n     <use xlink:href=\"#md3e0a71b88\" x=\"124.867017\" y=\"43.619237\" style=\"fill: #1f77b4; stroke: #1f77b4\"/>\n     <use xlink:href=\"#md3e0a71b88\" x=\"88.955949\" y=\"49.575488\" style=\"fill: #1f77b4; stroke: #1f77b4\"/>\n     <use xlink:href=\"#md3e0a71b88\" x=\"108.18847\" y=\"75.929941\" style=\"fill: #1f77b4; stroke: #1f77b4\"/>\n     <use xlink:href=\"#md3e0a71b88\" x=\"130.460019\" y=\"71.359805\" style=\"fill: #1f77b4; stroke: #1f77b4\"/>\n     <use xlink:href=\"#md3e0a71b88\" x=\"152.82446\" y=\"88.196008\" style=\"fill: #1f77b4; stroke: #1f77b4\"/>\n     <use xlink:href=\"#md3e0a71b88\" x=\"105.181209\" y=\"57.565655\" style=\"fill: #1f77b4; stroke: #1f77b4\"/>\n     <use xlink:href=\"#md3e0a71b88\" x=\"131.84224\" y=\"70.138716\" style=\"fill: #1f77b4; stroke: #1f77b4\"/>\n     <use xlink:href=\"#md3e0a71b88\" x=\"146.725624\" y=\"80.830837\" style=\"fill: #1f77b4; stroke: #1f77b4\"/>\n     <use xlink:href=\"#md3e0a71b88\" x=\"139.457795\" y=\"65.807022\" style=\"fill: #1f77b4; stroke: #1f77b4\"/>\n     <use xlink:href=\"#md3e0a71b88\" x=\"155.941676\" y=\"78.721343\" style=\"fill: #1f77b4; stroke: #1f77b4\"/>\n     <use xlink:href=\"#md3e0a71b88\" x=\"102.703929\" y=\"56.885843\" style=\"fill: #1f77b4; stroke: #1f77b4\"/>\n     <use xlink:href=\"#md3e0a71b88\" x=\"126.148723\" y=\"78.705495\" style=\"fill: #1f77b4; stroke: #1f77b4\"/>\n     <use xlink:href=\"#md3e0a71b88\" x=\"116.624283\" y=\"55.874299\" style=\"fill: #1f77b4; stroke: #1f77b4\"/>\n     <use xlink:href=\"#md3e0a71b88\" x=\"85.600338\" y=\"33.334457\" style=\"fill: #1f77b4; stroke: #1f77b4\"/>\n     <use xlink:href=\"#md3e0a71b88\" x=\"96.972579\" y=\"49.253374\" style=\"fill: #1f77b4; stroke: #1f77b4\"/>\n     <use xlink:href=\"#md3e0a71b88\" x=\"127.02456\" y=\"60.546739\" style=\"fill: #1f77b4; stroke: #1f77b4\"/>\n     <use xlink:href=\"#md3e0a71b88\" x=\"125.861085\" y=\"67.657951\" style=\"fill: #1f77b4; stroke: #1f77b4\"/>\n     <use xlink:href=\"#md3e0a71b88\" x=\"144.140481\" y=\"75.922308\" style=\"fill: #1f77b4; stroke: #1f77b4\"/>\n     <use xlink:href=\"#md3e0a71b88\" x=\"136.619446\" y=\"71.179932\" style=\"fill: #1f77b4; stroke: #1f77b4\"/>\n     <use xlink:href=\"#md3e0a71b88\" x=\"131.617515\" y=\"59.361916\" style=\"fill: #1f77b4; stroke: #1f77b4\"/>\n     <use xlink:href=\"#md3e0a71b88\" x=\"210.040809\" y=\"115.061521\" style=\"fill: #1f77b4; stroke: #1f77b4\"/>\n     <use xlink:href=\"#md3e0a71b88\" x=\"141.111591\" y=\"68.61123\" style=\"fill: #1f77b4; stroke: #1f77b4\"/>\n     <use xlink:href=\"#md3e0a71b88\" x=\"182.688095\" y=\"89.247904\" style=\"fill: #1f77b4; stroke: #1f77b4\"/>\n     <use xlink:href=\"#md3e0a71b88\" x=\"117.131615\" y=\"59.289275\" style=\"fill: #1f77b4; stroke: #1f77b4\"/>\n     <use xlink:href=\"#md3e0a71b88\" x=\"130.03361\" y=\"65.218217\" style=\"fill: #1f77b4; stroke: #1f77b4\"/>\n     <use xlink:href=\"#md3e0a71b88\" x=\"82.362302\" y=\"42.350985\" style=\"fill: #1f77b4; stroke: #1f77b4\"/>\n     <use xlink:href=\"#md3e0a71b88\" x=\"164.95149\" y=\"91.774518\" style=\"fill: #1f77b4; stroke: #1f77b4\"/>\n     <use xlink:href=\"#md3e0a71b88\" x=\"108.944777\" y=\"47.719098\" style=\"fill: #1f77b4; stroke: #1f77b4\"/>\n     <use xlink:href=\"#md3e0a71b88\" x=\"148.059397\" y=\"72.180228\" style=\"fill: #1f77b4; stroke: #1f77b4\"/>\n     <use xlink:href=\"#md3e0a71b88\" x=\"138.677803\" y=\"87.28448\" style=\"fill: #1f77b4; stroke: #1f77b4\"/>\n     <use xlink:href=\"#md3e0a71b88\" x=\"130.961353\" y=\"72.120132\" style=\"fill: #1f77b4; stroke: #1f77b4\"/>\n     <use xlink:href=\"#md3e0a71b88\" x=\"121.352419\" y=\"70.060408\" style=\"fill: #1f77b4; stroke: #1f77b4\"/>\n     <use xlink:href=\"#md3e0a71b88\" x=\"110.131734\" y=\"56.456858\" style=\"fill: #1f77b4; stroke: #1f77b4\"/>\n     <use xlink:href=\"#md3e0a71b88\" x=\"144.651144\" y=\"68.037218\" style=\"fill: #1f77b4; stroke: #1f77b4\"/>\n     <use xlink:href=\"#md3e0a71b88\" x=\"137.026161\" y=\"82.617055\" style=\"fill: #1f77b4; stroke: #1f77b4\"/>\n     <use xlink:href=\"#md3e0a71b88\" x=\"124.97473\" y=\"79.943985\" style=\"fill: #1f77b4; stroke: #1f77b4\"/>\n     <use xlink:href=\"#md3e0a71b88\" x=\"152.582727\" y=\"78.352839\" style=\"fill: #1f77b4; stroke: #1f77b4\"/>\n     <use xlink:href=\"#md3e0a71b88\" x=\"92.626578\" y=\"45.391874\" style=\"fill: #1f77b4; stroke: #1f77b4\"/>\n     <use xlink:href=\"#md3e0a71b88\" x=\"91.240018\" y=\"49.722014\" style=\"fill: #1f77b4; stroke: #1f77b4\"/>\n     <use xlink:href=\"#md3e0a71b88\" x=\"172.516896\" y=\"92.50552\" style=\"fill: #1f77b4; stroke: #1f77b4\"/>\n     <use xlink:href=\"#md3e0a71b88\" x=\"191.435355\" y=\"113.936747\" style=\"fill: #1f77b4; stroke: #1f77b4\"/>\n     <use xlink:href=\"#md3e0a71b88\" x=\"133.140561\" y=\"59.200686\" style=\"fill: #1f77b4; stroke: #1f77b4\"/>\n     <use xlink:href=\"#md3e0a71b88\" x=\"126.233822\" y=\"77.845101\" style=\"fill: #1f77b4; stroke: #1f77b4\"/>\n     <use xlink:href=\"#md3e0a71b88\" x=\"188.600141\" y=\"106.315804\" style=\"fill: #1f77b4; stroke: #1f77b4\"/>\n     <use xlink:href=\"#md3e0a71b88\" x=\"107.653866\" y=\"46.043458\" style=\"fill: #1f77b4; stroke: #1f77b4\"/>\n     <use xlink:href=\"#md3e0a71b88\" x=\"88.344575\" y=\"48.342986\" style=\"fill: #1f77b4; stroke: #1f77b4\"/>\n     <use xlink:href=\"#md3e0a71b88\" x=\"142.499554\" y=\"71.861715\" style=\"fill: #1f77b4; stroke: #1f77b4\"/>\n     <use xlink:href=\"#md3e0a71b88\" x=\"176.90187\" y=\"82.303584\" style=\"fill: #1f77b4; stroke: #1f77b4\"/>\n     <use xlink:href=\"#md3e0a71b88\" x=\"139.114563\" y=\"54.353869\" style=\"fill: #1f77b4; stroke: #1f77b4\"/>\n     <use xlink:href=\"#md3e0a71b88\" x=\"148.419836\" y=\"79.894997\" style=\"fill: #1f77b4; stroke: #1f77b4\"/>\n    </g>\n   </g>\n   <g id=\"matplotlib.axis_1\">\n    <g id=\"xtick_1\">\n     <g id=\"line2d_1\">\n      <defs>\n       <path id=\"m32852b2a4a\" d=\"M 0 0 \nL 0 3.5 \n\" style=\"stroke: #000000; stroke-width: 0.8\"/>\n      </defs>\n      <g>\n       <use xlink:href=\"#m32852b2a4a\" x=\"73.159748\" y=\"145.8\" style=\"stroke: #000000; stroke-width: 0.8\"/>\n      </g>\n     </g>\n     <g id=\"text_1\">\n      <!-- −2 -->\n      <g transform=\"translate(65.788655 160.398438) scale(0.1 -0.1)\">\n       <defs>\n        <path id=\"DejaVuSans-2212\" d=\"M 678 2272 \nL 4684 2272 \nL 4684 1741 \nL 678 1741 \nL 678 2272 \nz\n\" transform=\"scale(0.015625)\"/>\n        <path id=\"DejaVuSans-32\" d=\"M 1228 531 \nL 3431 531 \nL 3431 0 \nL 469 0 \nL 469 531 \nQ 828 903 1448 1529 \nQ 2069 2156 2228 2338 \nQ 2531 2678 2651 2914 \nQ 2772 3150 2772 3378 \nQ 2772 3750 2511 3984 \nQ 2250 4219 1831 4219 \nQ 1534 4219 1204 4116 \nQ 875 4013 500 3803 \nL 500 4441 \nQ 881 4594 1212 4672 \nQ 1544 4750 1819 4750 \nQ 2544 4750 2975 4387 \nQ 3406 4025 3406 3419 \nQ 3406 3131 3298 2873 \nQ 3191 2616 2906 2266 \nQ 2828 2175 2409 1742 \nQ 1991 1309 1228 531 \nz\n\" transform=\"scale(0.015625)\"/>\n       </defs>\n       <use xlink:href=\"#DejaVuSans-2212\"/>\n       <use xlink:href=\"#DejaVuSans-32\" x=\"83.789062\"/>\n      </g>\n     </g>\n    </g>\n    <g id=\"xtick_2\">\n     <g id=\"line2d_2\">\n      <g>\n       <use xlink:href=\"#m32852b2a4a\" x=\"129.642149\" y=\"145.8\" style=\"stroke: #000000; stroke-width: 0.8\"/>\n      </g>\n     </g>\n     <g id=\"text_2\">\n      <!-- 0 -->\n      <g transform=\"translate(126.460899 160.398438) scale(0.1 -0.1)\">\n       <defs>\n        <path id=\"DejaVuSans-30\" d=\"M 2034 4250 \nQ 1547 4250 1301 3770 \nQ 1056 3291 1056 2328 \nQ 1056 1369 1301 889 \nQ 1547 409 2034 409 \nQ 2525 409 2770 889 \nQ 3016 1369 3016 2328 \nQ 3016 3291 2770 3770 \nQ 2525 4250 2034 4250 \nz\nM 2034 4750 \nQ 2819 4750 3233 4129 \nQ 3647 3509 3647 2328 \nQ 3647 1150 3233 529 \nQ 2819 -91 2034 -91 \nQ 1250 -91 836 529 \nQ 422 1150 422 2328 \nQ 422 3509 836 4129 \nQ 1250 4750 2034 4750 \nz\n\" transform=\"scale(0.015625)\"/>\n       </defs>\n       <use xlink:href=\"#DejaVuSans-30\"/>\n      </g>\n     </g>\n    </g>\n    <g id=\"xtick_3\">\n     <g id=\"line2d_3\">\n      <g>\n       <use xlink:href=\"#m32852b2a4a\" x=\"186.124549\" y=\"145.8\" style=\"stroke: #000000; stroke-width: 0.8\"/>\n      </g>\n     </g>\n     <g id=\"text_3\">\n      <!-- 2 -->\n      <g transform=\"translate(182.943299 160.398438) scale(0.1 -0.1)\">\n       <use xlink:href=\"#DejaVuSans-32\"/>\n      </g>\n     </g>\n    </g>\n   </g>\n   <g id=\"matplotlib.axis_2\">\n    <g id=\"ytick_1\">\n     <g id=\"line2d_4\">\n      <defs>\n       <path id=\"m77720328c3\" d=\"M 0 0 \nL -3.5 0 \n\" style=\"stroke: #000000; stroke-width: 0.8\"/>\n      </defs>\n      <g>\n       <use xlink:href=\"#m77720328c3\" x=\"35.304688\" y=\"130.096774\" style=\"stroke: #000000; stroke-width: 0.8\"/>\n      </g>\n     </g>\n     <g id=\"text_4\">\n      <!-- −10 -->\n      <g transform=\"translate(7.2 133.895992) scale(0.1 -0.1)\">\n       <defs>\n        <path id=\"DejaVuSans-31\" d=\"M 794 531 \nL 1825 531 \nL 1825 4091 \nL 703 3866 \nL 703 4441 \nL 1819 4666 \nL 2450 4666 \nL 2450 531 \nL 3481 531 \nL 3481 0 \nL 794 0 \nL 794 531 \nz\n\" transform=\"scale(0.015625)\"/>\n       </defs>\n       <use xlink:href=\"#DejaVuSans-2212\"/>\n       <use xlink:href=\"#DejaVuSans-31\" x=\"83.789062\"/>\n       <use xlink:href=\"#DejaVuSans-30\" x=\"147.412109\"/>\n      </g>\n     </g>\n    </g>\n    <g id=\"ytick_2\">\n     <g id=\"line2d_5\">\n      <g>\n       <use xlink:href=\"#m77720328c3\" x=\"35.304688\" y=\"86.33977\" style=\"stroke: #000000; stroke-width: 0.8\"/>\n      </g>\n     </g>\n     <g id=\"text_5\">\n      <!-- 0 -->\n      <g transform=\"translate(21.942187 90.138988) scale(0.1 -0.1)\">\n       <use xlink:href=\"#DejaVuSans-30\"/>\n      </g>\n     </g>\n    </g>\n    <g id=\"ytick_3\">\n     <g id=\"line2d_6\">\n      <g>\n       <use xlink:href=\"#m77720328c3\" x=\"35.304688\" y=\"42.582766\" style=\"stroke: #000000; stroke-width: 0.8\"/>\n      </g>\n     </g>\n     <g id=\"text_6\">\n      <!-- 10 -->\n      <g transform=\"translate(15.579687 46.381984) scale(0.1 -0.1)\">\n       <use xlink:href=\"#DejaVuSans-31\"/>\n       <use xlink:href=\"#DejaVuSans-30\" x=\"63.623047\"/>\n      </g>\n     </g>\n    </g>\n   </g>\n   <g id=\"patch_3\">\n    <path d=\"M 35.304688 145.8 \nL 35.304688 7.2 \n\" style=\"fill: none; stroke: #000000; stroke-width: 0.8; stroke-linejoin: miter; stroke-linecap: square\"/>\n   </g>\n   <g id=\"patch_4\">\n    <path d=\"M 230.604688 145.8 \nL 230.604688 7.2 \n\" style=\"fill: none; stroke: #000000; stroke-width: 0.8; stroke-linejoin: miter; stroke-linecap: square\"/>\n   </g>\n   <g id=\"patch_5\">\n    <path d=\"M 35.304688 145.8 \nL 230.604688 145.8 \n\" style=\"fill: none; stroke: #000000; stroke-width: 0.8; stroke-linejoin: miter; stroke-linecap: square\"/>\n   </g>\n   <g id=\"patch_6\">\n    <path d=\"M 35.304688 7.2 \nL 230.604688 7.2 \n\" style=\"fill: none; stroke: #000000; stroke-width: 0.8; stroke-linejoin: miter; stroke-linecap: square\"/>\n   </g>\n  </g>\n </g>\n <defs>\n  <clipPath id=\"p36d62ffcd7\">\n   <rect x=\"35.304688\" y=\"7.2\" width=\"195.3\" height=\"138.6\"/>\n  </clipPath>\n </defs>\n</svg>\n",
      "text/plain": [
       "<Figure size 350x250 with 1 Axes>"
      ]
     },
     "metadata": {},
     "output_type": "display_data"
    }
   ],
   "source": [
    "d2l.set_figsize()\n",
    "d2l.plt.scatter(features[:, 1].detach().numpy(), labels.detach().numpy(), 1);"
   ]
  },
  {
   "cell_type": "markdown",
   "id": "d28e67d3",
   "metadata": {
    "origin_pos": 13
   },
   "source": [
    "## 读取数据集\n",
    "\n",
    "回想一下，训练模型时要对数据集进行遍历，每次抽取一小批量样本，并使用它们来更新我们的模型。\n",
    "由于这个过程是训练机器学习算法的基础，所以有必要定义一个函数，\n",
    "该函数能打乱数据集中的样本并以小批量方式获取数据。\n",
    "\n",
    "在下面的代码中，我们[**定义一个`data_iter`函数，\n",
    "该函数接收批量大小、特征矩阵和标签向量作为输入，生成大小为`batch_size`的小批量**]。\n",
    "每个小批量包含一组特征和标签。\n"
   ]
  },
  {
   "cell_type": "code",
   "execution_count": 28,
   "id": "cfdc2b6e",
   "metadata": {},
   "outputs": [
    {
     "name": "stdout",
     "output_type": "stream",
     "text": [
      "0\n",
      "1\n",
      "2\n",
      "3\n",
      "4\n",
      "5\n"
     ]
    }
   ],
   "source": [
    "#    yield 函数成为一个生成器函数，它会返回一个生成器对象。\n",
    "#     每次调用生成器的 yield 语句时，它会生成一个值，并暂停函数的执行。\n",
    "#      然后，在下一次迭代时，函数会从停止的地方继续执行，并生成下一个值。\n",
    "\n",
    "def count_up_to(n):\n",
    "    i = 0\n",
    "    while i <= n:\n",
    "        yield i\n",
    "        i += 1\n",
    "\n",
    "# 使用生成器函数创建生成器对象\n",
    "generator = count_up_to(5)\n",
    "\n",
    "# 迭代生成器对象并打印每个生成的值\n",
    "for num in generator:\n",
    "    print(num)"
   ]
  },
  {
   "cell_type": "code",
   "execution_count": 29,
   "id": "50ca6b66",
   "metadata": {},
   "outputs": [
    {
     "name": "stdout",
     "output_type": "stream",
     "text": [
      "Shuffled indices: [3, 2, 4, 5, 1]\n"
     ]
    }
   ],
   "source": [
    "# 将样本索引列表随机打乱，以实现随机读取样本。\n",
    "indices = [1, 2, 3, 4, 5]\n",
    "random.shuffle(indices)\n",
    "print(\"Shuffled indices:\", indices)\n"
   ]
  },
  {
   "cell_type": "code",
   "execution_count": 30,
   "metadata": {},
   "outputs": [
    {
     "name": "stdout",
     "output_type": "stream",
     "text": [
      "0\n",
      "3\n",
      "6\n",
      "9\n"
     ]
    }
   ],
   "source": [
    "# range(0, num_examples, batch_size) 是一个生成器，\n",
    "# 用于生成从 0 到 num_examples 的整数序列，步长为 batch_size。\n",
    "num_examples = 10\n",
    "batch_size = 3\n",
    "for i in range(0, num_examples, batch_size):\n",
    "    print(i)"
   ]
  },
  {
   "cell_type": "code",
   "execution_count": 31,
   "id": "9505ff1c",
   "metadata": {
    "execution": {
     "iopub.execute_input": "2022-12-07T16:43:06.555825Z",
     "iopub.status.busy": "2022-12-07T16:43:06.555541Z",
     "iopub.status.idle": "2022-12-07T16:43:06.561066Z",
     "shell.execute_reply": "2022-12-07T16:43:06.560334Z"
    },
    "origin_pos": 14,
    "tab": [
     "pytorch"
    ]
   },
   "outputs": [],
   "source": [
    "\"\"\" 虽然函数 data_iter(batch_size, features, labels) 没有显式的返回语句，但它实际上返回了一个生成器对象，\n",
    "        该对象可以用于迭代操作，如 for 循环中的 for X, y in data_iter(batch_size, features, labels):。\n",
    "        每次迭代时，生成器会生成下一个批次的数据，并将其赋值给 X 和 y 变量。\n",
    "\"\"\"\n",
    "def data_iter(batch_size, features, labels):\n",
    "    # 获取数据集中样本的总数\n",
    "    num_examples = len(features)\n",
    "    # 创建一个包含所有样本索引的列表\n",
    "    indices = list(range(num_examples))\n",
    "    # 这些样本是随机读取的，没有特定的顺序\n",
    "    random.shuffle(indices)\n",
    "    # range(0, num_examples, batch_size) 是一个生成器，用于生成从 0 到 num_examples 的整数序列，步长为 batch_size。\n",
    "    for i in range(0, num_examples, batch_size):\n",
    "        batch_indices = torch.tensor(\n",
    "            indices[i: min(i + batch_size, num_examples)]) \n",
    "        # 使用 yield 语句将每个批次的数据返回为一个元组 (features[batch_indices], labels[batch_indices])\n",
    "        yield features[batch_indices], labels[batch_indices]"
   ]
  },
  {
   "cell_type": "markdown",
   "id": "edc07979",
   "metadata": {
    "origin_pos": 16
   },
   "source": [
    "通常，我们利用GPU并行运算的优势，处理合理大小的“小批量”。\n",
    "每个样本都可以并行地进行模型计算，且每个样本损失函数的梯度也可以被并行计算。\n",
    "GPU可以在处理几百个样本时，所花费的时间不比处理一个样本时多太多。\n",
    "\n",
    "我们直观感受一下小批量运算：读取第一个小批量数据样本并打印。\n",
    "每个批量的特征维度显示批量大小和输入特征数。\n",
    "同样的，批量的标签形状与`batch_size`相等。\n"
   ]
  },
  {
   "cell_type": "code",
   "execution_count": 32,
   "id": "02e1705d",
   "metadata": {},
   "outputs": [
    {
     "name": "stdout",
     "output_type": "stream",
     "text": [
      "Number: 1\n",
      "Letter: a\n",
      "\n",
      "Number: 2\n",
      "Letter: b\n",
      "\n"
     ]
    }
   ],
   "source": [
    "\"\"\"for X, y in ... 这个语法时，我们假设迭代的对象是一个可迭代对象（例如列表、元组、生成器等），\n",
    "    其中每个元素都是一个包含两个元素的可迭代对象。\n",
    "    在每次迭代时，将可迭代对象的第一个元素赋值给变量 X，第二个元素赋值给变量 y。\n",
    "\"\"\"\n",
    "data = [(1, 'a'), (2, 'b')]\n",
    "for num, letter in data:\n",
    "    print(\"Number:\", num)\n",
    "    print(\"Letter:\", letter)\n",
    "    print()"
   ]
  },
  {
   "cell_type": "code",
   "execution_count": 33,
   "id": "3934d3c4",
   "metadata": {
    "execution": {
     "iopub.execute_input": "2022-12-07T16:43:06.565191Z",
     "iopub.status.busy": "2022-12-07T16:43:06.564923Z",
     "iopub.status.idle": "2022-12-07T16:43:06.571970Z",
     "shell.execute_reply": "2022-12-07T16:43:06.571038Z"
    },
    "origin_pos": 17,
    "tab": [
     "pytorch"
    ]
   },
   "outputs": [
    {
     "name": "stdout",
     "output_type": "stream",
     "text": [
      "X: tensor([[-0.0073,  1.5358],\n",
      "        [-1.5650,  0.9920],\n",
      "        [-0.3862, -0.2669],\n",
      "        [ 1.7261, -2.0226],\n",
      "        [ 0.8036,  0.5245],\n",
      "        [ 1.3836, -1.4199],\n",
      "        [-0.4808, -2.1500],\n",
      "        [ 0.1923,  1.3327],\n",
      "        [ 0.2775,  0.7831],\n",
      "        [-0.0490,  0.4477]]) \n",
      " y: tensor([[-1.0371],\n",
      "        [-2.3057],\n",
      "        [ 4.3507],\n",
      "        [14.5376],\n",
      "        [ 4.0245],\n",
      "        [11.7941],\n",
      "        [10.5588],\n",
      "        [ 0.0625],\n",
      "        [ 2.1110],\n",
      "        [ 2.5817]])\n"
     ]
    }
   ],
   "source": [
    "batch_size = 10\n",
    "for X, y in data_iter(batch_size, features, labels):\n",
    "    print(\"X:\",X, '\\n',\"y:\", y)\n",
    "    break"
   ]
  },
  {
   "cell_type": "markdown",
   "id": "f959e76b",
   "metadata": {
    "origin_pos": 18
   },
   "source": [
    "当我们运行迭代时，我们会连续地获得不同的小批量，直至遍历完整个数据集。\n",
    "上面实现的迭代对教学来说很好，但它的执行效率很低，可能会在实际问题上陷入麻烦。\n",
    "例如，它要求我们将所有数据加载到内存中，并执行大量的随机内存访问。\n",
    "在深度学习框架中实现的内置迭代器效率要高得多，\n",
    "它可以处理存储在文件中的数据和数据流提供的数据。\n",
    "\n",
    "## 初始化模型参数\n",
    "\n",
    "[**在我们开始用小批量随机梯度下降优化我们的模型参数之前**]，\n",
    "(**我们需要先有一些参数**)。\n",
    "在下面的代码中，我们通过从均值为0、标准差为0.01的正态分布中采样随机数来初始化权重，\n",
    "并将偏置初始化为0。\n"
   ]
  },
  {
   "cell_type": "code",
   "execution_count": 34,
   "id": "23a1437e",
   "metadata": {
    "execution": {
     "iopub.execute_input": "2022-12-07T16:43:06.575915Z",
     "iopub.status.busy": "2022-12-07T16:43:06.575647Z",
     "iopub.status.idle": "2022-12-07T16:43:06.580295Z",
     "shell.execute_reply": "2022-12-07T16:43:06.579544Z"
    },
    "origin_pos": 20,
    "tab": [
     "pytorch"
    ]
   },
   "outputs": [],
   "source": [
    "w = torch.normal(0, 0.01, size=(2,1), requires_grad=True)\n",
    "b = torch.zeros(1, requires_grad=True)"
   ]
  },
  {
   "cell_type": "markdown",
   "id": "f6ad34a9",
   "metadata": {
    "origin_pos": 23
   },
   "source": [
    "在初始化参数之后，我们的任务是更新这些参数，直到这些参数足够拟合我们的数据。\n",
    "每次更新都需要计算损失函数关于模型参数的梯度。\n",
    "有了这个梯度，我们就可以向减小损失的方向更新每个参数。\n",
    "因为手动计算梯度很枯燥而且容易出错，所以没有人会手动计算梯度。\n",
    "我们使用 :numref:`sec_autograd`中引入的自动微分来计算梯度。\n",
    "\n",
    "## 定义模型\n",
    "\n",
    "接下来，我们必须[**定义模型，将模型的输入和参数同模型的输出关联起来。**]\n",
    "回想一下，要计算线性模型的输出，\n",
    "我们只需计算输入特征$\\mathbf{X}$和模型权重$\\mathbf{w}$的矩阵-向量乘法后加上偏置$b$。\n",
    "注意，上面的$\\mathbf{Xw}$是一个向量，而$b$是一个标量。\n",
    "回想一下 :numref:`subsec_broadcasting`中描述的广播机制：\n",
    "当我们用一个向量加一个标量时，标量会被加到向量的每个分量上。\n"
   ]
  },
  {
   "cell_type": "code",
   "execution_count": 35,
   "id": "67386d14",
   "metadata": {
    "execution": {
     "iopub.execute_input": "2022-12-07T16:43:06.583374Z",
     "iopub.status.busy": "2022-12-07T16:43:06.583103Z",
     "iopub.status.idle": "2022-12-07T16:43:06.587197Z",
     "shell.execute_reply": "2022-12-07T16:43:06.586376Z"
    },
    "origin_pos": 24,
    "tab": [
     "pytorch"
    ]
   },
   "outputs": [],
   "source": [
    "def linreg(X, w, b):  #@save\n",
    "    \"\"\"线性回归模型\"\"\"\n",
    "    return torch.matmul(X, w) + b"
   ]
  },
  {
   "cell_type": "markdown",
   "id": "7a087a5b",
   "metadata": {
    "origin_pos": 25
   },
   "source": [
    "## [**定义损失函数**]\n",
    "\n",
    "因为需要计算损失函数的梯度，所以我们应该先定义损失函数。\n",
    "这里我们使用 :numref:`sec_linear_regression`中描述的平方损失函数。\n",
    "在实现中，我们需要将真实值`y`的形状转换为和预测值`y_hat`的形状相同。\n"
   ]
  },
  {
   "cell_type": "code",
   "execution_count": 36,
   "id": "b95eb605",
   "metadata": {
    "execution": {
     "iopub.execute_input": "2022-12-07T16:43:06.590200Z",
     "iopub.status.busy": "2022-12-07T16:43:06.589934Z",
     "iopub.status.idle": "2022-12-07T16:43:06.594002Z",
     "shell.execute_reply": "2022-12-07T16:43:06.593170Z"
    },
    "origin_pos": 26,
    "tab": [
     "pytorch"
    ]
   },
   "outputs": [],
   "source": [
    "def squared_loss(y_hat, y):  #@save\n",
    "    \"\"\"均方损失\"\"\"\n",
    "    return (y_hat - y.reshape(y_hat.shape)) ** 2 / 2"
   ]
  },
  {
   "cell_type": "markdown",
   "id": "1919becd",
   "metadata": {
    "origin_pos": 27
   },
   "source": [
    "## (**定义优化算法**)\n",
    "\n",
    "正如我们在 :numref:`sec_linear_regression`中讨论的，线性回归有解析解。\n",
    "尽管线性回归有解析解，但本书中的其他模型却没有。\n",
    "这里我们介绍小批量随机梯度下降。\n",
    "\n",
    "在每一步中，使用从数据集中随机抽取的一个小批量，然后根据参数计算损失的梯度。\n",
    "接下来，朝着减少损失的方向更新我们的参数。\n",
    "下面的函数实现小批量随机梯度下降更新。\n",
    "该函数接受模型参数集合、学习速率和批量大小作为输入。每\n",
    "一步更新的大小由学习速率`lr`决定。\n",
    "因为我们计算的损失是一个批量样本的总和，所以我们用批量大小（`batch_size`）\n",
    "来规范化步长，这样步长大小就不会取决于我们对批量大小的选择。\n"
   ]
  },
  {
   "cell_type": "code",
   "execution_count": 37,
   "id": "a44ab02a",
   "metadata": {},
   "outputs": [
    {
     "name": "stdout",
     "output_type": "stream",
     "text": [
      "(tensor([16.]),)\n"
     ]
    }
   ],
   "source": [
    "x = torch.tensor([2.0], requires_grad=True)\n",
    "y = x ** 2\n",
    "\n",
    "z = y * 3\n",
    "\n",
    "# 自动求导\n",
    "gradient = torch.autograd.grad(y + z, x)\n",
    "print(gradient)  # (tensor([10.]),)\n"
   ]
  },
  {
   "cell_type": "code",
   "execution_count": 38,
   "id": "6b4e6f37",
   "metadata": {},
   "outputs": [
    {
     "name": "stdout",
     "output_type": "stream",
     "text": [
      "(tensor([4.]),)\n"
     ]
    }
   ],
   "source": [
    "x = torch.tensor([2.0], requires_grad=True)\n",
    "y = x ** 2\n",
    "\n",
    "with torch.no_grad():\n",
    "    z = y * 3\n",
    "    \n",
    "# 自动求导\n",
    "gradient = torch.autograd.grad(y + z, x)\n",
    "print(gradient)  # (tensor([10.]),)"
   ]
  },
  {
   "cell_type": "code",
   "execution_count": 39,
   "id": "a6360e87",
   "metadata": {
    "execution": {
     "iopub.execute_input": "2022-12-07T16:43:06.597167Z",
     "iopub.status.busy": "2022-12-07T16:43:06.596900Z",
     "iopub.status.idle": "2022-12-07T16:43:06.601385Z",
     "shell.execute_reply": "2022-12-07T16:43:06.600532Z"
    },
    "origin_pos": 29,
    "tab": [
     "pytorch"
    ]
   },
   "outputs": [],
   "source": [
    "# params（参数），lr（学习率）和batch_size（批次大小）。\n",
    "def sgd(params, lr, batch_size):  #@save\n",
    "    \"\"\"小批量随机梯度下降\"\"\"\n",
    "    # with torch.no_grad() 这是一个上下文管理器，用于关闭梯度计算，以确保在参数更新阶段不会记录梯度信息。\n",
    "    with torch.no_grad():\n",
    "        # 这是一个迭代循环，遍历所有的参数。\n",
    "        for param in params:\n",
    "            # 参数更新的步骤，通过减去学习率乘以参数的梯度除以批次大小来更新参数的值。这是标准的梯度下降更新规则。\n",
    "            param -= lr * param.grad / batch_size\n",
    "            # 将参数的梯度置零的步骤，以便在下一次迭代中计算新的梯度。\n",
    "            param.grad.zero_()"
   ]
  },
  {
   "cell_type": "markdown",
   "id": "9e466d4d",
   "metadata": {
    "origin_pos": 32
   },
   "source": [
    "## 训练\n",
    "\n",
    "现在我们已经准备好了模型训练所有需要的要素，可以实现主要的[**训练过程**]部分了。\n",
    "理解这段代码至关重要，因为从事深度学习后，\n",
    "相同的训练过程几乎一遍又一遍地出现。\n",
    "在每次迭代中，我们读取一小批量训练样本，并通过我们的模型来获得一组预测。\n",
    "计算完损失后，我们开始反向传播，存储每个参数的梯度。\n",
    "最后，我们调用优化算法`sgd`来更新模型参数。\n",
    "\n",
    "概括一下，我们将执行以下循环：\n",
    "\n",
    "* 初始化参数\n",
    "* 重复以下训练，直到完成\n",
    "    * 计算梯度$\\mathbf{g} \\leftarrow \\partial_{(\\mathbf{w},b)} \\frac{1}{|\\mathcal{B}|} \\sum_{i \\in \\mathcal{B}} l(\\mathbf{x}^{(i)}, y^{(i)}, \\mathbf{w}, b)$\n",
    "    * 更新参数$(\\mathbf{w}, b) \\leftarrow (\\mathbf{w}, b) - \\eta \\mathbf{g}$\n",
    "\n",
    "在每个*迭代周期*（epoch）中，我们使用`data_iter`函数遍历整个数据集，\n",
    "并将训练数据集中所有样本都使用一次（假设样本数能够被批量大小整除）。\n",
    "这里的迭代周期个数`num_epochs`和学习率`lr`都是超参数，分别设为3和0.03。\n",
    "设置超参数很棘手，需要通过反复试验进行调整。\n",
    "我们现在忽略这些细节，以后会在 :numref:`chap_optimization`中详细介绍。\n"
   ]
  },
  {
   "cell_type": "code",
   "execution_count": 40,
   "id": "102331db",
   "metadata": {
    "execution": {
     "iopub.execute_input": "2022-12-07T16:43:06.604403Z",
     "iopub.status.busy": "2022-12-07T16:43:06.604136Z",
     "iopub.status.idle": "2022-12-07T16:43:06.608339Z",
     "shell.execute_reply": "2022-12-07T16:43:06.607465Z"
    },
    "origin_pos": 33,
    "tab": [
     "pytorch"
    ]
   },
   "outputs": [
    {
     "data": {
      "text/plain": [
       "(<function __main__.linreg(X, w, b)>,\n",
       " <function __main__.squared_loss(y_hat, y)>)"
      ]
     },
     "execution_count": 40,
     "metadata": {},
     "output_type": "execute_result"
    }
   ],
   "source": [
    "lr = 0.03\n",
    "num_epochs = 3\n",
    "net = linreg  # 前面定义的函数\n",
    "loss = squared_loss #前面定义的函数\n",
    "net,loss"
   ]
  },
  {
   "cell_type": "code",
   "execution_count": 46,
   "id": "87eb58f4",
   "metadata": {},
   "outputs": [
    {
     "name": "stdout",
     "output_type": "stream",
     "text": [
      "tensor([12.])\n"
     ]
    }
   ],
   "source": [
    "# 创建一个张量x，并设置requires_grad=True以追踪梯度\n",
    "x = torch.tensor([2.0], requires_grad=True)\n",
    "\n",
    "# 定义一个函数y = 3x^2\n",
    "y = 3 * x**2\n",
    "\n",
    "# 计算y相对于x的梯度\n",
    "y.backward()\n",
    "\n",
    "# 打印x的梯度 dy = 3*2*x =3*2*2 = 12\n",
    "print(x.grad)"
   ]
  },
  {
   "cell_type": "code",
   "execution_count": 48,
   "id": "7f37d8d5",
   "metadata": {},
   "outputs": [
    {
     "data": {
      "text/plain": [
       "' 这段代码并不能运行！！！'"
      ]
     },
     "execution_count": 48,
     "metadata": {},
     "output_type": "execute_result"
    }
   ],
   "source": [
    "\"\"\" 这段代码并不能运行！！！\"\"\"\n",
    "# 调用l.backward()它是用来计算梯度，并将梯度累加到模型参数的.grad属性上。\n",
    "# 定义模型参数\n",
    "w = torch.tensor(2.0, requires_grad=True)\n",
    "b = torch.tensor(1.0, requires_grad=True)\n",
    "\n",
    "# 定义损失函数： 假设这里定义了一个 loss 是与 w,b相关的 如 y=wx+b\n",
    "# 调用loss.sum().backward()会计算关于模型参数w和b的梯度，并将梯度累加到它们的.grad属性上。\n",
    "loss = torch.tensor(5.0)\n",
    "\n",
    "# 计算梯度并更新参数\n",
    "loss.sum().backward()  # 计算梯度\n",
    "lr = 0.1  # 学习率\n",
    "with torch.no_grad():\n",
    "    w -= lr * w.grad  # 更新参数w\n",
    "    b -= lr * b.grad  # 更新参数b\n",
    "\n",
    "# 清零梯度\n",
    "w.grad.zero_()\n",
    "b.grad.zero_()\n"
   ]
  },
  {
   "cell_type": "code",
   "execution_count": 45,
   "id": "97d6ac25",
   "metadata": {
    "execution": {
     "iopub.execute_input": "2022-12-07T16:43:06.611713Z",
     "iopub.status.busy": "2022-12-07T16:43:06.611103Z",
     "iopub.status.idle": "2022-12-07T16:43:06.718470Z",
     "shell.execute_reply": "2022-12-07T16:43:06.717660Z"
    },
    "origin_pos": 35,
    "tab": [
     "pytorch"
    ]
   },
   "outputs": [
    {
     "name": "stdout",
     "output_type": "stream",
     "text": [
      "torch.Size([10, 2]) torch.Size([2, 1]) torch.Size([10, 1]) torch.Size([10, 1])\n",
      "epoch 1, loss 0.000050\n",
      "torch.Size([10, 2]) torch.Size([2, 1]) torch.Size([10, 1]) torch.Size([10, 1])\n",
      "epoch 2, loss 0.000050\n",
      "torch.Size([10, 2]) torch.Size([2, 1]) torch.Size([10, 1]) torch.Size([10, 1])\n",
      "epoch 3, loss 0.000049\n"
     ]
    }
   ],
   "source": [
    "for epoch in range(num_epochs):\n",
    "    for X, y in data_iter(batch_size, features, labels):\n",
    "        l = loss(net(X, w, b), y)  # X和y的小批量损失\n",
    "        # print(X.shape, w.shape, y.shape, l.shape)\n",
    "        # 因为l形状是(batch_size,1)，而不是一个标量。l中的所有元素被加到一起，\n",
    "        # 调用backward()方法会自动计算该标量相对于模型参数的梯度。\n",
    "        # 计算关于[w,b]的梯度\n",
    "        l.sum().backward()\n",
    "        sgd([w, b], lr, batch_size)  # 前面定义过的函数，使用参数的梯度更新参数\n",
    "   \n",
    "    # with torch.no_grad()块的目的是为了确保在计算损失函数train_l时不计算梯度，仅用于打印和显示当前的损失值。\n",
    "    # 由于with torch.no_grad()块中的代码不会进行梯度计算，因此可以省略该块并直接计算train_l的值。\n",
    "    # 不使用torch.no_grad()并不会影响参数的更新过程，但会额外计算和保存梯度信息，可能会占用更多的内存。\n",
    "    with torch.no_grad():\n",
    "        # 看用变化后的w,b 计算一下当前损失\n",
    "        train_l = loss(net(features, w, b), labels)\n",
    "        print(f'epoch {epoch + 1}, loss {float(train_l.mean()):f}')"
   ]
  },
  {
   "cell_type": "markdown",
   "id": "c49ff328",
   "metadata": {
    "origin_pos": 38
   },
   "source": [
    "因为我们使用的是自己合成的数据集，所以我们知道真正的参数是什么。\n",
    "因此，我们可以通过[**比较真实参数和通过训练学到的参数来评估训练的成功程度**]。\n",
    "事实上，真实参数和通过训练学到的参数确实非常接近。\n"
   ]
  },
  {
   "cell_type": "code",
   "execution_count": 20,
   "id": "20cfe26e",
   "metadata": {
    "execution": {
     "iopub.execute_input": "2022-12-07T16:43:06.722173Z",
     "iopub.status.busy": "2022-12-07T16:43:06.721608Z",
     "iopub.status.idle": "2022-12-07T16:43:06.727216Z",
     "shell.execute_reply": "2022-12-07T16:43:06.726417Z"
    },
    "origin_pos": 39,
    "tab": [
     "pytorch"
    ]
   },
   "outputs": [
    {
     "name": "stdout",
     "output_type": "stream",
     "text": [
      "w的估计误差: tensor([ 3.8266e-05, -5.8532e-04], grad_fn=<SubBackward0>)\n",
      "b的估计误差: tensor([0.0003], grad_fn=<RsubBackward1>)\n"
     ]
    }
   ],
   "source": [
    "print(f'w的估计误差: {true_w - w.reshape(true_w.shape)}')\n",
    "print(f'b的估计误差: {true_b - b}')"
   ]
  },
  {
   "cell_type": "markdown",
   "id": "256e4aea",
   "metadata": {
    "origin_pos": 40
   },
   "source": [
    "注意，我们不应该想当然地认为我们能够完美地求解参数。\n",
    "在机器学习中，我们通常不太关心恢复真正的参数，而更关心如何高度准确预测参数。\n",
    "幸运的是，即使是在复杂的优化问题上，随机梯度下降通常也能找到非常好的解。\n",
    "其中一个原因是，在深度网络中存在许多参数组合能够实现高度精确的预测。\n",
    "\n",
    "## 小结\n",
    "\n",
    "* 我们学习了深度网络是如何实现和优化的。在这一过程中只使用张量和自动微分，不需要定义层或复杂的优化器。\n",
    "* 这一节只触及到了表面知识。在下面的部分中，我们将基于刚刚介绍的概念描述其他模型，并学习如何更简洁地实现其他模型。\n",
    "\n",
    "## 练习\n",
    "\n",
    "1. 如果我们将权重初始化为零，会发生什么。算法仍然有效吗？\n",
    "    \n",
    "    将权重初始化为零会导致问题，称为\"权重对称性\"问题。当所有权重初始化为相同的值时，神经网络中的每个神经元将计算相同的梯度，并且在反向传播过程中权重的更新也是相同的。这导致神经网络无法学习不同的特征和模式，限制了其表达能力和学习能力。\n",
    "\n",
    "    此外，当权重初始化为零时，每个隐藏单元的更新规则也会相同，这会导致它们保持相同的值，并且在训练过程中无法发展出多样化的表示能力。这将限制神经网络的表达能力，使其无法有效地学习复杂的模式和特征。\n",
    "\n",
    "    因此，将权重初始化为零是不推荐的做法。常用的权重初始化方法包括随机初始化（如从均匀分布或正态分布中随机采样）、Xavier初始化和He初始化等，这些方法有助于打破权重对称性，并为神经网络提供更好的学习能力。\n",
    "    \n",
    "2. 假设试图为电压和电流的关系建立一个模型。自动微分可以用来学习模型的参数吗?\n",
    "\n",
    "    是的，自动微分可以用来学习模型的参数。在建立电压和电流关系的模型时，可以定义一个损失函数，用于衡量模型预测的电流值与实际观测值之间的差异。然后，使用自动微分技术计算损失函数对模型参数（例如权重和偏置）的梯度。\n",
    "\n",
    "    通过梯度下降等优化算法，可以使用计算得到的梯度信息来更新模型的参数，使其逐步优化并逼近真实的电压和电流关系。自动微分可以自动地计算损失函数对参数的梯度，无需手动推导或编写梯度更新的代码，大大简化了模型训练的过程。\n",
    "\n",
    "    在使用PyTorch等深度学习框架时，自动微分是内置的，并且可以直接应用于模型的训练过程中。通过反向传播算法，框架会自动计算损失函数对模型参数的梯度，并提供相应的优化算法来更新参数。这使得模型训练更加高效和方便。\n",
    "\n",
    "3. 能基于[普朗克定律](https://en.wikipedia.org/wiki/Planck%27s_law)使用光谱能量密度来确定物体的温度吗？\n",
    "    \n",
    "    是的，基于普朗克定律可以使用光谱能量密度来确定物体的温度。普朗克定律描述了黑体辐射的能谱密度，即黑体在不同波长或频率上的辐射能量分布。\n",
    "\n",
    "    根据普朗克定律，黑体辐射的能谱密度与其温度有关。具体而言，根据斯蒂芬-玻尔兹曼定律，黑体辐射的总辐射功率与温度的第四次方成正比。\n",
    "\n",
    "    因此，通过测量物体的光谱能量密度，并结合普朗克定律和斯蒂芬-玻尔兹曼定律，可以推断出物体的温度。这种方法在天文学、热学和光学等领域中被广泛应用，例如通过测量星体的光谱能量密度来推断它们的表面温度。\n",
    "\n",
    "    需要注意的是，确定物体的温度需要准确的测量和分析光谱能量密度数据，并结合适当的物理模型和假设。此外，还需要考虑辐射传输过程中的各种因素，如吸收、散射和传输损失等。因此，在实际应用中，需要进行详细的数据处理和模型建立，以获得准确的温度估计结果。\n",
    "\n",
    "4. 计算二阶导数时可能会遇到什么问题？这些问题可以如何解决？\n",
    "\n",
    "    在计算二阶导数时可能会遇到以下问题：\n",
    "\n",
    "    数值不稳定性：计算二阶导数可能导致数值不稳定性，特别是当函数具有陡峭的曲率或存在数值舍入误差时。\n",
    "    计算代价高：计算二阶导数通常比计算一阶导数更加昂贵，因为它需要更多的计算量和内存消耗。\n",
    "    高维度困难：在高维度问题中，计算二阶导数的计算复杂度会大大增加，因为需要计算的元素数量呈二次增长。\n",
    "    解决这些问题的方法包括：\n",
    "\n",
    "    符号计算：对于某些简单的函数，可以使用符号计算方法来计算二阶导数，以获得精确的结果。符号计算库如SymPy可以用于进行符号导数计算。\n",
    "    数值稳定性技巧：为了处理数值不稳定性，可以使用数值稳定性技巧，例如增加计算精度、避免数值溢出或下溢等。此外，使用数值库中提供的优化算法和数值方法也可以改善数值计算的稳定性。\n",
    "    自动微分工具：使用自动微分工具可以方便地计算高阶导数，而无需手动推导和实现。自动微分工具可以根据给定的函数表达式自动计算导数，包括一阶导数、二阶导数甚至高阶导数。流行的自动微分库如PyTorch和TensorFlow提供了方便的接口和功能来进行高阶导数的计算。\n",
    "    数值逼近方法：如果无法直接计算二阶导数，可以使用数值逼近方法来近似计算。例如，可以使用数值差分方法或数值积分方法来估计二阶导数的值。这种方法虽然可能不够精确，但在某些情况下是可行的。\n",
    "    需要根据具体问题的性质和要求选择合适的方法来计算二阶导数，并在计算过程中注意数值稳定性和计算效率。\n",
    "\n",
    "5. 为什么在`squared_loss`函数中需要使用`reshape`函数？\n",
    "\n",
    "    在 squared_loss 函数中使用 reshape 函数的目的是确保输入的 y_hat 和 y 张量具有相同的形状，以便进行元素级别的运算。\n",
    "\n",
    "    squared_loss 函数计算的是预测值 y_hat 和真实值 y 的平方损失，公式为：\n",
    "\n",
    "    scss\n",
    "    Copy code\n",
    "    loss = (1/2) * (y_hat - y)^2\n",
    "    要进行元素级别的平方差运算，y_hat 和 y 的形状必须相同。但是，在实际应用中，y_hat 和 y 的形状可能不总是一致的，特别是当它们是批量数据的预测结果时。\n",
    "\n",
    "    使用 reshape 函数可以调整 y_hat 和 y 的形状，使它们具有相同的形状。通过对其中一个张量进行形状调整，使其与另一个张量的形状相匹配，可以确保它们在进行元素级别的运算时具有相同的维度和大小。\n",
    "\n",
    "    具体而言，reshape 函数可以将 y_hat 和 y 张量的形状调整为相同的形状，如 (batch_size, 1)，以便进行元素级别的平方差运算。\n",
    "\n",
    "    使用 reshape 函数可以确保输入的张量形状一致，避免了尺寸不匹配的错误，并且可以保证计算结果按预期进行。\n",
    "\n",
    "6. 尝试使用不同的学习率，观察损失函数值下降的快慢。\n",
    "\n",
    "    当使用不同的学习率时，损失函数值的下降速度可能会有所变化。较大的学习率可能导致损失函数值迅速下降，但也可能导致跳过最优解或发散。较小的学习率可能导致收敛速度较慢，但更稳定。\n",
    "\n",
    "    为了观察不同学习率下损失函数值的下降情况，你可以尝试以下步骤：\n",
    "\n",
    "    初始化模型的参数（例如，权重和偏置）。\n",
    "    选择不同的学习率值（例如，0.1、0.01、0.001等）。\n",
    "    使用选定的学习率训练模型，迭代多个周期（epochs）。\n",
    "    在每个周期中计算损失函数值，并记录下来。\n",
    "    绘制损失函数值随训练周期的变化曲线，对比不同学习率下的下降速度。\n",
    "    通过观察损失函数值随训练周期的变化，你可以比较不同学习率下的下降速度和收敛性能。根据观察结果，可以选择合适的学习率来优化模型。通常情况下，合适的学习率是指能够在合理的时间内收敛到较低的损失值而不发散的学习率。\n",
    "\n",
    "    需要注意的是，选择学习率并不是一项简单的任务，它可能需要通过试验和调整来确定最佳值。不同的问题和数据集可能需要不同的学习率设置。一般建议从较小的学习率开始，逐渐增加或减小学习率，以找到最佳的学习率值。\n",
    "    \n",
    "7. 如果样本个数不能被批量大小整除，`data_iter`函数的行为会有什么变化？\n",
    "   \n",
    "   如果样本个数不能被批量大小整除，data_iter函数的行为会有所变化。通常情况下，data_iter函数会按照批量大小从数据集中连续地取出样本，直到取完所有样本为止。如果样本个数不能被批量大小整除，最后一个批次可能会小于批量大小。\n",
    "\n",
    "    具体来说，当样本个数不能被批量大小整除时，data_iter函数会在最后一个批次中返回剩余的样本。这意味着最后一个批次的大小会小于等于批量大小。这种情况下，需要注意处理最后一个批次时的边界情况，以免出现索引错误或其他错误。\n"
   ]
  },
  {
   "cell_type": "code",
   "execution_count": 22,
   "id": "06d73249",
   "metadata": {},
   "outputs": [
    {
     "name": "stdout",
     "output_type": "stream",
     "text": [
      "Batch X: tensor([6, 4, 3, 8])\n",
      "Batch y: tensor([6, 4, 3, 8])\n",
      "Batch size: 4\n",
      "\n",
      "Batch X: tensor([2, 7, 1, 5])\n",
      "Batch y: tensor([2, 7, 1, 5])\n",
      "Batch size: 4\n",
      "\n",
      "Batch X: tensor([0])\n",
      "Batch y: tensor([0])\n",
      "Batch size: 1\n",
      "\n"
     ]
    }
   ],
   "source": [
    "# 以下是一个示例代码，展示了data_iter函数在样本个数不能被批量大小整除时的行为：\n",
    "import torch\n",
    "\n",
    "\n",
    "def data_iter(batch_size, features, labels):\n",
    "    num_examples = len(features)\n",
    "    indices = list(range(num_examples))\n",
    "    random.shuffle(indices)\n",
    "    for i in range(0, num_examples, batch_size):\n",
    "        batch_indices = torch.tensor(\n",
    "            indices[i: min(i + batch_size, num_examples)])\n",
    "        yield features[batch_indices], labels[batch_indices]\n",
    "\n",
    "\n",
    "# 假设样本个数为9，批量大小为4\n",
    "features = torch.arange(9)\n",
    "labels = torch.arange(9)\n",
    "batch_size = 4\n",
    "\n",
    "for X, y in data_iter(batch_size, features, labels):\n",
    "    print(\"Batch X:\", X)\n",
    "    print(\"Batch y:\", y)\n",
    "    print(\"Batch size:\", len(X))\n",
    "    print()\n",
    "\n",
    "# 可以看到，在样本个数不能被批量大小整除时，最后一个批次的大小为1。\n",
    "# 这是因为在这个例子中，总共有9个样本，无法完整地组成两个大小为4的批次。\n"
   ]
  },
  {
   "cell_type": "markdown",
   "id": "084dd552",
   "metadata": {
    "origin_pos": 42,
    "tab": [
     "pytorch"
    ]
   },
   "source": [
    "[Discussions](https://discuss.d2l.ai/t/1778)\n"
   ]
  }
 ],
 "metadata": {
  "kernelspec": {
   "display_name": "Python 3.9.16",
   "language": "python",
   "name": "python3"
  },
  "language_info": {
   "codemirror_mode": {
    "name": "ipython",
    "version": 3
   },
   "file_extension": ".py",
   "mimetype": "text/x-python",
   "name": "python",
   "nbconvert_exporter": "python",
   "pygments_lexer": "ipython3",
   "version": "3.9.16"
  },
  "vscode": {
   "interpreter": {
    "hash": "9421a31ffafdc7802d066aefd78e222655e72d0ce2017974f24271a5f7f87197"
   }
  }
 },
 "nbformat": 4,
 "nbformat_minor": 5
}
