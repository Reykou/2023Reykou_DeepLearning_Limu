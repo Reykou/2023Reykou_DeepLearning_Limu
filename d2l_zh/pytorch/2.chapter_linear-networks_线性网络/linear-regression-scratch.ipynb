{
 "cells": [
  {
   "cell_type": "markdown",
   "id": "d90261b4",
   "metadata": {
    "origin_pos": 0
   },
   "source": [
    "# 线性回归的从零开始实现\n",
    ":label:`sec_linear_scratch`\n",
    "\n",
    "在了解线性回归的关键思想之后，我们可以开始通过代码来动手实现线性回归了。\n",
    "在这一节中，(**我们将从零开始实现整个方法，\n",
    "包括数据流水线、模型、损失函数和小批量随机梯度下降优化器**)。\n",
    "虽然现代的深度学习框架几乎可以自动化地进行所有这些工作，但从零开始实现可以确保我们真正知道自己在做什么。\n",
    "同时，了解更细致的工作原理将方便我们自定义模型、自定义层或自定义损失函数。\n",
    "在这一节中，我们将只使用张量和自动求导。\n",
    "在之后的章节中，我们会充分利用深度学习框架的优势，介绍更简洁的实现方式。\n"
   ]
  },
  {
   "cell_type": "code",
   "execution_count": 1,
   "id": "5afac710",
   "metadata": {
    "execution": {
     "iopub.execute_input": "2022-12-07T16:43:03.768491Z",
     "iopub.status.busy": "2022-12-07T16:43:03.768163Z",
     "iopub.status.idle": "2022-12-07T16:43:06.309758Z",
     "shell.execute_reply": "2022-12-07T16:43:06.308920Z"
    },
    "origin_pos": 2,
    "tab": [
     "pytorch"
    ]
   },
   "outputs": [],
   "source": [
    "%matplotlib inline\n",
    "import random\n",
    "import torch\n",
    "from d2l import torch as d2l"
   ]
  },
  {
   "cell_type": "markdown",
   "id": "9737c61d",
   "metadata": {
    "origin_pos": 5
   },
   "source": [
    "## 生成数据集\n",
    "\n",
    "为了简单起见，我们将[**根据带有噪声的线性模型构造一个人造数据集。**]\n",
    "我们的任务是使用这个有限样本的数据集来恢复这个模型的参数。\n",
    "我们将使用低维数据，这样可以很容易地将其可视化。\n",
    "在下面的代码中，我们生成一个包含1000个样本的数据集，\n",
    "每个样本包含从标准正态分布中采样的2个特征。\n",
    "我们的合成数据集是一个矩阵$\\mathbf{X}\\in \\mathbb{R}^{1000 \\times 2}$。\n",
    "\n",
    "(**我们使用线性模型参数$\\mathbf{w} = [2, -3.4]^\\top$、$b = 4.2$\n",
    "和噪声项$\\epsilon$生成数据集及其标签：\n",
    "\n",
    "$$\\mathbf{y}= \\mathbf{X} \\mathbf{w} + b + \\mathbf\\epsilon.$$\n",
    "**)\n",
    "\n",
    "$\\epsilon$可以视为模型预测和标签时的潜在观测误差。\n",
    "在这里我们认为标准假设成立，即$\\epsilon$服从均值为0的正态分布。\n",
    "为了简化问题，我们将标准差设为0.01。\n",
    "下面的代码生成合成数据集。\n"
   ]
  },
  {
   "cell_type": "code",
   "execution_count": 2,
   "id": "a12aa0dc",
   "metadata": {
    "execution": {
     "iopub.execute_input": "2022-12-07T16:43:06.314470Z",
     "iopub.status.busy": "2022-12-07T16:43:06.313919Z",
     "iopub.status.idle": "2022-12-07T16:43:06.319119Z",
     "shell.execute_reply": "2022-12-07T16:43:06.318364Z"
    },
    "origin_pos": 6,
    "tab": [
     "pytorch"
    ]
   },
   "outputs": [],
   "source": [
    "def synthetic_data(w, b, num_examples):  #@save\n",
    "    \"\"\"生成y=Xw+b+噪声\"\"\"\n",
    "    # 函数生成一个服从均值为0，标准差为1的正态分布的张量X。该张量的形状为(num_examples, len(w))，\n",
    "    X = torch.normal(0, 1, (num_examples, len(w)))\n",
    "    # 这行代码通过使用torch.matmul()函数将X和w进行矩阵乘法操作，然后加上偏置项b，得到输出张量y。\n",
    "    y = torch.matmul(X, w) + b\n",
    "    y += torch.normal(0, 0.01, y.shape)\n",
    "    return X, y.reshape((-1, 1))"
   ]
  },
  {
   "cell_type": "code",
   "execution_count": 3,
   "id": "c825e9f2",
   "metadata": {
    "execution": {
     "iopub.execute_input": "2022-12-07T16:43:06.322894Z",
     "iopub.status.busy": "2022-12-07T16:43:06.322362Z",
     "iopub.status.idle": "2022-12-07T16:43:06.346342Z",
     "shell.execute_reply": "2022-12-07T16:43:06.345545Z"
    },
    "origin_pos": 8,
    "tab": [
     "pytorch"
    ]
   },
   "outputs": [],
   "source": [
    "# torch.tensor 接受一个Python列表作为输入，并返回一个对应的张量。\n",
    "true_w = torch.tensor([2, -3.4])\n",
    "true_b = 4.2\n",
    "features, labels = synthetic_data(true_w, true_b, 1000)"
   ]
  },
  {
   "cell_type": "code",
   "execution_count": 4,
   "id": "a4c32e73",
   "metadata": {},
   "outputs": [
    {
     "data": {
      "text/plain": [
       "(torch.Size([2]), torch.Size([1000, 2]), torch.Size([1000, 1]))"
      ]
     },
     "execution_count": 4,
     "metadata": {},
     "output_type": "execute_result"
    }
   ],
   "source": [
    "true_w.shape,features.shape,labels.shape"
   ]
  },
  {
   "cell_type": "markdown",
   "id": "8f793e73",
   "metadata": {
    "origin_pos": 9
   },
   "source": [
    "注意，[**`features`中的每一行都包含一个二维数据样本，\n",
    "`labels`中的每一行都包含一维标签值（一个标量）**]。\n"
   ]
  },
  {
   "cell_type": "code",
   "execution_count": 5,
   "id": "ff9bf839",
   "metadata": {
    "execution": {
     "iopub.execute_input": "2022-12-07T16:43:06.350058Z",
     "iopub.status.busy": "2022-12-07T16:43:06.349622Z",
     "iopub.status.idle": "2022-12-07T16:43:06.356271Z",
     "shell.execute_reply": "2022-12-07T16:43:06.355499Z"
    },
    "origin_pos": 10,
    "tab": [
     "pytorch"
    ]
   },
   "outputs": [
    {
     "name": "stdout",
     "output_type": "stream",
     "text": [
      "features: tensor([ 2.1866, -0.2208]) \n",
      "label: tensor([9.3144])\n"
     ]
    }
   ],
   "source": [
    "print('features:', features[0],'\\nlabel:', labels[0])"
   ]
  },
  {
   "cell_type": "markdown",
   "id": "fceaa9b1",
   "metadata": {
    "origin_pos": 11
   },
   "source": [
    "通过生成第二个特征`features[:, 1]`和`labels`的散点图，\n",
    "可以直观观察到两者之间的线性关系。\n"
   ]
  },
  {
   "cell_type": "code",
   "execution_count": 6,
   "id": "ec27cda9",
   "metadata": {
    "execution": {
     "iopub.execute_input": "2022-12-07T16:43:06.360566Z",
     "iopub.status.busy": "2022-12-07T16:43:06.360291Z",
     "iopub.status.idle": "2022-12-07T16:43:06.547379Z",
     "shell.execute_reply": "2022-12-07T16:43:06.546494Z"
    },
    "origin_pos": 12,
    "tab": [
     "pytorch"
    ]
   },
   "outputs": [
    {
     "data": {
      "image/svg+xml": "<?xml version=\"1.0\" encoding=\"utf-8\" standalone=\"no\"?>\n<!DOCTYPE svg PUBLIC \"-//W3C//DTD SVG 1.1//EN\"\n  \"http://www.w3.org/Graphics/SVG/1.1/DTD/svg11.dtd\">\n<svg xmlns:xlink=\"http://www.w3.org/1999/xlink\" width=\"237.804688pt\" height=\"169.678125pt\" viewBox=\"0 0 237.804688 169.678125\" xmlns=\"http://www.w3.org/2000/svg\" version=\"1.1\">\n <metadata>\n  <rdf:RDF xmlns:dc=\"http://purl.org/dc/elements/1.1/\" xmlns:cc=\"http://creativecommons.org/ns#\" xmlns:rdf=\"http://www.w3.org/1999/02/22-rdf-syntax-ns#\">\n   <cc:Work>\n    <dc:type rdf:resource=\"http://purl.org/dc/dcmitype/StillImage\"/>\n    <dc:date>2023-06-14T11:33:55.429224</dc:date>\n    <dc:format>image/svg+xml</dc:format>\n    <dc:creator>\n     <cc:Agent>\n      <dc:title>Matplotlib v3.7.1, https://matplotlib.org/</dc:title>\n     </cc:Agent>\n    </dc:creator>\n   </cc:Work>\n  </rdf:RDF>\n </metadata>\n <defs>\n  <style type=\"text/css\">*{stroke-linejoin: round; stroke-linecap: butt}</style>\n </defs>\n <g id=\"figure_1\">\n  <g id=\"patch_1\">\n   <path d=\"M 0 169.678125 \nL 237.804688 169.678125 \nL 237.804688 0 \nL 0 0 \nz\n\" style=\"fill: #ffffff\"/>\n  </g>\n  <g id=\"axes_1\">\n   <g id=\"patch_2\">\n    <path d=\"M 35.304688 145.8 \nL 230.604688 145.8 \nL 230.604688 7.2 \nL 35.304688 7.2 \nz\n\" style=\"fill: #ffffff\"/>\n   </g>\n   <g id=\"PathCollection_1\">\n    <defs>\n     <path id=\"mc0e9a4bfc5\" d=\"M 0 0.5 \nC 0.132602 0.5 0.25979 0.447317 0.353553 0.353553 \nC 0.447317 0.25979 0.5 0.132602 0.5 0 \nC 0.5 -0.132602 0.447317 -0.25979 0.353553 -0.353553 \nC 0.25979 -0.447317 0.132602 -0.5 0 -0.5 \nC -0.132602 -0.5 -0.25979 -0.447317 -0.353553 -0.353553 \nC -0.447317 -0.25979 -0.5 -0.132602 -0.5 0 \nC -0.5 0.132602 -0.447317 0.25979 -0.353553 0.353553 \nC -0.25979 0.447317 -0.132602 0.5 0 0.5 \nz\n\" style=\"stroke: #1f77b4\"/>\n    </defs>\n    <g clip-path=\"url(#pd913cb6a33)\">\n     <use xlink:href=\"#mc0e9a4bfc5\" x=\"130.155003\" y=\"47.187515\" style=\"fill: #1f77b4; stroke: #1f77b4\"/>\n     <use xlink:href=\"#mc0e9a4bfc5\" x=\"114.635283\" y=\"51.208576\" style=\"fill: #1f77b4; stroke: #1f77b4\"/>\n     <use xlink:href=\"#mc0e9a4bfc5\" x=\"80.870472\" y=\"48.529826\" style=\"fill: #1f77b4; stroke: #1f77b4\"/>\n     <use xlink:href=\"#mc0e9a4bfc5\" x=\"116.676475\" y=\"56.466601\" style=\"fill: #1f77b4; stroke: #1f77b4\"/>\n     <use xlink:href=\"#mc0e9a4bfc5\" x=\"128.870087\" y=\"57.464476\" style=\"fill: #1f77b4; stroke: #1f77b4\"/>\n     <use xlink:href=\"#mc0e9a4bfc5\" x=\"187.976524\" y=\"106.975328\" style=\"fill: #1f77b4; stroke: #1f77b4\"/>\n     <use xlink:href=\"#mc0e9a4bfc5\" x=\"67.844345\" y=\"14.529492\" style=\"fill: #1f77b4; stroke: #1f77b4\"/>\n     <use xlink:href=\"#mc0e9a4bfc5\" x=\"134.916343\" y=\"73.048781\" style=\"fill: #1f77b4; stroke: #1f77b4\"/>\n     <use xlink:href=\"#mc0e9a4bfc5\" x=\"150.308321\" y=\"79.772265\" style=\"fill: #1f77b4; stroke: #1f77b4\"/>\n     <use xlink:href=\"#mc0e9a4bfc5\" x=\"156.571152\" y=\"73.697793\" style=\"fill: #1f77b4; stroke: #1f77b4\"/>\n     <use xlink:href=\"#mc0e9a4bfc5\" x=\"152.873857\" y=\"92.571564\" style=\"fill: #1f77b4; stroke: #1f77b4\"/>\n     <use xlink:href=\"#mc0e9a4bfc5\" x=\"131.269275\" y=\"84.33708\" style=\"fill: #1f77b4; stroke: #1f77b4\"/>\n     <use xlink:href=\"#mc0e9a4bfc5\" x=\"119.162892\" y=\"66.106269\" style=\"fill: #1f77b4; stroke: #1f77b4\"/>\n     <use xlink:href=\"#mc0e9a4bfc5\" x=\"146.031538\" y=\"61.29706\" style=\"fill: #1f77b4; stroke: #1f77b4\"/>\n     <use xlink:href=\"#mc0e9a4bfc5\" x=\"142.518139\" y=\"80.908943\" style=\"fill: #1f77b4; stroke: #1f77b4\"/>\n     <use xlink:href=\"#mc0e9a4bfc5\" x=\"129.966274\" y=\"84.640585\" style=\"fill: #1f77b4; stroke: #1f77b4\"/>\n     <use xlink:href=\"#mc0e9a4bfc5\" x=\"129.388647\" y=\"60.033982\" style=\"fill: #1f77b4; stroke: #1f77b4\"/>\n     <use xlink:href=\"#mc0e9a4bfc5\" x=\"132.17552\" y=\"58.381424\" style=\"fill: #1f77b4; stroke: #1f77b4\"/>\n     <use xlink:href=\"#mc0e9a4bfc5\" x=\"94.924432\" y=\"51.040446\" style=\"fill: #1f77b4; stroke: #1f77b4\"/>\n     <use xlink:href=\"#mc0e9a4bfc5\" x=\"133.257563\" y=\"75.739466\" style=\"fill: #1f77b4; stroke: #1f77b4\"/>\n     <use xlink:href=\"#mc0e9a4bfc5\" x=\"166.179781\" y=\"88.232501\" style=\"fill: #1f77b4; stroke: #1f77b4\"/>\n     <use xlink:href=\"#mc0e9a4bfc5\" x=\"130.042618\" y=\"68.290394\" style=\"fill: #1f77b4; stroke: #1f77b4\"/>\n     <use xlink:href=\"#mc0e9a4bfc5\" x=\"188.124199\" y=\"100.072017\" style=\"fill: #1f77b4; stroke: #1f77b4\"/>\n     <use xlink:href=\"#mc0e9a4bfc5\" x=\"129.990606\" y=\"50.147258\" style=\"fill: #1f77b4; stroke: #1f77b4\"/>\n     <use xlink:href=\"#mc0e9a4bfc5\" x=\"103.416262\" y=\"49.911059\" style=\"fill: #1f77b4; stroke: #1f77b4\"/>\n     <use xlink:href=\"#mc0e9a4bfc5\" x=\"131.898798\" y=\"74.882455\" style=\"fill: #1f77b4; stroke: #1f77b4\"/>\n     <use xlink:href=\"#mc0e9a4bfc5\" x=\"163.17049\" y=\"78.69777\" style=\"fill: #1f77b4; stroke: #1f77b4\"/>\n     <use xlink:href=\"#mc0e9a4bfc5\" x=\"110.227812\" y=\"62.323318\" style=\"fill: #1f77b4; stroke: #1f77b4\"/>\n     <use xlink:href=\"#mc0e9a4bfc5\" x=\"155.61037\" y=\"72.107375\" style=\"fill: #1f77b4; stroke: #1f77b4\"/>\n     <use xlink:href=\"#mc0e9a4bfc5\" x=\"129.957424\" y=\"72.759511\" style=\"fill: #1f77b4; stroke: #1f77b4\"/>\n     <use xlink:href=\"#mc0e9a4bfc5\" x=\"115.448979\" y=\"63.742237\" style=\"fill: #1f77b4; stroke: #1f77b4\"/>\n     <use xlink:href=\"#mc0e9a4bfc5\" x=\"106.516326\" y=\"77.55385\" style=\"fill: #1f77b4; stroke: #1f77b4\"/>\n     <use xlink:href=\"#mc0e9a4bfc5\" x=\"174.760183\" y=\"103.639701\" style=\"fill: #1f77b4; stroke: #1f77b4\"/>\n     <use xlink:href=\"#mc0e9a4bfc5\" x=\"131.752446\" y=\"51.57648\" style=\"fill: #1f77b4; stroke: #1f77b4\"/>\n     <use xlink:href=\"#mc0e9a4bfc5\" x=\"167.084556\" y=\"87.862686\" style=\"fill: #1f77b4; stroke: #1f77b4\"/>\n     <use xlink:href=\"#mc0e9a4bfc5\" x=\"150.182742\" y=\"70.350635\" style=\"fill: #1f77b4; stroke: #1f77b4\"/>\n     <use xlink:href=\"#mc0e9a4bfc5\" x=\"156.336874\" y=\"90.581473\" style=\"fill: #1f77b4; stroke: #1f77b4\"/>\n     <use xlink:href=\"#mc0e9a4bfc5\" x=\"116.582235\" y=\"56.726632\" style=\"fill: #1f77b4; stroke: #1f77b4\"/>\n     <use xlink:href=\"#mc0e9a4bfc5\" x=\"130.375138\" y=\"94.406241\" style=\"fill: #1f77b4; stroke: #1f77b4\"/>\n     <use xlink:href=\"#mc0e9a4bfc5\" x=\"135.40426\" y=\"99.706802\" style=\"fill: #1f77b4; stroke: #1f77b4\"/>\n     <use xlink:href=\"#mc0e9a4bfc5\" x=\"151.913167\" y=\"69.080329\" style=\"fill: #1f77b4; stroke: #1f77b4\"/>\n     <use xlink:href=\"#mc0e9a4bfc5\" x=\"89.296874\" y=\"55.942877\" style=\"fill: #1f77b4; stroke: #1f77b4\"/>\n     <use xlink:href=\"#mc0e9a4bfc5\" x=\"127.076818\" y=\"43.632452\" style=\"fill: #1f77b4; stroke: #1f77b4\"/>\n     <use xlink:href=\"#mc0e9a4bfc5\" x=\"152.617718\" y=\"82.308572\" style=\"fill: #1f77b4; stroke: #1f77b4\"/>\n     <use xlink:href=\"#mc0e9a4bfc5\" x=\"125.015413\" y=\"42.544617\" style=\"fill: #1f77b4; stroke: #1f77b4\"/>\n     <use xlink:href=\"#mc0e9a4bfc5\" x=\"102.643577\" y=\"58.346111\" style=\"fill: #1f77b4; stroke: #1f77b4\"/>\n     <use xlink:href=\"#mc0e9a4bfc5\" x=\"134.16593\" y=\"62.976406\" style=\"fill: #1f77b4; stroke: #1f77b4\"/>\n     <use xlink:href=\"#mc0e9a4bfc5\" x=\"145.198875\" y=\"85.35408\" style=\"fill: #1f77b4; stroke: #1f77b4\"/>\n     <use xlink:href=\"#mc0e9a4bfc5\" x=\"142.781881\" y=\"82.642668\" style=\"fill: #1f77b4; stroke: #1f77b4\"/>\n     <use xlink:href=\"#mc0e9a4bfc5\" x=\"192.176547\" y=\"114.989716\" style=\"fill: #1f77b4; stroke: #1f77b4\"/>\n     <use xlink:href=\"#mc0e9a4bfc5\" x=\"149.577229\" y=\"77.542945\" style=\"fill: #1f77b4; stroke: #1f77b4\"/>\n     <use xlink:href=\"#mc0e9a4bfc5\" x=\"99.26575\" y=\"41.875132\" style=\"fill: #1f77b4; stroke: #1f77b4\"/>\n     <use xlink:href=\"#mc0e9a4bfc5\" x=\"147.127403\" y=\"62.14068\" style=\"fill: #1f77b4; stroke: #1f77b4\"/>\n     <use xlink:href=\"#mc0e9a4bfc5\" x=\"130.282156\" y=\"74.305402\" style=\"fill: #1f77b4; stroke: #1f77b4\"/>\n     <use xlink:href=\"#mc0e9a4bfc5\" x=\"163.922914\" y=\"102.732664\" style=\"fill: #1f77b4; stroke: #1f77b4\"/>\n     <use xlink:href=\"#mc0e9a4bfc5\" x=\"104.458641\" y=\"49.367568\" style=\"fill: #1f77b4; stroke: #1f77b4\"/>\n     <use xlink:href=\"#mc0e9a4bfc5\" x=\"121.528018\" y=\"64.167507\" style=\"fill: #1f77b4; stroke: #1f77b4\"/>\n     <use xlink:href=\"#mc0e9a4bfc5\" x=\"154.629908\" y=\"91.961899\" style=\"fill: #1f77b4; stroke: #1f77b4\"/>\n     <use xlink:href=\"#mc0e9a4bfc5\" x=\"167.249752\" y=\"91.861597\" style=\"fill: #1f77b4; stroke: #1f77b4\"/>\n     <use xlink:href=\"#mc0e9a4bfc5\" x=\"179.858954\" y=\"89.346571\" style=\"fill: #1f77b4; stroke: #1f77b4\"/>\n     <use xlink:href=\"#mc0e9a4bfc5\" x=\"133.702566\" y=\"81.668297\" style=\"fill: #1f77b4; stroke: #1f77b4\"/>\n     <use xlink:href=\"#mc0e9a4bfc5\" x=\"133.860456\" y=\"63.74179\" style=\"fill: #1f77b4; stroke: #1f77b4\"/>\n     <use xlink:href=\"#mc0e9a4bfc5\" x=\"102.653413\" y=\"33.317565\" style=\"fill: #1f77b4; stroke: #1f77b4\"/>\n     <use xlink:href=\"#mc0e9a4bfc5\" x=\"138.395912\" y=\"65.095352\" style=\"fill: #1f77b4; stroke: #1f77b4\"/>\n     <use xlink:href=\"#mc0e9a4bfc5\" x=\"119.598301\" y=\"59.450845\" style=\"fill: #1f77b4; stroke: #1f77b4\"/>\n     <use xlink:href=\"#mc0e9a4bfc5\" x=\"163.023863\" y=\"78.394812\" style=\"fill: #1f77b4; stroke: #1f77b4\"/>\n     <use xlink:href=\"#mc0e9a4bfc5\" x=\"142.544124\" y=\"94.269282\" style=\"fill: #1f77b4; stroke: #1f77b4\"/>\n     <use xlink:href=\"#mc0e9a4bfc5\" x=\"85.829371\" y=\"13.902326\" style=\"fill: #1f77b4; stroke: #1f77b4\"/>\n     <use xlink:href=\"#mc0e9a4bfc5\" x=\"106.091916\" y=\"59.713403\" style=\"fill: #1f77b4; stroke: #1f77b4\"/>\n     <use xlink:href=\"#mc0e9a4bfc5\" x=\"129.748744\" y=\"62.432606\" style=\"fill: #1f77b4; stroke: #1f77b4\"/>\n     <use xlink:href=\"#mc0e9a4bfc5\" x=\"147.320558\" y=\"71.117036\" style=\"fill: #1f77b4; stroke: #1f77b4\"/>\n     <use xlink:href=\"#mc0e9a4bfc5\" x=\"169.188466\" y=\"83.860846\" style=\"fill: #1f77b4; stroke: #1f77b4\"/>\n     <use xlink:href=\"#mc0e9a4bfc5\" x=\"163.269755\" y=\"72.027382\" style=\"fill: #1f77b4; stroke: #1f77b4\"/>\n     <use xlink:href=\"#mc0e9a4bfc5\" x=\"119.445655\" y=\"70.030311\" style=\"fill: #1f77b4; stroke: #1f77b4\"/>\n     <use xlink:href=\"#mc0e9a4bfc5\" x=\"152.375509\" y=\"93.547601\" style=\"fill: #1f77b4; stroke: #1f77b4\"/>\n     <use xlink:href=\"#mc0e9a4bfc5\" x=\"140.72106\" y=\"76.791966\" style=\"fill: #1f77b4; stroke: #1f77b4\"/>\n     <use xlink:href=\"#mc0e9a4bfc5\" x=\"140.657678\" y=\"63.366796\" style=\"fill: #1f77b4; stroke: #1f77b4\"/>\n     <use xlink:href=\"#mc0e9a4bfc5\" x=\"151.833724\" y=\"86.162492\" style=\"fill: #1f77b4; stroke: #1f77b4\"/>\n     <use xlink:href=\"#mc0e9a4bfc5\" x=\"129.557574\" y=\"61.658001\" style=\"fill: #1f77b4; stroke: #1f77b4\"/>\n     <use xlink:href=\"#mc0e9a4bfc5\" x=\"161.758658\" y=\"99.125298\" style=\"fill: #1f77b4; stroke: #1f77b4\"/>\n     <use xlink:href=\"#mc0e9a4bfc5\" x=\"104.485611\" y=\"61.927256\" style=\"fill: #1f77b4; stroke: #1f77b4\"/>\n     <use xlink:href=\"#mc0e9a4bfc5\" x=\"179.855437\" y=\"116.552502\" style=\"fill: #1f77b4; stroke: #1f77b4\"/>\n     <use xlink:href=\"#mc0e9a4bfc5\" x=\"151.771112\" y=\"108.050252\" style=\"fill: #1f77b4; stroke: #1f77b4\"/>\n     <use xlink:href=\"#mc0e9a4bfc5\" x=\"139.916629\" y=\"79.28301\" style=\"fill: #1f77b4; stroke: #1f77b4\"/>\n     <use xlink:href=\"#mc0e9a4bfc5\" x=\"146.258679\" y=\"72.092982\" style=\"fill: #1f77b4; stroke: #1f77b4\"/>\n     <use xlink:href=\"#mc0e9a4bfc5\" x=\"139.662536\" y=\"65.557844\" style=\"fill: #1f77b4; stroke: #1f77b4\"/>\n     <use xlink:href=\"#mc0e9a4bfc5\" x=\"112.149076\" y=\"70.89964\" style=\"fill: #1f77b4; stroke: #1f77b4\"/>\n     <use xlink:href=\"#mc0e9a4bfc5\" x=\"134.791888\" y=\"67.458474\" style=\"fill: #1f77b4; stroke: #1f77b4\"/>\n     <use xlink:href=\"#mc0e9a4bfc5\" x=\"145.357251\" y=\"73.635316\" style=\"fill: #1f77b4; stroke: #1f77b4\"/>\n     <use xlink:href=\"#mc0e9a4bfc5\" x=\"119.053427\" y=\"57.34832\" style=\"fill: #1f77b4; stroke: #1f77b4\"/>\n     <use xlink:href=\"#mc0e9a4bfc5\" x=\"114.275557\" y=\"58.517373\" style=\"fill: #1f77b4; stroke: #1f77b4\"/>\n     <use xlink:href=\"#mc0e9a4bfc5\" x=\"107.689637\" y=\"43.964273\" style=\"fill: #1f77b4; stroke: #1f77b4\"/>\n     <use xlink:href=\"#mc0e9a4bfc5\" x=\"93.058431\" y=\"49.633173\" style=\"fill: #1f77b4; stroke: #1f77b4\"/>\n     <use xlink:href=\"#mc0e9a4bfc5\" x=\"151.746663\" y=\"98.528308\" style=\"fill: #1f77b4; stroke: #1f77b4\"/>\n     <use xlink:href=\"#mc0e9a4bfc5\" x=\"135.756758\" y=\"76.183363\" style=\"fill: #1f77b4; stroke: #1f77b4\"/>\n     <use xlink:href=\"#mc0e9a4bfc5\" x=\"144.098925\" y=\"64.848066\" style=\"fill: #1f77b4; stroke: #1f77b4\"/>\n     <use xlink:href=\"#mc0e9a4bfc5\" x=\"99.520774\" y=\"46.98565\" style=\"fill: #1f77b4; stroke: #1f77b4\"/>\n     <use xlink:href=\"#mc0e9a4bfc5\" x=\"106.224704\" y=\"60.311672\" style=\"fill: #1f77b4; stroke: #1f77b4\"/>\n     <use xlink:href=\"#mc0e9a4bfc5\" x=\"163.403994\" y=\"95.791937\" style=\"fill: #1f77b4; stroke: #1f77b4\"/>\n     <use xlink:href=\"#mc0e9a4bfc5\" x=\"109.878541\" y=\"45.865967\" style=\"fill: #1f77b4; stroke: #1f77b4\"/>\n     <use xlink:href=\"#mc0e9a4bfc5\" x=\"121.763846\" y=\"62.272262\" style=\"fill: #1f77b4; stroke: #1f77b4\"/>\n     <use xlink:href=\"#mc0e9a4bfc5\" x=\"127.889215\" y=\"48.18063\" style=\"fill: #1f77b4; stroke: #1f77b4\"/>\n     <use xlink:href=\"#mc0e9a4bfc5\" x=\"73.763322\" y=\"19.371687\" style=\"fill: #1f77b4; stroke: #1f77b4\"/>\n     <use xlink:href=\"#mc0e9a4bfc5\" x=\"132.060181\" y=\"55.947642\" style=\"fill: #1f77b4; stroke: #1f77b4\"/>\n     <use xlink:href=\"#mc0e9a4bfc5\" x=\"147.334163\" y=\"73.513843\" style=\"fill: #1f77b4; stroke: #1f77b4\"/>\n     <use xlink:href=\"#mc0e9a4bfc5\" x=\"113.183548\" y=\"67.931823\" style=\"fill: #1f77b4; stroke: #1f77b4\"/>\n     <use xlink:href=\"#mc0e9a4bfc5\" x=\"196.536297\" y=\"106.887406\" style=\"fill: #1f77b4; stroke: #1f77b4\"/>\n     <use xlink:href=\"#mc0e9a4bfc5\" x=\"124.100051\" y=\"61.747161\" style=\"fill: #1f77b4; stroke: #1f77b4\"/>\n     <use xlink:href=\"#mc0e9a4bfc5\" x=\"137.847925\" y=\"67.222947\" style=\"fill: #1f77b4; stroke: #1f77b4\"/>\n     <use xlink:href=\"#mc0e9a4bfc5\" x=\"106.121799\" y=\"48.030759\" style=\"fill: #1f77b4; stroke: #1f77b4\"/>\n     <use xlink:href=\"#mc0e9a4bfc5\" x=\"126.201122\" y=\"66.551869\" style=\"fill: #1f77b4; stroke: #1f77b4\"/>\n     <use xlink:href=\"#mc0e9a4bfc5\" x=\"145.174979\" y=\"82.254552\" style=\"fill: #1f77b4; stroke: #1f77b4\"/>\n     <use xlink:href=\"#mc0e9a4bfc5\" x=\"147.659883\" y=\"64.490203\" style=\"fill: #1f77b4; stroke: #1f77b4\"/>\n     <use xlink:href=\"#mc0e9a4bfc5\" x=\"103.36221\" y=\"60.474967\" style=\"fill: #1f77b4; stroke: #1f77b4\"/>\n     <use xlink:href=\"#mc0e9a4bfc5\" x=\"129.641035\" y=\"74.562047\" style=\"fill: #1f77b4; stroke: #1f77b4\"/>\n     <use xlink:href=\"#mc0e9a4bfc5\" x=\"153.533238\" y=\"70.566425\" style=\"fill: #1f77b4; stroke: #1f77b4\"/>\n     <use xlink:href=\"#mc0e9a4bfc5\" x=\"146.592025\" y=\"79.424518\" style=\"fill: #1f77b4; stroke: #1f77b4\"/>\n     <use xlink:href=\"#mc0e9a4bfc5\" x=\"90.52196\" y=\"47.759694\" style=\"fill: #1f77b4; stroke: #1f77b4\"/>\n     <use xlink:href=\"#mc0e9a4bfc5\" x=\"183.723769\" y=\"112.288186\" style=\"fill: #1f77b4; stroke: #1f77b4\"/>\n     <use xlink:href=\"#mc0e9a4bfc5\" x=\"132.575465\" y=\"55.676425\" style=\"fill: #1f77b4; stroke: #1f77b4\"/>\n     <use xlink:href=\"#mc0e9a4bfc5\" x=\"186.615553\" y=\"102.989952\" style=\"fill: #1f77b4; stroke: #1f77b4\"/>\n     <use xlink:href=\"#mc0e9a4bfc5\" x=\"114.29022\" y=\"69.069167\" style=\"fill: #1f77b4; stroke: #1f77b4\"/>\n     <use xlink:href=\"#mc0e9a4bfc5\" x=\"125.214451\" y=\"51.64321\" style=\"fill: #1f77b4; stroke: #1f77b4\"/>\n     <use xlink:href=\"#mc0e9a4bfc5\" x=\"141.790999\" y=\"88.622871\" style=\"fill: #1f77b4; stroke: #1f77b4\"/>\n     <use xlink:href=\"#mc0e9a4bfc5\" x=\"147.55009\" y=\"62.983795\" style=\"fill: #1f77b4; stroke: #1f77b4\"/>\n     <use xlink:href=\"#mc0e9a4bfc5\" x=\"163.945043\" y=\"94.752102\" style=\"fill: #1f77b4; stroke: #1f77b4\"/>\n     <use xlink:href=\"#mc0e9a4bfc5\" x=\"110.769179\" y=\"30.795769\" style=\"fill: #1f77b4; stroke: #1f77b4\"/>\n     <use xlink:href=\"#mc0e9a4bfc5\" x=\"153.792675\" y=\"82.431104\" style=\"fill: #1f77b4; stroke: #1f77b4\"/>\n     <use xlink:href=\"#mc0e9a4bfc5\" x=\"145.243586\" y=\"68.964286\" style=\"fill: #1f77b4; stroke: #1f77b4\"/>\n     <use xlink:href=\"#mc0e9a4bfc5\" x=\"128.923513\" y=\"81.68148\" style=\"fill: #1f77b4; stroke: #1f77b4\"/>\n     <use xlink:href=\"#mc0e9a4bfc5\" x=\"178.268725\" y=\"103.012457\" style=\"fill: #1f77b4; stroke: #1f77b4\"/>\n     <use xlink:href=\"#mc0e9a4bfc5\" x=\"87.086667\" y=\"25.402509\" style=\"fill: #1f77b4; stroke: #1f77b4\"/>\n     <use xlink:href=\"#mc0e9a4bfc5\" x=\"150.74904\" y=\"84.793053\" style=\"fill: #1f77b4; stroke: #1f77b4\"/>\n     <use xlink:href=\"#mc0e9a4bfc5\" x=\"115.058828\" y=\"53.600584\" style=\"fill: #1f77b4; stroke: #1f77b4\"/>\n     <use xlink:href=\"#mc0e9a4bfc5\" x=\"116.803935\" y=\"72.310987\" style=\"fill: #1f77b4; stroke: #1f77b4\"/>\n     <use xlink:href=\"#mc0e9a4bfc5\" x=\"137.199872\" y=\"54.973212\" style=\"fill: #1f77b4; stroke: #1f77b4\"/>\n     <use xlink:href=\"#mc0e9a4bfc5\" x=\"160.117632\" y=\"86.424055\" style=\"fill: #1f77b4; stroke: #1f77b4\"/>\n     <use xlink:href=\"#mc0e9a4bfc5\" x=\"140.834878\" y=\"90.383841\" style=\"fill: #1f77b4; stroke: #1f77b4\"/>\n     <use xlink:href=\"#mc0e9a4bfc5\" x=\"121.246163\" y=\"66.793445\" style=\"fill: #1f77b4; stroke: #1f77b4\"/>\n     <use xlink:href=\"#mc0e9a4bfc5\" x=\"88.036143\" y=\"56.27893\" style=\"fill: #1f77b4; stroke: #1f77b4\"/>\n     <use xlink:href=\"#mc0e9a4bfc5\" x=\"145.740434\" y=\"67.902329\" style=\"fill: #1f77b4; stroke: #1f77b4\"/>\n     <use xlink:href=\"#mc0e9a4bfc5\" x=\"151.17816\" y=\"80.475662\" style=\"fill: #1f77b4; stroke: #1f77b4\"/>\n     <use xlink:href=\"#mc0e9a4bfc5\" x=\"155.301868\" y=\"73.261479\" style=\"fill: #1f77b4; stroke: #1f77b4\"/>\n     <use xlink:href=\"#mc0e9a4bfc5\" x=\"144.068319\" y=\"87.250545\" style=\"fill: #1f77b4; stroke: #1f77b4\"/>\n     <use xlink:href=\"#mc0e9a4bfc5\" x=\"174.930262\" y=\"111.581617\" style=\"fill: #1f77b4; stroke: #1f77b4\"/>\n     <use xlink:href=\"#mc0e9a4bfc5\" x=\"137.557099\" y=\"64.643207\" style=\"fill: #1f77b4; stroke: #1f77b4\"/>\n     <use xlink:href=\"#mc0e9a4bfc5\" x=\"122.292959\" y=\"57.601367\" style=\"fill: #1f77b4; stroke: #1f77b4\"/>\n     <use xlink:href=\"#mc0e9a4bfc5\" x=\"100.304319\" y=\"51.060047\" style=\"fill: #1f77b4; stroke: #1f77b4\"/>\n     <use xlink:href=\"#mc0e9a4bfc5\" x=\"144.413231\" y=\"72.665614\" style=\"fill: #1f77b4; stroke: #1f77b4\"/>\n     <use xlink:href=\"#mc0e9a4bfc5\" x=\"149.67392\" y=\"97.799007\" style=\"fill: #1f77b4; stroke: #1f77b4\"/>\n     <use xlink:href=\"#mc0e9a4bfc5\" x=\"136.02879\" y=\"65.619152\" style=\"fill: #1f77b4; stroke: #1f77b4\"/>\n     <use xlink:href=\"#mc0e9a4bfc5\" x=\"140.970908\" y=\"61.888878\" style=\"fill: #1f77b4; stroke: #1f77b4\"/>\n     <use xlink:href=\"#mc0e9a4bfc5\" x=\"123.494972\" y=\"64.126409\" style=\"fill: #1f77b4; stroke: #1f77b4\"/>\n     <use xlink:href=\"#mc0e9a4bfc5\" x=\"163.08934\" y=\"95.703848\" style=\"fill: #1f77b4; stroke: #1f77b4\"/>\n     <use xlink:href=\"#mc0e9a4bfc5\" x=\"177.985119\" y=\"112.527055\" style=\"fill: #1f77b4; stroke: #1f77b4\"/>\n     <use xlink:href=\"#mc0e9a4bfc5\" x=\"143.91877\" y=\"99.951289\" style=\"fill: #1f77b4; stroke: #1f77b4\"/>\n     <use xlink:href=\"#mc0e9a4bfc5\" x=\"100.148804\" y=\"42.840299\" style=\"fill: #1f77b4; stroke: #1f77b4\"/>\n     <use xlink:href=\"#mc0e9a4bfc5\" x=\"158.525503\" y=\"113.043036\" style=\"fill: #1f77b4; stroke: #1f77b4\"/>\n     <use xlink:href=\"#mc0e9a4bfc5\" x=\"183.313481\" y=\"102.939351\" style=\"fill: #1f77b4; stroke: #1f77b4\"/>\n     <use xlink:href=\"#mc0e9a4bfc5\" x=\"93.652457\" y=\"43.869553\" style=\"fill: #1f77b4; stroke: #1f77b4\"/>\n     <use xlink:href=\"#mc0e9a4bfc5\" x=\"146.400052\" y=\"107.643107\" style=\"fill: #1f77b4; stroke: #1f77b4\"/>\n     <use xlink:href=\"#mc0e9a4bfc5\" x=\"114.071394\" y=\"63.251892\" style=\"fill: #1f77b4; stroke: #1f77b4\"/>\n     <use xlink:href=\"#mc0e9a4bfc5\" x=\"142.424811\" y=\"76.036391\" style=\"fill: #1f77b4; stroke: #1f77b4\"/>\n     <use xlink:href=\"#mc0e9a4bfc5\" x=\"98.87714\" y=\"58.735867\" style=\"fill: #1f77b4; stroke: #1f77b4\"/>\n     <use xlink:href=\"#mc0e9a4bfc5\" x=\"122.269376\" y=\"66.610985\" style=\"fill: #1f77b4; stroke: #1f77b4\"/>\n     <use xlink:href=\"#mc0e9a4bfc5\" x=\"95.355338\" y=\"44.347386\" style=\"fill: #1f77b4; stroke: #1f77b4\"/>\n     <use xlink:href=\"#mc0e9a4bfc5\" x=\"120.924304\" y=\"53.710309\" style=\"fill: #1f77b4; stroke: #1f77b4\"/>\n     <use xlink:href=\"#mc0e9a4bfc5\" x=\"107.908812\" y=\"55.75434\" style=\"fill: #1f77b4; stroke: #1f77b4\"/>\n     <use xlink:href=\"#mc0e9a4bfc5\" x=\"90.245194\" y=\"41.279001\" style=\"fill: #1f77b4; stroke: #1f77b4\"/>\n     <use xlink:href=\"#mc0e9a4bfc5\" x=\"153.586881\" y=\"74.746265\" style=\"fill: #1f77b4; stroke: #1f77b4\"/>\n     <use xlink:href=\"#mc0e9a4bfc5\" x=\"145.17813\" y=\"80.002878\" style=\"fill: #1f77b4; stroke: #1f77b4\"/>\n     <use xlink:href=\"#mc0e9a4bfc5\" x=\"85.165483\" y=\"34.732739\" style=\"fill: #1f77b4; stroke: #1f77b4\"/>\n     <use xlink:href=\"#mc0e9a4bfc5\" x=\"145.993048\" y=\"88.642648\" style=\"fill: #1f77b4; stroke: #1f77b4\"/>\n     <use xlink:href=\"#mc0e9a4bfc5\" x=\"156.882362\" y=\"98.637442\" style=\"fill: #1f77b4; stroke: #1f77b4\"/>\n     <use xlink:href=\"#mc0e9a4bfc5\" x=\"139.470595\" y=\"90.157433\" style=\"fill: #1f77b4; stroke: #1f77b4\"/>\n     <use xlink:href=\"#mc0e9a4bfc5\" x=\"163.465252\" y=\"93.411843\" style=\"fill: #1f77b4; stroke: #1f77b4\"/>\n     <use xlink:href=\"#mc0e9a4bfc5\" x=\"105.98254\" y=\"55.888886\" style=\"fill: #1f77b4; stroke: #1f77b4\"/>\n     <use xlink:href=\"#mc0e9a4bfc5\" x=\"162.184281\" y=\"86.389164\" style=\"fill: #1f77b4; stroke: #1f77b4\"/>\n     <use xlink:href=\"#mc0e9a4bfc5\" x=\"148.933722\" y=\"78.835814\" style=\"fill: #1f77b4; stroke: #1f77b4\"/>\n     <use xlink:href=\"#mc0e9a4bfc5\" x=\"155.833955\" y=\"83.613585\" style=\"fill: #1f77b4; stroke: #1f77b4\"/>\n     <use xlink:href=\"#mc0e9a4bfc5\" x=\"151.496963\" y=\"75.676689\" style=\"fill: #1f77b4; stroke: #1f77b4\"/>\n     <use xlink:href=\"#mc0e9a4bfc5\" x=\"204.948912\" y=\"100.347315\" style=\"fill: #1f77b4; stroke: #1f77b4\"/>\n     <use xlink:href=\"#mc0e9a4bfc5\" x=\"118.055128\" y=\"52.772587\" style=\"fill: #1f77b4; stroke: #1f77b4\"/>\n     <use xlink:href=\"#mc0e9a4bfc5\" x=\"147.331843\" y=\"86.53241\" style=\"fill: #1f77b4; stroke: #1f77b4\"/>\n     <use xlink:href=\"#mc0e9a4bfc5\" x=\"123.562843\" y=\"77.970062\" style=\"fill: #1f77b4; stroke: #1f77b4\"/>\n     <use xlink:href=\"#mc0e9a4bfc5\" x=\"137.218793\" y=\"81.654833\" style=\"fill: #1f77b4; stroke: #1f77b4\"/>\n     <use xlink:href=\"#mc0e9a4bfc5\" x=\"170.129133\" y=\"90.440947\" style=\"fill: #1f77b4; stroke: #1f77b4\"/>\n     <use xlink:href=\"#mc0e9a4bfc5\" x=\"156.985836\" y=\"91.536889\" style=\"fill: #1f77b4; stroke: #1f77b4\"/>\n     <use xlink:href=\"#mc0e9a4bfc5\" x=\"142.893829\" y=\"69.304834\" style=\"fill: #1f77b4; stroke: #1f77b4\"/>\n     <use xlink:href=\"#mc0e9a4bfc5\" x=\"137.264816\" y=\"81.942525\" style=\"fill: #1f77b4; stroke: #1f77b4\"/>\n     <use xlink:href=\"#mc0e9a4bfc5\" x=\"105.205862\" y=\"41.266955\" style=\"fill: #1f77b4; stroke: #1f77b4\"/>\n     <use xlink:href=\"#mc0e9a4bfc5\" x=\"141.504429\" y=\"88.606758\" style=\"fill: #1f77b4; stroke: #1f77b4\"/>\n     <use xlink:href=\"#mc0e9a4bfc5\" x=\"101.637443\" y=\"49.887135\" style=\"fill: #1f77b4; stroke: #1f77b4\"/>\n     <use xlink:href=\"#mc0e9a4bfc5\" x=\"106.937381\" y=\"74.389555\" style=\"fill: #1f77b4; stroke: #1f77b4\"/>\n     <use xlink:href=\"#mc0e9a4bfc5\" x=\"81.544495\" y=\"32.712653\" style=\"fill: #1f77b4; stroke: #1f77b4\"/>\n     <use xlink:href=\"#mc0e9a4bfc5\" x=\"178.732725\" y=\"95.786162\" style=\"fill: #1f77b4; stroke: #1f77b4\"/>\n     <use xlink:href=\"#mc0e9a4bfc5\" x=\"134.007865\" y=\"74.997206\" style=\"fill: #1f77b4; stroke: #1f77b4\"/>\n     <use xlink:href=\"#mc0e9a4bfc5\" x=\"126.90724\" y=\"65.210487\" style=\"fill: #1f77b4; stroke: #1f77b4\"/>\n     <use xlink:href=\"#mc0e9a4bfc5\" x=\"111.447189\" y=\"67.215282\" style=\"fill: #1f77b4; stroke: #1f77b4\"/>\n     <use xlink:href=\"#mc0e9a4bfc5\" x=\"148.442858\" y=\"84.250731\" style=\"fill: #1f77b4; stroke: #1f77b4\"/>\n     <use xlink:href=\"#mc0e9a4bfc5\" x=\"142.59456\" y=\"67.956522\" style=\"fill: #1f77b4; stroke: #1f77b4\"/>\n     <use xlink:href=\"#mc0e9a4bfc5\" x=\"111.165488\" y=\"52.315783\" style=\"fill: #1f77b4; stroke: #1f77b4\"/>\n     <use xlink:href=\"#mc0e9a4bfc5\" x=\"76.882635\" y=\"41.675223\" style=\"fill: #1f77b4; stroke: #1f77b4\"/>\n     <use xlink:href=\"#mc0e9a4bfc5\" x=\"147.012796\" y=\"56.594187\" style=\"fill: #1f77b4; stroke: #1f77b4\"/>\n     <use xlink:href=\"#mc0e9a4bfc5\" x=\"172.91799\" y=\"82.463054\" style=\"fill: #1f77b4; stroke: #1f77b4\"/>\n     <use xlink:href=\"#mc0e9a4bfc5\" x=\"136.079805\" y=\"77.871852\" style=\"fill: #1f77b4; stroke: #1f77b4\"/>\n     <use xlink:href=\"#mc0e9a4bfc5\" x=\"168.168536\" y=\"84.017962\" style=\"fill: #1f77b4; stroke: #1f77b4\"/>\n     <use xlink:href=\"#mc0e9a4bfc5\" x=\"142.737825\" y=\"69.904408\" style=\"fill: #1f77b4; stroke: #1f77b4\"/>\n     <use xlink:href=\"#mc0e9a4bfc5\" x=\"132.010893\" y=\"58.700652\" style=\"fill: #1f77b4; stroke: #1f77b4\"/>\n     <use xlink:href=\"#mc0e9a4bfc5\" x=\"148.716746\" y=\"73.863741\" style=\"fill: #1f77b4; stroke: #1f77b4\"/>\n     <use xlink:href=\"#mc0e9a4bfc5\" x=\"155.788335\" y=\"88.778669\" style=\"fill: #1f77b4; stroke: #1f77b4\"/>\n     <use xlink:href=\"#mc0e9a4bfc5\" x=\"130.712734\" y=\"71.094279\" style=\"fill: #1f77b4; stroke: #1f77b4\"/>\n     <use xlink:href=\"#mc0e9a4bfc5\" x=\"146.321899\" y=\"78.121021\" style=\"fill: #1f77b4; stroke: #1f77b4\"/>\n     <use xlink:href=\"#mc0e9a4bfc5\" x=\"169.794861\" y=\"87.776543\" style=\"fill: #1f77b4; stroke: #1f77b4\"/>\n     <use xlink:href=\"#mc0e9a4bfc5\" x=\"106.798521\" y=\"60.603422\" style=\"fill: #1f77b4; stroke: #1f77b4\"/>\n     <use xlink:href=\"#mc0e9a4bfc5\" x=\"157.428182\" y=\"87.389403\" style=\"fill: #1f77b4; stroke: #1f77b4\"/>\n     <use xlink:href=\"#mc0e9a4bfc5\" x=\"148.738409\" y=\"76.745935\" style=\"fill: #1f77b4; stroke: #1f77b4\"/>\n     <use xlink:href=\"#mc0e9a4bfc5\" x=\"154.043006\" y=\"65.683557\" style=\"fill: #1f77b4; stroke: #1f77b4\"/>\n     <use xlink:href=\"#mc0e9a4bfc5\" x=\"118.978434\" y=\"69.021175\" style=\"fill: #1f77b4; stroke: #1f77b4\"/>\n     <use xlink:href=\"#mc0e9a4bfc5\" x=\"192.193476\" y=\"101.449213\" style=\"fill: #1f77b4; stroke: #1f77b4\"/>\n     <use xlink:href=\"#mc0e9a4bfc5\" x=\"126.206803\" y=\"77.357941\" style=\"fill: #1f77b4; stroke: #1f77b4\"/>\n     <use xlink:href=\"#mc0e9a4bfc5\" x=\"142.155606\" y=\"69.090546\" style=\"fill: #1f77b4; stroke: #1f77b4\"/>\n     <use xlink:href=\"#mc0e9a4bfc5\" x=\"164.753333\" y=\"77.716774\" style=\"fill: #1f77b4; stroke: #1f77b4\"/>\n     <use xlink:href=\"#mc0e9a4bfc5\" x=\"188.015235\" y=\"96.466661\" style=\"fill: #1f77b4; stroke: #1f77b4\"/>\n     <use xlink:href=\"#mc0e9a4bfc5\" x=\"143.716617\" y=\"83.891594\" style=\"fill: #1f77b4; stroke: #1f77b4\"/>\n     <use xlink:href=\"#mc0e9a4bfc5\" x=\"93.93359\" y=\"42.579844\" style=\"fill: #1f77b4; stroke: #1f77b4\"/>\n     <use xlink:href=\"#mc0e9a4bfc5\" x=\"106.772624\" y=\"66.643735\" style=\"fill: #1f77b4; stroke: #1f77b4\"/>\n     <use xlink:href=\"#mc0e9a4bfc5\" x=\"113.895576\" y=\"58.953881\" style=\"fill: #1f77b4; stroke: #1f77b4\"/>\n     <use xlink:href=\"#mc0e9a4bfc5\" x=\"169.437716\" y=\"90.37949\" style=\"fill: #1f77b4; stroke: #1f77b4\"/>\n     <use xlink:href=\"#mc0e9a4bfc5\" x=\"129.809955\" y=\"71.151407\" style=\"fill: #1f77b4; stroke: #1f77b4\"/>\n     <use xlink:href=\"#mc0e9a4bfc5\" x=\"44.18196\" y=\"13.5\" style=\"fill: #1f77b4; stroke: #1f77b4\"/>\n     <use xlink:href=\"#mc0e9a4bfc5\" x=\"144.310675\" y=\"82.518857\" style=\"fill: #1f77b4; stroke: #1f77b4\"/>\n     <use xlink:href=\"#mc0e9a4bfc5\" x=\"144.157714\" y=\"69.789345\" style=\"fill: #1f77b4; stroke: #1f77b4\"/>\n     <use xlink:href=\"#mc0e9a4bfc5\" x=\"139.393553\" y=\"76.150775\" style=\"fill: #1f77b4; stroke: #1f77b4\"/>\n     <use xlink:href=\"#mc0e9a4bfc5\" x=\"83.198555\" y=\"39.75127\" style=\"fill: #1f77b4; stroke: #1f77b4\"/>\n     <use xlink:href=\"#mc0e9a4bfc5\" x=\"146.289021\" y=\"68.910945\" style=\"fill: #1f77b4; stroke: #1f77b4\"/>\n     <use xlink:href=\"#mc0e9a4bfc5\" x=\"153.847358\" y=\"71.674731\" style=\"fill: #1f77b4; stroke: #1f77b4\"/>\n     <use xlink:href=\"#mc0e9a4bfc5\" x=\"107.818798\" y=\"56.020458\" style=\"fill: #1f77b4; stroke: #1f77b4\"/>\n     <use xlink:href=\"#mc0e9a4bfc5\" x=\"84.330406\" y=\"50.841411\" style=\"fill: #1f77b4; stroke: #1f77b4\"/>\n     <use xlink:href=\"#mc0e9a4bfc5\" x=\"95.283537\" y=\"58.346057\" style=\"fill: #1f77b4; stroke: #1f77b4\"/>\n     <use xlink:href=\"#mc0e9a4bfc5\" x=\"146.847237\" y=\"89.825198\" style=\"fill: #1f77b4; stroke: #1f77b4\"/>\n     <use xlink:href=\"#mc0e9a4bfc5\" x=\"158.305955\" y=\"82.548265\" style=\"fill: #1f77b4; stroke: #1f77b4\"/>\n     <use xlink:href=\"#mc0e9a4bfc5\" x=\"173.919452\" y=\"92.642388\" style=\"fill: #1f77b4; stroke: #1f77b4\"/>\n     <use xlink:href=\"#mc0e9a4bfc5\" x=\"109.654269\" y=\"46.163576\" style=\"fill: #1f77b4; stroke: #1f77b4\"/>\n     <use xlink:href=\"#mc0e9a4bfc5\" x=\"165.804848\" y=\"107.967704\" style=\"fill: #1f77b4; stroke: #1f77b4\"/>\n     <use xlink:href=\"#mc0e9a4bfc5\" x=\"144.611516\" y=\"87.394108\" style=\"fill: #1f77b4; stroke: #1f77b4\"/>\n     <use xlink:href=\"#mc0e9a4bfc5\" x=\"102.271045\" y=\"45.247076\" style=\"fill: #1f77b4; stroke: #1f77b4\"/>\n     <use xlink:href=\"#mc0e9a4bfc5\" x=\"140.998623\" y=\"94.406903\" style=\"fill: #1f77b4; stroke: #1f77b4\"/>\n     <use xlink:href=\"#mc0e9a4bfc5\" x=\"101.187605\" y=\"41.417762\" style=\"fill: #1f77b4; stroke: #1f77b4\"/>\n     <use xlink:href=\"#mc0e9a4bfc5\" x=\"122.810888\" y=\"51.610313\" style=\"fill: #1f77b4; stroke: #1f77b4\"/>\n     <use xlink:href=\"#mc0e9a4bfc5\" x=\"141.871348\" y=\"89.211404\" style=\"fill: #1f77b4; stroke: #1f77b4\"/>\n     <use xlink:href=\"#mc0e9a4bfc5\" x=\"161.102563\" y=\"84.730134\" style=\"fill: #1f77b4; stroke: #1f77b4\"/>\n     <use xlink:href=\"#mc0e9a4bfc5\" x=\"99.768451\" y=\"51.491945\" style=\"fill: #1f77b4; stroke: #1f77b4\"/>\n     <use xlink:href=\"#mc0e9a4bfc5\" x=\"137.048081\" y=\"69.720594\" style=\"fill: #1f77b4; stroke: #1f77b4\"/>\n     <use xlink:href=\"#mc0e9a4bfc5\" x=\"102.590262\" y=\"49.673041\" style=\"fill: #1f77b4; stroke: #1f77b4\"/>\n     <use xlink:href=\"#mc0e9a4bfc5\" x=\"159.907348\" y=\"88.614427\" style=\"fill: #1f77b4; stroke: #1f77b4\"/>\n     <use xlink:href=\"#mc0e9a4bfc5\" x=\"142.058123\" y=\"77.674924\" style=\"fill: #1f77b4; stroke: #1f77b4\"/>\n     <use xlink:href=\"#mc0e9a4bfc5\" x=\"144.172153\" y=\"62.061651\" style=\"fill: #1f77b4; stroke: #1f77b4\"/>\n     <use xlink:href=\"#mc0e9a4bfc5\" x=\"143.352962\" y=\"87.60181\" style=\"fill: #1f77b4; stroke: #1f77b4\"/>\n     <use xlink:href=\"#mc0e9a4bfc5\" x=\"105.880398\" y=\"50.271595\" style=\"fill: #1f77b4; stroke: #1f77b4\"/>\n     <use xlink:href=\"#mc0e9a4bfc5\" x=\"138.49269\" y=\"70.197966\" style=\"fill: #1f77b4; stroke: #1f77b4\"/>\n     <use xlink:href=\"#mc0e9a4bfc5\" x=\"116.484776\" y=\"62.216245\" style=\"fill: #1f77b4; stroke: #1f77b4\"/>\n     <use xlink:href=\"#mc0e9a4bfc5\" x=\"80.184439\" y=\"28.426848\" style=\"fill: #1f77b4; stroke: #1f77b4\"/>\n     <use xlink:href=\"#mc0e9a4bfc5\" x=\"105.80788\" y=\"62.995091\" style=\"fill: #1f77b4; stroke: #1f77b4\"/>\n     <use xlink:href=\"#mc0e9a4bfc5\" x=\"112.194113\" y=\"66.83274\" style=\"fill: #1f77b4; stroke: #1f77b4\"/>\n     <use xlink:href=\"#mc0e9a4bfc5\" x=\"129.628761\" y=\"75.445308\" style=\"fill: #1f77b4; stroke: #1f77b4\"/>\n     <use xlink:href=\"#mc0e9a4bfc5\" x=\"118.653118\" y=\"62.861025\" style=\"fill: #1f77b4; stroke: #1f77b4\"/>\n     <use xlink:href=\"#mc0e9a4bfc5\" x=\"191.139419\" y=\"104.422495\" style=\"fill: #1f77b4; stroke: #1f77b4\"/>\n     <use xlink:href=\"#mc0e9a4bfc5\" x=\"96.517286\" y=\"56.168643\" style=\"fill: #1f77b4; stroke: #1f77b4\"/>\n     <use xlink:href=\"#mc0e9a4bfc5\" x=\"197.178412\" y=\"86.681352\" style=\"fill: #1f77b4; stroke: #1f77b4\"/>\n     <use xlink:href=\"#mc0e9a4bfc5\" x=\"121.353463\" y=\"57.153987\" style=\"fill: #1f77b4; stroke: #1f77b4\"/>\n     <use xlink:href=\"#mc0e9a4bfc5\" x=\"179.831762\" y=\"94.68933\" style=\"fill: #1f77b4; stroke: #1f77b4\"/>\n     <use xlink:href=\"#mc0e9a4bfc5\" x=\"107.244981\" y=\"59.885795\" style=\"fill: #1f77b4; stroke: #1f77b4\"/>\n     <use xlink:href=\"#mc0e9a4bfc5\" x=\"97.965442\" y=\"53.128361\" style=\"fill: #1f77b4; stroke: #1f77b4\"/>\n     <use xlink:href=\"#mc0e9a4bfc5\" x=\"122.72488\" y=\"75.317708\" style=\"fill: #1f77b4; stroke: #1f77b4\"/>\n     <use xlink:href=\"#mc0e9a4bfc5\" x=\"138.048097\" y=\"64.018574\" style=\"fill: #1f77b4; stroke: #1f77b4\"/>\n     <use xlink:href=\"#mc0e9a4bfc5\" x=\"169.13125\" y=\"71.525042\" style=\"fill: #1f77b4; stroke: #1f77b4\"/>\n     <use xlink:href=\"#mc0e9a4bfc5\" x=\"118.072623\" y=\"74.938058\" style=\"fill: #1f77b4; stroke: #1f77b4\"/>\n     <use xlink:href=\"#mc0e9a4bfc5\" x=\"139.251116\" y=\"86.209209\" style=\"fill: #1f77b4; stroke: #1f77b4\"/>\n     <use xlink:href=\"#mc0e9a4bfc5\" x=\"105.357878\" y=\"51.885135\" style=\"fill: #1f77b4; stroke: #1f77b4\"/>\n     <use xlink:href=\"#mc0e9a4bfc5\" x=\"202.143195\" y=\"105.632087\" style=\"fill: #1f77b4; stroke: #1f77b4\"/>\n     <use xlink:href=\"#mc0e9a4bfc5\" x=\"98.450781\" y=\"42.219832\" style=\"fill: #1f77b4; stroke: #1f77b4\"/>\n     <use xlink:href=\"#mc0e9a4bfc5\" x=\"112.772615\" y=\"62.616097\" style=\"fill: #1f77b4; stroke: #1f77b4\"/>\n     <use xlink:href=\"#mc0e9a4bfc5\" x=\"131.595624\" y=\"64.198016\" style=\"fill: #1f77b4; stroke: #1f77b4\"/>\n     <use xlink:href=\"#mc0e9a4bfc5\" x=\"111.410513\" y=\"51.906552\" style=\"fill: #1f77b4; stroke: #1f77b4\"/>\n     <use xlink:href=\"#mc0e9a4bfc5\" x=\"140.192414\" y=\"71.093222\" style=\"fill: #1f77b4; stroke: #1f77b4\"/>\n     <use xlink:href=\"#mc0e9a4bfc5\" x=\"154.276356\" y=\"95.838959\" style=\"fill: #1f77b4; stroke: #1f77b4\"/>\n     <use xlink:href=\"#mc0e9a4bfc5\" x=\"115.834232\" y=\"74.745947\" style=\"fill: #1f77b4; stroke: #1f77b4\"/>\n     <use xlink:href=\"#mc0e9a4bfc5\" x=\"95.337345\" y=\"43.218682\" style=\"fill: #1f77b4; stroke: #1f77b4\"/>\n     <use xlink:href=\"#mc0e9a4bfc5\" x=\"134.841958\" y=\"72.373981\" style=\"fill: #1f77b4; stroke: #1f77b4\"/>\n     <use xlink:href=\"#mc0e9a4bfc5\" x=\"138.440254\" y=\"83.060639\" style=\"fill: #1f77b4; stroke: #1f77b4\"/>\n     <use xlink:href=\"#mc0e9a4bfc5\" x=\"179.851084\" y=\"99.711309\" style=\"fill: #1f77b4; stroke: #1f77b4\"/>\n     <use xlink:href=\"#mc0e9a4bfc5\" x=\"144.034254\" y=\"91.903334\" style=\"fill: #1f77b4; stroke: #1f77b4\"/>\n     <use xlink:href=\"#mc0e9a4bfc5\" x=\"140.394234\" y=\"80.193882\" style=\"fill: #1f77b4; stroke: #1f77b4\"/>\n     <use xlink:href=\"#mc0e9a4bfc5\" x=\"83.119292\" y=\"38.366261\" style=\"fill: #1f77b4; stroke: #1f77b4\"/>\n     <use xlink:href=\"#mc0e9a4bfc5\" x=\"95.890721\" y=\"35.960971\" style=\"fill: #1f77b4; stroke: #1f77b4\"/>\n     <use xlink:href=\"#mc0e9a4bfc5\" x=\"150.105117\" y=\"97.441132\" style=\"fill: #1f77b4; stroke: #1f77b4\"/>\n     <use xlink:href=\"#mc0e9a4bfc5\" x=\"175.261644\" y=\"98.433035\" style=\"fill: #1f77b4; stroke: #1f77b4\"/>\n     <use xlink:href=\"#mc0e9a4bfc5\" x=\"155.818683\" y=\"67.564791\" style=\"fill: #1f77b4; stroke: #1f77b4\"/>\n     <use xlink:href=\"#mc0e9a4bfc5\" x=\"117.738118\" y=\"49.99871\" style=\"fill: #1f77b4; stroke: #1f77b4\"/>\n     <use xlink:href=\"#mc0e9a4bfc5\" x=\"124.56782\" y=\"49.194811\" style=\"fill: #1f77b4; stroke: #1f77b4\"/>\n     <use xlink:href=\"#mc0e9a4bfc5\" x=\"151.625326\" y=\"86.397261\" style=\"fill: #1f77b4; stroke: #1f77b4\"/>\n     <use xlink:href=\"#mc0e9a4bfc5\" x=\"111.26306\" y=\"60.556015\" style=\"fill: #1f77b4; stroke: #1f77b4\"/>\n     <use xlink:href=\"#mc0e9a4bfc5\" x=\"161.922716\" y=\"95.890607\" style=\"fill: #1f77b4; stroke: #1f77b4\"/>\n     <use xlink:href=\"#mc0e9a4bfc5\" x=\"84.001167\" y=\"49.30088\" style=\"fill: #1f77b4; stroke: #1f77b4\"/>\n     <use xlink:href=\"#mc0e9a4bfc5\" x=\"83.904035\" y=\"37.730272\" style=\"fill: #1f77b4; stroke: #1f77b4\"/>\n     <use xlink:href=\"#mc0e9a4bfc5\" x=\"142.025032\" y=\"75.850869\" style=\"fill: #1f77b4; stroke: #1f77b4\"/>\n     <use xlink:href=\"#mc0e9a4bfc5\" x=\"150.204031\" y=\"79.560985\" style=\"fill: #1f77b4; stroke: #1f77b4\"/>\n     <use xlink:href=\"#mc0e9a4bfc5\" x=\"119.650978\" y=\"58.492073\" style=\"fill: #1f77b4; stroke: #1f77b4\"/>\n     <use xlink:href=\"#mc0e9a4bfc5\" x=\"131.037682\" y=\"65.189582\" style=\"fill: #1f77b4; stroke: #1f77b4\"/>\n     <use xlink:href=\"#mc0e9a4bfc5\" x=\"130.313346\" y=\"69.464972\" style=\"fill: #1f77b4; stroke: #1f77b4\"/>\n     <use xlink:href=\"#mc0e9a4bfc5\" x=\"159.842448\" y=\"85.787764\" style=\"fill: #1f77b4; stroke: #1f77b4\"/>\n     <use xlink:href=\"#mc0e9a4bfc5\" x=\"161.101816\" y=\"86.485085\" style=\"fill: #1f77b4; stroke: #1f77b4\"/>\n     <use xlink:href=\"#mc0e9a4bfc5\" x=\"158.587779\" y=\"78.183996\" style=\"fill: #1f77b4; stroke: #1f77b4\"/>\n     <use xlink:href=\"#mc0e9a4bfc5\" x=\"80.65903\" y=\"56.825097\" style=\"fill: #1f77b4; stroke: #1f77b4\"/>\n     <use xlink:href=\"#mc0e9a4bfc5\" x=\"109.006676\" y=\"60.819155\" style=\"fill: #1f77b4; stroke: #1f77b4\"/>\n     <use xlink:href=\"#mc0e9a4bfc5\" x=\"133.622131\" y=\"49.68338\" style=\"fill: #1f77b4; stroke: #1f77b4\"/>\n     <use xlink:href=\"#mc0e9a4bfc5\" x=\"137.395154\" y=\"66.273817\" style=\"fill: #1f77b4; stroke: #1f77b4\"/>\n     <use xlink:href=\"#mc0e9a4bfc5\" x=\"140.072071\" y=\"92.315111\" style=\"fill: #1f77b4; stroke: #1f77b4\"/>\n     <use xlink:href=\"#mc0e9a4bfc5\" x=\"123.754383\" y=\"66.935281\" style=\"fill: #1f77b4; stroke: #1f77b4\"/>\n     <use xlink:href=\"#mc0e9a4bfc5\" x=\"154.938372\" y=\"86.787697\" style=\"fill: #1f77b4; stroke: #1f77b4\"/>\n     <use xlink:href=\"#mc0e9a4bfc5\" x=\"124.842029\" y=\"62.225885\" style=\"fill: #1f77b4; stroke: #1f77b4\"/>\n     <use xlink:href=\"#mc0e9a4bfc5\" x=\"163.834957\" y=\"110.602437\" style=\"fill: #1f77b4; stroke: #1f77b4\"/>\n     <use xlink:href=\"#mc0e9a4bfc5\" x=\"110.701356\" y=\"54.663949\" style=\"fill: #1f77b4; stroke: #1f77b4\"/>\n     <use xlink:href=\"#mc0e9a4bfc5\" x=\"122.015925\" y=\"58.148671\" style=\"fill: #1f77b4; stroke: #1f77b4\"/>\n     <use xlink:href=\"#mc0e9a4bfc5\" x=\"120.310072\" y=\"70.689745\" style=\"fill: #1f77b4; stroke: #1f77b4\"/>\n     <use xlink:href=\"#mc0e9a4bfc5\" x=\"127.171237\" y=\"70.020718\" style=\"fill: #1f77b4; stroke: #1f77b4\"/>\n     <use xlink:href=\"#mc0e9a4bfc5\" x=\"145.500564\" y=\"95.57389\" style=\"fill: #1f77b4; stroke: #1f77b4\"/>\n     <use xlink:href=\"#mc0e9a4bfc5\" x=\"119.128632\" y=\"73.656848\" style=\"fill: #1f77b4; stroke: #1f77b4\"/>\n     <use xlink:href=\"#mc0e9a4bfc5\" x=\"157.792589\" y=\"80.37926\" style=\"fill: #1f77b4; stroke: #1f77b4\"/>\n     <use xlink:href=\"#mc0e9a4bfc5\" x=\"161.080909\" y=\"96.999041\" style=\"fill: #1f77b4; stroke: #1f77b4\"/>\n     <use xlink:href=\"#mc0e9a4bfc5\" x=\"152.251475\" y=\"92.46178\" style=\"fill: #1f77b4; stroke: #1f77b4\"/>\n     <use xlink:href=\"#mc0e9a4bfc5\" x=\"130.961246\" y=\"59.290928\" style=\"fill: #1f77b4; stroke: #1f77b4\"/>\n     <use xlink:href=\"#mc0e9a4bfc5\" x=\"153.117165\" y=\"73.237839\" style=\"fill: #1f77b4; stroke: #1f77b4\"/>\n     <use xlink:href=\"#mc0e9a4bfc5\" x=\"130.506133\" y=\"71.765505\" style=\"fill: #1f77b4; stroke: #1f77b4\"/>\n     <use xlink:href=\"#mc0e9a4bfc5\" x=\"106.43499\" y=\"57.500512\" style=\"fill: #1f77b4; stroke: #1f77b4\"/>\n     <use xlink:href=\"#mc0e9a4bfc5\" x=\"139.018816\" y=\"43.036644\" style=\"fill: #1f77b4; stroke: #1f77b4\"/>\n     <use xlink:href=\"#mc0e9a4bfc5\" x=\"157.241651\" y=\"88.045221\" style=\"fill: #1f77b4; stroke: #1f77b4\"/>\n     <use xlink:href=\"#mc0e9a4bfc5\" x=\"180.488585\" y=\"92.279786\" style=\"fill: #1f77b4; stroke: #1f77b4\"/>\n     <use xlink:href=\"#mc0e9a4bfc5\" x=\"195.218487\" y=\"114.934651\" style=\"fill: #1f77b4; stroke: #1f77b4\"/>\n     <use xlink:href=\"#mc0e9a4bfc5\" x=\"150.107383\" y=\"85.892062\" style=\"fill: #1f77b4; stroke: #1f77b4\"/>\n     <use xlink:href=\"#mc0e9a4bfc5\" x=\"111.275146\" y=\"52.156887\" style=\"fill: #1f77b4; stroke: #1f77b4\"/>\n     <use xlink:href=\"#mc0e9a4bfc5\" x=\"99.540955\" y=\"48.072718\" style=\"fill: #1f77b4; stroke: #1f77b4\"/>\n     <use xlink:href=\"#mc0e9a4bfc5\" x=\"106.531454\" y=\"41.180136\" style=\"fill: #1f77b4; stroke: #1f77b4\"/>\n     <use xlink:href=\"#mc0e9a4bfc5\" x=\"138.677094\" y=\"82.50207\" style=\"fill: #1f77b4; stroke: #1f77b4\"/>\n     <use xlink:href=\"#mc0e9a4bfc5\" x=\"136.689524\" y=\"80.158113\" style=\"fill: #1f77b4; stroke: #1f77b4\"/>\n     <use xlink:href=\"#mc0e9a4bfc5\" x=\"173.343934\" y=\"122.94733\" style=\"fill: #1f77b4; stroke: #1f77b4\"/>\n     <use xlink:href=\"#mc0e9a4bfc5\" x=\"117.189395\" y=\"64.975449\" style=\"fill: #1f77b4; stroke: #1f77b4\"/>\n     <use xlink:href=\"#mc0e9a4bfc5\" x=\"142.428963\" y=\"83.640647\" style=\"fill: #1f77b4; stroke: #1f77b4\"/>\n     <use xlink:href=\"#mc0e9a4bfc5\" x=\"154.033077\" y=\"84.473504\" style=\"fill: #1f77b4; stroke: #1f77b4\"/>\n     <use xlink:href=\"#mc0e9a4bfc5\" x=\"119.722368\" y=\"50.178251\" style=\"fill: #1f77b4; stroke: #1f77b4\"/>\n     <use xlink:href=\"#mc0e9a4bfc5\" x=\"133.990001\" y=\"77.516533\" style=\"fill: #1f77b4; stroke: #1f77b4\"/>\n     <use xlink:href=\"#mc0e9a4bfc5\" x=\"161.217789\" y=\"65.320657\" style=\"fill: #1f77b4; stroke: #1f77b4\"/>\n     <use xlink:href=\"#mc0e9a4bfc5\" x=\"175.920256\" y=\"98.24899\" style=\"fill: #1f77b4; stroke: #1f77b4\"/>\n     <use xlink:href=\"#mc0e9a4bfc5\" x=\"136.667871\" y=\"92.210529\" style=\"fill: #1f77b4; stroke: #1f77b4\"/>\n     <use xlink:href=\"#mc0e9a4bfc5\" x=\"156.529152\" y=\"100.327036\" style=\"fill: #1f77b4; stroke: #1f77b4\"/>\n     <use xlink:href=\"#mc0e9a4bfc5\" x=\"109.305053\" y=\"46.149555\" style=\"fill: #1f77b4; stroke: #1f77b4\"/>\n     <use xlink:href=\"#mc0e9a4bfc5\" x=\"210.275097\" y=\"139.5\" style=\"fill: #1f77b4; stroke: #1f77b4\"/>\n     <use xlink:href=\"#mc0e9a4bfc5\" x=\"169.419388\" y=\"108.376886\" style=\"fill: #1f77b4; stroke: #1f77b4\"/>\n     <use xlink:href=\"#mc0e9a4bfc5\" x=\"125.174416\" y=\"52.213091\" style=\"fill: #1f77b4; stroke: #1f77b4\"/>\n     <use xlink:href=\"#mc0e9a4bfc5\" x=\"130.256603\" y=\"80.964092\" style=\"fill: #1f77b4; stroke: #1f77b4\"/>\n     <use xlink:href=\"#mc0e9a4bfc5\" x=\"126.387973\" y=\"63.25807\" style=\"fill: #1f77b4; stroke: #1f77b4\"/>\n     <use xlink:href=\"#mc0e9a4bfc5\" x=\"127.573221\" y=\"50.500018\" style=\"fill: #1f77b4; stroke: #1f77b4\"/>\n     <use xlink:href=\"#mc0e9a4bfc5\" x=\"131.054357\" y=\"93.880493\" style=\"fill: #1f77b4; stroke: #1f77b4\"/>\n     <use xlink:href=\"#mc0e9a4bfc5\" x=\"88.329966\" y=\"32.064356\" style=\"fill: #1f77b4; stroke: #1f77b4\"/>\n     <use xlink:href=\"#mc0e9a4bfc5\" x=\"131.94462\" y=\"81.820645\" style=\"fill: #1f77b4; stroke: #1f77b4\"/>\n     <use xlink:href=\"#mc0e9a4bfc5\" x=\"150.997695\" y=\"85.385983\" style=\"fill: #1f77b4; stroke: #1f77b4\"/>\n     <use xlink:href=\"#mc0e9a4bfc5\" x=\"154.44\" y=\"89.80182\" style=\"fill: #1f77b4; stroke: #1f77b4\"/>\n     <use xlink:href=\"#mc0e9a4bfc5\" x=\"124.852061\" y=\"71.717939\" style=\"fill: #1f77b4; stroke: #1f77b4\"/>\n     <use xlink:href=\"#mc0e9a4bfc5\" x=\"128.808262\" y=\"69.512678\" style=\"fill: #1f77b4; stroke: #1f77b4\"/>\n     <use xlink:href=\"#mc0e9a4bfc5\" x=\"175.479035\" y=\"82.876403\" style=\"fill: #1f77b4; stroke: #1f77b4\"/>\n     <use xlink:href=\"#mc0e9a4bfc5\" x=\"125.608063\" y=\"90.212349\" style=\"fill: #1f77b4; stroke: #1f77b4\"/>\n     <use xlink:href=\"#mc0e9a4bfc5\" x=\"185.984459\" y=\"97.841594\" style=\"fill: #1f77b4; stroke: #1f77b4\"/>\n     <use xlink:href=\"#mc0e9a4bfc5\" x=\"178.673582\" y=\"92.26642\" style=\"fill: #1f77b4; stroke: #1f77b4\"/>\n     <use xlink:href=\"#mc0e9a4bfc5\" x=\"108.592294\" y=\"54.308127\" style=\"fill: #1f77b4; stroke: #1f77b4\"/>\n     <use xlink:href=\"#mc0e9a4bfc5\" x=\"102.386398\" y=\"63.757242\" style=\"fill: #1f77b4; stroke: #1f77b4\"/>\n     <use xlink:href=\"#mc0e9a4bfc5\" x=\"134.522687\" y=\"68.889624\" style=\"fill: #1f77b4; stroke: #1f77b4\"/>\n     <use xlink:href=\"#mc0e9a4bfc5\" x=\"155.558953\" y=\"88.358529\" style=\"fill: #1f77b4; stroke: #1f77b4\"/>\n     <use xlink:href=\"#mc0e9a4bfc5\" x=\"221.727415\" y=\"138.235638\" style=\"fill: #1f77b4; stroke: #1f77b4\"/>\n     <use xlink:href=\"#mc0e9a4bfc5\" x=\"97.844551\" y=\"52.140565\" style=\"fill: #1f77b4; stroke: #1f77b4\"/>\n     <use xlink:href=\"#mc0e9a4bfc5\" x=\"124.430211\" y=\"65.691452\" style=\"fill: #1f77b4; stroke: #1f77b4\"/>\n     <use xlink:href=\"#mc0e9a4bfc5\" x=\"154.530487\" y=\"89.450889\" style=\"fill: #1f77b4; stroke: #1f77b4\"/>\n     <use xlink:href=\"#mc0e9a4bfc5\" x=\"138.67793\" y=\"65.096388\" style=\"fill: #1f77b4; stroke: #1f77b4\"/>\n     <use xlink:href=\"#mc0e9a4bfc5\" x=\"164.228679\" y=\"100.161739\" style=\"fill: #1f77b4; stroke: #1f77b4\"/>\n     <use xlink:href=\"#mc0e9a4bfc5\" x=\"91.96142\" y=\"56.099221\" style=\"fill: #1f77b4; stroke: #1f77b4\"/>\n     <use xlink:href=\"#mc0e9a4bfc5\" x=\"129.19857\" y=\"80.91188\" style=\"fill: #1f77b4; stroke: #1f77b4\"/>\n     <use xlink:href=\"#mc0e9a4bfc5\" x=\"104.943069\" y=\"56.01189\" style=\"fill: #1f77b4; stroke: #1f77b4\"/>\n     <use xlink:href=\"#mc0e9a4bfc5\" x=\"170.548864\" y=\"109.479124\" style=\"fill: #1f77b4; stroke: #1f77b4\"/>\n     <use xlink:href=\"#mc0e9a4bfc5\" x=\"109.738602\" y=\"42.504946\" style=\"fill: #1f77b4; stroke: #1f77b4\"/>\n     <use xlink:href=\"#mc0e9a4bfc5\" x=\"135.294645\" y=\"73.542728\" style=\"fill: #1f77b4; stroke: #1f77b4\"/>\n     <use xlink:href=\"#mc0e9a4bfc5\" x=\"143.535484\" y=\"88.139652\" style=\"fill: #1f77b4; stroke: #1f77b4\"/>\n     <use xlink:href=\"#mc0e9a4bfc5\" x=\"144.40623\" y=\"72.063519\" style=\"fill: #1f77b4; stroke: #1f77b4\"/>\n     <use xlink:href=\"#mc0e9a4bfc5\" x=\"166.964979\" y=\"103.242836\" style=\"fill: #1f77b4; stroke: #1f77b4\"/>\n     <use xlink:href=\"#mc0e9a4bfc5\" x=\"126.149388\" y=\"62.05975\" style=\"fill: #1f77b4; stroke: #1f77b4\"/>\n     <use xlink:href=\"#mc0e9a4bfc5\" x=\"68.800703\" y=\"17.956008\" style=\"fill: #1f77b4; stroke: #1f77b4\"/>\n     <use xlink:href=\"#mc0e9a4bfc5\" x=\"134.336487\" y=\"46.812687\" style=\"fill: #1f77b4; stroke: #1f77b4\"/>\n     <use xlink:href=\"#mc0e9a4bfc5\" x=\"168.886703\" y=\"107.181219\" style=\"fill: #1f77b4; stroke: #1f77b4\"/>\n     <use xlink:href=\"#mc0e9a4bfc5\" x=\"164.933218\" y=\"111.150286\" style=\"fill: #1f77b4; stroke: #1f77b4\"/>\n     <use xlink:href=\"#mc0e9a4bfc5\" x=\"122.791392\" y=\"49.49191\" style=\"fill: #1f77b4; stroke: #1f77b4\"/>\n     <use xlink:href=\"#mc0e9a4bfc5\" x=\"128.414388\" y=\"67.587366\" style=\"fill: #1f77b4; stroke: #1f77b4\"/>\n     <use xlink:href=\"#mc0e9a4bfc5\" x=\"126.790072\" y=\"63.268553\" style=\"fill: #1f77b4; stroke: #1f77b4\"/>\n     <use xlink:href=\"#mc0e9a4bfc5\" x=\"128.947743\" y=\"70.326159\" style=\"fill: #1f77b4; stroke: #1f77b4\"/>\n     <use xlink:href=\"#mc0e9a4bfc5\" x=\"131.713984\" y=\"87.655085\" style=\"fill: #1f77b4; stroke: #1f77b4\"/>\n     <use xlink:href=\"#mc0e9a4bfc5\" x=\"160.827076\" y=\"67.35346\" style=\"fill: #1f77b4; stroke: #1f77b4\"/>\n     <use xlink:href=\"#mc0e9a4bfc5\" x=\"141.907291\" y=\"68.783012\" style=\"fill: #1f77b4; stroke: #1f77b4\"/>\n     <use xlink:href=\"#mc0e9a4bfc5\" x=\"123.711622\" y=\"70.159633\" style=\"fill: #1f77b4; stroke: #1f77b4\"/>\n     <use xlink:href=\"#mc0e9a4bfc5\" x=\"139.788568\" y=\"89.793392\" style=\"fill: #1f77b4; stroke: #1f77b4\"/>\n     <use xlink:href=\"#mc0e9a4bfc5\" x=\"96.334661\" y=\"60.529412\" style=\"fill: #1f77b4; stroke: #1f77b4\"/>\n     <use xlink:href=\"#mc0e9a4bfc5\" x=\"152.692868\" y=\"88.055209\" style=\"fill: #1f77b4; stroke: #1f77b4\"/>\n     <use xlink:href=\"#mc0e9a4bfc5\" x=\"172.450833\" y=\"95.168808\" style=\"fill: #1f77b4; stroke: #1f77b4\"/>\n     <use xlink:href=\"#mc0e9a4bfc5\" x=\"161.798539\" y=\"96.313267\" style=\"fill: #1f77b4; stroke: #1f77b4\"/>\n     <use xlink:href=\"#mc0e9a4bfc5\" x=\"152.015276\" y=\"92.295985\" style=\"fill: #1f77b4; stroke: #1f77b4\"/>\n     <use xlink:href=\"#mc0e9a4bfc5\" x=\"138.826952\" y=\"82.505537\" style=\"fill: #1f77b4; stroke: #1f77b4\"/>\n     <use xlink:href=\"#mc0e9a4bfc5\" x=\"125.253326\" y=\"82.451542\" style=\"fill: #1f77b4; stroke: #1f77b4\"/>\n     <use xlink:href=\"#mc0e9a4bfc5\" x=\"154.776454\" y=\"96.357806\" style=\"fill: #1f77b4; stroke: #1f77b4\"/>\n     <use xlink:href=\"#mc0e9a4bfc5\" x=\"102.935507\" y=\"69.012691\" style=\"fill: #1f77b4; stroke: #1f77b4\"/>\n     <use xlink:href=\"#mc0e9a4bfc5\" x=\"114.091742\" y=\"71.562154\" style=\"fill: #1f77b4; stroke: #1f77b4\"/>\n     <use xlink:href=\"#mc0e9a4bfc5\" x=\"147.364915\" y=\"98.632308\" style=\"fill: #1f77b4; stroke: #1f77b4\"/>\n     <use xlink:href=\"#mc0e9a4bfc5\" x=\"147.999653\" y=\"85.175237\" style=\"fill: #1f77b4; stroke: #1f77b4\"/>\n     <use xlink:href=\"#mc0e9a4bfc5\" x=\"146.724467\" y=\"79.861961\" style=\"fill: #1f77b4; stroke: #1f77b4\"/>\n     <use xlink:href=\"#mc0e9a4bfc5\" x=\"127.696424\" y=\"58.082023\" style=\"fill: #1f77b4; stroke: #1f77b4\"/>\n     <use xlink:href=\"#mc0e9a4bfc5\" x=\"96.348938\" y=\"26.752216\" style=\"fill: #1f77b4; stroke: #1f77b4\"/>\n     <use xlink:href=\"#mc0e9a4bfc5\" x=\"133.102178\" y=\"58.431542\" style=\"fill: #1f77b4; stroke: #1f77b4\"/>\n     <use xlink:href=\"#mc0e9a4bfc5\" x=\"151.926223\" y=\"85.880892\" style=\"fill: #1f77b4; stroke: #1f77b4\"/>\n     <use xlink:href=\"#mc0e9a4bfc5\" x=\"167.181843\" y=\"96.341947\" style=\"fill: #1f77b4; stroke: #1f77b4\"/>\n     <use xlink:href=\"#mc0e9a4bfc5\" x=\"119.335782\" y=\"46.452933\" style=\"fill: #1f77b4; stroke: #1f77b4\"/>\n     <use xlink:href=\"#mc0e9a4bfc5\" x=\"141.500221\" y=\"69.620537\" style=\"fill: #1f77b4; stroke: #1f77b4\"/>\n     <use xlink:href=\"#mc0e9a4bfc5\" x=\"164.295348\" y=\"86.396338\" style=\"fill: #1f77b4; stroke: #1f77b4\"/>\n     <use xlink:href=\"#mc0e9a4bfc5\" x=\"137.734506\" y=\"87.494505\" style=\"fill: #1f77b4; stroke: #1f77b4\"/>\n     <use xlink:href=\"#mc0e9a4bfc5\" x=\"168.983291\" y=\"86.314856\" style=\"fill: #1f77b4; stroke: #1f77b4\"/>\n     <use xlink:href=\"#mc0e9a4bfc5\" x=\"131.508433\" y=\"69.307906\" style=\"fill: #1f77b4; stroke: #1f77b4\"/>\n     <use xlink:href=\"#mc0e9a4bfc5\" x=\"144.782247\" y=\"75.657464\" style=\"fill: #1f77b4; stroke: #1f77b4\"/>\n     <use xlink:href=\"#mc0e9a4bfc5\" x=\"164.853814\" y=\"79.283884\" style=\"fill: #1f77b4; stroke: #1f77b4\"/>\n     <use xlink:href=\"#mc0e9a4bfc5\" x=\"106.305817\" y=\"38.583381\" style=\"fill: #1f77b4; stroke: #1f77b4\"/>\n     <use xlink:href=\"#mc0e9a4bfc5\" x=\"140.45434\" y=\"49.657697\" style=\"fill: #1f77b4; stroke: #1f77b4\"/>\n     <use xlink:href=\"#mc0e9a4bfc5\" x=\"96.02863\" y=\"54.37383\" style=\"fill: #1f77b4; stroke: #1f77b4\"/>\n     <use xlink:href=\"#mc0e9a4bfc5\" x=\"133.876952\" y=\"58.966807\" style=\"fill: #1f77b4; stroke: #1f77b4\"/>\n     <use xlink:href=\"#mc0e9a4bfc5\" x=\"147.834743\" y=\"89.245249\" style=\"fill: #1f77b4; stroke: #1f77b4\"/>\n     <use xlink:href=\"#mc0e9a4bfc5\" x=\"104.378759\" y=\"41.533426\" style=\"fill: #1f77b4; stroke: #1f77b4\"/>\n     <use xlink:href=\"#mc0e9a4bfc5\" x=\"131.61868\" y=\"74.222426\" style=\"fill: #1f77b4; stroke: #1f77b4\"/>\n     <use xlink:href=\"#mc0e9a4bfc5\" x=\"172.511924\" y=\"89.727558\" style=\"fill: #1f77b4; stroke: #1f77b4\"/>\n     <use xlink:href=\"#mc0e9a4bfc5\" x=\"68.860623\" y=\"24.215646\" style=\"fill: #1f77b4; stroke: #1f77b4\"/>\n     <use xlink:href=\"#mc0e9a4bfc5\" x=\"167.086757\" y=\"87.838707\" style=\"fill: #1f77b4; stroke: #1f77b4\"/>\n     <use xlink:href=\"#mc0e9a4bfc5\" x=\"115.352768\" y=\"55.656671\" style=\"fill: #1f77b4; stroke: #1f77b4\"/>\n     <use xlink:href=\"#mc0e9a4bfc5\" x=\"108.648291\" y=\"66.324194\" style=\"fill: #1f77b4; stroke: #1f77b4\"/>\n     <use xlink:href=\"#mc0e9a4bfc5\" x=\"125.672194\" y=\"68.341459\" style=\"fill: #1f77b4; stroke: #1f77b4\"/>\n     <use xlink:href=\"#mc0e9a4bfc5\" x=\"83.989712\" y=\"36.132573\" style=\"fill: #1f77b4; stroke: #1f77b4\"/>\n     <use xlink:href=\"#mc0e9a4bfc5\" x=\"155.613302\" y=\"92.063597\" style=\"fill: #1f77b4; stroke: #1f77b4\"/>\n     <use xlink:href=\"#mc0e9a4bfc5\" x=\"124.916783\" y=\"72.045461\" style=\"fill: #1f77b4; stroke: #1f77b4\"/>\n     <use xlink:href=\"#mc0e9a4bfc5\" x=\"166.401955\" y=\"92.473374\" style=\"fill: #1f77b4; stroke: #1f77b4\"/>\n     <use xlink:href=\"#mc0e9a4bfc5\" x=\"144.123031\" y=\"68.474463\" style=\"fill: #1f77b4; stroke: #1f77b4\"/>\n     <use xlink:href=\"#mc0e9a4bfc5\" x=\"128.427842\" y=\"63.772285\" style=\"fill: #1f77b4; stroke: #1f77b4\"/>\n     <use xlink:href=\"#mc0e9a4bfc5\" x=\"188.234261\" y=\"115.803056\" style=\"fill: #1f77b4; stroke: #1f77b4\"/>\n     <use xlink:href=\"#mc0e9a4bfc5\" x=\"170.940297\" y=\"114.560167\" style=\"fill: #1f77b4; stroke: #1f77b4\"/>\n     <use xlink:href=\"#mc0e9a4bfc5\" x=\"104.444291\" y=\"50.880062\" style=\"fill: #1f77b4; stroke: #1f77b4\"/>\n     <use xlink:href=\"#mc0e9a4bfc5\" x=\"83.406522\" y=\"21.763326\" style=\"fill: #1f77b4; stroke: #1f77b4\"/>\n     <use xlink:href=\"#mc0e9a4bfc5\" x=\"155.390995\" y=\"94.861405\" style=\"fill: #1f77b4; stroke: #1f77b4\"/>\n     <use xlink:href=\"#mc0e9a4bfc5\" x=\"144.653872\" y=\"52.199085\" style=\"fill: #1f77b4; stroke: #1f77b4\"/>\n     <use xlink:href=\"#mc0e9a4bfc5\" x=\"147.762595\" y=\"85.393256\" style=\"fill: #1f77b4; stroke: #1f77b4\"/>\n     <use xlink:href=\"#mc0e9a4bfc5\" x=\"142.596854\" y=\"73.48649\" style=\"fill: #1f77b4; stroke: #1f77b4\"/>\n     <use xlink:href=\"#mc0e9a4bfc5\" x=\"155.753051\" y=\"85.564505\" style=\"fill: #1f77b4; stroke: #1f77b4\"/>\n     <use xlink:href=\"#mc0e9a4bfc5\" x=\"153.243798\" y=\"98.951419\" style=\"fill: #1f77b4; stroke: #1f77b4\"/>\n     <use xlink:href=\"#mc0e9a4bfc5\" x=\"110.354211\" y=\"49.495868\" style=\"fill: #1f77b4; stroke: #1f77b4\"/>\n     <use xlink:href=\"#mc0e9a4bfc5\" x=\"127.777352\" y=\"69.214318\" style=\"fill: #1f77b4; stroke: #1f77b4\"/>\n     <use xlink:href=\"#mc0e9a4bfc5\" x=\"102.923052\" y=\"48.228825\" style=\"fill: #1f77b4; stroke: #1f77b4\"/>\n     <use xlink:href=\"#mc0e9a4bfc5\" x=\"104.718578\" y=\"37.263994\" style=\"fill: #1f77b4; stroke: #1f77b4\"/>\n     <use xlink:href=\"#mc0e9a4bfc5\" x=\"111.926217\" y=\"50.72832\" style=\"fill: #1f77b4; stroke: #1f77b4\"/>\n     <use xlink:href=\"#mc0e9a4bfc5\" x=\"94.585028\" y=\"44.219778\" style=\"fill: #1f77b4; stroke: #1f77b4\"/>\n     <use xlink:href=\"#mc0e9a4bfc5\" x=\"130.428762\" y=\"64.338597\" style=\"fill: #1f77b4; stroke: #1f77b4\"/>\n     <use xlink:href=\"#mc0e9a4bfc5\" x=\"82.147644\" y=\"48.403874\" style=\"fill: #1f77b4; stroke: #1f77b4\"/>\n     <use xlink:href=\"#mc0e9a4bfc5\" x=\"124.252922\" y=\"59.586514\" style=\"fill: #1f77b4; stroke: #1f77b4\"/>\n     <use xlink:href=\"#mc0e9a4bfc5\" x=\"122.100379\" y=\"72.657329\" style=\"fill: #1f77b4; stroke: #1f77b4\"/>\n     <use xlink:href=\"#mc0e9a4bfc5\" x=\"158.286374\" y=\"87.715394\" style=\"fill: #1f77b4; stroke: #1f77b4\"/>\n     <use xlink:href=\"#mc0e9a4bfc5\" x=\"99.321857\" y=\"51.240481\" style=\"fill: #1f77b4; stroke: #1f77b4\"/>\n     <use xlink:href=\"#mc0e9a4bfc5\" x=\"153.44504\" y=\"74.855665\" style=\"fill: #1f77b4; stroke: #1f77b4\"/>\n     <use xlink:href=\"#mc0e9a4bfc5\" x=\"103.397912\" y=\"44.459752\" style=\"fill: #1f77b4; stroke: #1f77b4\"/>\n     <use xlink:href=\"#mc0e9a4bfc5\" x=\"149.243942\" y=\"71.855876\" style=\"fill: #1f77b4; stroke: #1f77b4\"/>\n     <use xlink:href=\"#mc0e9a4bfc5\" x=\"135.755142\" y=\"77.57612\" style=\"fill: #1f77b4; stroke: #1f77b4\"/>\n     <use xlink:href=\"#mc0e9a4bfc5\" x=\"127.767949\" y=\"36.058021\" style=\"fill: #1f77b4; stroke: #1f77b4\"/>\n     <use xlink:href=\"#mc0e9a4bfc5\" x=\"90.053593\" y=\"41.64647\" style=\"fill: #1f77b4; stroke: #1f77b4\"/>\n     <use xlink:href=\"#mc0e9a4bfc5\" x=\"162.291258\" y=\"84.30698\" style=\"fill: #1f77b4; stroke: #1f77b4\"/>\n     <use xlink:href=\"#mc0e9a4bfc5\" x=\"172.448245\" y=\"102.925156\" style=\"fill: #1f77b4; stroke: #1f77b4\"/>\n     <use xlink:href=\"#mc0e9a4bfc5\" x=\"105.327061\" y=\"60.080065\" style=\"fill: #1f77b4; stroke: #1f77b4\"/>\n     <use xlink:href=\"#mc0e9a4bfc5\" x=\"104.743966\" y=\"35.350015\" style=\"fill: #1f77b4; stroke: #1f77b4\"/>\n     <use xlink:href=\"#mc0e9a4bfc5\" x=\"158.61223\" y=\"79.135184\" style=\"fill: #1f77b4; stroke: #1f77b4\"/>\n     <use xlink:href=\"#mc0e9a4bfc5\" x=\"150.748079\" y=\"71.399332\" style=\"fill: #1f77b4; stroke: #1f77b4\"/>\n     <use xlink:href=\"#mc0e9a4bfc5\" x=\"152.213358\" y=\"82.053335\" style=\"fill: #1f77b4; stroke: #1f77b4\"/>\n     <use xlink:href=\"#mc0e9a4bfc5\" x=\"168.61934\" y=\"88.359541\" style=\"fill: #1f77b4; stroke: #1f77b4\"/>\n     <use xlink:href=\"#mc0e9a4bfc5\" x=\"164.406552\" y=\"79.561914\" style=\"fill: #1f77b4; stroke: #1f77b4\"/>\n     <use xlink:href=\"#mc0e9a4bfc5\" x=\"143.531301\" y=\"79.311032\" style=\"fill: #1f77b4; stroke: #1f77b4\"/>\n     <use xlink:href=\"#mc0e9a4bfc5\" x=\"149.21808\" y=\"89.197978\" style=\"fill: #1f77b4; stroke: #1f77b4\"/>\n     <use xlink:href=\"#mc0e9a4bfc5\" x=\"156.72197\" y=\"73.773634\" style=\"fill: #1f77b4; stroke: #1f77b4\"/>\n     <use xlink:href=\"#mc0e9a4bfc5\" x=\"97.66096\" y=\"37.19747\" style=\"fill: #1f77b4; stroke: #1f77b4\"/>\n     <use xlink:href=\"#mc0e9a4bfc5\" x=\"142.352886\" y=\"84.285459\" style=\"fill: #1f77b4; stroke: #1f77b4\"/>\n     <use xlink:href=\"#mc0e9a4bfc5\" x=\"150.686851\" y=\"96.623571\" style=\"fill: #1f77b4; stroke: #1f77b4\"/>\n     <use xlink:href=\"#mc0e9a4bfc5\" x=\"163.778174\" y=\"106.696432\" style=\"fill: #1f77b4; stroke: #1f77b4\"/>\n     <use xlink:href=\"#mc0e9a4bfc5\" x=\"151.687974\" y=\"92.541491\" style=\"fill: #1f77b4; stroke: #1f77b4\"/>\n     <use xlink:href=\"#mc0e9a4bfc5\" x=\"135.371739\" y=\"77.140922\" style=\"fill: #1f77b4; stroke: #1f77b4\"/>\n     <use xlink:href=\"#mc0e9a4bfc5\" x=\"102.195159\" y=\"45.222577\" style=\"fill: #1f77b4; stroke: #1f77b4\"/>\n     <use xlink:href=\"#mc0e9a4bfc5\" x=\"141.059637\" y=\"81.98573\" style=\"fill: #1f77b4; stroke: #1f77b4\"/>\n     <use xlink:href=\"#mc0e9a4bfc5\" x=\"120.60108\" y=\"70.541099\" style=\"fill: #1f77b4; stroke: #1f77b4\"/>\n     <use xlink:href=\"#mc0e9a4bfc5\" x=\"105.241943\" y=\"43.741889\" style=\"fill: #1f77b4; stroke: #1f77b4\"/>\n     <use xlink:href=\"#mc0e9a4bfc5\" x=\"141.154686\" y=\"72.084596\" style=\"fill: #1f77b4; stroke: #1f77b4\"/>\n     <use xlink:href=\"#mc0e9a4bfc5\" x=\"101.754481\" y=\"46.337704\" style=\"fill: #1f77b4; stroke: #1f77b4\"/>\n     <use xlink:href=\"#mc0e9a4bfc5\" x=\"115.560345\" y=\"62.556447\" style=\"fill: #1f77b4; stroke: #1f77b4\"/>\n     <use xlink:href=\"#mc0e9a4bfc5\" x=\"170.502082\" y=\"96.802209\" style=\"fill: #1f77b4; stroke: #1f77b4\"/>\n     <use xlink:href=\"#mc0e9a4bfc5\" x=\"108.255919\" y=\"47.138394\" style=\"fill: #1f77b4; stroke: #1f77b4\"/>\n     <use xlink:href=\"#mc0e9a4bfc5\" x=\"96.788919\" y=\"35.76421\" style=\"fill: #1f77b4; stroke: #1f77b4\"/>\n     <use xlink:href=\"#mc0e9a4bfc5\" x=\"149.292212\" y=\"63.828999\" style=\"fill: #1f77b4; stroke: #1f77b4\"/>\n     <use xlink:href=\"#mc0e9a4bfc5\" x=\"103.561434\" y=\"57.59551\" style=\"fill: #1f77b4; stroke: #1f77b4\"/>\n     <use xlink:href=\"#mc0e9a4bfc5\" x=\"105.770474\" y=\"50.718725\" style=\"fill: #1f77b4; stroke: #1f77b4\"/>\n     <use xlink:href=\"#mc0e9a4bfc5\" x=\"129.374343\" y=\"74.252439\" style=\"fill: #1f77b4; stroke: #1f77b4\"/>\n     <use xlink:href=\"#mc0e9a4bfc5\" x=\"104.042567\" y=\"54.140212\" style=\"fill: #1f77b4; stroke: #1f77b4\"/>\n     <use xlink:href=\"#mc0e9a4bfc5\" x=\"148.766385\" y=\"83.174007\" style=\"fill: #1f77b4; stroke: #1f77b4\"/>\n     <use xlink:href=\"#mc0e9a4bfc5\" x=\"133.268481\" y=\"80.72268\" style=\"fill: #1f77b4; stroke: #1f77b4\"/>\n     <use xlink:href=\"#mc0e9a4bfc5\" x=\"122.122009\" y=\"52.334201\" style=\"fill: #1f77b4; stroke: #1f77b4\"/>\n     <use xlink:href=\"#mc0e9a4bfc5\" x=\"145.887445\" y=\"76.24611\" style=\"fill: #1f77b4; stroke: #1f77b4\"/>\n     <use xlink:href=\"#mc0e9a4bfc5\" x=\"153.152254\" y=\"85.952384\" style=\"fill: #1f77b4; stroke: #1f77b4\"/>\n     <use xlink:href=\"#mc0e9a4bfc5\" x=\"114.393831\" y=\"64.987493\" style=\"fill: #1f77b4; stroke: #1f77b4\"/>\n     <use xlink:href=\"#mc0e9a4bfc5\" x=\"127.248709\" y=\"69.987999\" style=\"fill: #1f77b4; stroke: #1f77b4\"/>\n     <use xlink:href=\"#mc0e9a4bfc5\" x=\"111.979262\" y=\"63.207912\" style=\"fill: #1f77b4; stroke: #1f77b4\"/>\n     <use xlink:href=\"#mc0e9a4bfc5\" x=\"113.568245\" y=\"60.972671\" style=\"fill: #1f77b4; stroke: #1f77b4\"/>\n     <use xlink:href=\"#mc0e9a4bfc5\" x=\"138.566011\" y=\"88.05332\" style=\"fill: #1f77b4; stroke: #1f77b4\"/>\n     <use xlink:href=\"#mc0e9a4bfc5\" x=\"121.567808\" y=\"78.039358\" style=\"fill: #1f77b4; stroke: #1f77b4\"/>\n     <use xlink:href=\"#mc0e9a4bfc5\" x=\"111.689592\" y=\"56.163958\" style=\"fill: #1f77b4; stroke: #1f77b4\"/>\n     <use xlink:href=\"#mc0e9a4bfc5\" x=\"112.455934\" y=\"60.305595\" style=\"fill: #1f77b4; stroke: #1f77b4\"/>\n     <use xlink:href=\"#mc0e9a4bfc5\" x=\"198.188777\" y=\"105.026394\" style=\"fill: #1f77b4; stroke: #1f77b4\"/>\n     <use xlink:href=\"#mc0e9a4bfc5\" x=\"142.294822\" y=\"80.6883\" style=\"fill: #1f77b4; stroke: #1f77b4\"/>\n     <use xlink:href=\"#mc0e9a4bfc5\" x=\"162.327887\" y=\"100.928672\" style=\"fill: #1f77b4; stroke: #1f77b4\"/>\n     <use xlink:href=\"#mc0e9a4bfc5\" x=\"162.87371\" y=\"96.892936\" style=\"fill: #1f77b4; stroke: #1f77b4\"/>\n     <use xlink:href=\"#mc0e9a4bfc5\" x=\"121.861205\" y=\"47.015923\" style=\"fill: #1f77b4; stroke: #1f77b4\"/>\n     <use xlink:href=\"#mc0e9a4bfc5\" x=\"115.530828\" y=\"63.171988\" style=\"fill: #1f77b4; stroke: #1f77b4\"/>\n     <use xlink:href=\"#mc0e9a4bfc5\" x=\"116.907459\" y=\"52.248716\" style=\"fill: #1f77b4; stroke: #1f77b4\"/>\n     <use xlink:href=\"#mc0e9a4bfc5\" x=\"154.823823\" y=\"92.558962\" style=\"fill: #1f77b4; stroke: #1f77b4\"/>\n     <use xlink:href=\"#mc0e9a4bfc5\" x=\"136.457039\" y=\"65.583465\" style=\"fill: #1f77b4; stroke: #1f77b4\"/>\n     <use xlink:href=\"#mc0e9a4bfc5\" x=\"125.883036\" y=\"63.966791\" style=\"fill: #1f77b4; stroke: #1f77b4\"/>\n     <use xlink:href=\"#mc0e9a4bfc5\" x=\"103.387216\" y=\"50.239189\" style=\"fill: #1f77b4; stroke: #1f77b4\"/>\n     <use xlink:href=\"#mc0e9a4bfc5\" x=\"164.58195\" y=\"87.421374\" style=\"fill: #1f77b4; stroke: #1f77b4\"/>\n     <use xlink:href=\"#mc0e9a4bfc5\" x=\"131.63792\" y=\"88.874519\" style=\"fill: #1f77b4; stroke: #1f77b4\"/>\n     <use xlink:href=\"#mc0e9a4bfc5\" x=\"129.431345\" y=\"70.748917\" style=\"fill: #1f77b4; stroke: #1f77b4\"/>\n     <use xlink:href=\"#mc0e9a4bfc5\" x=\"169.088323\" y=\"81.059647\" style=\"fill: #1f77b4; stroke: #1f77b4\"/>\n     <use xlink:href=\"#mc0e9a4bfc5\" x=\"161.066713\" y=\"78.401507\" style=\"fill: #1f77b4; stroke: #1f77b4\"/>\n     <use xlink:href=\"#mc0e9a4bfc5\" x=\"144.794364\" y=\"80.315474\" style=\"fill: #1f77b4; stroke: #1f77b4\"/>\n     <use xlink:href=\"#mc0e9a4bfc5\" x=\"140.043919\" y=\"62.052552\" style=\"fill: #1f77b4; stroke: #1f77b4\"/>\n     <use xlink:href=\"#mc0e9a4bfc5\" x=\"163.240798\" y=\"70.143659\" style=\"fill: #1f77b4; stroke: #1f77b4\"/>\n     <use xlink:href=\"#mc0e9a4bfc5\" x=\"124.397634\" y=\"56.257882\" style=\"fill: #1f77b4; stroke: #1f77b4\"/>\n     <use xlink:href=\"#mc0e9a4bfc5\" x=\"169.588479\" y=\"94.944227\" style=\"fill: #1f77b4; stroke: #1f77b4\"/>\n     <use xlink:href=\"#mc0e9a4bfc5\" x=\"145.291116\" y=\"84.283024\" style=\"fill: #1f77b4; stroke: #1f77b4\"/>\n     <use xlink:href=\"#mc0e9a4bfc5\" x=\"143.708588\" y=\"77.89544\" style=\"fill: #1f77b4; stroke: #1f77b4\"/>\n     <use xlink:href=\"#mc0e9a4bfc5\" x=\"162.854293\" y=\"84.18606\" style=\"fill: #1f77b4; stroke: #1f77b4\"/>\n     <use xlink:href=\"#mc0e9a4bfc5\" x=\"149.547463\" y=\"68.692784\" style=\"fill: #1f77b4; stroke: #1f77b4\"/>\n     <use xlink:href=\"#mc0e9a4bfc5\" x=\"141.868058\" y=\"73.787587\" style=\"fill: #1f77b4; stroke: #1f77b4\"/>\n     <use xlink:href=\"#mc0e9a4bfc5\" x=\"132.502501\" y=\"63.026292\" style=\"fill: #1f77b4; stroke: #1f77b4\"/>\n     <use xlink:href=\"#mc0e9a4bfc5\" x=\"112.950125\" y=\"49.431935\" style=\"fill: #1f77b4; stroke: #1f77b4\"/>\n     <use xlink:href=\"#mc0e9a4bfc5\" x=\"137.291053\" y=\"65.868553\" style=\"fill: #1f77b4; stroke: #1f77b4\"/>\n     <use xlink:href=\"#mc0e9a4bfc5\" x=\"156.945037\" y=\"97.837242\" style=\"fill: #1f77b4; stroke: #1f77b4\"/>\n     <use xlink:href=\"#mc0e9a4bfc5\" x=\"126.406998\" y=\"42.029251\" style=\"fill: #1f77b4; stroke: #1f77b4\"/>\n     <use xlink:href=\"#mc0e9a4bfc5\" x=\"123.414789\" y=\"70.511423\" style=\"fill: #1f77b4; stroke: #1f77b4\"/>\n     <use xlink:href=\"#mc0e9a4bfc5\" x=\"125.644777\" y=\"81.876956\" style=\"fill: #1f77b4; stroke: #1f77b4\"/>\n     <use xlink:href=\"#mc0e9a4bfc5\" x=\"107.10906\" y=\"54.086494\" style=\"fill: #1f77b4; stroke: #1f77b4\"/>\n     <use xlink:href=\"#mc0e9a4bfc5\" x=\"154.686331\" y=\"82.790938\" style=\"fill: #1f77b4; stroke: #1f77b4\"/>\n     <use xlink:href=\"#mc0e9a4bfc5\" x=\"142.356561\" y=\"90.399284\" style=\"fill: #1f77b4; stroke: #1f77b4\"/>\n     <use xlink:href=\"#mc0e9a4bfc5\" x=\"129.552132\" y=\"57.622564\" style=\"fill: #1f77b4; stroke: #1f77b4\"/>\n     <use xlink:href=\"#mc0e9a4bfc5\" x=\"149.22189\" y=\"83.051004\" style=\"fill: #1f77b4; stroke: #1f77b4\"/>\n     <use xlink:href=\"#mc0e9a4bfc5\" x=\"121.524941\" y=\"75.706087\" style=\"fill: #1f77b4; stroke: #1f77b4\"/>\n     <use xlink:href=\"#mc0e9a4bfc5\" x=\"136.071651\" y=\"51.119409\" style=\"fill: #1f77b4; stroke: #1f77b4\"/>\n     <use xlink:href=\"#mc0e9a4bfc5\" x=\"187.713673\" y=\"92.365816\" style=\"fill: #1f77b4; stroke: #1f77b4\"/>\n     <use xlink:href=\"#mc0e9a4bfc5\" x=\"125.64045\" y=\"62.981713\" style=\"fill: #1f77b4; stroke: #1f77b4\"/>\n     <use xlink:href=\"#mc0e9a4bfc5\" x=\"136.288295\" y=\"65.118635\" style=\"fill: #1f77b4; stroke: #1f77b4\"/>\n     <use xlink:href=\"#mc0e9a4bfc5\" x=\"90.956021\" y=\"48.422119\" style=\"fill: #1f77b4; stroke: #1f77b4\"/>\n     <use xlink:href=\"#mc0e9a4bfc5\" x=\"122.222118\" y=\"59.448048\" style=\"fill: #1f77b4; stroke: #1f77b4\"/>\n     <use xlink:href=\"#mc0e9a4bfc5\" x=\"143.790646\" y=\"61.228784\" style=\"fill: #1f77b4; stroke: #1f77b4\"/>\n     <use xlink:href=\"#mc0e9a4bfc5\" x=\"148.767848\" y=\"78.781276\" style=\"fill: #1f77b4; stroke: #1f77b4\"/>\n     <use xlink:href=\"#mc0e9a4bfc5\" x=\"131.743976\" y=\"78.002922\" style=\"fill: #1f77b4; stroke: #1f77b4\"/>\n     <use xlink:href=\"#mc0e9a4bfc5\" x=\"133.983189\" y=\"52.113375\" style=\"fill: #1f77b4; stroke: #1f77b4\"/>\n     <use xlink:href=\"#mc0e9a4bfc5\" x=\"134.940268\" y=\"86.993633\" style=\"fill: #1f77b4; stroke: #1f77b4\"/>\n     <use xlink:href=\"#mc0e9a4bfc5\" x=\"176.301984\" y=\"104.661864\" style=\"fill: #1f77b4; stroke: #1f77b4\"/>\n     <use xlink:href=\"#mc0e9a4bfc5\" x=\"152.599911\" y=\"66.992845\" style=\"fill: #1f77b4; stroke: #1f77b4\"/>\n     <use xlink:href=\"#mc0e9a4bfc5\" x=\"140.675771\" y=\"77.611283\" style=\"fill: #1f77b4; stroke: #1f77b4\"/>\n     <use xlink:href=\"#mc0e9a4bfc5\" x=\"137.918551\" y=\"81.656961\" style=\"fill: #1f77b4; stroke: #1f77b4\"/>\n     <use xlink:href=\"#mc0e9a4bfc5\" x=\"176.951973\" y=\"87.649315\" style=\"fill: #1f77b4; stroke: #1f77b4\"/>\n     <use xlink:href=\"#mc0e9a4bfc5\" x=\"77.276756\" y=\"33.105862\" style=\"fill: #1f77b4; stroke: #1f77b4\"/>\n     <use xlink:href=\"#mc0e9a4bfc5\" x=\"126.995392\" y=\"67.714936\" style=\"fill: #1f77b4; stroke: #1f77b4\"/>\n     <use xlink:href=\"#mc0e9a4bfc5\" x=\"115.666704\" y=\"59.680658\" style=\"fill: #1f77b4; stroke: #1f77b4\"/>\n     <use xlink:href=\"#mc0e9a4bfc5\" x=\"157.736282\" y=\"90.345607\" style=\"fill: #1f77b4; stroke: #1f77b4\"/>\n     <use xlink:href=\"#mc0e9a4bfc5\" x=\"119.813222\" y=\"69.275071\" style=\"fill: #1f77b4; stroke: #1f77b4\"/>\n     <use xlink:href=\"#mc0e9a4bfc5\" x=\"95.62698\" y=\"55.02486\" style=\"fill: #1f77b4; stroke: #1f77b4\"/>\n     <use xlink:href=\"#mc0e9a4bfc5\" x=\"129.140968\" y=\"76.691892\" style=\"fill: #1f77b4; stroke: #1f77b4\"/>\n     <use xlink:href=\"#mc0e9a4bfc5\" x=\"96.351008\" y=\"42.201779\" style=\"fill: #1f77b4; stroke: #1f77b4\"/>\n     <use xlink:href=\"#mc0e9a4bfc5\" x=\"149.915379\" y=\"85.412719\" style=\"fill: #1f77b4; stroke: #1f77b4\"/>\n     <use xlink:href=\"#mc0e9a4bfc5\" x=\"144.996947\" y=\"81.177302\" style=\"fill: #1f77b4; stroke: #1f77b4\"/>\n     <use xlink:href=\"#mc0e9a4bfc5\" x=\"152.574572\" y=\"103.346144\" style=\"fill: #1f77b4; stroke: #1f77b4\"/>\n     <use xlink:href=\"#mc0e9a4bfc5\" x=\"131.658616\" y=\"82.4554\" style=\"fill: #1f77b4; stroke: #1f77b4\"/>\n     <use xlink:href=\"#mc0e9a4bfc5\" x=\"156.313097\" y=\"99.051264\" style=\"fill: #1f77b4; stroke: #1f77b4\"/>\n     <use xlink:href=\"#mc0e9a4bfc5\" x=\"75.233348\" y=\"28.773344\" style=\"fill: #1f77b4; stroke: #1f77b4\"/>\n     <use xlink:href=\"#mc0e9a4bfc5\" x=\"123.789469\" y=\"46.159955\" style=\"fill: #1f77b4; stroke: #1f77b4\"/>\n     <use xlink:href=\"#mc0e9a4bfc5\" x=\"167.645041\" y=\"90.600235\" style=\"fill: #1f77b4; stroke: #1f77b4\"/>\n     <use xlink:href=\"#mc0e9a4bfc5\" x=\"100.913902\" y=\"44.568235\" style=\"fill: #1f77b4; stroke: #1f77b4\"/>\n     <use xlink:href=\"#mc0e9a4bfc5\" x=\"126.634504\" y=\"60.936485\" style=\"fill: #1f77b4; stroke: #1f77b4\"/>\n     <use xlink:href=\"#mc0e9a4bfc5\" x=\"127.887281\" y=\"49.099006\" style=\"fill: #1f77b4; stroke: #1f77b4\"/>\n     <use xlink:href=\"#mc0e9a4bfc5\" x=\"168.152153\" y=\"74.159491\" style=\"fill: #1f77b4; stroke: #1f77b4\"/>\n     <use xlink:href=\"#mc0e9a4bfc5\" x=\"175.323161\" y=\"87.214785\" style=\"fill: #1f77b4; stroke: #1f77b4\"/>\n     <use xlink:href=\"#mc0e9a4bfc5\" x=\"145.985982\" y=\"95.988132\" style=\"fill: #1f77b4; stroke: #1f77b4\"/>\n     <use xlink:href=\"#mc0e9a4bfc5\" x=\"165.618334\" y=\"94.550969\" style=\"fill: #1f77b4; stroke: #1f77b4\"/>\n     <use xlink:href=\"#mc0e9a4bfc5\" x=\"114.968916\" y=\"70.469894\" style=\"fill: #1f77b4; stroke: #1f77b4\"/>\n     <use xlink:href=\"#mc0e9a4bfc5\" x=\"147.549859\" y=\"62.763154\" style=\"fill: #1f77b4; stroke: #1f77b4\"/>\n     <use xlink:href=\"#mc0e9a4bfc5\" x=\"129.105164\" y=\"68.820758\" style=\"fill: #1f77b4; stroke: #1f77b4\"/>\n     <use xlink:href=\"#mc0e9a4bfc5\" x=\"132.282467\" y=\"55.590687\" style=\"fill: #1f77b4; stroke: #1f77b4\"/>\n     <use xlink:href=\"#mc0e9a4bfc5\" x=\"132.315503\" y=\"83.507974\" style=\"fill: #1f77b4; stroke: #1f77b4\"/>\n     <use xlink:href=\"#mc0e9a4bfc5\" x=\"143.71553\" y=\"55.743246\" style=\"fill: #1f77b4; stroke: #1f77b4\"/>\n     <use xlink:href=\"#mc0e9a4bfc5\" x=\"135.600814\" y=\"74.476353\" style=\"fill: #1f77b4; stroke: #1f77b4\"/>\n     <use xlink:href=\"#mc0e9a4bfc5\" x=\"167.326686\" y=\"90.615326\" style=\"fill: #1f77b4; stroke: #1f77b4\"/>\n     <use xlink:href=\"#mc0e9a4bfc5\" x=\"147.658976\" y=\"86.400726\" style=\"fill: #1f77b4; stroke: #1f77b4\"/>\n     <use xlink:href=\"#mc0e9a4bfc5\" x=\"148.738808\" y=\"73.997965\" style=\"fill: #1f77b4; stroke: #1f77b4\"/>\n     <use xlink:href=\"#mc0e9a4bfc5\" x=\"96.34489\" y=\"34.310619\" style=\"fill: #1f77b4; stroke: #1f77b4\"/>\n     <use xlink:href=\"#mc0e9a4bfc5\" x=\"133.509511\" y=\"68.609951\" style=\"fill: #1f77b4; stroke: #1f77b4\"/>\n     <use xlink:href=\"#mc0e9a4bfc5\" x=\"134.088637\" y=\"59.912239\" style=\"fill: #1f77b4; stroke: #1f77b4\"/>\n     <use xlink:href=\"#mc0e9a4bfc5\" x=\"130.376305\" y=\"62.034251\" style=\"fill: #1f77b4; stroke: #1f77b4\"/>\n     <use xlink:href=\"#mc0e9a4bfc5\" x=\"125.824587\" y=\"85.11084\" style=\"fill: #1f77b4; stroke: #1f77b4\"/>\n     <use xlink:href=\"#mc0e9a4bfc5\" x=\"136.802723\" y=\"84.84289\" style=\"fill: #1f77b4; stroke: #1f77b4\"/>\n     <use xlink:href=\"#mc0e9a4bfc5\" x=\"90.692481\" y=\"41.403119\" style=\"fill: #1f77b4; stroke: #1f77b4\"/>\n     <use xlink:href=\"#mc0e9a4bfc5\" x=\"141.683736\" y=\"74.707483\" style=\"fill: #1f77b4; stroke: #1f77b4\"/>\n     <use xlink:href=\"#mc0e9a4bfc5\" x=\"125.50382\" y=\"74.897316\" style=\"fill: #1f77b4; stroke: #1f77b4\"/>\n     <use xlink:href=\"#mc0e9a4bfc5\" x=\"157.529309\" y=\"76.410175\" style=\"fill: #1f77b4; stroke: #1f77b4\"/>\n     <use xlink:href=\"#mc0e9a4bfc5\" x=\"126.238451\" y=\"59.077564\" style=\"fill: #1f77b4; stroke: #1f77b4\"/>\n     <use xlink:href=\"#mc0e9a4bfc5\" x=\"103.544088\" y=\"52.388964\" style=\"fill: #1f77b4; stroke: #1f77b4\"/>\n     <use xlink:href=\"#mc0e9a4bfc5\" x=\"147.274709\" y=\"73.559512\" style=\"fill: #1f77b4; stroke: #1f77b4\"/>\n     <use xlink:href=\"#mc0e9a4bfc5\" x=\"100.17781\" y=\"57.040952\" style=\"fill: #1f77b4; stroke: #1f77b4\"/>\n     <use xlink:href=\"#mc0e9a4bfc5\" x=\"146.769301\" y=\"57.727337\" style=\"fill: #1f77b4; stroke: #1f77b4\"/>\n     <use xlink:href=\"#mc0e9a4bfc5\" x=\"123.436472\" y=\"67.837342\" style=\"fill: #1f77b4; stroke: #1f77b4\"/>\n     <use xlink:href=\"#mc0e9a4bfc5\" x=\"95.714226\" y=\"48.086327\" style=\"fill: #1f77b4; stroke: #1f77b4\"/>\n     <use xlink:href=\"#mc0e9a4bfc5\" x=\"168.473442\" y=\"100.878441\" style=\"fill: #1f77b4; stroke: #1f77b4\"/>\n     <use xlink:href=\"#mc0e9a4bfc5\" x=\"133.912158\" y=\"64.120947\" style=\"fill: #1f77b4; stroke: #1f77b4\"/>\n     <use xlink:href=\"#mc0e9a4bfc5\" x=\"105.659833\" y=\"48.165197\" style=\"fill: #1f77b4; stroke: #1f77b4\"/>\n     <use xlink:href=\"#mc0e9a4bfc5\" x=\"96.246482\" y=\"57.514598\" style=\"fill: #1f77b4; stroke: #1f77b4\"/>\n     <use xlink:href=\"#mc0e9a4bfc5\" x=\"125.905109\" y=\"66.932807\" style=\"fill: #1f77b4; stroke: #1f77b4\"/>\n     <use xlink:href=\"#mc0e9a4bfc5\" x=\"125.671983\" y=\"58.766659\" style=\"fill: #1f77b4; stroke: #1f77b4\"/>\n     <use xlink:href=\"#mc0e9a4bfc5\" x=\"121.711778\" y=\"72.966566\" style=\"fill: #1f77b4; stroke: #1f77b4\"/>\n     <use xlink:href=\"#mc0e9a4bfc5\" x=\"101.826002\" y=\"52.482108\" style=\"fill: #1f77b4; stroke: #1f77b4\"/>\n     <use xlink:href=\"#mc0e9a4bfc5\" x=\"144.280248\" y=\"72.963577\" style=\"fill: #1f77b4; stroke: #1f77b4\"/>\n     <use xlink:href=\"#mc0e9a4bfc5\" x=\"145.994011\" y=\"73.674703\" style=\"fill: #1f77b4; stroke: #1f77b4\"/>\n     <use xlink:href=\"#mc0e9a4bfc5\" x=\"182.204924\" y=\"111.99965\" style=\"fill: #1f77b4; stroke: #1f77b4\"/>\n     <use xlink:href=\"#mc0e9a4bfc5\" x=\"141.188926\" y=\"90.494491\" style=\"fill: #1f77b4; stroke: #1f77b4\"/>\n     <use xlink:href=\"#mc0e9a4bfc5\" x=\"143.546342\" y=\"78.332677\" style=\"fill: #1f77b4; stroke: #1f77b4\"/>\n     <use xlink:href=\"#mc0e9a4bfc5\" x=\"96.296203\" y=\"44.944981\" style=\"fill: #1f77b4; stroke: #1f77b4\"/>\n     <use xlink:href=\"#mc0e9a4bfc5\" x=\"157.101622\" y=\"95.673955\" style=\"fill: #1f77b4; stroke: #1f77b4\"/>\n     <use xlink:href=\"#mc0e9a4bfc5\" x=\"137.754848\" y=\"83.705189\" style=\"fill: #1f77b4; stroke: #1f77b4\"/>\n     <use xlink:href=\"#mc0e9a4bfc5\" x=\"159.242198\" y=\"71.027582\" style=\"fill: #1f77b4; stroke: #1f77b4\"/>\n     <use xlink:href=\"#mc0e9a4bfc5\" x=\"90.575488\" y=\"47.594333\" style=\"fill: #1f77b4; stroke: #1f77b4\"/>\n     <use xlink:href=\"#mc0e9a4bfc5\" x=\"150.354677\" y=\"93.923157\" style=\"fill: #1f77b4; stroke: #1f77b4\"/>\n     <use xlink:href=\"#mc0e9a4bfc5\" x=\"118.130191\" y=\"43.381475\" style=\"fill: #1f77b4; stroke: #1f77b4\"/>\n     <use xlink:href=\"#mc0e9a4bfc5\" x=\"102.372109\" y=\"46.774588\" style=\"fill: #1f77b4; stroke: #1f77b4\"/>\n     <use xlink:href=\"#mc0e9a4bfc5\" x=\"116.996262\" y=\"58.765697\" style=\"fill: #1f77b4; stroke: #1f77b4\"/>\n     <use xlink:href=\"#mc0e9a4bfc5\" x=\"121.774097\" y=\"79.52811\" style=\"fill: #1f77b4; stroke: #1f77b4\"/>\n     <use xlink:href=\"#mc0e9a4bfc5\" x=\"104.038897\" y=\"48.392441\" style=\"fill: #1f77b4; stroke: #1f77b4\"/>\n     <use xlink:href=\"#mc0e9a4bfc5\" x=\"168.102368\" y=\"89.600878\" style=\"fill: #1f77b4; stroke: #1f77b4\"/>\n     <use xlink:href=\"#mc0e9a4bfc5\" x=\"133.474809\" y=\"48.632644\" style=\"fill: #1f77b4; stroke: #1f77b4\"/>\n     <use xlink:href=\"#mc0e9a4bfc5\" x=\"107.918727\" y=\"33.282301\" style=\"fill: #1f77b4; stroke: #1f77b4\"/>\n     <use xlink:href=\"#mc0e9a4bfc5\" x=\"127.29329\" y=\"86.022607\" style=\"fill: #1f77b4; stroke: #1f77b4\"/>\n     <use xlink:href=\"#mc0e9a4bfc5\" x=\"154.474866\" y=\"86.883041\" style=\"fill: #1f77b4; stroke: #1f77b4\"/>\n     <use xlink:href=\"#mc0e9a4bfc5\" x=\"145.227495\" y=\"73.220911\" style=\"fill: #1f77b4; stroke: #1f77b4\"/>\n     <use xlink:href=\"#mc0e9a4bfc5\" x=\"122.35944\" y=\"52.52139\" style=\"fill: #1f77b4; stroke: #1f77b4\"/>\n     <use xlink:href=\"#mc0e9a4bfc5\" x=\"165.220966\" y=\"87.59744\" style=\"fill: #1f77b4; stroke: #1f77b4\"/>\n     <use xlink:href=\"#mc0e9a4bfc5\" x=\"186.945292\" y=\"96.501509\" style=\"fill: #1f77b4; stroke: #1f77b4\"/>\n     <use xlink:href=\"#mc0e9a4bfc5\" x=\"132.666656\" y=\"84.817425\" style=\"fill: #1f77b4; stroke: #1f77b4\"/>\n     <use xlink:href=\"#mc0e9a4bfc5\" x=\"132.049091\" y=\"73.454825\" style=\"fill: #1f77b4; stroke: #1f77b4\"/>\n     <use xlink:href=\"#mc0e9a4bfc5\" x=\"147.592395\" y=\"79.981881\" style=\"fill: #1f77b4; stroke: #1f77b4\"/>\n     <use xlink:href=\"#mc0e9a4bfc5\" x=\"150.446969\" y=\"82.985678\" style=\"fill: #1f77b4; stroke: #1f77b4\"/>\n     <use xlink:href=\"#mc0e9a4bfc5\" x=\"100.220426\" y=\"49.073462\" style=\"fill: #1f77b4; stroke: #1f77b4\"/>\n     <use xlink:href=\"#mc0e9a4bfc5\" x=\"123.144095\" y=\"59.929064\" style=\"fill: #1f77b4; stroke: #1f77b4\"/>\n     <use xlink:href=\"#mc0e9a4bfc5\" x=\"164.198183\" y=\"92.792469\" style=\"fill: #1f77b4; stroke: #1f77b4\"/>\n     <use xlink:href=\"#mc0e9a4bfc5\" x=\"116.002597\" y=\"78.670895\" style=\"fill: #1f77b4; stroke: #1f77b4\"/>\n     <use xlink:href=\"#mc0e9a4bfc5\" x=\"160.109097\" y=\"88.989591\" style=\"fill: #1f77b4; stroke: #1f77b4\"/>\n     <use xlink:href=\"#mc0e9a4bfc5\" x=\"157.694409\" y=\"98.084293\" style=\"fill: #1f77b4; stroke: #1f77b4\"/>\n     <use xlink:href=\"#mc0e9a4bfc5\" x=\"117.086376\" y=\"66.32753\" style=\"fill: #1f77b4; stroke: #1f77b4\"/>\n     <use xlink:href=\"#mc0e9a4bfc5\" x=\"145.326555\" y=\"61.635885\" style=\"fill: #1f77b4; stroke: #1f77b4\"/>\n     <use xlink:href=\"#mc0e9a4bfc5\" x=\"161.664132\" y=\"82.877805\" style=\"fill: #1f77b4; stroke: #1f77b4\"/>\n     <use xlink:href=\"#mc0e9a4bfc5\" x=\"151.250708\" y=\"83.909324\" style=\"fill: #1f77b4; stroke: #1f77b4\"/>\n     <use xlink:href=\"#mc0e9a4bfc5\" x=\"138.425856\" y=\"82.373697\" style=\"fill: #1f77b4; stroke: #1f77b4\"/>\n     <use xlink:href=\"#mc0e9a4bfc5\" x=\"168.175239\" y=\"97.395181\" style=\"fill: #1f77b4; stroke: #1f77b4\"/>\n     <use xlink:href=\"#mc0e9a4bfc5\" x=\"121.930767\" y=\"53.977007\" style=\"fill: #1f77b4; stroke: #1f77b4\"/>\n     <use xlink:href=\"#mc0e9a4bfc5\" x=\"130.065234\" y=\"79.694149\" style=\"fill: #1f77b4; stroke: #1f77b4\"/>\n     <use xlink:href=\"#mc0e9a4bfc5\" x=\"188.031012\" y=\"104.248395\" style=\"fill: #1f77b4; stroke: #1f77b4\"/>\n     <use xlink:href=\"#mc0e9a4bfc5\" x=\"139.225624\" y=\"74.822297\" style=\"fill: #1f77b4; stroke: #1f77b4\"/>\n     <use xlink:href=\"#mc0e9a4bfc5\" x=\"116.303951\" y=\"53.482852\" style=\"fill: #1f77b4; stroke: #1f77b4\"/>\n     <use xlink:href=\"#mc0e9a4bfc5\" x=\"107.490169\" y=\"41.466616\" style=\"fill: #1f77b4; stroke: #1f77b4\"/>\n     <use xlink:href=\"#mc0e9a4bfc5\" x=\"136.022082\" y=\"89.267766\" style=\"fill: #1f77b4; stroke: #1f77b4\"/>\n     <use xlink:href=\"#mc0e9a4bfc5\" x=\"129.200431\" y=\"69.275883\" style=\"fill: #1f77b4; stroke: #1f77b4\"/>\n     <use xlink:href=\"#mc0e9a4bfc5\" x=\"116.854797\" y=\"62.268885\" style=\"fill: #1f77b4; stroke: #1f77b4\"/>\n     <use xlink:href=\"#mc0e9a4bfc5\" x=\"155.15546\" y=\"84.595251\" style=\"fill: #1f77b4; stroke: #1f77b4\"/>\n     <use xlink:href=\"#mc0e9a4bfc5\" x=\"123.011892\" y=\"61.651903\" style=\"fill: #1f77b4; stroke: #1f77b4\"/>\n     <use xlink:href=\"#mc0e9a4bfc5\" x=\"142.72874\" y=\"69.488183\" style=\"fill: #1f77b4; stroke: #1f77b4\"/>\n     <use xlink:href=\"#mc0e9a4bfc5\" x=\"165.0152\" y=\"99.335042\" style=\"fill: #1f77b4; stroke: #1f77b4\"/>\n     <use xlink:href=\"#mc0e9a4bfc5\" x=\"116.500091\" y=\"62.397199\" style=\"fill: #1f77b4; stroke: #1f77b4\"/>\n     <use xlink:href=\"#mc0e9a4bfc5\" x=\"145.030395\" y=\"85.901982\" style=\"fill: #1f77b4; stroke: #1f77b4\"/>\n     <use xlink:href=\"#mc0e9a4bfc5\" x=\"127.367725\" y=\"58.999143\" style=\"fill: #1f77b4; stroke: #1f77b4\"/>\n     <use xlink:href=\"#mc0e9a4bfc5\" x=\"114.191941\" y=\"50.040141\" style=\"fill: #1f77b4; stroke: #1f77b4\"/>\n     <use xlink:href=\"#mc0e9a4bfc5\" x=\"102.342158\" y=\"52.052947\" style=\"fill: #1f77b4; stroke: #1f77b4\"/>\n     <use xlink:href=\"#mc0e9a4bfc5\" x=\"136.467641\" y=\"77.21746\" style=\"fill: #1f77b4; stroke: #1f77b4\"/>\n     <use xlink:href=\"#mc0e9a4bfc5\" x=\"131.739974\" y=\"70.324201\" style=\"fill: #1f77b4; stroke: #1f77b4\"/>\n     <use xlink:href=\"#mc0e9a4bfc5\" x=\"164.222708\" y=\"89.342866\" style=\"fill: #1f77b4; stroke: #1f77b4\"/>\n     <use xlink:href=\"#mc0e9a4bfc5\" x=\"159.492797\" y=\"84.757496\" style=\"fill: #1f77b4; stroke: #1f77b4\"/>\n     <use xlink:href=\"#mc0e9a4bfc5\" x=\"91.05396\" y=\"42.724649\" style=\"fill: #1f77b4; stroke: #1f77b4\"/>\n     <use xlink:href=\"#mc0e9a4bfc5\" x=\"180.552699\" y=\"103.572087\" style=\"fill: #1f77b4; stroke: #1f77b4\"/>\n     <use xlink:href=\"#mc0e9a4bfc5\" x=\"136.900789\" y=\"69.586058\" style=\"fill: #1f77b4; stroke: #1f77b4\"/>\n     <use xlink:href=\"#mc0e9a4bfc5\" x=\"164.110467\" y=\"87.078532\" style=\"fill: #1f77b4; stroke: #1f77b4\"/>\n     <use xlink:href=\"#mc0e9a4bfc5\" x=\"163.702447\" y=\"99.978782\" style=\"fill: #1f77b4; stroke: #1f77b4\"/>\n     <use xlink:href=\"#mc0e9a4bfc5\" x=\"116.87726\" y=\"48.673882\" style=\"fill: #1f77b4; stroke: #1f77b4\"/>\n     <use xlink:href=\"#mc0e9a4bfc5\" x=\"127.136455\" y=\"70.792497\" style=\"fill: #1f77b4; stroke: #1f77b4\"/>\n     <use xlink:href=\"#mc0e9a4bfc5\" x=\"100.613346\" y=\"55.693641\" style=\"fill: #1f77b4; stroke: #1f77b4\"/>\n     <use xlink:href=\"#mc0e9a4bfc5\" x=\"158.340967\" y=\"72.602451\" style=\"fill: #1f77b4; stroke: #1f77b4\"/>\n     <use xlink:href=\"#mc0e9a4bfc5\" x=\"131.590724\" y=\"62.05586\" style=\"fill: #1f77b4; stroke: #1f77b4\"/>\n     <use xlink:href=\"#mc0e9a4bfc5\" x=\"94.309451\" y=\"45.128666\" style=\"fill: #1f77b4; stroke: #1f77b4\"/>\n     <use xlink:href=\"#mc0e9a4bfc5\" x=\"90.366089\" y=\"55.386666\" style=\"fill: #1f77b4; stroke: #1f77b4\"/>\n     <use xlink:href=\"#mc0e9a4bfc5\" x=\"115.976289\" y=\"63.482996\" style=\"fill: #1f77b4; stroke: #1f77b4\"/>\n     <use xlink:href=\"#mc0e9a4bfc5\" x=\"163.265045\" y=\"98.660074\" style=\"fill: #1f77b4; stroke: #1f77b4\"/>\n     <use xlink:href=\"#mc0e9a4bfc5\" x=\"125.801489\" y=\"57.957148\" style=\"fill: #1f77b4; stroke: #1f77b4\"/>\n     <use xlink:href=\"#mc0e9a4bfc5\" x=\"117.438734\" y=\"37.035113\" style=\"fill: #1f77b4; stroke: #1f77b4\"/>\n     <use xlink:href=\"#mc0e9a4bfc5\" x=\"155.900121\" y=\"85.588701\" style=\"fill: #1f77b4; stroke: #1f77b4\"/>\n     <use xlink:href=\"#mc0e9a4bfc5\" x=\"122.112813\" y=\"63.271756\" style=\"fill: #1f77b4; stroke: #1f77b4\"/>\n     <use xlink:href=\"#mc0e9a4bfc5\" x=\"205.805658\" y=\"116.487056\" style=\"fill: #1f77b4; stroke: #1f77b4\"/>\n     <use xlink:href=\"#mc0e9a4bfc5\" x=\"139.712719\" y=\"70.556621\" style=\"fill: #1f77b4; stroke: #1f77b4\"/>\n     <use xlink:href=\"#mc0e9a4bfc5\" x=\"192.67798\" y=\"115.656972\" style=\"fill: #1f77b4; stroke: #1f77b4\"/>\n     <use xlink:href=\"#mc0e9a4bfc5\" x=\"97.886176\" y=\"62.175921\" style=\"fill: #1f77b4; stroke: #1f77b4\"/>\n     <use xlink:href=\"#mc0e9a4bfc5\" x=\"130.746181\" y=\"68.639026\" style=\"fill: #1f77b4; stroke: #1f77b4\"/>\n     <use xlink:href=\"#mc0e9a4bfc5\" x=\"157.033097\" y=\"85.302756\" style=\"fill: #1f77b4; stroke: #1f77b4\"/>\n     <use xlink:href=\"#mc0e9a4bfc5\" x=\"105.028727\" y=\"65.753326\" style=\"fill: #1f77b4; stroke: #1f77b4\"/>\n     <use xlink:href=\"#mc0e9a4bfc5\" x=\"115.282718\" y=\"55.698157\" style=\"fill: #1f77b4; stroke: #1f77b4\"/>\n     <use xlink:href=\"#mc0e9a4bfc5\" x=\"118.977012\" y=\"43.750338\" style=\"fill: #1f77b4; stroke: #1f77b4\"/>\n     <use xlink:href=\"#mc0e9a4bfc5\" x=\"148.547916\" y=\"85.766106\" style=\"fill: #1f77b4; stroke: #1f77b4\"/>\n     <use xlink:href=\"#mc0e9a4bfc5\" x=\"115.32717\" y=\"66.153823\" style=\"fill: #1f77b4; stroke: #1f77b4\"/>\n     <use xlink:href=\"#mc0e9a4bfc5\" x=\"143.258411\" y=\"73.769246\" style=\"fill: #1f77b4; stroke: #1f77b4\"/>\n     <use xlink:href=\"#mc0e9a4bfc5\" x=\"152.226392\" y=\"88.626855\" style=\"fill: #1f77b4; stroke: #1f77b4\"/>\n     <use xlink:href=\"#mc0e9a4bfc5\" x=\"154.974446\" y=\"84.747622\" style=\"fill: #1f77b4; stroke: #1f77b4\"/>\n     <use xlink:href=\"#mc0e9a4bfc5\" x=\"89.295405\" y=\"44.856712\" style=\"fill: #1f77b4; stroke: #1f77b4\"/>\n     <use xlink:href=\"#mc0e9a4bfc5\" x=\"175.237164\" y=\"95.271527\" style=\"fill: #1f77b4; stroke: #1f77b4\"/>\n     <use xlink:href=\"#mc0e9a4bfc5\" x=\"103.520096\" y=\"51.64902\" style=\"fill: #1f77b4; stroke: #1f77b4\"/>\n     <use xlink:href=\"#mc0e9a4bfc5\" x=\"141.672921\" y=\"71.263902\" style=\"fill: #1f77b4; stroke: #1f77b4\"/>\n     <use xlink:href=\"#mc0e9a4bfc5\" x=\"110.089741\" y=\"54.33676\" style=\"fill: #1f77b4; stroke: #1f77b4\"/>\n     <use xlink:href=\"#mc0e9a4bfc5\" x=\"122.115996\" y=\"61.814836\" style=\"fill: #1f77b4; stroke: #1f77b4\"/>\n     <use xlink:href=\"#mc0e9a4bfc5\" x=\"154.59699\" y=\"76.07151\" style=\"fill: #1f77b4; stroke: #1f77b4\"/>\n     <use xlink:href=\"#mc0e9a4bfc5\" x=\"129.626491\" y=\"47.978494\" style=\"fill: #1f77b4; stroke: #1f77b4\"/>\n     <use xlink:href=\"#mc0e9a4bfc5\" x=\"121.176714\" y=\"50.72512\" style=\"fill: #1f77b4; stroke: #1f77b4\"/>\n     <use xlink:href=\"#mc0e9a4bfc5\" x=\"128.67841\" y=\"66.915011\" style=\"fill: #1f77b4; stroke: #1f77b4\"/>\n     <use xlink:href=\"#mc0e9a4bfc5\" x=\"128.250943\" y=\"76.754965\" style=\"fill: #1f77b4; stroke: #1f77b4\"/>\n     <use xlink:href=\"#mc0e9a4bfc5\" x=\"148.445185\" y=\"91.603781\" style=\"fill: #1f77b4; stroke: #1f77b4\"/>\n     <use xlink:href=\"#mc0e9a4bfc5\" x=\"124.881454\" y=\"60.611431\" style=\"fill: #1f77b4; stroke: #1f77b4\"/>\n     <use xlink:href=\"#mc0e9a4bfc5\" x=\"125.617616\" y=\"68.636212\" style=\"fill: #1f77b4; stroke: #1f77b4\"/>\n     <use xlink:href=\"#mc0e9a4bfc5\" x=\"128.664653\" y=\"68.579117\" style=\"fill: #1f77b4; stroke: #1f77b4\"/>\n     <use xlink:href=\"#mc0e9a4bfc5\" x=\"169.898945\" y=\"92.857439\" style=\"fill: #1f77b4; stroke: #1f77b4\"/>\n     <use xlink:href=\"#mc0e9a4bfc5\" x=\"88.090573\" y=\"44.708567\" style=\"fill: #1f77b4; stroke: #1f77b4\"/>\n     <use xlink:href=\"#mc0e9a4bfc5\" x=\"133.526167\" y=\"64.396957\" style=\"fill: #1f77b4; stroke: #1f77b4\"/>\n     <use xlink:href=\"#mc0e9a4bfc5\" x=\"162.810833\" y=\"87.838241\" style=\"fill: #1f77b4; stroke: #1f77b4\"/>\n     <use xlink:href=\"#mc0e9a4bfc5\" x=\"144.368075\" y=\"80.250455\" style=\"fill: #1f77b4; stroke: #1f77b4\"/>\n     <use xlink:href=\"#mc0e9a4bfc5\" x=\"137.280604\" y=\"75.129466\" style=\"fill: #1f77b4; stroke: #1f77b4\"/>\n     <use xlink:href=\"#mc0e9a4bfc5\" x=\"141.62283\" y=\"77.966077\" style=\"fill: #1f77b4; stroke: #1f77b4\"/>\n     <use xlink:href=\"#mc0e9a4bfc5\" x=\"101.383989\" y=\"38.307231\" style=\"fill: #1f77b4; stroke: #1f77b4\"/>\n     <use xlink:href=\"#mc0e9a4bfc5\" x=\"144.156733\" y=\"72.434524\" style=\"fill: #1f77b4; stroke: #1f77b4\"/>\n     <use xlink:href=\"#mc0e9a4bfc5\" x=\"183.669626\" y=\"101.93936\" style=\"fill: #1f77b4; stroke: #1f77b4\"/>\n     <use xlink:href=\"#mc0e9a4bfc5\" x=\"125.966873\" y=\"58.564761\" style=\"fill: #1f77b4; stroke: #1f77b4\"/>\n     <use xlink:href=\"#mc0e9a4bfc5\" x=\"144.810154\" y=\"85.672576\" style=\"fill: #1f77b4; stroke: #1f77b4\"/>\n     <use xlink:href=\"#mc0e9a4bfc5\" x=\"145.852479\" y=\"83.606699\" style=\"fill: #1f77b4; stroke: #1f77b4\"/>\n     <use xlink:href=\"#mc0e9a4bfc5\" x=\"113.935588\" y=\"58.207231\" style=\"fill: #1f77b4; stroke: #1f77b4\"/>\n     <use xlink:href=\"#mc0e9a4bfc5\" x=\"160.8922\" y=\"97.901643\" style=\"fill: #1f77b4; stroke: #1f77b4\"/>\n     <use xlink:href=\"#mc0e9a4bfc5\" x=\"169.298786\" y=\"95.102603\" style=\"fill: #1f77b4; stroke: #1f77b4\"/>\n     <use xlink:href=\"#mc0e9a4bfc5\" x=\"160.197065\" y=\"102.576953\" style=\"fill: #1f77b4; stroke: #1f77b4\"/>\n     <use xlink:href=\"#mc0e9a4bfc5\" x=\"132.135692\" y=\"62.480242\" style=\"fill: #1f77b4; stroke: #1f77b4\"/>\n     <use xlink:href=\"#mc0e9a4bfc5\" x=\"133.769321\" y=\"86.66991\" style=\"fill: #1f77b4; stroke: #1f77b4\"/>\n     <use xlink:href=\"#mc0e9a4bfc5\" x=\"91.469814\" y=\"37.278062\" style=\"fill: #1f77b4; stroke: #1f77b4\"/>\n     <use xlink:href=\"#mc0e9a4bfc5\" x=\"114.225971\" y=\"43.677863\" style=\"fill: #1f77b4; stroke: #1f77b4\"/>\n     <use xlink:href=\"#mc0e9a4bfc5\" x=\"97.921754\" y=\"39.342478\" style=\"fill: #1f77b4; stroke: #1f77b4\"/>\n     <use xlink:href=\"#mc0e9a4bfc5\" x=\"155.031586\" y=\"85.972972\" style=\"fill: #1f77b4; stroke: #1f77b4\"/>\n     <use xlink:href=\"#mc0e9a4bfc5\" x=\"197.168847\" y=\"137.159143\" style=\"fill: #1f77b4; stroke: #1f77b4\"/>\n     <use xlink:href=\"#mc0e9a4bfc5\" x=\"120.14165\" y=\"41.030443\" style=\"fill: #1f77b4; stroke: #1f77b4\"/>\n     <use xlink:href=\"#mc0e9a4bfc5\" x=\"135.22578\" y=\"81.619814\" style=\"fill: #1f77b4; stroke: #1f77b4\"/>\n     <use xlink:href=\"#mc0e9a4bfc5\" x=\"118.276214\" y=\"55.202112\" style=\"fill: #1f77b4; stroke: #1f77b4\"/>\n     <use xlink:href=\"#mc0e9a4bfc5\" x=\"157.240904\" y=\"87.288974\" style=\"fill: #1f77b4; stroke: #1f77b4\"/>\n     <use xlink:href=\"#mc0e9a4bfc5\" x=\"148.283696\" y=\"84.618001\" style=\"fill: #1f77b4; stroke: #1f77b4\"/>\n     <use xlink:href=\"#mc0e9a4bfc5\" x=\"151.770881\" y=\"83.774192\" style=\"fill: #1f77b4; stroke: #1f77b4\"/>\n     <use xlink:href=\"#mc0e9a4bfc5\" x=\"143.586736\" y=\"88.90485\" style=\"fill: #1f77b4; stroke: #1f77b4\"/>\n     <use xlink:href=\"#mc0e9a4bfc5\" x=\"131.475293\" y=\"67.225396\" style=\"fill: #1f77b4; stroke: #1f77b4\"/>\n     <use xlink:href=\"#mc0e9a4bfc5\" x=\"171.929639\" y=\"110.292243\" style=\"fill: #1f77b4; stroke: #1f77b4\"/>\n     <use xlink:href=\"#mc0e9a4bfc5\" x=\"151.039857\" y=\"73.514567\" style=\"fill: #1f77b4; stroke: #1f77b4\"/>\n     <use xlink:href=\"#mc0e9a4bfc5\" x=\"140.068636\" y=\"73.177822\" style=\"fill: #1f77b4; stroke: #1f77b4\"/>\n     <use xlink:href=\"#mc0e9a4bfc5\" x=\"124.534626\" y=\"67.719497\" style=\"fill: #1f77b4; stroke: #1f77b4\"/>\n     <use xlink:href=\"#mc0e9a4bfc5\" x=\"138.202656\" y=\"73.931843\" style=\"fill: #1f77b4; stroke: #1f77b4\"/>\n     <use xlink:href=\"#mc0e9a4bfc5\" x=\"138.32474\" y=\"67.796012\" style=\"fill: #1f77b4; stroke: #1f77b4\"/>\n     <use xlink:href=\"#mc0e9a4bfc5\" x=\"97.055647\" y=\"48.343764\" style=\"fill: #1f77b4; stroke: #1f77b4\"/>\n     <use xlink:href=\"#mc0e9a4bfc5\" x=\"138.134624\" y=\"71.173425\" style=\"fill: #1f77b4; stroke: #1f77b4\"/>\n     <use xlink:href=\"#mc0e9a4bfc5\" x=\"118.55625\" y=\"47.526709\" style=\"fill: #1f77b4; stroke: #1f77b4\"/>\n     <use xlink:href=\"#mc0e9a4bfc5\" x=\"114.426153\" y=\"45.503606\" style=\"fill: #1f77b4; stroke: #1f77b4\"/>\n     <use xlink:href=\"#mc0e9a4bfc5\" x=\"134.816018\" y=\"88.299149\" style=\"fill: #1f77b4; stroke: #1f77b4\"/>\n     <use xlink:href=\"#mc0e9a4bfc5\" x=\"139.462173\" y=\"67.381824\" style=\"fill: #1f77b4; stroke: #1f77b4\"/>\n     <use xlink:href=\"#mc0e9a4bfc5\" x=\"157.014002\" y=\"91.150826\" style=\"fill: #1f77b4; stroke: #1f77b4\"/>\n     <use xlink:href=\"#mc0e9a4bfc5\" x=\"172.298336\" y=\"95.945237\" style=\"fill: #1f77b4; stroke: #1f77b4\"/>\n     <use xlink:href=\"#mc0e9a4bfc5\" x=\"140.697138\" y=\"80.599017\" style=\"fill: #1f77b4; stroke: #1f77b4\"/>\n     <use xlink:href=\"#mc0e9a4bfc5\" x=\"148.825221\" y=\"93.097727\" style=\"fill: #1f77b4; stroke: #1f77b4\"/>\n     <use xlink:href=\"#mc0e9a4bfc5\" x=\"149.421365\" y=\"76.677564\" style=\"fill: #1f77b4; stroke: #1f77b4\"/>\n     <use xlink:href=\"#mc0e9a4bfc5\" x=\"160.282914\" y=\"84.405014\" style=\"fill: #1f77b4; stroke: #1f77b4\"/>\n     <use xlink:href=\"#mc0e9a4bfc5\" x=\"170.742237\" y=\"108.367933\" style=\"fill: #1f77b4; stroke: #1f77b4\"/>\n     <use xlink:href=\"#mc0e9a4bfc5\" x=\"72.87443\" y=\"40.229537\" style=\"fill: #1f77b4; stroke: #1f77b4\"/>\n     <use xlink:href=\"#mc0e9a4bfc5\" x=\"158.693973\" y=\"96.061837\" style=\"fill: #1f77b4; stroke: #1f77b4\"/>\n     <use xlink:href=\"#mc0e9a4bfc5\" x=\"142.316575\" y=\"77.031679\" style=\"fill: #1f77b4; stroke: #1f77b4\"/>\n     <use xlink:href=\"#mc0e9a4bfc5\" x=\"118.5365\" y=\"70.87157\" style=\"fill: #1f77b4; stroke: #1f77b4\"/>\n     <use xlink:href=\"#mc0e9a4bfc5\" x=\"135.12408\" y=\"60.763197\" style=\"fill: #1f77b4; stroke: #1f77b4\"/>\n     <use xlink:href=\"#mc0e9a4bfc5\" x=\"99.085451\" y=\"70.144691\" style=\"fill: #1f77b4; stroke: #1f77b4\"/>\n     <use xlink:href=\"#mc0e9a4bfc5\" x=\"160.081668\" y=\"87.64925\" style=\"fill: #1f77b4; stroke: #1f77b4\"/>\n     <use xlink:href=\"#mc0e9a4bfc5\" x=\"118.888713\" y=\"61.028215\" style=\"fill: #1f77b4; stroke: #1f77b4\"/>\n     <use xlink:href=\"#mc0e9a4bfc5\" x=\"157.726792\" y=\"65.044555\" style=\"fill: #1f77b4; stroke: #1f77b4\"/>\n     <use xlink:href=\"#mc0e9a4bfc5\" x=\"141.251082\" y=\"74.39767\" style=\"fill: #1f77b4; stroke: #1f77b4\"/>\n     <use xlink:href=\"#mc0e9a4bfc5\" x=\"114.586384\" y=\"75.817875\" style=\"fill: #1f77b4; stroke: #1f77b4\"/>\n     <use xlink:href=\"#mc0e9a4bfc5\" x=\"132.507487\" y=\"86.748314\" style=\"fill: #1f77b4; stroke: #1f77b4\"/>\n     <use xlink:href=\"#mc0e9a4bfc5\" x=\"146.165925\" y=\"80.866783\" style=\"fill: #1f77b4; stroke: #1f77b4\"/>\n     <use xlink:href=\"#mc0e9a4bfc5\" x=\"88.537927\" y=\"31.235161\" style=\"fill: #1f77b4; stroke: #1f77b4\"/>\n     <use xlink:href=\"#mc0e9a4bfc5\" x=\"136.497766\" y=\"70.438672\" style=\"fill: #1f77b4; stroke: #1f77b4\"/>\n     <use xlink:href=\"#mc0e9a4bfc5\" x=\"131.878402\" y=\"81.745417\" style=\"fill: #1f77b4; stroke: #1f77b4\"/>\n     <use xlink:href=\"#mc0e9a4bfc5\" x=\"76.934544\" y=\"30.960119\" style=\"fill: #1f77b4; stroke: #1f77b4\"/>\n     <use xlink:href=\"#mc0e9a4bfc5\" x=\"163.161239\" y=\"102.419903\" style=\"fill: #1f77b4; stroke: #1f77b4\"/>\n     <use xlink:href=\"#mc0e9a4bfc5\" x=\"150.581243\" y=\"65.891876\" style=\"fill: #1f77b4; stroke: #1f77b4\"/>\n     <use xlink:href=\"#mc0e9a4bfc5\" x=\"188.064901\" y=\"111.100959\" style=\"fill: #1f77b4; stroke: #1f77b4\"/>\n     <use xlink:href=\"#mc0e9a4bfc5\" x=\"133.370981\" y=\"81.064883\" style=\"fill: #1f77b4; stroke: #1f77b4\"/>\n     <use xlink:href=\"#mc0e9a4bfc5\" x=\"161.312004\" y=\"74.267646\" style=\"fill: #1f77b4; stroke: #1f77b4\"/>\n     <use xlink:href=\"#mc0e9a4bfc5\" x=\"94.773901\" y=\"56.548414\" style=\"fill: #1f77b4; stroke: #1f77b4\"/>\n     <use xlink:href=\"#mc0e9a4bfc5\" x=\"169.590354\" y=\"106.461921\" style=\"fill: #1f77b4; stroke: #1f77b4\"/>\n     <use xlink:href=\"#mc0e9a4bfc5\" x=\"188.176103\" y=\"105.021702\" style=\"fill: #1f77b4; stroke: #1f77b4\"/>\n     <use xlink:href=\"#mc0e9a4bfc5\" x=\"157.203181\" y=\"90.045086\" style=\"fill: #1f77b4; stroke: #1f77b4\"/>\n     <use xlink:href=\"#mc0e9a4bfc5\" x=\"166.728225\" y=\"94.463847\" style=\"fill: #1f77b4; stroke: #1f77b4\"/>\n     <use xlink:href=\"#mc0e9a4bfc5\" x=\"113.116924\" y=\"53.043236\" style=\"fill: #1f77b4; stroke: #1f77b4\"/>\n     <use xlink:href=\"#mc0e9a4bfc5\" x=\"112.854873\" y=\"76.504842\" style=\"fill: #1f77b4; stroke: #1f77b4\"/>\n     <use xlink:href=\"#mc0e9a4bfc5\" x=\"110.823043\" y=\"52.531079\" style=\"fill: #1f77b4; stroke: #1f77b4\"/>\n     <use xlink:href=\"#mc0e9a4bfc5\" x=\"135.12369\" y=\"83.201759\" style=\"fill: #1f77b4; stroke: #1f77b4\"/>\n     <use xlink:href=\"#mc0e9a4bfc5\" x=\"115.221399\" y=\"72.985457\" style=\"fill: #1f77b4; stroke: #1f77b4\"/>\n     <use xlink:href=\"#mc0e9a4bfc5\" x=\"110.843958\" y=\"49.592754\" style=\"fill: #1f77b4; stroke: #1f77b4\"/>\n     <use xlink:href=\"#mc0e9a4bfc5\" x=\"145.801965\" y=\"82.048694\" style=\"fill: #1f77b4; stroke: #1f77b4\"/>\n     <use xlink:href=\"#mc0e9a4bfc5\" x=\"100.884903\" y=\"46.404293\" style=\"fill: #1f77b4; stroke: #1f77b4\"/>\n     <use xlink:href=\"#mc0e9a4bfc5\" x=\"124.101357\" y=\"77.010922\" style=\"fill: #1f77b4; stroke: #1f77b4\"/>\n     <use xlink:href=\"#mc0e9a4bfc5\" x=\"183.220392\" y=\"96.037436\" style=\"fill: #1f77b4; stroke: #1f77b4\"/>\n     <use xlink:href=\"#mc0e9a4bfc5\" x=\"151.916263\" y=\"78.082777\" style=\"fill: #1f77b4; stroke: #1f77b4\"/>\n     <use xlink:href=\"#mc0e9a4bfc5\" x=\"141.509966\" y=\"72.12034\" style=\"fill: #1f77b4; stroke: #1f77b4\"/>\n     <use xlink:href=\"#mc0e9a4bfc5\" x=\"138.069244\" y=\"81.584906\" style=\"fill: #1f77b4; stroke: #1f77b4\"/>\n     <use xlink:href=\"#mc0e9a4bfc5\" x=\"150.825045\" y=\"78.522245\" style=\"fill: #1f77b4; stroke: #1f77b4\"/>\n     <use xlink:href=\"#mc0e9a4bfc5\" x=\"160.101806\" y=\"67.91217\" style=\"fill: #1f77b4; stroke: #1f77b4\"/>\n     <use xlink:href=\"#mc0e9a4bfc5\" x=\"146.705861\" y=\"86.636343\" style=\"fill: #1f77b4; stroke: #1f77b4\"/>\n     <use xlink:href=\"#mc0e9a4bfc5\" x=\"128.685384\" y=\"66.413345\" style=\"fill: #1f77b4; stroke: #1f77b4\"/>\n     <use xlink:href=\"#mc0e9a4bfc5\" x=\"125.425134\" y=\"76.592515\" style=\"fill: #1f77b4; stroke: #1f77b4\"/>\n     <use xlink:href=\"#mc0e9a4bfc5\" x=\"161.458004\" y=\"92.529569\" style=\"fill: #1f77b4; stroke: #1f77b4\"/>\n     <use xlink:href=\"#mc0e9a4bfc5\" x=\"158.31483\" y=\"96.540902\" style=\"fill: #1f77b4; stroke: #1f77b4\"/>\n     <use xlink:href=\"#mc0e9a4bfc5\" x=\"124.384449\" y=\"76.766002\" style=\"fill: #1f77b4; stroke: #1f77b4\"/>\n     <use xlink:href=\"#mc0e9a4bfc5\" x=\"134.792871\" y=\"76.980258\" style=\"fill: #1f77b4; stroke: #1f77b4\"/>\n     <use xlink:href=\"#mc0e9a4bfc5\" x=\"107.296604\" y=\"38.059749\" style=\"fill: #1f77b4; stroke: #1f77b4\"/>\n     <use xlink:href=\"#mc0e9a4bfc5\" x=\"136.965098\" y=\"58.753658\" style=\"fill: #1f77b4; stroke: #1f77b4\"/>\n     <use xlink:href=\"#mc0e9a4bfc5\" x=\"128.325278\" y=\"69.905889\" style=\"fill: #1f77b4; stroke: #1f77b4\"/>\n     <use xlink:href=\"#mc0e9a4bfc5\" x=\"107.502651\" y=\"66.01485\" style=\"fill: #1f77b4; stroke: #1f77b4\"/>\n     <use xlink:href=\"#mc0e9a4bfc5\" x=\"160.825258\" y=\"78.881224\" style=\"fill: #1f77b4; stroke: #1f77b4\"/>\n     <use xlink:href=\"#mc0e9a4bfc5\" x=\"141.597839\" y=\"54.850222\" style=\"fill: #1f77b4; stroke: #1f77b4\"/>\n     <use xlink:href=\"#mc0e9a4bfc5\" x=\"133.966366\" y=\"70.015806\" style=\"fill: #1f77b4; stroke: #1f77b4\"/>\n     <use xlink:href=\"#mc0e9a4bfc5\" x=\"180.317952\" y=\"99.008378\" style=\"fill: #1f77b4; stroke: #1f77b4\"/>\n     <use xlink:href=\"#mc0e9a4bfc5\" x=\"132.469682\" y=\"77.479037\" style=\"fill: #1f77b4; stroke: #1f77b4\"/>\n     <use xlink:href=\"#mc0e9a4bfc5\" x=\"144.53938\" y=\"73.490134\" style=\"fill: #1f77b4; stroke: #1f77b4\"/>\n     <use xlink:href=\"#mc0e9a4bfc5\" x=\"132.953047\" y=\"52.06526\" style=\"fill: #1f77b4; stroke: #1f77b4\"/>\n     <use xlink:href=\"#mc0e9a4bfc5\" x=\"92.768887\" y=\"41.037409\" style=\"fill: #1f77b4; stroke: #1f77b4\"/>\n     <use xlink:href=\"#mc0e9a4bfc5\" x=\"149.664331\" y=\"92.677146\" style=\"fill: #1f77b4; stroke: #1f77b4\"/>\n     <use xlink:href=\"#mc0e9a4bfc5\" x=\"131.047886\" y=\"58.028516\" style=\"fill: #1f77b4; stroke: #1f77b4\"/>\n     <use xlink:href=\"#mc0e9a4bfc5\" x=\"140.866845\" y=\"78.582886\" style=\"fill: #1f77b4; stroke: #1f77b4\"/>\n     <use xlink:href=\"#mc0e9a4bfc5\" x=\"141.677886\" y=\"87.302697\" style=\"fill: #1f77b4; stroke: #1f77b4\"/>\n     <use xlink:href=\"#mc0e9a4bfc5\" x=\"115.693441\" y=\"54.550521\" style=\"fill: #1f77b4; stroke: #1f77b4\"/>\n     <use xlink:href=\"#mc0e9a4bfc5\" x=\"138.715792\" y=\"82.901605\" style=\"fill: #1f77b4; stroke: #1f77b4\"/>\n     <use xlink:href=\"#mc0e9a4bfc5\" x=\"148.383515\" y=\"87.587763\" style=\"fill: #1f77b4; stroke: #1f77b4\"/>\n     <use xlink:href=\"#mc0e9a4bfc5\" x=\"144.88744\" y=\"84.989796\" style=\"fill: #1f77b4; stroke: #1f77b4\"/>\n     <use xlink:href=\"#mc0e9a4bfc5\" x=\"103.063702\" y=\"39.95836\" style=\"fill: #1f77b4; stroke: #1f77b4\"/>\n     <use xlink:href=\"#mc0e9a4bfc5\" x=\"126.591392\" y=\"88.777068\" style=\"fill: #1f77b4; stroke: #1f77b4\"/>\n     <use xlink:href=\"#mc0e9a4bfc5\" x=\"147.51118\" y=\"83.22825\" style=\"fill: #1f77b4; stroke: #1f77b4\"/>\n     <use xlink:href=\"#mc0e9a4bfc5\" x=\"129.04986\" y=\"68.260802\" style=\"fill: #1f77b4; stroke: #1f77b4\"/>\n     <use xlink:href=\"#mc0e9a4bfc5\" x=\"163.176123\" y=\"88.243587\" style=\"fill: #1f77b4; stroke: #1f77b4\"/>\n     <use xlink:href=\"#mc0e9a4bfc5\" x=\"108.664882\" y=\"66.491356\" style=\"fill: #1f77b4; stroke: #1f77b4\"/>\n     <use xlink:href=\"#mc0e9a4bfc5\" x=\"190.111126\" y=\"93.928974\" style=\"fill: #1f77b4; stroke: #1f77b4\"/>\n     <use xlink:href=\"#mc0e9a4bfc5\" x=\"162.733046\" y=\"83.312374\" style=\"fill: #1f77b4; stroke: #1f77b4\"/>\n     <use xlink:href=\"#mc0e9a4bfc5\" x=\"134.724023\" y=\"79.474821\" style=\"fill: #1f77b4; stroke: #1f77b4\"/>\n     <use xlink:href=\"#mc0e9a4bfc5\" x=\"163.899791\" y=\"91.384367\" style=\"fill: #1f77b4; stroke: #1f77b4\"/>\n     <use xlink:href=\"#mc0e9a4bfc5\" x=\"106.867244\" y=\"47.641138\" style=\"fill: #1f77b4; stroke: #1f77b4\"/>\n     <use xlink:href=\"#mc0e9a4bfc5\" x=\"195.23455\" y=\"105.22886\" style=\"fill: #1f77b4; stroke: #1f77b4\"/>\n     <use xlink:href=\"#mc0e9a4bfc5\" x=\"141.461724\" y=\"75.526905\" style=\"fill: #1f77b4; stroke: #1f77b4\"/>\n     <use xlink:href=\"#mc0e9a4bfc5\" x=\"131.117076\" y=\"63.393768\" style=\"fill: #1f77b4; stroke: #1f77b4\"/>\n     <use xlink:href=\"#mc0e9a4bfc5\" x=\"167.961331\" y=\"74.672311\" style=\"fill: #1f77b4; stroke: #1f77b4\"/>\n     <use xlink:href=\"#mc0e9a4bfc5\" x=\"132.91881\" y=\"77.379751\" style=\"fill: #1f77b4; stroke: #1f77b4\"/>\n     <use xlink:href=\"#mc0e9a4bfc5\" x=\"138.217872\" y=\"86.873244\" style=\"fill: #1f77b4; stroke: #1f77b4\"/>\n     <use xlink:href=\"#mc0e9a4bfc5\" x=\"113.883782\" y=\"66.994943\" style=\"fill: #1f77b4; stroke: #1f77b4\"/>\n     <use xlink:href=\"#mc0e9a4bfc5\" x=\"148.143836\" y=\"74.485452\" style=\"fill: #1f77b4; stroke: #1f77b4\"/>\n     <use xlink:href=\"#mc0e9a4bfc5\" x=\"153.357232\" y=\"101.180987\" style=\"fill: #1f77b4; stroke: #1f77b4\"/>\n     <use xlink:href=\"#mc0e9a4bfc5\" x=\"170.35679\" y=\"91.333824\" style=\"fill: #1f77b4; stroke: #1f77b4\"/>\n     <use xlink:href=\"#mc0e9a4bfc5\" x=\"115.002215\" y=\"51.743801\" style=\"fill: #1f77b4; stroke: #1f77b4\"/>\n     <use xlink:href=\"#mc0e9a4bfc5\" x=\"121.404905\" y=\"54.328596\" style=\"fill: #1f77b4; stroke: #1f77b4\"/>\n     <use xlink:href=\"#mc0e9a4bfc5\" x=\"147.779531\" y=\"84.20185\" style=\"fill: #1f77b4; stroke: #1f77b4\"/>\n     <use xlink:href=\"#mc0e9a4bfc5\" x=\"184.234926\" y=\"99.234353\" style=\"fill: #1f77b4; stroke: #1f77b4\"/>\n     <use xlink:href=\"#mc0e9a4bfc5\" x=\"180.908747\" y=\"111.947775\" style=\"fill: #1f77b4; stroke: #1f77b4\"/>\n     <use xlink:href=\"#mc0e9a4bfc5\" x=\"134.659745\" y=\"71.406714\" style=\"fill: #1f77b4; stroke: #1f77b4\"/>\n     <use xlink:href=\"#mc0e9a4bfc5\" x=\"169.082462\" y=\"82.224746\" style=\"fill: #1f77b4; stroke: #1f77b4\"/>\n     <use xlink:href=\"#mc0e9a4bfc5\" x=\"131.508151\" y=\"66.450338\" style=\"fill: #1f77b4; stroke: #1f77b4\"/>\n     <use xlink:href=\"#mc0e9a4bfc5\" x=\"167.024618\" y=\"110.175538\" style=\"fill: #1f77b4; stroke: #1f77b4\"/>\n     <use xlink:href=\"#mc0e9a4bfc5\" x=\"140.246578\" y=\"75.463804\" style=\"fill: #1f77b4; stroke: #1f77b4\"/>\n     <use xlink:href=\"#mc0e9a4bfc5\" x=\"113.185647\" y=\"54.012038\" style=\"fill: #1f77b4; stroke: #1f77b4\"/>\n     <use xlink:href=\"#mc0e9a4bfc5\" x=\"149.923574\" y=\"91.592573\" style=\"fill: #1f77b4; stroke: #1f77b4\"/>\n     <use xlink:href=\"#mc0e9a4bfc5\" x=\"161.371571\" y=\"83.736313\" style=\"fill: #1f77b4; stroke: #1f77b4\"/>\n     <use xlink:href=\"#mc0e9a4bfc5\" x=\"143.905595\" y=\"86.07603\" style=\"fill: #1f77b4; stroke: #1f77b4\"/>\n     <use xlink:href=\"#mc0e9a4bfc5\" x=\"119.745413\" y=\"47.454796\" style=\"fill: #1f77b4; stroke: #1f77b4\"/>\n     <use xlink:href=\"#mc0e9a4bfc5\" x=\"166.09212\" y=\"99.410546\" style=\"fill: #1f77b4; stroke: #1f77b4\"/>\n     <use xlink:href=\"#mc0e9a4bfc5\" x=\"140.114883\" y=\"52.07137\" style=\"fill: #1f77b4; stroke: #1f77b4\"/>\n     <use xlink:href=\"#mc0e9a4bfc5\" x=\"91.181405\" y=\"48.354295\" style=\"fill: #1f77b4; stroke: #1f77b4\"/>\n     <use xlink:href=\"#mc0e9a4bfc5\" x=\"101.006526\" y=\"41.897957\" style=\"fill: #1f77b4; stroke: #1f77b4\"/>\n     <use xlink:href=\"#mc0e9a4bfc5\" x=\"117.008821\" y=\"76.401692\" style=\"fill: #1f77b4; stroke: #1f77b4\"/>\n     <use xlink:href=\"#mc0e9a4bfc5\" x=\"150.861155\" y=\"92.685393\" style=\"fill: #1f77b4; stroke: #1f77b4\"/>\n     <use xlink:href=\"#mc0e9a4bfc5\" x=\"125.458272\" y=\"53.61831\" style=\"fill: #1f77b4; stroke: #1f77b4\"/>\n     <use xlink:href=\"#mc0e9a4bfc5\" x=\"106.735571\" y=\"65.732821\" style=\"fill: #1f77b4; stroke: #1f77b4\"/>\n     <use xlink:href=\"#mc0e9a4bfc5\" x=\"105.152081\" y=\"55.555318\" style=\"fill: #1f77b4; stroke: #1f77b4\"/>\n     <use xlink:href=\"#mc0e9a4bfc5\" x=\"179.221118\" y=\"95.903008\" style=\"fill: #1f77b4; stroke: #1f77b4\"/>\n     <use xlink:href=\"#mc0e9a4bfc5\" x=\"139.697272\" y=\"75.213912\" style=\"fill: #1f77b4; stroke: #1f77b4\"/>\n     <use xlink:href=\"#mc0e9a4bfc5\" x=\"126.412111\" y=\"60.443923\" style=\"fill: #1f77b4; stroke: #1f77b4\"/>\n     <use xlink:href=\"#mc0e9a4bfc5\" x=\"158.6089\" y=\"96.928521\" style=\"fill: #1f77b4; stroke: #1f77b4\"/>\n     <use xlink:href=\"#mc0e9a4bfc5\" x=\"176.263437\" y=\"103.082456\" style=\"fill: #1f77b4; stroke: #1f77b4\"/>\n     <use xlink:href=\"#mc0e9a4bfc5\" x=\"184.24835\" y=\"105.834318\" style=\"fill: #1f77b4; stroke: #1f77b4\"/>\n     <use xlink:href=\"#mc0e9a4bfc5\" x=\"130.792656\" y=\"66.554968\" style=\"fill: #1f77b4; stroke: #1f77b4\"/>\n     <use xlink:href=\"#mc0e9a4bfc5\" x=\"139.994355\" y=\"83.525589\" style=\"fill: #1f77b4; stroke: #1f77b4\"/>\n     <use xlink:href=\"#mc0e9a4bfc5\" x=\"157.668267\" y=\"96.128351\" style=\"fill: #1f77b4; stroke: #1f77b4\"/>\n     <use xlink:href=\"#mc0e9a4bfc5\" x=\"125.503912\" y=\"77.794441\" style=\"fill: #1f77b4; stroke: #1f77b4\"/>\n     <use xlink:href=\"#mc0e9a4bfc5\" x=\"134.483971\" y=\"75.306147\" style=\"fill: #1f77b4; stroke: #1f77b4\"/>\n     <use xlink:href=\"#mc0e9a4bfc5\" x=\"109.251357\" y=\"66.939305\" style=\"fill: #1f77b4; stroke: #1f77b4\"/>\n     <use xlink:href=\"#mc0e9a4bfc5\" x=\"153.607203\" y=\"94.673483\" style=\"fill: #1f77b4; stroke: #1f77b4\"/>\n     <use xlink:href=\"#mc0e9a4bfc5\" x=\"148.024504\" y=\"82.009305\" style=\"fill: #1f77b4; stroke: #1f77b4\"/>\n     <use xlink:href=\"#mc0e9a4bfc5\" x=\"151.39773\" y=\"72.456849\" style=\"fill: #1f77b4; stroke: #1f77b4\"/>\n     <use xlink:href=\"#mc0e9a4bfc5\" x=\"155.394143\" y=\"79.587922\" style=\"fill: #1f77b4; stroke: #1f77b4\"/>\n     <use xlink:href=\"#mc0e9a4bfc5\" x=\"125.021212\" y=\"73.131786\" style=\"fill: #1f77b4; stroke: #1f77b4\"/>\n     <use xlink:href=\"#mc0e9a4bfc5\" x=\"130.143233\" y=\"66.051209\" style=\"fill: #1f77b4; stroke: #1f77b4\"/>\n     <use xlink:href=\"#mc0e9a4bfc5\" x=\"119.283922\" y=\"54.726478\" style=\"fill: #1f77b4; stroke: #1f77b4\"/>\n     <use xlink:href=\"#mc0e9a4bfc5\" x=\"213.996193\" y=\"112.399999\" style=\"fill: #1f77b4; stroke: #1f77b4\"/>\n     <use xlink:href=\"#mc0e9a4bfc5\" x=\"81.76699\" y=\"40.43006\" style=\"fill: #1f77b4; stroke: #1f77b4\"/>\n     <use xlink:href=\"#mc0e9a4bfc5\" x=\"135.37351\" y=\"69.244619\" style=\"fill: #1f77b4; stroke: #1f77b4\"/>\n     <use xlink:href=\"#mc0e9a4bfc5\" x=\"176.489848\" y=\"103.491707\" style=\"fill: #1f77b4; stroke: #1f77b4\"/>\n     <use xlink:href=\"#mc0e9a4bfc5\" x=\"128.187143\" y=\"51.243097\" style=\"fill: #1f77b4; stroke: #1f77b4\"/>\n     <use xlink:href=\"#mc0e9a4bfc5\" x=\"160.258075\" y=\"66.879945\" style=\"fill: #1f77b4; stroke: #1f77b4\"/>\n     <use xlink:href=\"#mc0e9a4bfc5\" x=\"149.736702\" y=\"105.421589\" style=\"fill: #1f77b4; stroke: #1f77b4\"/>\n     <use xlink:href=\"#mc0e9a4bfc5\" x=\"206.301196\" y=\"107.606828\" style=\"fill: #1f77b4; stroke: #1f77b4\"/>\n     <use xlink:href=\"#mc0e9a4bfc5\" x=\"134.513647\" y=\"48.032841\" style=\"fill: #1f77b4; stroke: #1f77b4\"/>\n     <use xlink:href=\"#mc0e9a4bfc5\" x=\"162.109453\" y=\"91.926927\" style=\"fill: #1f77b4; stroke: #1f77b4\"/>\n     <use xlink:href=\"#mc0e9a4bfc5\" x=\"109.85254\" y=\"60.20554\" style=\"fill: #1f77b4; stroke: #1f77b4\"/>\n     <use xlink:href=\"#mc0e9a4bfc5\" x=\"145.818101\" y=\"90.721428\" style=\"fill: #1f77b4; stroke: #1f77b4\"/>\n     <use xlink:href=\"#mc0e9a4bfc5\" x=\"86.752335\" y=\"47.763708\" style=\"fill: #1f77b4; stroke: #1f77b4\"/>\n     <use xlink:href=\"#mc0e9a4bfc5\" x=\"87.799819\" y=\"42.43982\" style=\"fill: #1f77b4; stroke: #1f77b4\"/>\n     <use xlink:href=\"#mc0e9a4bfc5\" x=\"131.542946\" y=\"73.431842\" style=\"fill: #1f77b4; stroke: #1f77b4\"/>\n     <use xlink:href=\"#mc0e9a4bfc5\" x=\"149.872509\" y=\"92.339759\" style=\"fill: #1f77b4; stroke: #1f77b4\"/>\n     <use xlink:href=\"#mc0e9a4bfc5\" x=\"138.492766\" y=\"75.537391\" style=\"fill: #1f77b4; stroke: #1f77b4\"/>\n     <use xlink:href=\"#mc0e9a4bfc5\" x=\"169.378568\" y=\"102.005135\" style=\"fill: #1f77b4; stroke: #1f77b4\"/>\n     <use xlink:href=\"#mc0e9a4bfc5\" x=\"129.173859\" y=\"71.769107\" style=\"fill: #1f77b4; stroke: #1f77b4\"/>\n     <use xlink:href=\"#mc0e9a4bfc5\" x=\"184.804588\" y=\"95.789539\" style=\"fill: #1f77b4; stroke: #1f77b4\"/>\n     <use xlink:href=\"#mc0e9a4bfc5\" x=\"135.932948\" y=\"72.153184\" style=\"fill: #1f77b4; stroke: #1f77b4\"/>\n     <use xlink:href=\"#mc0e9a4bfc5\" x=\"157.711036\" y=\"70.707396\" style=\"fill: #1f77b4; stroke: #1f77b4\"/>\n     <use xlink:href=\"#mc0e9a4bfc5\" x=\"176.249184\" y=\"101.680911\" style=\"fill: #1f77b4; stroke: #1f77b4\"/>\n     <use xlink:href=\"#mc0e9a4bfc5\" x=\"124.262005\" y=\"58.375729\" style=\"fill: #1f77b4; stroke: #1f77b4\"/>\n     <use xlink:href=\"#mc0e9a4bfc5\" x=\"125.96734\" y=\"80.141419\" style=\"fill: #1f77b4; stroke: #1f77b4\"/>\n     <use xlink:href=\"#mc0e9a4bfc5\" x=\"115.263036\" y=\"60.801116\" style=\"fill: #1f77b4; stroke: #1f77b4\"/>\n     <use xlink:href=\"#mc0e9a4bfc5\" x=\"148.639434\" y=\"84.745634\" style=\"fill: #1f77b4; stroke: #1f77b4\"/>\n     <use xlink:href=\"#mc0e9a4bfc5\" x=\"101.951207\" y=\"64.583234\" style=\"fill: #1f77b4; stroke: #1f77b4\"/>\n     <use xlink:href=\"#mc0e9a4bfc5\" x=\"175.53342\" y=\"92.764663\" style=\"fill: #1f77b4; stroke: #1f77b4\"/>\n     <use xlink:href=\"#mc0e9a4bfc5\" x=\"99.092276\" y=\"55.706414\" style=\"fill: #1f77b4; stroke: #1f77b4\"/>\n     <use xlink:href=\"#mc0e9a4bfc5\" x=\"126.261612\" y=\"57.270269\" style=\"fill: #1f77b4; stroke: #1f77b4\"/>\n     <use xlink:href=\"#mc0e9a4bfc5\" x=\"138.583247\" y=\"69.43629\" style=\"fill: #1f77b4; stroke: #1f77b4\"/>\n     <use xlink:href=\"#mc0e9a4bfc5\" x=\"128.651363\" y=\"58.300545\" style=\"fill: #1f77b4; stroke: #1f77b4\"/>\n     <use xlink:href=\"#mc0e9a4bfc5\" x=\"89.505517\" y=\"43.279424\" style=\"fill: #1f77b4; stroke: #1f77b4\"/>\n     <use xlink:href=\"#mc0e9a4bfc5\" x=\"120.874828\" y=\"79.905087\" style=\"fill: #1f77b4; stroke: #1f77b4\"/>\n     <use xlink:href=\"#mc0e9a4bfc5\" x=\"162.506418\" y=\"75.367181\" style=\"fill: #1f77b4; stroke: #1f77b4\"/>\n     <use xlink:href=\"#mc0e9a4bfc5\" x=\"154.387347\" y=\"97.194673\" style=\"fill: #1f77b4; stroke: #1f77b4\"/>\n     <use xlink:href=\"#mc0e9a4bfc5\" x=\"123.539239\" y=\"76.78241\" style=\"fill: #1f77b4; stroke: #1f77b4\"/>\n     <use xlink:href=\"#mc0e9a4bfc5\" x=\"129.309892\" y=\"69.998873\" style=\"fill: #1f77b4; stroke: #1f77b4\"/>\n     <use xlink:href=\"#mc0e9a4bfc5\" x=\"82.967679\" y=\"27.876854\" style=\"fill: #1f77b4; stroke: #1f77b4\"/>\n     <use xlink:href=\"#mc0e9a4bfc5\" x=\"139.511834\" y=\"87.914763\" style=\"fill: #1f77b4; stroke: #1f77b4\"/>\n     <use xlink:href=\"#mc0e9a4bfc5\" x=\"118.980629\" y=\"83.174616\" style=\"fill: #1f77b4; stroke: #1f77b4\"/>\n     <use xlink:href=\"#mc0e9a4bfc5\" x=\"102.14265\" y=\"46.091115\" style=\"fill: #1f77b4; stroke: #1f77b4\"/>\n     <use xlink:href=\"#mc0e9a4bfc5\" x=\"132.571248\" y=\"67.296149\" style=\"fill: #1f77b4; stroke: #1f77b4\"/>\n     <use xlink:href=\"#mc0e9a4bfc5\" x=\"142.27029\" y=\"83.458761\" style=\"fill: #1f77b4; stroke: #1f77b4\"/>\n     <use xlink:href=\"#mc0e9a4bfc5\" x=\"129.152249\" y=\"69.755802\" style=\"fill: #1f77b4; stroke: #1f77b4\"/>\n     <use xlink:href=\"#mc0e9a4bfc5\" x=\"111.476763\" y=\"47.002286\" style=\"fill: #1f77b4; stroke: #1f77b4\"/>\n     <use xlink:href=\"#mc0e9a4bfc5\" x=\"169.483225\" y=\"102.010646\" style=\"fill: #1f77b4; stroke: #1f77b4\"/>\n     <use xlink:href=\"#mc0e9a4bfc5\" x=\"120.210767\" y=\"72.442148\" style=\"fill: #1f77b4; stroke: #1f77b4\"/>\n     <use xlink:href=\"#mc0e9a4bfc5\" x=\"132.250541\" y=\"57.886544\" style=\"fill: #1f77b4; stroke: #1f77b4\"/>\n     <use xlink:href=\"#mc0e9a4bfc5\" x=\"108.60837\" y=\"59.64599\" style=\"fill: #1f77b4; stroke: #1f77b4\"/>\n     <use xlink:href=\"#mc0e9a4bfc5\" x=\"120.48515\" y=\"48.716501\" style=\"fill: #1f77b4; stroke: #1f77b4\"/>\n     <use xlink:href=\"#mc0e9a4bfc5\" x=\"165.367928\" y=\"100.58077\" style=\"fill: #1f77b4; stroke: #1f77b4\"/>\n     <use xlink:href=\"#mc0e9a4bfc5\" x=\"131.843519\" y=\"53.096727\" style=\"fill: #1f77b4; stroke: #1f77b4\"/>\n     <use xlink:href=\"#mc0e9a4bfc5\" x=\"112.802994\" y=\"53.424085\" style=\"fill: #1f77b4; stroke: #1f77b4\"/>\n     <use xlink:href=\"#mc0e9a4bfc5\" x=\"117.24979\" y=\"58.870153\" style=\"fill: #1f77b4; stroke: #1f77b4\"/>\n     <use xlink:href=\"#mc0e9a4bfc5\" x=\"117.00755\" y=\"46.464511\" style=\"fill: #1f77b4; stroke: #1f77b4\"/>\n     <use xlink:href=\"#mc0e9a4bfc5\" x=\"142.792374\" y=\"66.796652\" style=\"fill: #1f77b4; stroke: #1f77b4\"/>\n     <use xlink:href=\"#mc0e9a4bfc5\" x=\"125.473105\" y=\"74.548425\" style=\"fill: #1f77b4; stroke: #1f77b4\"/>\n     <use xlink:href=\"#mc0e9a4bfc5\" x=\"177.634044\" y=\"121.476378\" style=\"fill: #1f77b4; stroke: #1f77b4\"/>\n     <use xlink:href=\"#mc0e9a4bfc5\" x=\"139.361268\" y=\"65.55072\" style=\"fill: #1f77b4; stroke: #1f77b4\"/>\n     <use xlink:href=\"#mc0e9a4bfc5\" x=\"138.305424\" y=\"81.785544\" style=\"fill: #1f77b4; stroke: #1f77b4\"/>\n     <use xlink:href=\"#mc0e9a4bfc5\" x=\"91.99309\" y=\"47.086068\" style=\"fill: #1f77b4; stroke: #1f77b4\"/>\n     <use xlink:href=\"#mc0e9a4bfc5\" x=\"175.318305\" y=\"84.935418\" style=\"fill: #1f77b4; stroke: #1f77b4\"/>\n     <use xlink:href=\"#mc0e9a4bfc5\" x=\"158.00631\" y=\"87.236959\" style=\"fill: #1f77b4; stroke: #1f77b4\"/>\n     <use xlink:href=\"#mc0e9a4bfc5\" x=\"143.603473\" y=\"78.306513\" style=\"fill: #1f77b4; stroke: #1f77b4\"/>\n     <use xlink:href=\"#mc0e9a4bfc5\" x=\"158.41585\" y=\"98.575934\" style=\"fill: #1f77b4; stroke: #1f77b4\"/>\n    </g>\n   </g>\n   <g id=\"matplotlib.axis_1\">\n    <g id=\"xtick_1\">\n     <g id=\"line2d_1\">\n      <defs>\n       <path id=\"m2a70772887\" d=\"M 0 0 \nL 0 3.5 \n\" style=\"stroke: #000000; stroke-width: 0.8\"/>\n      </defs>\n      <g>\n       <use xlink:href=\"#m2a70772887\" x=\"84.661334\" y=\"145.8\" style=\"stroke: #000000; stroke-width: 0.8\"/>\n      </g>\n     </g>\n     <g id=\"text_1\">\n      <!-- −2 -->\n      <g transform=\"translate(77.29024 160.398438) scale(0.1 -0.1)\">\n       <defs>\n        <path id=\"DejaVuSans-2212\" d=\"M 678 2272 \nL 4684 2272 \nL 4684 1741 \nL 678 1741 \nL 678 2272 \nz\n\" transform=\"scale(0.015625)\"/>\n        <path id=\"DejaVuSans-32\" d=\"M 1228 531 \nL 3431 531 \nL 3431 0 \nL 469 0 \nL 469 531 \nQ 828 903 1448 1529 \nQ 2069 2156 2228 2338 \nQ 2531 2678 2651 2914 \nQ 2772 3150 2772 3378 \nQ 2772 3750 2511 3984 \nQ 2250 4219 1831 4219 \nQ 1534 4219 1204 4116 \nQ 875 4013 500 3803 \nL 500 4441 \nQ 881 4594 1212 4672 \nQ 1544 4750 1819 4750 \nQ 2544 4750 2975 4387 \nQ 3406 4025 3406 3419 \nQ 3406 3131 3298 2873 \nQ 3191 2616 2906 2266 \nQ 2828 2175 2409 1742 \nQ 1991 1309 1228 531 \nz\n\" transform=\"scale(0.015625)\"/>\n       </defs>\n       <use xlink:href=\"#DejaVuSans-2212\"/>\n       <use xlink:href=\"#DejaVuSans-32\" x=\"83.789062\"/>\n      </g>\n     </g>\n    </g>\n    <g id=\"xtick_2\">\n     <g id=\"line2d_2\">\n      <g>\n       <use xlink:href=\"#m2a70772887\" x=\"135.800222\" y=\"145.8\" style=\"stroke: #000000; stroke-width: 0.8\"/>\n      </g>\n     </g>\n     <g id=\"text_2\">\n      <!-- 0 -->\n      <g transform=\"translate(132.618972 160.398438) scale(0.1 -0.1)\">\n       <defs>\n        <path id=\"DejaVuSans-30\" d=\"M 2034 4250 \nQ 1547 4250 1301 3770 \nQ 1056 3291 1056 2328 \nQ 1056 1369 1301 889 \nQ 1547 409 2034 409 \nQ 2525 409 2770 889 \nQ 3016 1369 3016 2328 \nQ 3016 3291 2770 3770 \nQ 2525 4250 2034 4250 \nz\nM 2034 4750 \nQ 2819 4750 3233 4129 \nQ 3647 3509 3647 2328 \nQ 3647 1150 3233 529 \nQ 2819 -91 2034 -91 \nQ 1250 -91 836 529 \nQ 422 1150 422 2328 \nQ 422 3509 836 4129 \nQ 1250 4750 2034 4750 \nz\n\" transform=\"scale(0.015625)\"/>\n       </defs>\n       <use xlink:href=\"#DejaVuSans-30\"/>\n      </g>\n     </g>\n    </g>\n    <g id=\"xtick_3\">\n     <g id=\"line2d_3\">\n      <g>\n       <use xlink:href=\"#m2a70772887\" x=\"186.93911\" y=\"145.8\" style=\"stroke: #000000; stroke-width: 0.8\"/>\n      </g>\n     </g>\n     <g id=\"text_3\">\n      <!-- 2 -->\n      <g transform=\"translate(183.75786 160.398438) scale(0.1 -0.1)\">\n       <use xlink:href=\"#DejaVuSans-32\"/>\n      </g>\n     </g>\n    </g>\n   </g>\n   <g id=\"matplotlib.axis_2\">\n    <g id=\"ytick_1\">\n     <g id=\"line2d_4\">\n      <defs>\n       <path id=\"m40e5ee3357\" d=\"M 0 0 \nL -3.5 0 \n\" style=\"stroke: #000000; stroke-width: 0.8\"/>\n      </defs>\n      <g>\n       <use xlink:href=\"#m40e5ee3357\" x=\"35.304688\" y=\"141.933808\" style=\"stroke: #000000; stroke-width: 0.8\"/>\n      </g>\n     </g>\n     <g id=\"text_4\">\n      <!-- −10 -->\n      <g transform=\"translate(7.2 145.733027) scale(0.1 -0.1)\">\n       <defs>\n        <path id=\"DejaVuSans-31\" d=\"M 794 531 \nL 1825 531 \nL 1825 4091 \nL 703 3866 \nL 703 4441 \nL 1819 4666 \nL 2450 4666 \nL 2450 531 \nL 3481 531 \nL 3481 0 \nL 794 0 \nL 794 531 \nz\n\" transform=\"scale(0.015625)\"/>\n       </defs>\n       <use xlink:href=\"#DejaVuSans-2212\"/>\n       <use xlink:href=\"#DejaVuSans-31\" x=\"83.789062\"/>\n       <use xlink:href=\"#DejaVuSans-30\" x=\"147.412109\"/>\n      </g>\n     </g>\n    </g>\n    <g id=\"ytick_2\">\n     <g id=\"line2d_5\">\n      <g>\n       <use xlink:href=\"#m40e5ee3357\" x=\"35.304688\" y=\"117.406493\" style=\"stroke: #000000; stroke-width: 0.8\"/>\n      </g>\n     </g>\n     <g id=\"text_5\">\n      <!-- −5 -->\n      <g transform=\"translate(13.5625 121.205712) scale(0.1 -0.1)\">\n       <defs>\n        <path id=\"DejaVuSans-35\" d=\"M 691 4666 \nL 3169 4666 \nL 3169 4134 \nL 1269 4134 \nL 1269 2991 \nQ 1406 3038 1543 3061 \nQ 1681 3084 1819 3084 \nQ 2600 3084 3056 2656 \nQ 3513 2228 3513 1497 \nQ 3513 744 3044 326 \nQ 2575 -91 1722 -91 \nQ 1428 -91 1123 -41 \nQ 819 9 494 109 \nL 494 744 \nQ 775 591 1075 516 \nQ 1375 441 1709 441 \nQ 2250 441 2565 725 \nQ 2881 1009 2881 1497 \nQ 2881 1984 2565 2268 \nQ 2250 2553 1709 2553 \nQ 1456 2553 1204 2497 \nQ 953 2441 691 2322 \nL 691 4666 \nz\n\" transform=\"scale(0.015625)\"/>\n       </defs>\n       <use xlink:href=\"#DejaVuSans-2212\"/>\n       <use xlink:href=\"#DejaVuSans-35\" x=\"83.789062\"/>\n      </g>\n     </g>\n    </g>\n    <g id=\"ytick_3\">\n     <g id=\"line2d_6\">\n      <g>\n       <use xlink:href=\"#m40e5ee3357\" x=\"35.304688\" y=\"92.879178\" style=\"stroke: #000000; stroke-width: 0.8\"/>\n      </g>\n     </g>\n     <g id=\"text_6\">\n      <!-- 0 -->\n      <g transform=\"translate(21.942187 96.678397) scale(0.1 -0.1)\">\n       <use xlink:href=\"#DejaVuSans-30\"/>\n      </g>\n     </g>\n    </g>\n    <g id=\"ytick_4\">\n     <g id=\"line2d_7\">\n      <g>\n       <use xlink:href=\"#m40e5ee3357\" x=\"35.304688\" y=\"68.351863\" style=\"stroke: #000000; stroke-width: 0.8\"/>\n      </g>\n     </g>\n     <g id=\"text_7\">\n      <!-- 5 -->\n      <g transform=\"translate(21.942187 72.151082) scale(0.1 -0.1)\">\n       <use xlink:href=\"#DejaVuSans-35\"/>\n      </g>\n     </g>\n    </g>\n    <g id=\"ytick_5\">\n     <g id=\"line2d_8\">\n      <g>\n       <use xlink:href=\"#m40e5ee3357\" x=\"35.304688\" y=\"43.824548\" style=\"stroke: #000000; stroke-width: 0.8\"/>\n      </g>\n     </g>\n     <g id=\"text_8\">\n      <!-- 10 -->\n      <g transform=\"translate(15.579687 47.623767) scale(0.1 -0.1)\">\n       <use xlink:href=\"#DejaVuSans-31\"/>\n       <use xlink:href=\"#DejaVuSans-30\" x=\"63.623047\"/>\n      </g>\n     </g>\n    </g>\n    <g id=\"ytick_6\">\n     <g id=\"line2d_9\">\n      <g>\n       <use xlink:href=\"#m40e5ee3357\" x=\"35.304688\" y=\"19.297234\" style=\"stroke: #000000; stroke-width: 0.8\"/>\n      </g>\n     </g>\n     <g id=\"text_9\">\n      <!-- 15 -->\n      <g transform=\"translate(15.579687 23.096452) scale(0.1 -0.1)\">\n       <use xlink:href=\"#DejaVuSans-31\"/>\n       <use xlink:href=\"#DejaVuSans-35\" x=\"63.623047\"/>\n      </g>\n     </g>\n    </g>\n   </g>\n   <g id=\"patch_3\">\n    <path d=\"M 35.304688 145.8 \nL 35.304688 7.2 \n\" style=\"fill: none; stroke: #000000; stroke-width: 0.8; stroke-linejoin: miter; stroke-linecap: square\"/>\n   </g>\n   <g id=\"patch_4\">\n    <path d=\"M 230.604688 145.8 \nL 230.604688 7.2 \n\" style=\"fill: none; stroke: #000000; stroke-width: 0.8; stroke-linejoin: miter; stroke-linecap: square\"/>\n   </g>\n   <g id=\"patch_5\">\n    <path d=\"M 35.304688 145.8 \nL 230.604688 145.8 \n\" style=\"fill: none; stroke: #000000; stroke-width: 0.8; stroke-linejoin: miter; stroke-linecap: square\"/>\n   </g>\n   <g id=\"patch_6\">\n    <path d=\"M 35.304688 7.2 \nL 230.604688 7.2 \n\" style=\"fill: none; stroke: #000000; stroke-width: 0.8; stroke-linejoin: miter; stroke-linecap: square\"/>\n   </g>\n  </g>\n </g>\n <defs>\n  <clipPath id=\"pd913cb6a33\">\n   <rect x=\"35.304688\" y=\"7.2\" width=\"195.3\" height=\"138.6\"/>\n  </clipPath>\n </defs>\n</svg>\n",
      "text/plain": [
       "<Figure size 350x250 with 1 Axes>"
      ]
     },
     "metadata": {},
     "output_type": "display_data"
    }
   ],
   "source": [
    "d2l.set_figsize()\n",
    "d2l.plt.scatter(features[:, 1].detach().numpy(), labels.detach().numpy(), 1);"
   ]
  },
  {
   "cell_type": "markdown",
   "id": "d28e67d3",
   "metadata": {
    "origin_pos": 13
   },
   "source": [
    "## 读取数据集\n",
    "\n",
    "回想一下，训练模型时要对数据集进行遍历，每次抽取一小批量样本，并使用它们来更新我们的模型。\n",
    "由于这个过程是训练机器学习算法的基础，所以有必要定义一个函数，\n",
    "该函数能打乱数据集中的样本并以小批量方式获取数据。\n",
    "\n",
    "在下面的代码中，我们[**定义一个`data_iter`函数，\n",
    "该函数接收批量大小、特征矩阵和标签向量作为输入，生成大小为`batch_size`的小批量**]。\n",
    "每个小批量包含一组特征和标签。\n"
   ]
  },
  {
   "cell_type": "code",
   "execution_count": 7,
   "id": "cfdc2b6e",
   "metadata": {},
   "outputs": [
    {
     "name": "stdout",
     "output_type": "stream",
     "text": [
      "0\n",
      "1\n",
      "2\n",
      "3\n",
      "4\n",
      "5\n"
     ]
    }
   ],
   "source": [
    "#    yield 函数成为一个生成器函数，它会返回一个生成器对象。\n",
    "#     每次调用生成器的 yield 语句时，它会生成一个值，并暂停函数的执行。\n",
    "#      然后，在下一次迭代时，函数会从停止的地方继续执行，并生成下一个值。\n",
    "\n",
    "def count_up_to(n):\n",
    "    i = 0\n",
    "    while i <= n:\n",
    "        yield i\n",
    "        i += 1\n",
    "\n",
    "# 使用生成器函数创建生成器对象\n",
    "generator = count_up_to(5)\n",
    "\n",
    "# 迭代生成器对象并打印每个生成的值\n",
    "for num in generator:\n",
    "    print(num)"
   ]
  },
  {
   "cell_type": "code",
   "execution_count": 8,
   "id": "50ca6b66",
   "metadata": {},
   "outputs": [
    {
     "name": "stdout",
     "output_type": "stream",
     "text": [
      "Shuffled indices: [4, 3, 1, 2, 5]\n"
     ]
    }
   ],
   "source": [
    "# 将样本索引列表随机打乱，以实现随机读取样本。\n",
    "indices = [1, 2, 3, 4, 5]\n",
    "random.shuffle(indices)\n",
    "print(\"Shuffled indices:\", indices)\n"
   ]
  },
  {
   "cell_type": "code",
   "execution_count": 9,
   "metadata": {},
   "outputs": [
    {
     "name": "stdout",
     "output_type": "stream",
     "text": [
      "0\n",
      "3\n",
      "6\n",
      "9\n"
     ]
    }
   ],
   "source": [
    "# range(0, num_examples, batch_size) 是一个生成器，\n",
    "# 用于生成从 0 到 num_examples 的整数序列，步长为 batch_size。\n",
    "num_examples = 10\n",
    "batch_size = 3\n",
    "for i in range(0, num_examples, batch_size):\n",
    "    print(i)\n"
   ]
  },
  {
   "cell_type": "code",
   "execution_count": 10,
   "id": "9505ff1c",
   "metadata": {
    "execution": {
     "iopub.execute_input": "2022-12-07T16:43:06.555825Z",
     "iopub.status.busy": "2022-12-07T16:43:06.555541Z",
     "iopub.status.idle": "2022-12-07T16:43:06.561066Z",
     "shell.execute_reply": "2022-12-07T16:43:06.560334Z"
    },
    "origin_pos": 14,
    "tab": [
     "pytorch"
    ]
   },
   "outputs": [],
   "source": [
    "\"\"\" 虽然函数 data_iter(batch_size, features, labels) 没有显式的返回语句，但它实际上返回了一个生成器对象，\n",
    "        该对象可以用于迭代操作，如 for 循环中的 for X, y in data_iter(batch_size, features, labels):。\n",
    "        每次迭代时，生成器会生成下一个批次的数据，并将其赋值给 X 和 y 变量。\n",
    "\"\"\"\n",
    "def data_iter(batch_size, features, labels):\n",
    "    # 获取数据集中样本的总数\n",
    "    num_examples = len(features)\n",
    "    # 创建一个包含所有样本索引的列表\n",
    "    indices = list(range(num_examples))\n",
    "    # 这些样本是随机读取的，没有特定的顺序\n",
    "    random.shuffle(indices)\n",
    "    \"\"\" range(0, num_examples, batch_size) 是一个生成器，\n",
    "        用于生成从 0 到 num_examples 的整数序列，步长为 batch_size。\n",
    "    \"\"\"\n",
    "    for i in range(0, num_examples, batch_size):\n",
    "        batch_indices = torch.tensor(\n",
    "            indices[i: min(i + batch_size, num_examples)]) \n",
    "        \"\"\" 使用 yield 语句将每个批次的数据返回为一个元组 (features[batch_indices], labels[batch_indices])\n",
    "        \"\"\"\n",
    "        yield features[batch_indices], labels[batch_indices]\n",
    "        \n"
   ]
  },
  {
   "cell_type": "markdown",
   "id": "edc07979",
   "metadata": {
    "origin_pos": 16
   },
   "source": [
    "通常，我们利用GPU并行运算的优势，处理合理大小的“小批量”。\n",
    "每个样本都可以并行地进行模型计算，且每个样本损失函数的梯度也可以被并行计算。\n",
    "GPU可以在处理几百个样本时，所花费的时间不比处理一个样本时多太多。\n",
    "\n",
    "我们直观感受一下小批量运算：读取第一个小批量数据样本并打印。\n",
    "每个批量的特征维度显示批量大小和输入特征数。\n",
    "同样的，批量的标签形状与`batch_size`相等。\n"
   ]
  },
  {
   "cell_type": "code",
   "execution_count": 11,
   "id": "3934d3c4",
   "metadata": {
    "execution": {
     "iopub.execute_input": "2022-12-07T16:43:06.565191Z",
     "iopub.status.busy": "2022-12-07T16:43:06.564923Z",
     "iopub.status.idle": "2022-12-07T16:43:06.571970Z",
     "shell.execute_reply": "2022-12-07T16:43:06.571038Z"
    },
    "origin_pos": 17,
    "tab": [
     "pytorch"
    ]
   },
   "outputs": [
    {
     "name": "stdout",
     "output_type": "stream",
     "text": [
      "X: tensor([[ 1.0258,  0.8498],\n",
      "        [ 0.6852,  0.5060],\n",
      "        [-2.2874,  0.3175],\n",
      "        [ 0.2617,  0.3945],\n",
      "        [ 1.0023,  2.0421],\n",
      "        [ 0.4096, -0.6550],\n",
      "        [ 1.4538, -0.1376],\n",
      "        [ 0.3935,  1.1881],\n",
      "        [-1.3305,  0.0946],\n",
      "        [ 0.0173,  1.4274]]) \n",
      " y: tensor([[ 3.3573],\n",
      "        [ 3.8490],\n",
      "        [-1.4417],\n",
      "        [ 3.3907],\n",
      "        [-0.7313],\n",
      "        [ 7.2431],\n",
      "        [ 7.6014],\n",
      "        [ 0.9472],\n",
      "        [ 1.2243],\n",
      "        [-0.6250]])\n"
     ]
    }
   ],
   "source": [
    "batch_size = 10\n",
    "\"\"\"for X, y in ... 这个语法时，我们假设迭代的对象是一个可迭代对象（例如列表、元组、生成器等），\n",
    "    其中每个元素都是一个包含两个元素的可迭代对象。\n",
    "    在每次迭代时，将可迭代对象的第一个元素赋值给变量 X，第二个元素赋值给变量 y。\n",
    "    \n",
    "    data = [(1, 'a'), (2, 'b')]\n",
    "    for num, letter in data:\n",
    "        print(\"Number:\", num)\n",
    "        print(\"Letter:\", letter)\n",
    "        print()\n",
    "        \n",
    "    打印输出\n",
    "    Number: 1\n",
    "    Letter: a\n",
    "\n",
    "    Number: 2\n",
    "    Letter: b\n",
    "\"\"\" \n",
    "for X, y in data_iter(batch_size, features, labels):\n",
    "    print(\"X:\",X, '\\n',\"y:\", y)\n",
    "    break"
   ]
  },
  {
   "cell_type": "markdown",
   "id": "f959e76b",
   "metadata": {
    "origin_pos": 18
   },
   "source": [
    "当我们运行迭代时，我们会连续地获得不同的小批量，直至遍历完整个数据集。\n",
    "上面实现的迭代对教学来说很好，但它的执行效率很低，可能会在实际问题上陷入麻烦。\n",
    "例如，它要求我们将所有数据加载到内存中，并执行大量的随机内存访问。\n",
    "在深度学习框架中实现的内置迭代器效率要高得多，\n",
    "它可以处理存储在文件中的数据和数据流提供的数据。\n",
    "\n",
    "## 初始化模型参数\n",
    "\n",
    "[**在我们开始用小批量随机梯度下降优化我们的模型参数之前**]，\n",
    "(**我们需要先有一些参数**)。\n",
    "在下面的代码中，我们通过从均值为0、标准差为0.01的正态分布中采样随机数来初始化权重，\n",
    "并将偏置初始化为0。\n"
   ]
  },
  {
   "cell_type": "code",
   "execution_count": 12,
   "id": "23a1437e",
   "metadata": {
    "execution": {
     "iopub.execute_input": "2022-12-07T16:43:06.575915Z",
     "iopub.status.busy": "2022-12-07T16:43:06.575647Z",
     "iopub.status.idle": "2022-12-07T16:43:06.580295Z",
     "shell.execute_reply": "2022-12-07T16:43:06.579544Z"
    },
    "origin_pos": 20,
    "tab": [
     "pytorch"
    ]
   },
   "outputs": [],
   "source": [
    "w = torch.normal(0, 0.01, size=(2,1), requires_grad=True)\n",
    "b = torch.zeros(1, requires_grad=True)"
   ]
  },
  {
   "cell_type": "markdown",
   "id": "f6ad34a9",
   "metadata": {
    "origin_pos": 23
   },
   "source": [
    "在初始化参数之后，我们的任务是更新这些参数，直到这些参数足够拟合我们的数据。\n",
    "每次更新都需要计算损失函数关于模型参数的梯度。\n",
    "有了这个梯度，我们就可以向减小损失的方向更新每个参数。\n",
    "因为手动计算梯度很枯燥而且容易出错，所以没有人会手动计算梯度。\n",
    "我们使用 :numref:`sec_autograd`中引入的自动微分来计算梯度。\n",
    "\n",
    "## 定义模型\n",
    "\n",
    "接下来，我们必须[**定义模型，将模型的输入和参数同模型的输出关联起来。**]\n",
    "回想一下，要计算线性模型的输出，\n",
    "我们只需计算输入特征$\\mathbf{X}$和模型权重$\\mathbf{w}$的矩阵-向量乘法后加上偏置$b$。\n",
    "注意，上面的$\\mathbf{Xw}$是一个向量，而$b$是一个标量。\n",
    "回想一下 :numref:`subsec_broadcasting`中描述的广播机制：\n",
    "当我们用一个向量加一个标量时，标量会被加到向量的每个分量上。\n"
   ]
  },
  {
   "cell_type": "code",
   "execution_count": 13,
   "id": "67386d14",
   "metadata": {
    "execution": {
     "iopub.execute_input": "2022-12-07T16:43:06.583374Z",
     "iopub.status.busy": "2022-12-07T16:43:06.583103Z",
     "iopub.status.idle": "2022-12-07T16:43:06.587197Z",
     "shell.execute_reply": "2022-12-07T16:43:06.586376Z"
    },
    "origin_pos": 24,
    "tab": [
     "pytorch"
    ]
   },
   "outputs": [],
   "source": [
    "def linreg(X, w, b):  #@save\n",
    "    \"\"\"线性回归模型\"\"\"\n",
    "    return torch.matmul(X, w) + b"
   ]
  },
  {
   "cell_type": "markdown",
   "id": "7a087a5b",
   "metadata": {
    "origin_pos": 25
   },
   "source": [
    "## [**定义损失函数**]\n",
    "\n",
    "因为需要计算损失函数的梯度，所以我们应该先定义损失函数。\n",
    "这里我们使用 :numref:`sec_linear_regression`中描述的平方损失函数。\n",
    "在实现中，我们需要将真实值`y`的形状转换为和预测值`y_hat`的形状相同。\n"
   ]
  },
  {
   "cell_type": "code",
   "execution_count": 14,
   "id": "b95eb605",
   "metadata": {
    "execution": {
     "iopub.execute_input": "2022-12-07T16:43:06.590200Z",
     "iopub.status.busy": "2022-12-07T16:43:06.589934Z",
     "iopub.status.idle": "2022-12-07T16:43:06.594002Z",
     "shell.execute_reply": "2022-12-07T16:43:06.593170Z"
    },
    "origin_pos": 26,
    "tab": [
     "pytorch"
    ]
   },
   "outputs": [],
   "source": [
    "def squared_loss(y_hat, y):  #@save\n",
    "    \"\"\"均方损失\"\"\"\n",
    "    return (y_hat - y.reshape(y_hat.shape)) ** 2 / 2"
   ]
  },
  {
   "cell_type": "markdown",
   "id": "1919becd",
   "metadata": {
    "origin_pos": 27
   },
   "source": [
    "## (**定义优化算法**)\n",
    "\n",
    "正如我们在 :numref:`sec_linear_regression`中讨论的，线性回归有解析解。\n",
    "尽管线性回归有解析解，但本书中的其他模型却没有。\n",
    "这里我们介绍小批量随机梯度下降。\n",
    "\n",
    "在每一步中，使用从数据集中随机抽取的一个小批量，然后根据参数计算损失的梯度。\n",
    "接下来，朝着减少损失的方向更新我们的参数。\n",
    "下面的函数实现小批量随机梯度下降更新。\n",
    "该函数接受模型参数集合、学习速率和批量大小作为输入。每\n",
    "一步更新的大小由学习速率`lr`决定。\n",
    "因为我们计算的损失是一个批量样本的总和，所以我们用批量大小（`batch_size`）\n",
    "来规范化步长，这样步长大小就不会取决于我们对批量大小的选择。\n"
   ]
  },
  {
   "cell_type": "code",
   "execution_count": 15,
   "id": "a44ab02a",
   "metadata": {},
   "outputs": [
    {
     "name": "stdout",
     "output_type": "stream",
     "text": [
      "(tensor([16.]),)\n"
     ]
    }
   ],
   "source": [
    "import torch\n",
    "\n",
    "x = torch.tensor([2.0], requires_grad=True)\n",
    "y = x ** 2\n",
    "\n",
    "z = y * 3\n",
    "\n",
    "# 自动求导\n",
    "gradient = torch.autograd.grad(y + z, x)\n",
    "print(gradient)  # (tensor([10.]),)\n"
   ]
  },
  {
   "cell_type": "code",
   "execution_count": 16,
   "id": "6b4e6f37",
   "metadata": {},
   "outputs": [
    {
     "name": "stdout",
     "output_type": "stream",
     "text": [
      "(tensor([4.]),)\n"
     ]
    }
   ],
   "source": [
    "import torch\n",
    "\n",
    "x = torch.tensor([2.0], requires_grad=True)\n",
    "y = x ** 2\n",
    "\n",
    "with torch.no_grad():\n",
    "    z = y * 3\n",
    "    \n",
    "# 自动求导\n",
    "gradient = torch.autograd.grad(y + z, x)\n",
    "print(gradient)  # (tensor([10.]),)"
   ]
  },
  {
   "cell_type": "code",
   "execution_count": 17,
   "id": "a6360e87",
   "metadata": {
    "execution": {
     "iopub.execute_input": "2022-12-07T16:43:06.597167Z",
     "iopub.status.busy": "2022-12-07T16:43:06.596900Z",
     "iopub.status.idle": "2022-12-07T16:43:06.601385Z",
     "shell.execute_reply": "2022-12-07T16:43:06.600532Z"
    },
    "origin_pos": 29,
    "tab": [
     "pytorch"
    ]
   },
   "outputs": [],
   "source": [
    "# params（参数），lr（学习率）和batch_size（批次大小）。\n",
    "def sgd(params, lr, batch_size):  #@save\n",
    "    \"\"\"小批量随机梯度下降\"\"\"\n",
    "    # with torch.no_grad() 这是一个上下文管理器，用于关闭梯度计算，以确保在参数更新阶段不会记录梯度信息。\n",
    "    with torch.no_grad():\n",
    "        # 这是一个迭代循环，遍历所有的参数。\n",
    "        for param in params:\n",
    "            # 参数更新的步骤，通过减去学习率乘以参数的梯度除以批次大小来更新参数的值。这是标准的梯度下降更新规则。\n",
    "            param -= lr * param.grad / batch_size\n",
    "            # 将参数的梯度置零的步骤，以便在下一次迭代中计算新的梯度。\n",
    "            param.grad.zero_()"
   ]
  },
  {
   "cell_type": "markdown",
   "id": "9e466d4d",
   "metadata": {
    "origin_pos": 32
   },
   "source": [
    "## 训练\n",
    "\n",
    "现在我们已经准备好了模型训练所有需要的要素，可以实现主要的[**训练过程**]部分了。\n",
    "理解这段代码至关重要，因为从事深度学习后，\n",
    "相同的训练过程几乎一遍又一遍地出现。\n",
    "在每次迭代中，我们读取一小批量训练样本，并通过我们的模型来获得一组预测。\n",
    "计算完损失后，我们开始反向传播，存储每个参数的梯度。\n",
    "最后，我们调用优化算法`sgd`来更新模型参数。\n",
    "\n",
    "概括一下，我们将执行以下循环：\n",
    "\n",
    "* 初始化参数\n",
    "* 重复以下训练，直到完成\n",
    "    * 计算梯度$\\mathbf{g} \\leftarrow \\partial_{(\\mathbf{w},b)} \\frac{1}{|\\mathcal{B}|} \\sum_{i \\in \\mathcal{B}} l(\\mathbf{x}^{(i)}, y^{(i)}, \\mathbf{w}, b)$\n",
    "    * 更新参数$(\\mathbf{w}, b) \\leftarrow (\\mathbf{w}, b) - \\eta \\mathbf{g}$\n",
    "\n",
    "在每个*迭代周期*（epoch）中，我们使用`data_iter`函数遍历整个数据集，\n",
    "并将训练数据集中所有样本都使用一次（假设样本数能够被批量大小整除）。\n",
    "这里的迭代周期个数`num_epochs`和学习率`lr`都是超参数，分别设为3和0.03。\n",
    "设置超参数很棘手，需要通过反复试验进行调整。\n",
    "我们现在忽略这些细节，以后会在 :numref:`chap_optimization`中详细介绍。\n"
   ]
  },
  {
   "cell_type": "code",
   "execution_count": 18,
   "id": "102331db",
   "metadata": {
    "execution": {
     "iopub.execute_input": "2022-12-07T16:43:06.604403Z",
     "iopub.status.busy": "2022-12-07T16:43:06.604136Z",
     "iopub.status.idle": "2022-12-07T16:43:06.608339Z",
     "shell.execute_reply": "2022-12-07T16:43:06.607465Z"
    },
    "origin_pos": 33,
    "tab": [
     "pytorch"
    ]
   },
   "outputs": [],
   "source": [
    "lr = 0.03\n",
    "num_epochs = 3\n",
    "net = linreg\n",
    "loss = squared_loss"
   ]
  },
  {
   "cell_type": "code",
   "execution_count": 19,
   "id": "97d6ac25",
   "metadata": {
    "execution": {
     "iopub.execute_input": "2022-12-07T16:43:06.611713Z",
     "iopub.status.busy": "2022-12-07T16:43:06.611103Z",
     "iopub.status.idle": "2022-12-07T16:43:06.718470Z",
     "shell.execute_reply": "2022-12-07T16:43:06.717660Z"
    },
    "origin_pos": 35,
    "tab": [
     "pytorch"
    ]
   },
   "outputs": [
    {
     "name": "stdout",
     "output_type": "stream",
     "text": [
      "epoch 1, loss 0.036293\n",
      "epoch 2, loss 0.000123\n",
      "epoch 3, loss 0.000045\n"
     ]
    }
   ],
   "source": [
    "for epoch in range(num_epochs):\n",
    "    for X, y in data_iter(batch_size, features, labels):\n",
    "        l = loss(net(X, w, b), y)  # X和y的小批量损失\n",
    "        # 因为l形状是(batch_size,1)，而不是一个标量。l中的所有元素被加到一起，\n",
    "        # 并以此计算关于[w,b]的梯度\n",
    "        l.sum().backward()\n",
    "        sgd([w, b], lr, batch_size)  # 使用参数的梯度更新参数\n",
    "    with torch.no_grad():\n",
    "        train_l = loss(net(features, w, b), labels)\n",
    "        print(f'epoch {epoch + 1}, loss {float(train_l.mean()):f}')"
   ]
  },
  {
   "cell_type": "markdown",
   "id": "c49ff328",
   "metadata": {
    "origin_pos": 38
   },
   "source": [
    "因为我们使用的是自己合成的数据集，所以我们知道真正的参数是什么。\n",
    "因此，我们可以通过[**比较真实参数和通过训练学到的参数来评估训练的成功程度**]。\n",
    "事实上，真实参数和通过训练学到的参数确实非常接近。\n"
   ]
  },
  {
   "cell_type": "code",
   "execution_count": 20,
   "id": "20cfe26e",
   "metadata": {
    "execution": {
     "iopub.execute_input": "2022-12-07T16:43:06.722173Z",
     "iopub.status.busy": "2022-12-07T16:43:06.721608Z",
     "iopub.status.idle": "2022-12-07T16:43:06.727216Z",
     "shell.execute_reply": "2022-12-07T16:43:06.726417Z"
    },
    "origin_pos": 39,
    "tab": [
     "pytorch"
    ]
   },
   "outputs": [
    {
     "name": "stdout",
     "output_type": "stream",
     "text": [
      "w的估计误差: tensor([ 3.8266e-05, -5.8532e-04], grad_fn=<SubBackward0>)\n",
      "b的估计误差: tensor([0.0003], grad_fn=<RsubBackward1>)\n"
     ]
    }
   ],
   "source": [
    "print(f'w的估计误差: {true_w - w.reshape(true_w.shape)}')\n",
    "print(f'b的估计误差: {true_b - b}')"
   ]
  },
  {
   "cell_type": "markdown",
   "id": "256e4aea",
   "metadata": {
    "origin_pos": 40
   },
   "source": [
    "注意，我们不应该想当然地认为我们能够完美地求解参数。\n",
    "在机器学习中，我们通常不太关心恢复真正的参数，而更关心如何高度准确预测参数。\n",
    "幸运的是，即使是在复杂的优化问题上，随机梯度下降通常也能找到非常好的解。\n",
    "其中一个原因是，在深度网络中存在许多参数组合能够实现高度精确的预测。\n",
    "\n",
    "## 小结\n",
    "\n",
    "* 我们学习了深度网络是如何实现和优化的。在这一过程中只使用张量和自动微分，不需要定义层或复杂的优化器。\n",
    "* 这一节只触及到了表面知识。在下面的部分中，我们将基于刚刚介绍的概念描述其他模型，并学习如何更简洁地实现其他模型。\n",
    "\n",
    "## 练习\n",
    "\n",
    "1. 如果我们将权重初始化为零，会发生什么。算法仍然有效吗？\n",
    "    \n",
    "    将权重初始化为零会导致问题，称为\"权重对称性\"问题。当所有权重初始化为相同的值时，神经网络中的每个神经元将计算相同的梯度，并且在反向传播过程中权重的更新也是相同的。这导致神经网络无法学习不同的特征和模式，限制了其表达能力和学习能力。\n",
    "\n",
    "    此外，当权重初始化为零时，每个隐藏单元的更新规则也会相同，这会导致它们保持相同的值，并且在训练过程中无法发展出多样化的表示能力。这将限制神经网络的表达能力，使其无法有效地学习复杂的模式和特征。\n",
    "\n",
    "    因此，将权重初始化为零是不推荐的做法。常用的权重初始化方法包括随机初始化（如从均匀分布或正态分布中随机采样）、Xavier初始化和He初始化等，这些方法有助于打破权重对称性，并为神经网络提供更好的学习能力。\n",
    "    \n",
    "2. 假设试图为电压和电流的关系建立一个模型。自动微分可以用来学习模型的参数吗?\n",
    "\n",
    "    是的，自动微分可以用来学习模型的参数。在建立电压和电流关系的模型时，可以定义一个损失函数，用于衡量模型预测的电流值与实际观测值之间的差异。然后，使用自动微分技术计算损失函数对模型参数（例如权重和偏置）的梯度。\n",
    "\n",
    "    通过梯度下降等优化算法，可以使用计算得到的梯度信息来更新模型的参数，使其逐步优化并逼近真实的电压和电流关系。自动微分可以自动地计算损失函数对参数的梯度，无需手动推导或编写梯度更新的代码，大大简化了模型训练的过程。\n",
    "\n",
    "    在使用PyTorch等深度学习框架时，自动微分是内置的，并且可以直接应用于模型的训练过程中。通过反向传播算法，框架会自动计算损失函数对模型参数的梯度，并提供相应的优化算法来更新参数。这使得模型训练更加高效和方便。\n",
    "\n",
    "3. 能基于[普朗克定律](https://en.wikipedia.org/wiki/Planck%27s_law)使用光谱能量密度来确定物体的温度吗？\n",
    "    \n",
    "    是的，基于普朗克定律可以使用光谱能量密度来确定物体的温度。普朗克定律描述了黑体辐射的能谱密度，即黑体在不同波长或频率上的辐射能量分布。\n",
    "\n",
    "    根据普朗克定律，黑体辐射的能谱密度与其温度有关。具体而言，根据斯蒂芬-玻尔兹曼定律，黑体辐射的总辐射功率与温度的第四次方成正比。\n",
    "\n",
    "    因此，通过测量物体的光谱能量密度，并结合普朗克定律和斯蒂芬-玻尔兹曼定律，可以推断出物体的温度。这种方法在天文学、热学和光学等领域中被广泛应用，例如通过测量星体的光谱能量密度来推断它们的表面温度。\n",
    "\n",
    "    需要注意的是，确定物体的温度需要准确的测量和分析光谱能量密度数据，并结合适当的物理模型和假设。此外，还需要考虑辐射传输过程中的各种因素，如吸收、散射和传输损失等。因此，在实际应用中，需要进行详细的数据处理和模型建立，以获得准确的温度估计结果。\n",
    "\n",
    "4. 计算二阶导数时可能会遇到什么问题？这些问题可以如何解决？\n",
    "\n",
    "    在计算二阶导数时可能会遇到以下问题：\n",
    "\n",
    "    数值不稳定性：计算二阶导数可能导致数值不稳定性，特别是当函数具有陡峭的曲率或存在数值舍入误差时。\n",
    "    计算代价高：计算二阶导数通常比计算一阶导数更加昂贵，因为它需要更多的计算量和内存消耗。\n",
    "    高维度困难：在高维度问题中，计算二阶导数的计算复杂度会大大增加，因为需要计算的元素数量呈二次增长。\n",
    "    解决这些问题的方法包括：\n",
    "\n",
    "    符号计算：对于某些简单的函数，可以使用符号计算方法来计算二阶导数，以获得精确的结果。符号计算库如SymPy可以用于进行符号导数计算。\n",
    "    数值稳定性技巧：为了处理数值不稳定性，可以使用数值稳定性技巧，例如增加计算精度、避免数值溢出或下溢等。此外，使用数值库中提供的优化算法和数值方法也可以改善数值计算的稳定性。\n",
    "    自动微分工具：使用自动微分工具可以方便地计算高阶导数，而无需手动推导和实现。自动微分工具可以根据给定的函数表达式自动计算导数，包括一阶导数、二阶导数甚至高阶导数。流行的自动微分库如PyTorch和TensorFlow提供了方便的接口和功能来进行高阶导数的计算。\n",
    "    数值逼近方法：如果无法直接计算二阶导数，可以使用数值逼近方法来近似计算。例如，可以使用数值差分方法或数值积分方法来估计二阶导数的值。这种方法虽然可能不够精确，但在某些情况下是可行的。\n",
    "    需要根据具体问题的性质和要求选择合适的方法来计算二阶导数，并在计算过程中注意数值稳定性和计算效率。\n",
    "\n",
    "5. 为什么在`squared_loss`函数中需要使用`reshape`函数？\n",
    "\n",
    "    在 squared_loss 函数中使用 reshape 函数的目的是确保输入的 y_hat 和 y 张量具有相同的形状，以便进行元素级别的运算。\n",
    "\n",
    "    squared_loss 函数计算的是预测值 y_hat 和真实值 y 的平方损失，公式为：\n",
    "\n",
    "    scss\n",
    "    Copy code\n",
    "    loss = (1/2) * (y_hat - y)^2\n",
    "    要进行元素级别的平方差运算，y_hat 和 y 的形状必须相同。但是，在实际应用中，y_hat 和 y 的形状可能不总是一致的，特别是当它们是批量数据的预测结果时。\n",
    "\n",
    "    使用 reshape 函数可以调整 y_hat 和 y 的形状，使它们具有相同的形状。通过对其中一个张量进行形状调整，使其与另一个张量的形状相匹配，可以确保它们在进行元素级别的运算时具有相同的维度和大小。\n",
    "\n",
    "    具体而言，reshape 函数可以将 y_hat 和 y 张量的形状调整为相同的形状，如 (batch_size, 1)，以便进行元素级别的平方差运算。\n",
    "\n",
    "    使用 reshape 函数可以确保输入的张量形状一致，避免了尺寸不匹配的错误，并且可以保证计算结果按预期进行。\n",
    "\n",
    "6. 尝试使用不同的学习率，观察损失函数值下降的快慢。\n",
    "\n",
    "    当使用不同的学习率时，损失函数值的下降速度可能会有所变化。较大的学习率可能导致损失函数值迅速下降，但也可能导致跳过最优解或发散。较小的学习率可能导致收敛速度较慢，但更稳定。\n",
    "\n",
    "    为了观察不同学习率下损失函数值的下降情况，你可以尝试以下步骤：\n",
    "\n",
    "    初始化模型的参数（例如，权重和偏置）。\n",
    "    选择不同的学习率值（例如，0.1、0.01、0.001等）。\n",
    "    使用选定的学习率训练模型，迭代多个周期（epochs）。\n",
    "    在每个周期中计算损失函数值，并记录下来。\n",
    "    绘制损失函数值随训练周期的变化曲线，对比不同学习率下的下降速度。\n",
    "    通过观察损失函数值随训练周期的变化，你可以比较不同学习率下的下降速度和收敛性能。根据观察结果，可以选择合适的学习率来优化模型。通常情况下，合适的学习率是指能够在合理的时间内收敛到较低的损失值而不发散的学习率。\n",
    "\n",
    "    需要注意的是，选择学习率并不是一项简单的任务，它可能需要通过试验和调整来确定最佳值。不同的问题和数据集可能需要不同的学习率设置。一般建议从较小的学习率开始，逐渐增加或减小学习率，以找到最佳的学习率值。\n",
    "    \n",
    "7. 如果样本个数不能被批量大小整除，`data_iter`函数的行为会有什么变化？\n",
    "   \n",
    "   如果样本个数不能被批量大小整除，data_iter函数的行为会有所变化。通常情况下，data_iter函数会按照批量大小从数据集中连续地取出样本，直到取完所有样本为止。如果样本个数不能被批量大小整除，最后一个批次可能会小于批量大小。\n",
    "\n",
    "    具体来说，当样本个数不能被批量大小整除时，data_iter函数会在最后一个批次中返回剩余的样本。这意味着最后一个批次的大小会小于等于批量大小。这种情况下，需要注意处理最后一个批次时的边界情况，以免出现索引错误或其他错误。\n"
   ]
  },
  {
   "cell_type": "code",
   "execution_count": 22,
   "id": "06d73249",
   "metadata": {},
   "outputs": [
    {
     "name": "stdout",
     "output_type": "stream",
     "text": [
      "Batch X: tensor([6, 4, 3, 8])\n",
      "Batch y: tensor([6, 4, 3, 8])\n",
      "Batch size: 4\n",
      "\n",
      "Batch X: tensor([2, 7, 1, 5])\n",
      "Batch y: tensor([2, 7, 1, 5])\n",
      "Batch size: 4\n",
      "\n",
      "Batch X: tensor([0])\n",
      "Batch y: tensor([0])\n",
      "Batch size: 1\n",
      "\n"
     ]
    }
   ],
   "source": [
    "# 以下是一个示例代码，展示了data_iter函数在样本个数不能被批量大小整除时的行为：\n",
    "import torch\n",
    "\n",
    "\n",
    "def data_iter(batch_size, features, labels):\n",
    "    num_examples = len(features)\n",
    "    indices = list(range(num_examples))\n",
    "    random.shuffle(indices)\n",
    "    for i in range(0, num_examples, batch_size):\n",
    "        batch_indices = torch.tensor(\n",
    "            indices[i: min(i + batch_size, num_examples)])\n",
    "        yield features[batch_indices], labels[batch_indices]\n",
    "\n",
    "\n",
    "# 假设样本个数为9，批量大小为4\n",
    "features = torch.arange(9)\n",
    "labels = torch.arange(9)\n",
    "batch_size = 4\n",
    "\n",
    "for X, y in data_iter(batch_size, features, labels):\n",
    "    print(\"Batch X:\", X)\n",
    "    print(\"Batch y:\", y)\n",
    "    print(\"Batch size:\", len(X))\n",
    "    print()\n",
    "\n",
    "# 可以看到，在样本个数不能被批量大小整除时，最后一个批次的大小为1。\n",
    "# 这是因为在这个例子中，总共有9个样本，无法完整地组成两个大小为4的批次。\n"
   ]
  },
  {
   "cell_type": "markdown",
   "id": "084dd552",
   "metadata": {
    "origin_pos": 42,
    "tab": [
     "pytorch"
    ]
   },
   "source": [
    "[Discussions](https://discuss.d2l.ai/t/1778)\n"
   ]
  }
 ],
 "metadata": {
  "kernelspec": {
   "display_name": "Python 3.9.16",
   "language": "python",
   "name": "python3"
  },
  "language_info": {
   "codemirror_mode": {
    "name": "ipython",
    "version": 3
   },
   "file_extension": ".py",
   "mimetype": "text/x-python",
   "name": "python",
   "nbconvert_exporter": "python",
   "pygments_lexer": "ipython3",
   "version": "3.9.16"
  },
  "vscode": {
   "interpreter": {
    "hash": "9421a31ffafdc7802d066aefd78e222655e72d0ce2017974f24271a5f7f87197"
   }
  }
 },
 "nbformat": 4,
 "nbformat_minor": 5
}
